{
  "nbformat": 4,
  "nbformat_minor": 0,
  "metadata": {
    "colab": {
      "provenance": [],
      "include_colab_link": true
    },
    "kernelspec": {
      "name": "python3",
      "display_name": "Python 3"
    },
    "language_info": {
      "name": "python"
    }
  },
  "cells": [
    {
      "cell_type": "markdown",
      "metadata": {
        "id": "view-in-github",
        "colab_type": "text"
      },
      "source": [
        "<a href=\"https://colab.research.google.com/github/hungryjins/Graph_DB/blob/main/GraphRAG_chatbot(Gradio).ipynb\" target=\"_parent\"><img src=\"https://colab.research.google.com/assets/colab-badge.svg\" alt=\"Open In Colab\"/></a>"
      ]
    },
    {
      "cell_type": "markdown",
      "source": [
        "## 0. Setting"
      ],
      "metadata": {
        "id": "13RfDLhyPNkX"
      }
    },
    {
      "cell_type": "code",
      "source": [
        "!pip install neo4j-graphrag neo4j openai"
      ],
      "metadata": {
        "colab": {
          "base_uri": "https://localhost:8080/"
        },
        "collapsed": true,
        "id": "Db2sh3701xu-",
        "outputId": "6da73e21-619e-497a-aca1-c29087c1bba5"
      },
      "execution_count": 1,
      "outputs": [
        {
          "output_type": "stream",
          "name": "stdout",
          "text": [
            "Collecting neo4j-graphrag\n",
            "  Downloading neo4j_graphrag-1.8.0-py3-none-any.whl.metadata (18 kB)\n",
            "Collecting neo4j\n",
            "  Downloading neo4j-5.28.1-py3-none-any.whl.metadata (5.9 kB)\n",
            "Requirement already satisfied: openai in /usr/local/lib/python3.11/dist-packages (1.96.1)\n",
            "Collecting fsspec<2025.0.0,>=2024.9.0 (from neo4j-graphrag)\n",
            "  Downloading fsspec-2024.12.0-py3-none-any.whl.metadata (11 kB)\n",
            "Collecting json-repair<0.40.0,>=0.39.1 (from neo4j-graphrag)\n",
            "  Downloading json_repair-0.39.1-py3-none-any.whl.metadata (11 kB)\n",
            "Requirement already satisfied: numpy<3.0.0,>=2.0.0 in /usr/local/lib/python3.11/dist-packages (from neo4j-graphrag) (2.0.2)\n",
            "Requirement already satisfied: pydantic<3.0.0,>=2.6.3 in /usr/local/lib/python3.11/dist-packages (from neo4j-graphrag) (2.11.7)\n",
            "Collecting pypdf<6.0.0,>=5.1.0 (from neo4j-graphrag)\n",
            "  Downloading pypdf-5.8.0-py3-none-any.whl.metadata (7.1 kB)\n",
            "Requirement already satisfied: pyyaml<7.0.0,>=6.0.2 in /usr/local/lib/python3.11/dist-packages (from neo4j-graphrag) (6.0.2)\n",
            "Requirement already satisfied: scipy<2.0.0,>=1.13.0 in /usr/local/lib/python3.11/dist-packages (from neo4j-graphrag) (1.15.3)\n",
            "Collecting types-pyyaml<7.0.0.0,>=6.0.12.20240917 (from neo4j-graphrag)\n",
            "  Downloading types_pyyaml-6.0.12.20250516-py3-none-any.whl.metadata (1.8 kB)\n",
            "Requirement already satisfied: pytz in /usr/local/lib/python3.11/dist-packages (from neo4j) (2025.2)\n",
            "Requirement already satisfied: anyio<5,>=3.5.0 in /usr/local/lib/python3.11/dist-packages (from openai) (4.9.0)\n",
            "Requirement already satisfied: distro<2,>=1.7.0 in /usr/local/lib/python3.11/dist-packages (from openai) (1.9.0)\n",
            "Requirement already satisfied: httpx<1,>=0.23.0 in /usr/local/lib/python3.11/dist-packages (from openai) (0.28.1)\n",
            "Requirement already satisfied: jiter<1,>=0.4.0 in /usr/local/lib/python3.11/dist-packages (from openai) (0.10.0)\n",
            "Requirement already satisfied: sniffio in /usr/local/lib/python3.11/dist-packages (from openai) (1.3.1)\n",
            "Requirement already satisfied: tqdm>4 in /usr/local/lib/python3.11/dist-packages (from openai) (4.67.1)\n",
            "Requirement already satisfied: typing-extensions<5,>=4.11 in /usr/local/lib/python3.11/dist-packages (from openai) (4.14.1)\n",
            "Requirement already satisfied: idna>=2.8 in /usr/local/lib/python3.11/dist-packages (from anyio<5,>=3.5.0->openai) (3.10)\n",
            "Requirement already satisfied: certifi in /usr/local/lib/python3.11/dist-packages (from httpx<1,>=0.23.0->openai) (2025.7.14)\n",
            "Requirement already satisfied: httpcore==1.* in /usr/local/lib/python3.11/dist-packages (from httpx<1,>=0.23.0->openai) (1.0.9)\n",
            "Requirement already satisfied: h11>=0.16 in /usr/local/lib/python3.11/dist-packages (from httpcore==1.*->httpx<1,>=0.23.0->openai) (0.16.0)\n",
            "Requirement already satisfied: annotated-types>=0.6.0 in /usr/local/lib/python3.11/dist-packages (from pydantic<3.0.0,>=2.6.3->neo4j-graphrag) (0.7.0)\n",
            "Requirement already satisfied: pydantic-core==2.33.2 in /usr/local/lib/python3.11/dist-packages (from pydantic<3.0.0,>=2.6.3->neo4j-graphrag) (2.33.2)\n",
            "Requirement already satisfied: typing-inspection>=0.4.0 in /usr/local/lib/python3.11/dist-packages (from pydantic<3.0.0,>=2.6.3->neo4j-graphrag) (0.4.1)\n",
            "Downloading neo4j_graphrag-1.8.0-py3-none-any.whl (189 kB)\n",
            "\u001b[2K   \u001b[90m━━━━━━━━━━━━━━━━━━━━━━━━━━━━━━━━━━━━━━━━\u001b[0m \u001b[32m189.7/189.7 kB\u001b[0m \u001b[31m3.9 MB/s\u001b[0m eta \u001b[36m0:00:00\u001b[0m\n",
            "\u001b[?25hDownloading neo4j-5.28.1-py3-none-any.whl (312 kB)\n",
            "\u001b[2K   \u001b[90m━━━━━━━━━━━━━━━━━━━━━━━━━━━━━━━━━━━━━━━━\u001b[0m \u001b[32m312.3/312.3 kB\u001b[0m \u001b[31m10.8 MB/s\u001b[0m eta \u001b[36m0:00:00\u001b[0m\n",
            "\u001b[?25hDownloading fsspec-2024.12.0-py3-none-any.whl (183 kB)\n",
            "\u001b[2K   \u001b[90m━━━━━━━━━━━━━━━━━━━━━━━━━━━━━━━━━━━━━━━━\u001b[0m \u001b[32m183.9/183.9 kB\u001b[0m \u001b[31m3.7 MB/s\u001b[0m eta \u001b[36m0:00:00\u001b[0m\n",
            "\u001b[?25hDownloading json_repair-0.39.1-py3-none-any.whl (20 kB)\n",
            "Downloading pypdf-5.8.0-py3-none-any.whl (309 kB)\n",
            "\u001b[2K   \u001b[90m━━━━━━━━━━━━━━━━━━━━━━━━━━━━━━━━━━━━━━━━\u001b[0m \u001b[32m309.7/309.7 kB\u001b[0m \u001b[31m16.5 MB/s\u001b[0m eta \u001b[36m0:00:00\u001b[0m\n",
            "\u001b[?25hDownloading types_pyyaml-6.0.12.20250516-py3-none-any.whl (20 kB)\n",
            "Installing collected packages: types-pyyaml, pypdf, neo4j, json-repair, fsspec, neo4j-graphrag\n",
            "  Attempting uninstall: fsspec\n",
            "    Found existing installation: fsspec 2025.3.2\n",
            "    Uninstalling fsspec-2025.3.2:\n",
            "      Successfully uninstalled fsspec-2025.3.2\n",
            "\u001b[31mERROR: pip's dependency resolver does not currently take into account all the packages that are installed. This behaviour is the source of the following dependency conflicts.\n",
            "torch 2.6.0+cu124 requires nvidia-cublas-cu12==12.4.5.8; platform_system == \"Linux\" and platform_machine == \"x86_64\", but you have nvidia-cublas-cu12 12.5.3.2 which is incompatible.\n",
            "torch 2.6.0+cu124 requires nvidia-cuda-cupti-cu12==12.4.127; platform_system == \"Linux\" and platform_machine == \"x86_64\", but you have nvidia-cuda-cupti-cu12 12.5.82 which is incompatible.\n",
            "torch 2.6.0+cu124 requires nvidia-cuda-nvrtc-cu12==12.4.127; platform_system == \"Linux\" and platform_machine == \"x86_64\", but you have nvidia-cuda-nvrtc-cu12 12.5.82 which is incompatible.\n",
            "torch 2.6.0+cu124 requires nvidia-cuda-runtime-cu12==12.4.127; platform_system == \"Linux\" and platform_machine == \"x86_64\", but you have nvidia-cuda-runtime-cu12 12.5.82 which is incompatible.\n",
            "torch 2.6.0+cu124 requires nvidia-cudnn-cu12==9.1.0.70; platform_system == \"Linux\" and platform_machine == \"x86_64\", but you have nvidia-cudnn-cu12 9.3.0.75 which is incompatible.\n",
            "torch 2.6.0+cu124 requires nvidia-cufft-cu12==11.2.1.3; platform_system == \"Linux\" and platform_machine == \"x86_64\", but you have nvidia-cufft-cu12 11.2.3.61 which is incompatible.\n",
            "torch 2.6.0+cu124 requires nvidia-curand-cu12==10.3.5.147; platform_system == \"Linux\" and platform_machine == \"x86_64\", but you have nvidia-curand-cu12 10.3.6.82 which is incompatible.\n",
            "torch 2.6.0+cu124 requires nvidia-cusolver-cu12==11.6.1.9; platform_system == \"Linux\" and platform_machine == \"x86_64\", but you have nvidia-cusolver-cu12 11.6.3.83 which is incompatible.\n",
            "torch 2.6.0+cu124 requires nvidia-cusparse-cu12==12.3.1.170; platform_system == \"Linux\" and platform_machine == \"x86_64\", but you have nvidia-cusparse-cu12 12.5.1.3 which is incompatible.\n",
            "torch 2.6.0+cu124 requires nvidia-nvjitlink-cu12==12.4.127; platform_system == \"Linux\" and platform_machine == \"x86_64\", but you have nvidia-nvjitlink-cu12 12.5.82 which is incompatible.\n",
            "gcsfs 2025.3.2 requires fsspec==2025.3.2, but you have fsspec 2024.12.0 which is incompatible.\u001b[0m\u001b[31m\n",
            "\u001b[0mSuccessfully installed fsspec-2024.12.0 json-repair-0.39.1 neo4j-5.28.1 neo4j-graphrag-1.8.0 pypdf-5.8.0 types-pyyaml-6.0.12.20250516\n"
          ]
        }
      ]
    },
    {
      "cell_type": "code",
      "source": [
        "import os\n",
        "os.environ[\"OPENAI_API_KEY\"] = \"OPENAI_API_KEY\""
      ],
      "metadata": {
        "id": "mxVWhyMb2A1s"
      },
      "execution_count": 2,
      "outputs": []
    },
    {
      "cell_type": "markdown",
      "source": [
        "## 1. GraphDB"
      ],
      "metadata": {
        "id": "9_0oQo-APS7f"
      }
    },
    {
      "cell_type": "markdown",
      "source": [
        "Neo4j Sandbox : https://sandbox.neo4j.com/"
      ],
      "metadata": {
        "id": "T2MzCTpQ2Ihk"
      }
    },
    {
      "cell_type": "markdown",
      "source": [
        "### 1-1. Neo4j driver setting"
      ],
      "metadata": {
        "id": "le_Pfi0pPVjj"
      }
    },
    {
      "cell_type": "code",
      "source": [
        "from neo4j import GraphDatabase, basic_auth\n",
        "import openai\n",
        "\n",
        "driver = GraphDatabase.driver(\n",
        "  \"neo4j://18.212.176.170:7687\",\n",
        "  auth=basic_auth(\"neo4j\", \"menus-classifications-smell\"))"
      ],
      "metadata": {
        "id": "5CDkAq8YPY-e"
      },
      "execution_count": 8,
      "outputs": []
    },
    {
      "cell_type": "code",
      "source": [
        "cypher_query = '''\n",
        "MATCH (m:Movie {title:$movie})<-[:RATED]-(u:User)-[:RATED]->(rec:Movie)\n",
        "RETURN distinct rec.title AS recommendation LIMIT 20\n",
        "'''\n",
        "\n",
        "with driver.session(database=\"neo4j\") as session:\n",
        "  results = session.read_transaction(\n",
        "    lambda tx: tx.run(cypher_query,\n",
        "                      movie=\"Crimson Tide\").data())\n",
        "  for record in results:\n",
        "    print(record['recommendation'])\n",
        "\n",
        "#driver.close()"
      ],
      "metadata": {
        "colab": {
          "base_uri": "https://localhost:8080/"
        },
        "id": "mTI3Q6qe00rw",
        "outputId": "34c7b71e-b5f5-4cf3-8d33-dc269a3b6d9c"
      },
      "execution_count": 9,
      "outputs": [
        {
          "output_type": "stream",
          "name": "stdout",
          "text": [
            "Mr. Holland's Opus\n",
            "Apollo 13\n",
            "Dead Man Walking\n",
            "Seven (a.k.a. Se7en)\n",
            "Heat\n",
            "Get Shorty\n",
            "Fugitive, The\n",
            "Dave\n",
            "Addams Family Values\n",
            "True Lies\n",
            "Speed\n",
            "Lion King, The\n",
            "Four Weddings and a Funeral\n",
            "Forrest Gump\n",
            "Star Trek: Generations\n",
            "Shawshank Redemption, The\n",
            "Stargate\n",
            "Pulp Fiction\n",
            "Outbreak\n",
            "Miracle on 34th Street\n"
          ]
        },
        {
          "output_type": "stream",
          "name": "stderr",
          "text": [
            "/tmp/ipython-input-9-1491241831.py:7: DeprecationWarning: read_transaction has been renamed to execute_read\n",
            "  results = session.read_transaction(\n"
          ]
        }
      ]
    },
    {
      "cell_type": "markdown",
      "source": [
        "## 2. GRAPH RAG"
      ],
      "metadata": {
        "id": "VyJZDdoOkSOB"
      }
    },
    {
      "cell_type": "markdown",
      "source": [
        "### RAG method based on graph query results created with Text2Cypher Retriever"
      ],
      "metadata": {
        "id": "rum-Lhg1iDCC"
      }
    },
    {
      "cell_type": "code",
      "source": [
        "from neo4j_graphrag.retrievers import Text2CypherRetriever\n",
        "from neo4j_graphrag.llm import OpenAILLM\n",
        "\n",
        "# Generate Cypher query based on query text and use LLM to generate response after retrieval\n",
        "llm = OpenAILLM(model_name=\"gpt-4o\", model_params={\"temperature\": 0})"
      ],
      "metadata": {
        "id": "pQhJOnzmaHl4"
      },
      "execution_count": 3,
      "outputs": []
    },
    {
      "cell_type": "markdown",
      "source": [
        "### 1) Text2Cypher Retriever"
      ],
      "metadata": {
        "id": "3atYFUn5aiSN"
      }
    },
    {
      "cell_type": "markdown",
      "source": [
        "Provide information required for automatic Cypher generation\n",
        "- Neo4j DB Schema\n",
        "- Input / Output(Query)"
      ],
      "metadata": {
        "id": "Lo9sTGD8aW8k"
      }
    },
    {
      "cell_type": "markdown",
      "source": [
        "#### Neo4j DB Schema\n",
        "\n",
        "```\n",
        "Node properties:\n",
        "Person {name: STRING, born: INTEGER}\n",
        "Movie {tagline: STRING, title: STRING, released: INTEGER}\n",
        "Relationship properties:\n",
        "ACTED_IN {roles: LIST}\n",
        "REVIEWED {summary: STRING, rating: INTEGER}\n",
        "The relationships:\n",
        "(:Person)-[:ACTED_IN]->(:Movie)\n",
        "(:Person)-[:DIRECTED]->(:Movie)\n",
        "(:Person)-[:PRODUCED]->(:Movie)\n",
        "(:Person)-[:WROTE]->(:Movie)\n",
        "(:Person)-[:FOLLOWS]->(:Person)\n",
        "(:Person)-[:REVIEWED]->(:Movie)\n",
        "```"
      ],
      "metadata": {
        "id": "EG8yJzIFbQf3"
      }
    },
    {
      "cell_type": "code",
      "source": [
        "from neo4j import GraphDatabase, basic_auth\n",
        "from neo4j.time import Date\n",
        "\n",
        "def get_node_datatype(value):\n",
        "    \"\"\"\n",
        "    Returns the data type of the given node value.\n",
        "    \"\"\"\n",
        "    if isinstance(value, str):\n",
        "        return \"STRING\"\n",
        "    elif isinstance(value, int):\n",
        "        return \"INTEGER\"\n",
        "    elif isinstance(value, float):\n",
        "        return \"FLOAT\"\n",
        "    elif isinstance(value, bool):\n",
        "        return \"BOOLEAN\"\n",
        "    elif isinstance(value, list):\n",
        "        # If the list is non-empty, infer the type from its first element\n",
        "        return f\"LIST[{get_node_datatype(value[0])}]\" if value else \"LIST\"\n",
        "    elif isinstance(value, Date):\n",
        "        return \"DATE\"\n",
        "    else:\n",
        "        return \"UNKNOWN\"\n",
        "\n",
        "def get_schema(uri, user, password):\n",
        "    \"\"\"\n",
        "    Connects to the graph database, extracts node and relationship properties,\n",
        "    and returns a schema dictionary.\n",
        "    \"\"\"\n",
        "    driver = GraphDatabase.driver(\n",
        "        uri,\n",
        "        auth=basic_auth(user, password)\n",
        "    )\n",
        "\n",
        "    with driver.session() as session:\n",
        "        # Extract node labels, property keys, and sample values\n",
        "        node_query = \"\"\"\n",
        "        MATCH (n)\n",
        "        WITH DISTINCT labels(n) AS node_labels, keys(n) AS property_keys, n\n",
        "        UNWIND node_labels AS label\n",
        "        UNWIND property_keys AS key\n",
        "        RETURN label, key, n[key] AS sample_value\n",
        "        \"\"\"\n",
        "        nodes = session.run(node_query)\n",
        "\n",
        "        # Extract relationship types, property keys, and sample values\n",
        "        rel_query = \"\"\"\n",
        "        MATCH ()-[r]->()\n",
        "        WITH DISTINCT type(r) AS rel_type, keys(r) AS property_keys, r\n",
        "        UNWIND property_keys AS key\n",
        "        RETURN rel_type, key, r[key] AS sample_value\n",
        "        \"\"\"\n",
        "        relationships = session.run(rel_query)\n",
        "\n",
        "        # Extract relationship patterns (start label, type, end label)\n",
        "        rel_direction_query = \"\"\"\n",
        "        MATCH (a)-[r]->(b)\n",
        "        RETURN DISTINCT labels(a) AS start_label, type(r) AS rel_type, labels(b) AS end_label\n",
        "        ORDER BY start_label, rel_type, end_label\n",
        "        \"\"\"\n",
        "        rel_directions = session.run(rel_direction_query)\n",
        "\n",
        "        # Initialize schema structure\n",
        "        schema = {\"nodes\": {}, \"relationships\": {}, \"relations\": []}\n",
        "\n",
        "        # Populate node property types\n",
        "        for record in nodes:\n",
        "            label = record[\"label\"]\n",
        "            key = record[\"key\"]\n",
        "            sample_value = record[\"sample_value\"]  # sample for type inference\n",
        "            inferred_type = get_node_datatype(sample_value)\n",
        "            schema[\"nodes\"].setdefault(label, {})[key] = inferred_type\n",
        "\n",
        "        # Populate relationship property types\n",
        "        for record in relationships:\n",
        "            rel_type = record[\"rel_type\"]\n",
        "            key = record[\"key\"]\n",
        "            sample_value = record[\"sample_value\"]  # sample for type inference\n",
        "            inferred_type = get_node_datatype(sample_value)\n",
        "            schema[\"relationships\"].setdefault(rel_type, {})[key] = inferred_type\n",
        "\n",
        "        # Record relationship patterns\n",
        "        for record in rel_directions:\n",
        "            start_label = record[\"start_label\"][0]\n",
        "            rel_type = record[\"rel_type\"]\n",
        "            end_label = record[\"end_label\"][0]\n",
        "            schema[\"relations\"].append(f\"(:{start_label})-[:{rel_type}]->(:{end_label})\")\n",
        "\n",
        "        return schema\n",
        "\n",
        "def format_schema(schema):\n",
        "    \"\"\"\n",
        "    Formats the schema dictionary into a string representation suitable\n",
        "    for providing to an LLM.\n",
        "    \"\"\"\n",
        "    lines = []\n",
        "\n",
        "    # Node properties section\n",
        "    lines.append(\"Node properties:\")\n",
        "    for label, properties in schema[\"nodes\"].items():\n",
        "        props = \", \".join(f\"{k}: {v}\" for k, v in properties.items())\n",
        "        lines.append(f\"{label} {{{props}}}\")\n",
        "\n",
        "    # Relationship properties section\n",
        "    lines.append(\"Relationship properties:\")\n",
        "    for rel_type, properties in schema[\"relationships\"].items():\n",
        "        props = \", \".join(f\"{k}: {v}\" for k, v in properties.items())\n",
        "        lines.append(f\"{rel_type} {{{props}}}\")\n",
        "\n",
        "    # Relationship patterns section\n",
        "    lines.append(\"The relationships:\")\n",
        "    for relation in schema[\"relations\"]:\n",
        "        lines.append(relation)\n",
        "\n",
        "    return \"\\n\".join(lines)\n"
      ],
      "metadata": {
        "id": "7K4dX-ZjglEJ"
      },
      "execution_count": 13,
      "outputs": []
    },
    {
      "cell_type": "code",
      "source": [
        "# Neo4j DB Schema\n",
        "schema = get_schema(\"neo4j://18.212.176.170:7687\", \"neo4j\", \"menus-classifications-smell\")\n",
        "neo4j_schema = format_schema(schema)\n",
        "print(neo4j_schema)"
      ],
      "metadata": {
        "colab": {
          "base_uri": "https://localhost:8080/"
        },
        "id": "bR0vMbi5m_KE",
        "outputId": "3e68aff3-1b1a-4bcf-a69b-b9864a813c00"
      },
      "execution_count": 14,
      "outputs": [
        {
          "output_type": "stream",
          "name": "stdout",
          "text": [
            "Node properties:\n",
            "Movie {url: STRING, runtime: INTEGER, revenue: INTEGER, budget: INTEGER, plotEmbedding: LIST[FLOAT], imdbRating: FLOAT, released: STRING, countries: LIST[STRING], languages: LIST[STRING], plot: STRING, imdbVotes: INTEGER, imdbId: STRING, year: INTEGER, poster: STRING, movieId: STRING, tmdbId: STRING, title: STRING}\n",
            "Genre {name: STRING}\n",
            "User {userId: STRING, name: STRING}\n",
            "Actor {bornIn: STRING, born: DATE, died: DATE, tmdbId: STRING, imdbId: STRING, name: STRING, url: STRING, bio: STRING, poster: STRING}\n",
            "Person {bornIn: STRING, born: DATE, died: DATE, tmdbId: STRING, imdbId: STRING, name: STRING, url: STRING, bio: STRING, poster: STRING}\n",
            "Director {url: STRING, bornIn: STRING, bio: STRING, died: DATE, born: DATE, imdbId: STRING, name: STRING, poster: STRING, tmdbId: STRING}\n",
            "Relationship properties:\n",
            "RATED {rating: FLOAT, timestamp: INTEGER}\n",
            "ACTED_IN {role: STRING}\n",
            "DIRECTED {role: STRING}\n",
            "The relationships:\n",
            "(:Actor)-[:ACTED_IN]->(:Movie)\n",
            "(:Actor)-[:DIRECTED]->(:Movie)\n",
            "(:Actor)-[:ACTED_IN]->(:Movie)\n",
            "(:Director)-[:DIRECTED]->(:Movie)\n",
            "(:Movie)-[:IN_GENRE]->(:Genre)\n",
            "(:User)-[:RATED]->(:Movie)\n"
          ]
        }
      ]
    },
    {
      "cell_type": "markdown",
      "source": [
        "#### Retriever example"
      ],
      "metadata": {
        "id": "HnuWxzesFR-r"
      }
    },
    {
      "cell_type": "markdown",
      "source": [
        "- User Input : Which actors starred in the Toy Story?\n",
        "\n",
        "- Auto-generated Cypher example: `MATCH (a:Actor)-[:ACTED_IN]->(m:Movie) WHERE m.title = 'Toy Story' RETURN a.name`"
      ],
      "metadata": {
        "id": "06C3lVZrthfd"
      }
    },
    {
      "cell_type": "markdown",
      "source": [
        "※ Added example for recommendation system\n",
        "\n"
      ],
      "metadata": {
        "id": "1FP4BiFAFhJh"
      }
    },
    {
      "cell_type": "code",
      "source": [
        "# LLM INPUT / QUERY examples\n",
        "examples = [\n",
        "    \"USER INPUT: 'Which actors appear in Toy Story?' QUERY: MATCH (a:Actor)-[:ACTED_IN]->(m:Movie) WHERE m.title = 'Toy Story' RETURN a.name\",\n",
        "    \"USER INPUT: 'What is the average rating for Toy Story?' QUERY: MATCH (u:User)-[r:RATED]->(m:Movie) WHERE m.title = 'Toy Story' RETURN AVG(r.rating)\",\n",
        "\n",
        "    \"\"\"USER INPUT: 'I love the Toy Story movies. People who enjoyed Toy Story, what other movies did they enjoy?'\n",
        "    QUERY: MATCH (m:Movie)<-[r:RATED]-(u:User)-[recr:RATED]->(userBasedRec:Movie)\n",
        "    WHERE m.title = 'Toy Story' AND r.rating >= 4 AND recr.rating >= 4\n",
        "    WITH userBasedRec, COUNT(recr) AS recCount, AVG(recr.rating) AS avgRating\n",
        "    ORDER BY avgRating DESC, recCount DESC\n",
        "    RETURN DISTINCT userBasedRec.title, avgRating, recCount\n",
        "    LIMIT 10\n",
        "    \"\"\",\n",
        "\n",
        "    \"\"\"USER INPUT: 'I like movies like 'The Wizard of Oz'. Can you recommend some similar movies?',\n",
        "    QUERY: MATCH (m:Movie) WHERE m.title = 'Wizard of Oz, The'\n",
        "    MATCH (m)-[:IN_GENRE]->(g:Genre)<-[:IN_GENRE]-(rec:Movie)\n",
        "    WITH m, rec, count(*) AS gs\n",
        "\n",
        "    OPTIONAL MATCH (m)<-[:ACTED_IN]-(a)-[:ACTED_IN]->(rec)\n",
        "    WITH m, rec, gs, count(a) AS as\n",
        "\n",
        "    OPTIONAL MATCH (m)<-[:DIRECTED]-(d)-[:DIRECTED]->(rec)\n",
        "    WITH m, rec, gs, as, count(d) AS ds\n",
        "\n",
        "    RETURN rec.title AS recommendation,\n",
        "            rec.poster AS rec_poster,\n",
        "            gs AS genre_similarity,\n",
        "            as AS actor_similarity,\n",
        "            ds AS director_similarity,\n",
        "           (5*gs)+(3*as)+(4*ds) AS score\n",
        "    ORDER BY score DESC LIMIT 10\n",
        "    \"\"\",\n",
        "\n",
        "    \"\"\"USER INPUT: 'Please recommend a movie with a similar genre or atmosphere to the movie 'Inception'.'\n",
        "    QUERY: MATCH (m:Movie)-[:IN_GENRE]->(g:Genre)<-[:IN_GENRE]-(rec:Movie)\n",
        "    WHERE m.title = 'Inception' WITH rec, collect(g.name) AS genres, count(*) AS commonGenres\n",
        "    RETURN rec.title, genres, commonGenres ORDER BY commonGenres DESC LIMIT 10;\"\"\"\n",
        "]"
      ],
      "metadata": {
        "id": "e_iS83oBLi-z"
      },
      "execution_count": 4,
      "outputs": []
    },
    {
      "cell_type": "code",
      "source": [
        "# Text2CypherRetriever\n",
        "retriever = Text2CypherRetriever(\n",
        "    driver=driver,\n",
        "    llm=llm,  # type: ignore\n",
        "    neo4j_schema=neo4j_schema,\n",
        "    examples=examples,\n",
        ")\n",
        "\n",
        "# Generate Cypher query via LLM, send it to Neo4j DB, and return the result => This result is utilized in RAG.\n",
        "query_text = \"What movies has Tom Hanks been in?\"\n",
        "search_result = retriever.search(query_text=query_text)"
      ],
      "metadata": {
        "id": "kfYUemK4ag8i"
      },
      "execution_count": 15,
      "outputs": []
    },
    {
      "cell_type": "code",
      "source": [
        "search_result.items"
      ],
      "metadata": {
        "colab": {
          "base_uri": "https://localhost:8080/"
        },
        "id": "WqDmIWU7xKKY",
        "outputId": "3780cf9a-767d-4c63-ceff-bc9e948083c8"
      },
      "execution_count": null,
      "outputs": [
        {
          "output_type": "execute_result",
          "data": {
            "text/plain": [
              "[RetrieverResultItem(content=\"<Record m.title='Punchline'>\", metadata=None),\n",
              " RetrieverResultItem(content=\"<Record m.title='Catch Me If You Can'>\", metadata=None),\n",
              " RetrieverResultItem(content=\"<Record m.title='Dragnet'>\", metadata=None),\n",
              " RetrieverResultItem(content=\"<Record m.title='Saving Mr. Banks'>\", metadata=None),\n",
              " RetrieverResultItem(content=\"<Record m.title='Bachelor Party'>\", metadata=None),\n",
              " RetrieverResultItem(content=\"<Record m.title='Volunteers'>\", metadata=None),\n",
              " RetrieverResultItem(content=\"<Record m.title='Man with One Red Shoe, The'>\", metadata=None),\n",
              " RetrieverResultItem(content=\"<Record m.title='Splash'>\", metadata=None),\n",
              " RetrieverResultItem(content=\"<Record m.title='Big'>\", metadata=None),\n",
              " RetrieverResultItem(content=\"<Record m.title='Nothing in Common'>\", metadata=None),\n",
              " RetrieverResultItem(content=\"<Record m.title='Money Pit, The'>\", metadata=None),\n",
              " RetrieverResultItem(content=\"<Record m.title='Toy Story of Terror'>\", metadata=None),\n",
              " RetrieverResultItem(content=\"<Record m.title='Captain Phillips'>\", metadata=None),\n",
              " RetrieverResultItem(content=\"<Record m.title='Larry Crowne'>\", metadata=None),\n",
              " RetrieverResultItem(content=\"<Record m.title='Cloud Atlas'>\", metadata=None),\n",
              " RetrieverResultItem(content=\"<Record m.title='Angels & Demons'>\", metadata=None),\n",
              " RetrieverResultItem(content=\"<Record m.title='Extremely Loud and Incredibly Close'>\", metadata=None),\n",
              " RetrieverResultItem(content='<Record m.title=\"Charlie Wilson\\'s War\">', metadata=None),\n",
              " RetrieverResultItem(content=\"<Record m.title='Toy Story 3'>\", metadata=None),\n",
              " RetrieverResultItem(content=\"<Record m.title='From the Earth to the Moon'>\", metadata=None),\n",
              " RetrieverResultItem(content=\"<Record m.title='Green Mile, The'>\", metadata=None),\n",
              " RetrieverResultItem(content=\"<Record m.title='Saving Private Ryan'>\", metadata=None),\n",
              " RetrieverResultItem(content=\"<Record m.title='Toy Story 2'>\", metadata=None),\n",
              " RetrieverResultItem(content=\"<Record m.title='Apollo 13'>\", metadata=None),\n",
              " RetrieverResultItem(content=\"<Record m.title='Toy Story'>\", metadata=None),\n",
              " RetrieverResultItem(content=\"<Record m.title='League of Their Own, A'>\", metadata=None),\n",
              " RetrieverResultItem(content=\"<Record m.title='Forrest Gump'>\", metadata=None),\n",
              " RetrieverResultItem(content=\"<Record m.title='Philadelphia'>\", metadata=None),\n",
              " RetrieverResultItem(content=\"<Record m.title='Sleepless in Seattle'>\", metadata=None),\n",
              " RetrieverResultItem(content=\"<Record m.title='Turner & Hooch'>\", metadata=None),\n",
              " RetrieverResultItem(content='<Record m.title=\"\\'burbs, The\">', metadata=None),\n",
              " RetrieverResultItem(content=\"<Record m.title='Joe Versus the Volcano'>\", metadata=None),\n",
              " RetrieverResultItem(content=\"<Record m.title='Bonfire of the Vanities'>\", metadata=None),\n",
              " RetrieverResultItem(content=\"<Record m.title='Terminal, The'>\", metadata=None),\n",
              " RetrieverResultItem(content=\"<Record m.title='Da Vinci Code, The'>\", metadata=None),\n",
              " RetrieverResultItem(content=\"<Record m.title='Polar Express, The'>\", metadata=None),\n",
              " RetrieverResultItem(content=\"<Record m.title='Ladykillers, The'>\", metadata=None),\n",
              " RetrieverResultItem(content='<Record m.title=\"You\\'ve Got Mail\">', metadata=None)]"
            ]
          },
          "metadata": {},
          "execution_count": 10
        }
      ]
    },
    {
      "cell_type": "code",
      "source": [
        "query_text = \"I love Titanic. Can you recommend some similar movies?\"\n",
        "search_result = retriever.search(query_text=query_text)"
      ],
      "metadata": {
        "id": "hL1ynoUPgd7m"
      },
      "execution_count": 16,
      "outputs": []
    },
    {
      "cell_type": "code",
      "source": [
        "search_result.metadata['cypher']"
      ],
      "metadata": {
        "colab": {
          "base_uri": "https://localhost:8080/",
          "height": 130
        },
        "id": "Bnl3Pbxqw5lH",
        "outputId": "d5f7e6eb-67c3-4be0-a0b7-626995c4bddb"
      },
      "execution_count": 17,
      "outputs": [
        {
          "output_type": "execute_result",
          "data": {
            "text/plain": [
              "\"MATCH (m:Movie) WHERE m.title = 'Titanic'\\nMATCH (m)-[:IN_GENRE]->(g:Genre)<-[:IN_GENRE]-(rec:Movie)\\nWITH m, rec, count(*) AS gs\\n\\nOPTIONAL MATCH (m)<-[:ACTED_IN]-(a:Actor)-[:ACTED_IN]->(rec)\\nWITH m, rec, gs, count(a) AS as\\n\\nOPTIONAL MATCH (m)<-[:DIRECTED]-(d:Director)-[:DIRECTED]->(rec)\\nWITH m, rec, gs, as, count(d) AS ds\\n\\nRETURN rec.title AS recommendation,\\n       rec.poster AS rec_poster,\\n       gs AS genre_similarity,\\n       as AS actor_similarity,\\n       ds AS director_similarity,\\n       (5*gs)+(3*as)+(4*ds) AS score\\nORDER BY score DESC LIMIT 10\""
            ],
            "application/vnd.google.colaboratory.intrinsic+json": {
              "type": "string"
            }
          },
          "metadata": {},
          "execution_count": 17
        }
      ]
    },
    {
      "cell_type": "code",
      "source": [
        "print(search_result.metadata['cypher'])"
      ],
      "metadata": {
        "colab": {
          "base_uri": "https://localhost:8080/"
        },
        "id": "HdzKF9EHdYVI",
        "outputId": "63345727-5d17-4cb5-c258-6b8e6f9fddcd"
      },
      "execution_count": 18,
      "outputs": [
        {
          "output_type": "stream",
          "name": "stdout",
          "text": [
            "MATCH (m:Movie) WHERE m.title = 'Titanic'\n",
            "MATCH (m)-[:IN_GENRE]->(g:Genre)<-[:IN_GENRE]-(rec:Movie)\n",
            "WITH m, rec, count(*) AS gs\n",
            "\n",
            "OPTIONAL MATCH (m)<-[:ACTED_IN]-(a:Actor)-[:ACTED_IN]->(rec)\n",
            "WITH m, rec, gs, count(a) AS as\n",
            "\n",
            "OPTIONAL MATCH (m)<-[:DIRECTED]-(d:Director)-[:DIRECTED]->(rec)\n",
            "WITH m, rec, gs, as, count(d) AS ds\n",
            "\n",
            "RETURN rec.title AS recommendation,\n",
            "       rec.poster AS rec_poster,\n",
            "       gs AS genre_similarity,\n",
            "       as AS actor_similarity,\n",
            "       ds AS director_similarity,\n",
            "       (5*gs)+(3*as)+(4*ds) AS score\n",
            "ORDER BY score DESC LIMIT 10\n"
          ]
        }
      ]
    },
    {
      "cell_type": "markdown",
      "source": [
        "### 2) Retriever-based RAG generation"
      ],
      "metadata": {
        "id": "R-7ysjaRanj2"
      }
    },
    {
      "cell_type": "code",
      "source": [
        "from neo4j_graphrag.generation import GraphRAG\n",
        "# Initialize RAG pipeline\n",
        "rag = GraphRAG(retriever=retriever, llm=llm)"
      ],
      "metadata": {
        "id": "bTNvnFnXbKLS"
      },
      "execution_count": 19,
      "outputs": []
    },
    {
      "cell_type": "markdown",
      "source": [
        "Check the context information used in the answer :\n",
        "https://github.com/neo4j/neo4j-graphrag-python/blob/89411ca2c9ae7fdce63ee9678fe658b2e2ec30dd/src/neo4j_graphrag/generation/graphrag.py#L101"
      ],
      "metadata": {
        "id": "G5nKfQJpyRMk"
      }
    },
    {
      "cell_type": "code",
      "source": [
        "# Question\n",
        "query_text = \"Please recommend some movies of a similar genre to Titanic.\"\n",
        "\n",
        "response = rag.search(query_text=query_text, return_context = True)\n",
        "print(\"==== [Cypher automatically generated via Text2Cypher] ====\")\n",
        "print(response.retriever_result.metadata['cypher'])\n",
        "print(\"\\n==== [Generate final answer based on generated Cypher] ====\")\n",
        "print(response.answer)"
      ],
      "metadata": {
        "id": "lG4yrSYoLqt6",
        "collapsed": true,
        "colab": {
          "base_uri": "https://localhost:8080/"
        },
        "outputId": "c03875c3-b864-4f50-9189-e06f357b96b9"
      },
      "execution_count": 20,
      "outputs": [
        {
          "output_type": "stream",
          "name": "stdout",
          "text": [
            "==== [Cypher automatically generated via Text2Cypher] ====\n",
            "MATCH (m:Movie)-[:IN_GENRE]->(g:Genre)<-[:IN_GENRE]-(rec:Movie)\n",
            "WHERE m.title = 'Titanic'\n",
            "WITH rec, collect(g.name) AS genres, count(*) AS commonGenres\n",
            "RETURN rec.title, genres, commonGenres\n",
            "ORDER BY commonGenres DESC\n",
            "LIMIT 10;\n",
            "\n",
            "==== [Generate final answer based on generated Cypher] ====\n",
            "Here are some movies with similar genres to Titanic, which include Drama and Romance:\n",
            "\n",
            "1. Dirty Mary Crazy Larry\n",
            "2. Shiri (Swiri)\n",
            "3. Absolute Giganten\n",
            "4. Eight Below\n",
            "5. Kingdom of Heaven\n",
            "6. Helen of Troy\n",
            "7. Robin Hood\n",
            "8. Legend of the Red Dragon (a.k.a. New Legend of Shaolin, The)\n",
            "9. Casanova\n",
            "10. House of Flying Daggers (Shi mian mai fu)\n"
          ]
        }
      ]
    },
    {
      "cell_type": "code",
      "source": [
        "# Question\n",
        "query_text = \"People who like Toy Story and The Godfather movies, what other movies do they like?\"\n",
        "\n",
        "response = rag.search(query_text=query_text, return_context = True)\n",
        "print(\"==== [Cypher automatically generated via Text2Cypher] ====\")\n",
        "print(response.retriever_result.metadata['cypher'])\n",
        "print(\"\\n==== [Generate final answer based on generated Cypher] ====\")\n",
        "print(response.answer)"
      ],
      "metadata": {
        "id": "WZU21VJjxWjT",
        "colab": {
          "base_uri": "https://localhost:8080/"
        },
        "outputId": "080aed51-8ae1-4445-9497-f31d08f51777"
      },
      "execution_count": 22,
      "outputs": [
        {
          "output_type": "stream",
          "name": "stdout",
          "text": [
            "==== [Cypher automatically generated via Text2Cypher] ====\n",
            "MATCH (m1:Movie)<-[r1:RATED]-(u:User)-[r2:RATED]->(rec:Movie), \n",
            "      (m2:Movie)<-[r3:RATED]-(u)\n",
            "WHERE m1.title = 'Toy Story' AND m2.title = 'The Godfather' \n",
            "  AND r1.rating >= 4 AND r3.rating >= 4 AND r2.rating >= 4\n",
            "WITH rec, COUNT(r2) AS recCount, AVG(r2.rating) AS avgRating\n",
            "ORDER BY avgRating DESC, recCount DESC\n",
            "RETURN DISTINCT rec.title, avgRating, recCount\n",
            "LIMIT 10\n",
            "\n",
            "==== [Generate final answer based on generated Cypher] ====\n",
            "People who like both Toy Story and The Godfather movies often appreciate a diverse range of films that combine strong storytelling, memorable characters, and impactful themes. They might also enjoy movies such as:\n",
            "\n",
            "1. **The Shawshank Redemption** - Known for its powerful narrative and character development.\n",
            "2. **Pulp Fiction** - Offers a mix of humor, drama, and unique storytelling.\n",
            "3. **The Lion King** - Another animated classic with emotional depth and universal themes.\n",
            "4. **Forrest Gump** - Combines heartwarming storytelling with historical context.\n",
            "5. **Inception** - Provides a complex and engaging plot with strong character arcs.\n",
            "6. **The Dark Knight** - Features a compelling story with rich character dynamics.\n",
            "7. **Finding Nemo** - Another Pixar film with a heartwarming story and memorable characters.\n",
            "8. **Goodfellas** - Offers a gritty and engaging look at organized crime, similar to The Godfather.\n",
            "9. **Up** - Combines adventure and emotional storytelling in a Pixar classic.\n",
            "10. **Casablanca** - A classic film known for its timeless romance and strong narrative.\n",
            "\n",
            "These films are appreciated for their storytelling, character development, and the emotional or intellectual engagement they offer, similar to Toy Story and The Godfather.\n"
          ]
        }
      ]
    },
    {
      "cell_type": "markdown",
      "source": [
        "## 3. Deploying Chatbots with Gradio"
      ],
      "metadata": {
        "id": "Id_rgPh8Nwhp"
      }
    },
    {
      "cell_type": "code",
      "source": [
        "!pip install gradio"
      ],
      "metadata": {
        "colab": {
          "base_uri": "https://localhost:8080/"
        },
        "collapsed": true,
        "id": "DKzKkI37JyQW",
        "outputId": "6ed4c295-7c5f-46ac-e96a-4e7d261ab0c6"
      },
      "execution_count": 23,
      "outputs": [
        {
          "output_type": "stream",
          "name": "stdout",
          "text": [
            "Requirement already satisfied: gradio in /usr/local/lib/python3.11/dist-packages (5.31.0)\n",
            "Requirement already satisfied: aiofiles<25.0,>=22.0 in /usr/local/lib/python3.11/dist-packages (from gradio) (24.1.0)\n",
            "Requirement already satisfied: anyio<5.0,>=3.0 in /usr/local/lib/python3.11/dist-packages (from gradio) (4.9.0)\n",
            "Requirement already satisfied: fastapi<1.0,>=0.115.2 in /usr/local/lib/python3.11/dist-packages (from gradio) (0.116.1)\n",
            "Requirement already satisfied: ffmpy in /usr/local/lib/python3.11/dist-packages (from gradio) (0.6.0)\n",
            "Requirement already satisfied: gradio-client==1.10.1 in /usr/local/lib/python3.11/dist-packages (from gradio) (1.10.1)\n",
            "Requirement already satisfied: groovy~=0.1 in /usr/local/lib/python3.11/dist-packages (from gradio) (0.1.2)\n",
            "Requirement already satisfied: httpx>=0.24.1 in /usr/local/lib/python3.11/dist-packages (from gradio) (0.28.1)\n",
            "Requirement already satisfied: huggingface-hub>=0.28.1 in /usr/local/lib/python3.11/dist-packages (from gradio) (0.33.4)\n",
            "Requirement already satisfied: jinja2<4.0 in /usr/local/lib/python3.11/dist-packages (from gradio) (3.1.6)\n",
            "Requirement already satisfied: markupsafe<4.0,>=2.0 in /usr/local/lib/python3.11/dist-packages (from gradio) (3.0.2)\n",
            "Requirement already satisfied: numpy<3.0,>=1.0 in /usr/local/lib/python3.11/dist-packages (from gradio) (2.0.2)\n",
            "Requirement already satisfied: orjson~=3.0 in /usr/local/lib/python3.11/dist-packages (from gradio) (3.11.0)\n",
            "Requirement already satisfied: packaging in /usr/local/lib/python3.11/dist-packages (from gradio) (25.0)\n",
            "Requirement already satisfied: pandas<3.0,>=1.0 in /usr/local/lib/python3.11/dist-packages (from gradio) (2.2.2)\n",
            "Requirement already satisfied: pillow<12.0,>=8.0 in /usr/local/lib/python3.11/dist-packages (from gradio) (11.2.1)\n",
            "Requirement already satisfied: pydantic<2.12,>=2.0 in /usr/local/lib/python3.11/dist-packages (from gradio) (2.11.7)\n",
            "Requirement already satisfied: pydub in /usr/local/lib/python3.11/dist-packages (from gradio) (0.25.1)\n",
            "Requirement already satisfied: python-multipart>=0.0.18 in /usr/local/lib/python3.11/dist-packages (from gradio) (0.0.20)\n",
            "Requirement already satisfied: pyyaml<7.0,>=5.0 in /usr/local/lib/python3.11/dist-packages (from gradio) (6.0.2)\n",
            "Requirement already satisfied: ruff>=0.9.3 in /usr/local/lib/python3.11/dist-packages (from gradio) (0.12.3)\n",
            "Requirement already satisfied: safehttpx<0.2.0,>=0.1.6 in /usr/local/lib/python3.11/dist-packages (from gradio) (0.1.6)\n",
            "Requirement already satisfied: semantic-version~=2.0 in /usr/local/lib/python3.11/dist-packages (from gradio) (2.10.0)\n",
            "Requirement already satisfied: starlette<1.0,>=0.40.0 in /usr/local/lib/python3.11/dist-packages (from gradio) (0.47.1)\n",
            "Requirement already satisfied: tomlkit<0.14.0,>=0.12.0 in /usr/local/lib/python3.11/dist-packages (from gradio) (0.13.3)\n",
            "Requirement already satisfied: typer<1.0,>=0.12 in /usr/local/lib/python3.11/dist-packages (from gradio) (0.16.0)\n",
            "Requirement already satisfied: typing-extensions~=4.0 in /usr/local/lib/python3.11/dist-packages (from gradio) (4.14.1)\n",
            "Requirement already satisfied: uvicorn>=0.14.0 in /usr/local/lib/python3.11/dist-packages (from gradio) (0.35.0)\n",
            "Requirement already satisfied: fsspec in /usr/local/lib/python3.11/dist-packages (from gradio-client==1.10.1->gradio) (2024.12.0)\n",
            "Requirement already satisfied: websockets<16.0,>=10.0 in /usr/local/lib/python3.11/dist-packages (from gradio-client==1.10.1->gradio) (15.0.1)\n",
            "Requirement already satisfied: idna>=2.8 in /usr/local/lib/python3.11/dist-packages (from anyio<5.0,>=3.0->gradio) (3.10)\n",
            "Requirement already satisfied: sniffio>=1.1 in /usr/local/lib/python3.11/dist-packages (from anyio<5.0,>=3.0->gradio) (1.3.1)\n",
            "Requirement already satisfied: certifi in /usr/local/lib/python3.11/dist-packages (from httpx>=0.24.1->gradio) (2025.7.14)\n",
            "Requirement already satisfied: httpcore==1.* in /usr/local/lib/python3.11/dist-packages (from httpx>=0.24.1->gradio) (1.0.9)\n",
            "Requirement already satisfied: h11>=0.16 in /usr/local/lib/python3.11/dist-packages (from httpcore==1.*->httpx>=0.24.1->gradio) (0.16.0)\n",
            "Requirement already satisfied: filelock in /usr/local/lib/python3.11/dist-packages (from huggingface-hub>=0.28.1->gradio) (3.18.0)\n",
            "Requirement already satisfied: requests in /usr/local/lib/python3.11/dist-packages (from huggingface-hub>=0.28.1->gradio) (2.32.3)\n",
            "Requirement already satisfied: tqdm>=4.42.1 in /usr/local/lib/python3.11/dist-packages (from huggingface-hub>=0.28.1->gradio) (4.67.1)\n",
            "Requirement already satisfied: hf-xet<2.0.0,>=1.1.2 in /usr/local/lib/python3.11/dist-packages (from huggingface-hub>=0.28.1->gradio) (1.1.5)\n",
            "Requirement already satisfied: python-dateutil>=2.8.2 in /usr/local/lib/python3.11/dist-packages (from pandas<3.0,>=1.0->gradio) (2.9.0.post0)\n",
            "Requirement already satisfied: pytz>=2020.1 in /usr/local/lib/python3.11/dist-packages (from pandas<3.0,>=1.0->gradio) (2025.2)\n",
            "Requirement already satisfied: tzdata>=2022.7 in /usr/local/lib/python3.11/dist-packages (from pandas<3.0,>=1.0->gradio) (2025.2)\n",
            "Requirement already satisfied: annotated-types>=0.6.0 in /usr/local/lib/python3.11/dist-packages (from pydantic<2.12,>=2.0->gradio) (0.7.0)\n",
            "Requirement already satisfied: pydantic-core==2.33.2 in /usr/local/lib/python3.11/dist-packages (from pydantic<2.12,>=2.0->gradio) (2.33.2)\n",
            "Requirement already satisfied: typing-inspection>=0.4.0 in /usr/local/lib/python3.11/dist-packages (from pydantic<2.12,>=2.0->gradio) (0.4.1)\n",
            "Requirement already satisfied: click>=8.0.0 in /usr/local/lib/python3.11/dist-packages (from typer<1.0,>=0.12->gradio) (8.2.1)\n",
            "Requirement already satisfied: shellingham>=1.3.0 in /usr/local/lib/python3.11/dist-packages (from typer<1.0,>=0.12->gradio) (1.5.4)\n",
            "Requirement already satisfied: rich>=10.11.0 in /usr/local/lib/python3.11/dist-packages (from typer<1.0,>=0.12->gradio) (13.9.4)\n",
            "Requirement already satisfied: six>=1.5 in /usr/local/lib/python3.11/dist-packages (from python-dateutil>=2.8.2->pandas<3.0,>=1.0->gradio) (1.17.0)\n",
            "Requirement already satisfied: markdown-it-py>=2.2.0 in /usr/local/lib/python3.11/dist-packages (from rich>=10.11.0->typer<1.0,>=0.12->gradio) (3.0.0)\n",
            "Requirement already satisfied: pygments<3.0.0,>=2.13.0 in /usr/local/lib/python3.11/dist-packages (from rich>=10.11.0->typer<1.0,>=0.12->gradio) (2.19.2)\n",
            "Requirement already satisfied: charset-normalizer<4,>=2 in /usr/local/lib/python3.11/dist-packages (from requests->huggingface-hub>=0.28.1->gradio) (3.4.2)\n",
            "Requirement already satisfied: urllib3<3,>=1.21.1 in /usr/local/lib/python3.11/dist-packages (from requests->huggingface-hub>=0.28.1->gradio) (2.4.0)\n",
            "Requirement already satisfied: mdurl~=0.1 in /usr/local/lib/python3.11/dist-packages (from markdown-it-py>=2.2.0->rich>=10.11.0->typer<1.0,>=0.12->gradio) (0.1.2)\n"
          ]
        }
      ]
    },
    {
      "cell_type": "code",
      "source": [
        "import gradio as gr\n",
        "from gradio.themes.base import Base\n",
        "\n",
        "class Seafoam(Base):\n",
        "    pass\n",
        "seafoam = Seafoam()\n",
        "\n",
        "with gr.Blocks(theme=seafoam) as demo: #'JohnSmith9982/small_and_pretty'\n",
        "    def default_llm(message):\n",
        "        prompt_text = f\"\"\"\n",
        "        You are a chatbot with a movie recommendation system. Respond to user_input, but encourage the user to tell you what movies or genres they like.\n",
        "        user_input : {message}\n",
        "        \"\"\"\n",
        "        return llm.invoke(prompt_text).content\n",
        "\n",
        "    def intent_detection(message):\n",
        "        prompt_text = f\"\"\"\n",
        "        If the given query_text appears to be a legitimate question for getting movie recommendations, return True, otherwise return False.\n",
        "        example : [(\"query_text\": \"Hi Nice to meet you\", \"answer\": \"False\"), (\"query_text\": \"I heard that you're so good at recommending movies?\", \"answer\": \"False\"), (\"query_text\": \"Can you recommend some movies in a similar genre to Titanic?\", \"answer\": \"True\")]\n",
        "        query_text : {message}\n",
        "        \"\"\"\n",
        "        return llm.invoke(prompt_text).content == 'True'\n",
        "\n",
        "    def response(message, chat_history):\n",
        "        #### INTENT DETECTION ####\n",
        "        if(intent_detection(message)):\n",
        "            #### ANSWER ####\n",
        "            rag_result = rag.search(query_text=message\n",
        "                                    + \"(Please also provide evidence for how you used context in your answer.)\"\n",
        "                                    , return_context = True)\n",
        "            chat_history.append((message, rag_result.answer))\n",
        "            return chat_history, rag_result.retriever_result.metadata['cypher'], rag_result.retriever_result.items\n",
        "        else:\n",
        "            llm_result = default_llm(message)\n",
        "            chat_history.append((message, llm_result))\n",
        "            return chat_history, \"It wasn't a movie-related question.\"\n",
        "\n",
        "    with gr.Row():\n",
        "        with gr.Column(scale=4):\n",
        "            gr.HTML(\"\"\"<div style=\"text-align: center; max-width: 1000px; margin: 10px auto;\">\n",
        "                <div>\n",
        "                    <h1>Graph RAG Chatbot !</h1>\n",
        "                </div>\n",
        "                <p style=\"margin-bottom: 10px; font-size: 95%\">\n",
        "                    💭 The answer is based on the movie review dataset from Graph DB. Please also check the DB query results used in the answer. </a>\n",
        "                </p>\n",
        "            </div>\"\"\")\n",
        "\n",
        "\n",
        "    with gr.Row():\n",
        "        with gr.Column(scale = 1):\n",
        "            generated_query = gr.Textbox(label=\"Generated Cypher query\")\n",
        "            query_result = gr.Textbox(label=\"Query lookup results\")\n",
        "        with gr.Column(scale = 3):\n",
        "            chatbot = gr.Chatbot()\n",
        "            msg = gr.Textbox(placeholder=\"What kind of movie would you like to receive a recommendation for? (It would be helpful if you could also mention the genre you are interested in or a movie you enjoyed.)\", label=\"Input\")\n",
        "            examples = gr.Examples(\n",
        "                examples=[\n",
        "                    \"I like movies like 'Net, The'. Can you recommend some similar movies?\",\n",
        "                    \"Please recommend a movie with a similar genre or atmosphere to the movie 'Inception'.\"\n",
        "                ],\n",
        "                inputs=[msg],\n",
        "            )\n",
        "            with gr.Row():\n",
        "                gr.HTML(\"\"\"<div style=\"text-align: center; max-width: 500px; margin: 0px auto;\">\n",
        "                    <div>\n",
        "                        <h1>  </h1>\n",
        "                    </p>\n",
        "                </div>\"\"\")\n",
        "                gr.HTML(\"\"\"<div style=\"text-align: center; max-width: 500px; margin: 0px auto;\">\n",
        "                    <div>\n",
        "                        <h1>  </h1>\n",
        "                    </p>\n",
        "                </div>\"\"\")\n",
        "                btn = gr.Button(\"Submit\", variant=\"primary\")\n",
        "                clear = gr.Button(\"Clear\")\n",
        "\n",
        "    btn.click(fn=response, inputs=[msg, chatbot], outputs=[chatbot, generated_query, query_result])\n",
        "    msg.submit(response, [msg, chatbot], [chatbot, generated_query, query_result])\n",
        "\n",
        "    clear.click(lambda: None, None, msg, queue=False)\n",
        "\n",
        "demo.launch(debug=True, share=True)#debug=True, share=True"
      ],
      "metadata": {
        "colab": {
          "base_uri": "https://localhost:8080/",
          "height": 1000
        },
        "id": "chGxy2Bvjcpb",
        "outputId": "fe0fc0be-b629-453b-849a-a5b352dec767",
        "collapsed": true
      },
      "execution_count": 24,
      "outputs": [
        {
          "output_type": "stream",
          "name": "stderr",
          "text": [
            "/tmp/ipython-input-24-458624861.py:55: UserWarning: You have not specified a value for the `type` parameter. Defaulting to the 'tuples' format for chatbot messages, but this is deprecated and will be removed in a future version of Gradio. Please set type='messages' instead, which uses openai-style dictionaries with 'role' and 'content' keys.\n",
            "  chatbot = gr.Chatbot()\n"
          ]
        },
        {
          "output_type": "stream",
          "name": "stdout",
          "text": [
            "Colab notebook detected. This cell will run indefinitely so that you can see errors and logs. To turn off, set debug=False in launch().\n",
            "* Running on public URL: https://a2b0e3cef5d9231484.gradio.live\n",
            "\n",
            "This share link expires in 1 week. For free permanent hosting and GPU upgrades, run `gradio deploy` from the terminal in the working directory to deploy to Hugging Face Spaces (https://huggingface.co/spaces)\n"
          ]
        },
        {
          "output_type": "display_data",
          "data": {
            "text/plain": [
              "<IPython.core.display.HTML object>"
            ],
            "text/html": [
              "<div><iframe src=\"https://a2b0e3cef5d9231484.gradio.live\" width=\"100%\" height=\"500\" allow=\"autoplay; camera; microphone; clipboard-read; clipboard-write;\" frameborder=\"0\" allowfullscreen></iframe></div>"
            ]
          },
          "metadata": {}
        },
        {
          "output_type": "stream",
          "name": "stderr",
          "text": [
            "Traceback (most recent call last):\n",
            "  File \"/usr/local/lib/python3.11/dist-packages/gradio/queueing.py\", line 625, in process_events\n",
            "    response = await route_utils.call_process_api(\n",
            "               ^^^^^^^^^^^^^^^^^^^^^^^^^^^^^^^^^^^\n",
            "  File \"/usr/local/lib/python3.11/dist-packages/gradio/route_utils.py\", line 322, in call_process_api\n",
            "    output = await app.get_blocks().process_api(\n",
            "             ^^^^^^^^^^^^^^^^^^^^^^^^^^^^^^^^^^^\n",
            "  File \"/usr/local/lib/python3.11/dist-packages/gradio/blocks.py\", line 2201, in process_api\n",
            "    data = await self.postprocess_data(block_fn, result[\"prediction\"], state)\n",
            "           ^^^^^^^^^^^^^^^^^^^^^^^^^^^^^^^^^^^^^^^^^^^^^^^^^^^^^^^^^^^^^^^^^^\n",
            "  File \"/usr/local/lib/python3.11/dist-packages/gradio/blocks.py\", line 1928, in postprocess_data\n",
            "    self.validate_outputs(block_fn, predictions)  # type: ignore\n",
            "    ^^^^^^^^^^^^^^^^^^^^^^^^^^^^^^^^^^^^^^^^^^^^\n",
            "  File \"/usr/local/lib/python3.11/dist-packages/gradio/blocks.py\", line 1883, in validate_outputs\n",
            "    raise ValueError(\n",
            "ValueError: A  function (response) didn't return enough output values (needed: 3, returned: 2).\n",
            "    Output components:\n",
            "        [chatbot, textbox, textbox]\n",
            "    Output values returned:\n",
            "        [[('hi how are you?', \"Hello! I'm doing well, thank you for asking. I'm here to help you find a great movie to watch. Could you tell me a bit about the movies or genres you enjoy? That way, I can give you a recommendation you'll love!\")], \"It wasn't a movie-related question.\"]\n"
          ]
        },
        {
          "output_type": "stream",
          "name": "stdout",
          "text": [
            "Keyboard interruption in main thread... closing server.\n",
            "Killing tunnel 127.0.0.1:7860 <> https://a2b0e3cef5d9231484.gradio.live\n"
          ]
        },
        {
          "output_type": "execute_result",
          "data": {
            "text/plain": []
          },
          "metadata": {},
          "execution_count": 24
        }
      ]
    },
    {
      "cell_type": "code",
      "source": [],
      "metadata": {
        "id": "SZ_L9HWxT4tZ"
      },
      "execution_count": null,
      "outputs": []
    }
  ]
}