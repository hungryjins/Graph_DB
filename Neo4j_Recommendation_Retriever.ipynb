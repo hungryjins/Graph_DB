{
  "nbformat": 4,
  "nbformat_minor": 0,
  "metadata": {
    "colab": {
      "provenance": [],
      "include_colab_link": true
    },
    "kernelspec": {
      "name": "python3",
      "display_name": "Python 3"
    },
    "language_info": {
      "name": "python"
    }
  },
  "cells": [
    {
      "cell_type": "markdown",
      "metadata": {
        "id": "view-in-github",
        "colab_type": "text"
      },
      "source": [
        "<a href=\"https://colab.research.google.com/github/hungryjins/Graph_DB/blob/main/Neo4j_Recommendation_Retriever.ipynb\" target=\"_parent\"><img src=\"https://colab.research.google.com/assets/colab-badge.svg\" alt=\"Open In Colab\"/></a>"
      ]
    },
    {
      "cell_type": "markdown",
      "source": [
        "## 0. Setting\n"
      ],
      "metadata": {
        "id": "13RfDLhyPNkX"
      }
    },
    {
      "cell_type": "code",
      "source": [
        "!pip install neo4j-graphrag neo4j openai"
      ],
      "metadata": {
        "colab": {
          "base_uri": "https://localhost:8080/"
        },
        "collapsed": true,
        "id": "Db2sh3701xu-",
        "outputId": "49494d78-42ed-475b-fc8e-7920864d317b"
      },
      "execution_count": 1,
      "outputs": [
        {
          "output_type": "stream",
          "name": "stdout",
          "text": [
            "Collecting neo4j-graphrag\n",
            "  Downloading neo4j_graphrag-1.8.0-py3-none-any.whl.metadata (18 kB)\n",
            "Collecting neo4j\n",
            "  Downloading neo4j-5.28.1-py3-none-any.whl.metadata (5.9 kB)\n",
            "Requirement already satisfied: openai in /usr/local/lib/python3.11/dist-packages (1.96.1)\n",
            "Collecting fsspec<2025.0.0,>=2024.9.0 (from neo4j-graphrag)\n",
            "  Downloading fsspec-2024.12.0-py3-none-any.whl.metadata (11 kB)\n",
            "Collecting json-repair<0.40.0,>=0.39.1 (from neo4j-graphrag)\n",
            "  Downloading json_repair-0.39.1-py3-none-any.whl.metadata (11 kB)\n",
            "Requirement already satisfied: numpy<3.0.0,>=2.0.0 in /usr/local/lib/python3.11/dist-packages (from neo4j-graphrag) (2.0.2)\n",
            "Requirement already satisfied: pydantic<3.0.0,>=2.6.3 in /usr/local/lib/python3.11/dist-packages (from neo4j-graphrag) (2.11.7)\n",
            "Collecting pypdf<6.0.0,>=5.1.0 (from neo4j-graphrag)\n",
            "  Downloading pypdf-5.8.0-py3-none-any.whl.metadata (7.1 kB)\n",
            "Requirement already satisfied: pyyaml<7.0.0,>=6.0.2 in /usr/local/lib/python3.11/dist-packages (from neo4j-graphrag) (6.0.2)\n",
            "Requirement already satisfied: scipy<2.0.0,>=1.13.0 in /usr/local/lib/python3.11/dist-packages (from neo4j-graphrag) (1.15.3)\n",
            "Collecting types-pyyaml<7.0.0.0,>=6.0.12.20240917 (from neo4j-graphrag)\n",
            "  Downloading types_pyyaml-6.0.12.20250516-py3-none-any.whl.metadata (1.8 kB)\n",
            "Requirement already satisfied: pytz in /usr/local/lib/python3.11/dist-packages (from neo4j) (2025.2)\n",
            "Requirement already satisfied: anyio<5,>=3.5.0 in /usr/local/lib/python3.11/dist-packages (from openai) (4.9.0)\n",
            "Requirement already satisfied: distro<2,>=1.7.0 in /usr/local/lib/python3.11/dist-packages (from openai) (1.9.0)\n",
            "Requirement already satisfied: httpx<1,>=0.23.0 in /usr/local/lib/python3.11/dist-packages (from openai) (0.28.1)\n",
            "Requirement already satisfied: jiter<1,>=0.4.0 in /usr/local/lib/python3.11/dist-packages (from openai) (0.10.0)\n",
            "Requirement already satisfied: sniffio in /usr/local/lib/python3.11/dist-packages (from openai) (1.3.1)\n",
            "Requirement already satisfied: tqdm>4 in /usr/local/lib/python3.11/dist-packages (from openai) (4.67.1)\n",
            "Requirement already satisfied: typing-extensions<5,>=4.11 in /usr/local/lib/python3.11/dist-packages (from openai) (4.14.1)\n",
            "Requirement already satisfied: idna>=2.8 in /usr/local/lib/python3.11/dist-packages (from anyio<5,>=3.5.0->openai) (3.10)\n",
            "Requirement already satisfied: certifi in /usr/local/lib/python3.11/dist-packages (from httpx<1,>=0.23.0->openai) (2025.7.14)\n",
            "Requirement already satisfied: httpcore==1.* in /usr/local/lib/python3.11/dist-packages (from httpx<1,>=0.23.0->openai) (1.0.9)\n",
            "Requirement already satisfied: h11>=0.16 in /usr/local/lib/python3.11/dist-packages (from httpcore==1.*->httpx<1,>=0.23.0->openai) (0.16.0)\n",
            "Requirement already satisfied: annotated-types>=0.6.0 in /usr/local/lib/python3.11/dist-packages (from pydantic<3.0.0,>=2.6.3->neo4j-graphrag) (0.7.0)\n",
            "Requirement already satisfied: pydantic-core==2.33.2 in /usr/local/lib/python3.11/dist-packages (from pydantic<3.0.0,>=2.6.3->neo4j-graphrag) (2.33.2)\n",
            "Requirement already satisfied: typing-inspection>=0.4.0 in /usr/local/lib/python3.11/dist-packages (from pydantic<3.0.0,>=2.6.3->neo4j-graphrag) (0.4.1)\n",
            "Downloading neo4j_graphrag-1.8.0-py3-none-any.whl (189 kB)\n",
            "\u001b[2K   \u001b[90m━━━━━━━━━━━━━━━━━━━━━━━━━━━━━━━━━━━━━━━━\u001b[0m \u001b[32m189.7/189.7 kB\u001b[0m \u001b[31m6.7 MB/s\u001b[0m eta \u001b[36m0:00:00\u001b[0m\n",
            "\u001b[?25hDownloading neo4j-5.28.1-py3-none-any.whl (312 kB)\n",
            "\u001b[2K   \u001b[90m━━━━━━━━━━━━━━━━━━━━━━━━━━━━━━━━━━━━━━━━\u001b[0m \u001b[32m312.3/312.3 kB\u001b[0m \u001b[31m17.3 MB/s\u001b[0m eta \u001b[36m0:00:00\u001b[0m\n",
            "\u001b[?25hDownloading fsspec-2024.12.0-py3-none-any.whl (183 kB)\n",
            "\u001b[2K   \u001b[90m━━━━━━━━━━━━━━━━━━━━━━━━━━━━━━━━━━━━━━━━\u001b[0m \u001b[32m183.9/183.9 kB\u001b[0m \u001b[31m11.3 MB/s\u001b[0m eta \u001b[36m0:00:00\u001b[0m\n",
            "\u001b[?25hDownloading json_repair-0.39.1-py3-none-any.whl (20 kB)\n",
            "Downloading pypdf-5.8.0-py3-none-any.whl (309 kB)\n",
            "\u001b[2K   \u001b[90m━━━━━━━━━━━━━━━━━━━━━━━━━━━━━━━━━━━━━━━━\u001b[0m \u001b[32m309.7/309.7 kB\u001b[0m \u001b[31m13.7 MB/s\u001b[0m eta \u001b[36m0:00:00\u001b[0m\n",
            "\u001b[?25hDownloading types_pyyaml-6.0.12.20250516-py3-none-any.whl (20 kB)\n",
            "Installing collected packages: types-pyyaml, pypdf, neo4j, json-repair, fsspec, neo4j-graphrag\n",
            "  Attempting uninstall: fsspec\n",
            "    Found existing installation: fsspec 2025.3.2\n",
            "    Uninstalling fsspec-2025.3.2:\n",
            "      Successfully uninstalled fsspec-2025.3.2\n",
            "\u001b[31mERROR: pip's dependency resolver does not currently take into account all the packages that are installed. This behaviour is the source of the following dependency conflicts.\n",
            "torch 2.6.0+cu124 requires nvidia-cublas-cu12==12.4.5.8; platform_system == \"Linux\" and platform_machine == \"x86_64\", but you have nvidia-cublas-cu12 12.5.3.2 which is incompatible.\n",
            "torch 2.6.0+cu124 requires nvidia-cuda-cupti-cu12==12.4.127; platform_system == \"Linux\" and platform_machine == \"x86_64\", but you have nvidia-cuda-cupti-cu12 12.5.82 which is incompatible.\n",
            "torch 2.6.0+cu124 requires nvidia-cuda-nvrtc-cu12==12.4.127; platform_system == \"Linux\" and platform_machine == \"x86_64\", but you have nvidia-cuda-nvrtc-cu12 12.5.82 which is incompatible.\n",
            "torch 2.6.0+cu124 requires nvidia-cuda-runtime-cu12==12.4.127; platform_system == \"Linux\" and platform_machine == \"x86_64\", but you have nvidia-cuda-runtime-cu12 12.5.82 which is incompatible.\n",
            "torch 2.6.0+cu124 requires nvidia-cudnn-cu12==9.1.0.70; platform_system == \"Linux\" and platform_machine == \"x86_64\", but you have nvidia-cudnn-cu12 9.3.0.75 which is incompatible.\n",
            "torch 2.6.0+cu124 requires nvidia-cufft-cu12==11.2.1.3; platform_system == \"Linux\" and platform_machine == \"x86_64\", but you have nvidia-cufft-cu12 11.2.3.61 which is incompatible.\n",
            "torch 2.6.0+cu124 requires nvidia-curand-cu12==10.3.5.147; platform_system == \"Linux\" and platform_machine == \"x86_64\", but you have nvidia-curand-cu12 10.3.6.82 which is incompatible.\n",
            "torch 2.6.0+cu124 requires nvidia-cusolver-cu12==11.6.1.9; platform_system == \"Linux\" and platform_machine == \"x86_64\", but you have nvidia-cusolver-cu12 11.6.3.83 which is incompatible.\n",
            "torch 2.6.0+cu124 requires nvidia-cusparse-cu12==12.3.1.170; platform_system == \"Linux\" and platform_machine == \"x86_64\", but you have nvidia-cusparse-cu12 12.5.1.3 which is incompatible.\n",
            "torch 2.6.0+cu124 requires nvidia-nvjitlink-cu12==12.4.127; platform_system == \"Linux\" and platform_machine == \"x86_64\", but you have nvidia-nvjitlink-cu12 12.5.82 which is incompatible.\n",
            "gcsfs 2025.3.2 requires fsspec==2025.3.2, but you have fsspec 2024.12.0 which is incompatible.\u001b[0m\u001b[31m\n",
            "\u001b[0mSuccessfully installed fsspec-2024.12.0 json-repair-0.39.1 neo4j-5.28.1 neo4j-graphrag-1.8.0 pypdf-5.8.0 types-pyyaml-6.0.12.20250516\n"
          ]
        }
      ]
    },
    {
      "cell_type": "code",
      "source": [
        "import os\n",
        "os.environ[\"OPENAI_API_KEY\"] = \"OPENAI_API_KEY\""
      ],
      "metadata": {
        "id": "mxVWhyMb2A1s"
      },
      "execution_count": 2,
      "outputs": []
    },
    {
      "cell_type": "markdown",
      "source": [
        "## 1. GraphDB"
      ],
      "metadata": {
        "id": "9_0oQo-APS7f"
      }
    },
    {
      "cell_type": "markdown",
      "source": [
        "Neo4j Sandbox : https://sandbox.neo4j.com/"
      ],
      "metadata": {
        "id": "T2MzCTpQ2Ihk"
      }
    },
    {
      "cell_type": "markdown",
      "source": [
        "### 1-1. Neo4j Driver setting"
      ],
      "metadata": {
        "id": "le_Pfi0pPVjj"
      }
    },
    {
      "cell_type": "code",
      "source": [
        "from neo4j import GraphDatabase, basic_auth\n",
        "import openai\n",
        "\n",
        "driver = GraphDatabase.driver(\n",
        "  \"neo4j://18.212.176.170:7687\",\n",
        "  auth=basic_auth(\"neo4j\", \"menus-classifications-smell\"))"
      ],
      "metadata": {
        "id": "5CDkAq8YPY-e"
      },
      "execution_count": 3,
      "outputs": []
    },
    {
      "cell_type": "markdown",
      "source": [
        "```cypher\n",
        "MATCH (m:Movie {title:$movie})<-[:RATED]-(u:User)-[:RATED]->(rec:Movie)\n",
        "RETURN distinct rec.title AS recommendation LIMIT 20\n",
        "```\n",
        "\n",
        "- `(m:Movie {title:$movie})` : title > $movie\n",
        "- `(rec:Movie)` : Variable > rec\n",
        "- `RETURN distinct rec.title` : RETURN Title on variable rec\n",
        "\n"
      ],
      "metadata": {
        "id": "-eQDxOSx2XSh"
      }
    },
    {
      "cell_type": "code",
      "source": [
        "cypher_query = '''\n",
        "MATCH (m:Movie {title:$movie})<-[:RATED]-(u:User)-[:RATED]->(rec:Movie)\n",
        "RETURN distinct rec.title AS recommendation LIMIT 20\n",
        "'''\n",
        "\n",
        "with driver.session(database=\"neo4j\") as session:\n",
        "  results = session.read_transaction(\n",
        "    lambda tx: tx.run(cypher_query,\n",
        "                      movie=\"Crimson Tide\").data())\n",
        "  for record in results:\n",
        "    print(record['recommendation'])\n",
        "\n",
        "#driver.close()"
      ],
      "metadata": {
        "colab": {
          "base_uri": "https://localhost:8080/"
        },
        "id": "mTI3Q6qe00rw",
        "outputId": "cb65bc9a-d96d-4b9f-9637-1a845d9382a3"
      },
      "execution_count": 4,
      "outputs": [
        {
          "output_type": "stream",
          "name": "stdout",
          "text": [
            "Mr. Holland's Opus\n",
            "Apollo 13\n",
            "Dead Man Walking\n",
            "Seven (a.k.a. Se7en)\n",
            "Heat\n",
            "Get Shorty\n",
            "Fugitive, The\n",
            "Dave\n",
            "Addams Family Values\n",
            "True Lies\n",
            "Speed\n",
            "Lion King, The\n",
            "Four Weddings and a Funeral\n",
            "Forrest Gump\n",
            "Star Trek: Generations\n",
            "Shawshank Redemption, The\n",
            "Stargate\n",
            "Pulp Fiction\n",
            "Outbreak\n",
            "Miracle on 34th Street\n"
          ]
        },
        {
          "output_type": "stream",
          "name": "stderr",
          "text": [
            "/tmp/ipython-input-4-1491241831.py:7: DeprecationWarning: read_transaction has been renamed to execute_read\n",
            "  results = session.read_transaction(\n"
          ]
        }
      ]
    },
    {
      "cell_type": "markdown",
      "source": [
        "## 2. Plot Embedding\n",
        "\n",
        "- Retriever goal : Search by plot to find similar movies\n",
        "\n",
        "How? Vector retriever"
      ],
      "metadata": {
        "id": "7UHTjrkZPfFE"
      }
    },
    {
      "cell_type": "markdown",
      "source": [
        "### 2-1. Text to Embedding vector (OpenAI Embedding model)"
      ],
      "metadata": {
        "id": "8dpi-2M8P1PW"
      }
    },
    {
      "cell_type": "code",
      "source": [
        "def generate_embedding(text):\n",
        "    embedding = openai.embeddings.create(input = [text], model='text-embedding-ada-002').data[0].embedding\n",
        "    return embedding"
      ],
      "metadata": {
        "id": "sA1RYap-PdDX"
      },
      "execution_count": 5,
      "outputs": []
    },
    {
      "cell_type": "code",
      "source": [
        "def add_embedding_to_movie(tx):\n",
        "    \"\"\"Embed the plot of all Movie nodes and add the value to the embedding property.\"\"\"\n",
        "    result = tx.run(\"MATCH (m:Movie) WHERE m.plot IS NOT NULL RETURN m.title AS title, m.plot AS plot, ID(m) AS id LIMIT 100\")\n",
        "    cnt = 0\n",
        "    for record in result:\n",
        "        cnt += 1\n",
        "        print(cnt)\n",
        "        title = record[\"title\"]\n",
        "        plot = record[\"plot\"]\n",
        "        node_id = record[\"id\"]\n",
        "        print(plot)\n",
        "        print(\"=================\")\n",
        "        embedding = generate_embedding(plot)\n",
        "        # Save embedding vectors to Neo4j\n",
        "        tx.run(\"MATCH (m:Movie) WHERE ID(m) = $id SET m.plotEmbedding = $embedding\", id=node_id, embedding=embedding)\n",
        "        print(f\"Updated movie '{title}' with embedding.\")\n",
        "\n",
        "with driver.session() as session:\n",
        "    session.write_transaction(add_embedding_to_movie)"
      ],
      "metadata": {
        "colab": {
          "base_uri": "https://localhost:8080/"
        },
        "id": "j_BlQZK4HH63",
        "outputId": "bc395217-de59-4656-dcb2-64a1a0e39623"
      },
      "execution_count": 6,
      "outputs": [
        {
          "output_type": "stream",
          "name": "stderr",
          "text": [
            "/tmp/ipython-input-6-1372539816.py:19: DeprecationWarning: write_transaction has been renamed to execute_write\n",
            "  session.write_transaction(add_embedding_to_movie)\n"
          ]
        },
        {
          "output_type": "stream",
          "name": "stdout",
          "text": [
            "1\n",
            "A cowboy doll is profoundly threatened and jealous when a new spaceman figure supplants him as top toy in a boy's room.\n",
            "=================\n"
          ]
        },
        {
          "output_type": "stream",
          "name": "stderr",
          "text": [
            "WARNING:neo4j.notifications:Received notification from DBMS server: {severity: WARNING} {code: Neo.ClientNotification.Statement.FeatureDeprecationWarning} {category: DEPRECATION} {title: This feature is deprecated and will be removed in future versions.} {description: The query used a deprecated function. ('id' has been replaced by 'elementId or consider using an application-generated id')} {position: line: 1, column: 83, offset: 82} for query: 'MATCH (m:Movie) WHERE m.plot IS NOT NULL RETURN m.title AS title, m.plot AS plot, ID(m) AS id LIMIT 100'\n",
            "WARNING:neo4j.notifications:Received notification from DBMS server: {severity: WARNING} {code: Neo.ClientNotification.Statement.FeatureDeprecationWarning} {category: DEPRECATION} {title: This feature is deprecated and will be removed in future versions.} {description: The query used a deprecated function. ('id' has been replaced by 'elementId or consider using an application-generated id')} {position: line: 1, column: 23, offset: 22} for query: 'MATCH (m:Movie) WHERE ID(m) = $id SET m.plotEmbedding = $embedding'\n"
          ]
        },
        {
          "output_type": "stream",
          "name": "stdout",
          "text": [
            "Updated movie 'Toy Story' with embedding.\n",
            "2\n",
            "When two kids find and play a magical board game, they release a man trapped for decades in it and a host of dangers that can only be stopped by finishing the game.\n",
            "=================\n"
          ]
        },
        {
          "output_type": "stream",
          "name": "stderr",
          "text": [
            "WARNING:neo4j.notifications:Received notification from DBMS server: {severity: WARNING} {code: Neo.ClientNotification.Statement.FeatureDeprecationWarning} {category: DEPRECATION} {title: This feature is deprecated and will be removed in future versions.} {description: The query used a deprecated function. ('id' has been replaced by 'elementId or consider using an application-generated id')} {position: line: 1, column: 23, offset: 22} for query: 'MATCH (m:Movie) WHERE ID(m) = $id SET m.plotEmbedding = $embedding'\n"
          ]
        },
        {
          "output_type": "stream",
          "name": "stdout",
          "text": [
            "Updated movie 'Jumanji' with embedding.\n",
            "3\n",
            "John and Max resolve to save their beloved bait shop from turning into an Italian restaurant, just as its new female owner catches Max's attention.\n",
            "=================\n",
            "Updated movie 'Grumpier Old Men' with embedding.\n",
            "4\n",
            "Based on Terry McMillan's novel, this film follows four very different African-American women and their relationships with the male gender.\n",
            "=================\n"
          ]
        },
        {
          "output_type": "stream",
          "name": "stderr",
          "text": [
            "WARNING:neo4j.notifications:Received notification from DBMS server: {severity: WARNING} {code: Neo.ClientNotification.Statement.FeatureDeprecationWarning} {category: DEPRECATION} {title: This feature is deprecated and will be removed in future versions.} {description: The query used a deprecated function. ('id' has been replaced by 'elementId or consider using an application-generated id')} {position: line: 1, column: 23, offset: 22} for query: 'MATCH (m:Movie) WHERE ID(m) = $id SET m.plotEmbedding = $embedding'\n",
            "WARNING:neo4j.notifications:Received notification from DBMS server: {severity: WARNING} {code: Neo.ClientNotification.Statement.FeatureDeprecationWarning} {category: DEPRECATION} {title: This feature is deprecated and will be removed in future versions.} {description: The query used a deprecated function. ('id' has been replaced by 'elementId or consider using an application-generated id')} {position: line: 1, column: 23, offset: 22} for query: 'MATCH (m:Movie) WHERE ID(m) = $id SET m.plotEmbedding = $embedding'\n"
          ]
        },
        {
          "output_type": "stream",
          "name": "stdout",
          "text": [
            "Updated movie 'Waiting to Exhale' with embedding.\n",
            "5\n",
            "In this sequel, George Banks deals not only with the pregnancy of his daughter, but also with the unexpected pregnancy of his wife.\n",
            "=================\n",
            "Updated movie 'Father of the Bride Part II' with embedding.\n",
            "6\n",
            "A group of professional bank robbers start to feel the heat from police when they unknowingly leave a clue at their latest heist.\n",
            "=================\n"
          ]
        },
        {
          "output_type": "stream",
          "name": "stderr",
          "text": [
            "WARNING:neo4j.notifications:Received notification from DBMS server: {severity: WARNING} {code: Neo.ClientNotification.Statement.FeatureDeprecationWarning} {category: DEPRECATION} {title: This feature is deprecated and will be removed in future versions.} {description: The query used a deprecated function. ('id' has been replaced by 'elementId or consider using an application-generated id')} {position: line: 1, column: 23, offset: 22} for query: 'MATCH (m:Movie) WHERE ID(m) = $id SET m.plotEmbedding = $embedding'\n",
            "WARNING:neo4j.notifications:Received notification from DBMS server: {severity: WARNING} {code: Neo.ClientNotification.Statement.FeatureDeprecationWarning} {category: DEPRECATION} {title: This feature is deprecated and will be removed in future versions.} {description: The query used a deprecated function. ('id' has been replaced by 'elementId or consider using an application-generated id')} {position: line: 1, column: 23, offset: 22} for query: 'MATCH (m:Movie) WHERE ID(m) = $id SET m.plotEmbedding = $embedding'\n"
          ]
        },
        {
          "output_type": "stream",
          "name": "stdout",
          "text": [
            "Updated movie 'Heat' with embedding.\n",
            "7\n",
            "An ugly duckling having undergone a remarkable change, still harbors feelings for her crush: a carefree playboy, but not before his business-focused brother has something to say about it.\n",
            "=================\n",
            "Updated movie 'Sabrina' with embedding.\n",
            "8\n",
            "Tom and Huck witness Injun Joe's killing of Doc Robinson one night at the graveyard. When an innocent man is accused of killing the Doc, Tom steps up as a witness, not respecting the promise made to Huck to lay low.\n",
            "=================\n"
          ]
        },
        {
          "output_type": "stream",
          "name": "stderr",
          "text": [
            "WARNING:neo4j.notifications:Received notification from DBMS server: {severity: WARNING} {code: Neo.ClientNotification.Statement.FeatureDeprecationWarning} {category: DEPRECATION} {title: This feature is deprecated and will be removed in future versions.} {description: The query used a deprecated function. ('id' has been replaced by 'elementId or consider using an application-generated id')} {position: line: 1, column: 23, offset: 22} for query: 'MATCH (m:Movie) WHERE ID(m) = $id SET m.plotEmbedding = $embedding'\n",
            "WARNING:neo4j.notifications:Received notification from DBMS server: {severity: WARNING} {code: Neo.ClientNotification.Statement.FeatureDeprecationWarning} {category: DEPRECATION} {title: This feature is deprecated and will be removed in future versions.} {description: The query used a deprecated function. ('id' has been replaced by 'elementId or consider using an application-generated id')} {position: line: 1, column: 23, offset: 22} for query: 'MATCH (m:Movie) WHERE ID(m) = $id SET m.plotEmbedding = $embedding'\n"
          ]
        },
        {
          "output_type": "stream",
          "name": "stdout",
          "text": [
            "Updated movie 'Tom and Huck' with embedding.\n",
            "9\n",
            "A former fireman takes on a group of terrorists holding the Vice President and others hostage during the seventh game of the NHL Stanley Cup finals.\n",
            "=================\n",
            "Updated movie 'Sudden Death' with embedding.\n",
            "10\n",
            "James Bond teams up with the lone survivor of a destroyed Russian research center to stop the hijacking of a nuclear space weapon by a fellow agent formerly believed to be dead.\n",
            "=================\n"
          ]
        },
        {
          "output_type": "stream",
          "name": "stderr",
          "text": [
            "WARNING:neo4j.notifications:Received notification from DBMS server: {severity: WARNING} {code: Neo.ClientNotification.Statement.FeatureDeprecationWarning} {category: DEPRECATION} {title: This feature is deprecated and will be removed in future versions.} {description: The query used a deprecated function. ('id' has been replaced by 'elementId or consider using an application-generated id')} {position: line: 1, column: 23, offset: 22} for query: 'MATCH (m:Movie) WHERE ID(m) = $id SET m.plotEmbedding = $embedding'\n",
            "WARNING:neo4j.notifications:Received notification from DBMS server: {severity: WARNING} {code: Neo.ClientNotification.Statement.FeatureDeprecationWarning} {category: DEPRECATION} {title: This feature is deprecated and will be removed in future versions.} {description: The query used a deprecated function. ('id' has been replaced by 'elementId or consider using an application-generated id')} {position: line: 1, column: 23, offset: 22} for query: 'MATCH (m:Movie) WHERE ID(m) = $id SET m.plotEmbedding = $embedding'\n"
          ]
        },
        {
          "output_type": "stream",
          "name": "stdout",
          "text": [
            "Updated movie 'GoldenEye' with embedding.\n",
            "11\n",
            "Comedy-drama about a widowed U.S. president and a lobbyist who fall in love. It's all above-board, but politics is perception and sparks fly anyway.\n",
            "=================\n",
            "Updated movie 'American President, The' with embedding.\n",
            "12\n",
            "Mel Brooks' parody of the classic vampire story and its famous film adaptations.\n",
            "=================\n"
          ]
        },
        {
          "output_type": "stream",
          "name": "stderr",
          "text": [
            "WARNING:neo4j.notifications:Received notification from DBMS server: {severity: WARNING} {code: Neo.ClientNotification.Statement.FeatureDeprecationWarning} {category: DEPRECATION} {title: This feature is deprecated and will be removed in future versions.} {description: The query used a deprecated function. ('id' has been replaced by 'elementId or consider using an application-generated id')} {position: line: 1, column: 23, offset: 22} for query: 'MATCH (m:Movie) WHERE ID(m) = $id SET m.plotEmbedding = $embedding'\n",
            "WARNING:neo4j.notifications:Received notification from DBMS server: {severity: WARNING} {code: Neo.ClientNotification.Statement.FeatureDeprecationWarning} {category: DEPRECATION} {title: This feature is deprecated and will be removed in future versions.} {description: The query used a deprecated function. ('id' has been replaced by 'elementId or consider using an application-generated id')} {position: line: 1, column: 23, offset: 22} for query: 'MATCH (m:Movie) WHERE ID(m) = $id SET m.plotEmbedding = $embedding'\n"
          ]
        },
        {
          "output_type": "stream",
          "name": "stdout",
          "text": [
            "Updated movie 'Dracula: Dead and Loving It' with embedding.\n",
            "13\n",
            "An outcast half-wolf risks his life to prevent a deadly epidemic from ravaging Nome, Alaska.\n",
            "=================\n",
            "Updated movie 'Balto' with embedding.\n",
            "14\n",
            "A biographical story of former U.S. president Richard Milhous Nixon, from his days as a young boy to his eventual presidency which ended in shame.\n",
            "=================\n"
          ]
        },
        {
          "output_type": "stream",
          "name": "stderr",
          "text": [
            "WARNING:neo4j.notifications:Received notification from DBMS server: {severity: WARNING} {code: Neo.ClientNotification.Statement.FeatureDeprecationWarning} {category: DEPRECATION} {title: This feature is deprecated and will be removed in future versions.} {description: The query used a deprecated function. ('id' has been replaced by 'elementId or consider using an application-generated id')} {position: line: 1, column: 23, offset: 22} for query: 'MATCH (m:Movie) WHERE ID(m) = $id SET m.plotEmbedding = $embedding'\n",
            "WARNING:neo4j.notifications:Received notification from DBMS server: {severity: WARNING} {code: Neo.ClientNotification.Statement.FeatureDeprecationWarning} {category: DEPRECATION} {title: This feature is deprecated and will be removed in future versions.} {description: The query used a deprecated function. ('id' has been replaced by 'elementId or consider using an application-generated id')} {position: line: 1, column: 23, offset: 22} for query: 'MATCH (m:Movie) WHERE ID(m) = $id SET m.plotEmbedding = $embedding'\n"
          ]
        },
        {
          "output_type": "stream",
          "name": "stdout",
          "text": [
            "Updated movie 'Nixon' with embedding.\n",
            "15\n",
            "A female pirate and her companion race against their rivals to find a hidden island that contains a fabulous treasure.\n",
            "=================\n",
            "Updated movie 'Cutthroat Island' with embedding.\n",
            "16\n",
            "Greed, deception, money, power, and murder occur between two mobster best friends and a trophy wife over a gambling empire.\n",
            "=================\n"
          ]
        },
        {
          "output_type": "stream",
          "name": "stderr",
          "text": [
            "WARNING:neo4j.notifications:Received notification from DBMS server: {severity: WARNING} {code: Neo.ClientNotification.Statement.FeatureDeprecationWarning} {category: DEPRECATION} {title: This feature is deprecated and will be removed in future versions.} {description: The query used a deprecated function. ('id' has been replaced by 'elementId or consider using an application-generated id')} {position: line: 1, column: 23, offset: 22} for query: 'MATCH (m:Movie) WHERE ID(m) = $id SET m.plotEmbedding = $embedding'\n",
            "WARNING:neo4j.notifications:Received notification from DBMS server: {severity: WARNING} {code: Neo.ClientNotification.Statement.FeatureDeprecationWarning} {category: DEPRECATION} {title: This feature is deprecated and will be removed in future versions.} {description: The query used a deprecated function. ('id' has been replaced by 'elementId or consider using an application-generated id')} {position: line: 1, column: 23, offset: 22} for query: 'MATCH (m:Movie) WHERE ID(m) = $id SET m.plotEmbedding = $embedding'\n"
          ]
        },
        {
          "output_type": "stream",
          "name": "stdout",
          "text": [
            "Updated movie 'Casino' with embedding.\n",
            "17\n",
            "Rich Mr. Dashwood dies, leaving his second wife and her three daughters poor by the rules of inheritance. The two eldest daughters are the titular opposites.\n",
            "=================\n"
          ]
        },
        {
          "output_type": "stream",
          "name": "stderr",
          "text": [
            "WARNING:neo4j.notifications:Received notification from DBMS server: {severity: WARNING} {code: Neo.ClientNotification.Statement.FeatureDeprecationWarning} {category: DEPRECATION} {title: This feature is deprecated and will be removed in future versions.} {description: The query used a deprecated function. ('id' has been replaced by 'elementId or consider using an application-generated id')} {position: line: 1, column: 23, offset: 22} for query: 'MATCH (m:Movie) WHERE ID(m) = $id SET m.plotEmbedding = $embedding'\n"
          ]
        },
        {
          "output_type": "stream",
          "name": "stdout",
          "text": [
            "Updated movie 'Sense and Sensibility' with embedding.\n",
            "18\n",
            "Four interlocking tales that take place in a fading hotel on New Year's Eve.\n",
            "=================\n",
            "Updated movie 'Four Rooms' with embedding.\n",
            "19\n",
            "Ace Ventura, Pet Detective, returns from a spiritual quest to investigate the disappearance of a rare white bat, the sacred animal of a tribe in Africa.\n",
            "=================\n"
          ]
        },
        {
          "output_type": "stream",
          "name": "stderr",
          "text": [
            "WARNING:neo4j.notifications:Received notification from DBMS server: {severity: WARNING} {code: Neo.ClientNotification.Statement.FeatureDeprecationWarning} {category: DEPRECATION} {title: This feature is deprecated and will be removed in future versions.} {description: The query used a deprecated function. ('id' has been replaced by 'elementId or consider using an application-generated id')} {position: line: 1, column: 23, offset: 22} for query: 'MATCH (m:Movie) WHERE ID(m) = $id SET m.plotEmbedding = $embedding'\n",
            "WARNING:neo4j.notifications:Received notification from DBMS server: {severity: WARNING} {code: Neo.ClientNotification.Statement.FeatureDeprecationWarning} {category: DEPRECATION} {title: This feature is deprecated and will be removed in future versions.} {description: The query used a deprecated function. ('id' has been replaced by 'elementId or consider using an application-generated id')} {position: line: 1, column: 23, offset: 22} for query: 'MATCH (m:Movie) WHERE ID(m) = $id SET m.plotEmbedding = $embedding'\n"
          ]
        },
        {
          "output_type": "stream",
          "name": "stdout",
          "text": [
            "Updated movie 'Ace Ventura: When Nature Calls' with embedding.\n",
            "20\n",
            "A vengeful New York transit cop decides to steal a trainload of subway fares; his foster brother, a fellow cop, tries to protect him.\n",
            "=================\n",
            "Updated movie 'Money Train' with embedding.\n",
            "21\n",
            "A mobster travels to Hollywood to collect a debt and discovers that the movie business is much the same as his current job.\n",
            "=================\n"
          ]
        },
        {
          "output_type": "stream",
          "name": "stderr",
          "text": [
            "WARNING:neo4j.notifications:Received notification from DBMS server: {severity: WARNING} {code: Neo.ClientNotification.Statement.FeatureDeprecationWarning} {category: DEPRECATION} {title: This feature is deprecated and will be removed in future versions.} {description: The query used a deprecated function. ('id' has been replaced by 'elementId or consider using an application-generated id')} {position: line: 1, column: 23, offset: 22} for query: 'MATCH (m:Movie) WHERE ID(m) = $id SET m.plotEmbedding = $embedding'\n",
            "WARNING:neo4j.notifications:Received notification from DBMS server: {severity: WARNING} {code: Neo.ClientNotification.Statement.FeatureDeprecationWarning} {category: DEPRECATION} {title: This feature is deprecated and will be removed in future versions.} {description: The query used a deprecated function. ('id' has been replaced by 'elementId or consider using an application-generated id')} {position: line: 1, column: 23, offset: 22} for query: 'MATCH (m:Movie) WHERE ID(m) = $id SET m.plotEmbedding = $embedding'\n"
          ]
        },
        {
          "output_type": "stream",
          "name": "stdout",
          "text": [
            "Updated movie 'Get Shorty' with embedding.\n",
            "22\n",
            "An agoraphobic psychologist and a female detective must work together to take down a serial killer who copies serial killers from the past.\n",
            "=================\n",
            "Updated movie 'Copycat' with embedding.\n",
            "23\n",
            "Professional hit-man Robert Rath wants to fulfill a few more contracts before retiring but unscrupulous ambitious newcomer hit-man Miguel Bain keeps killing Rath's targets.\n",
            "=================\n"
          ]
        },
        {
          "output_type": "stream",
          "name": "stderr",
          "text": [
            "WARNING:neo4j.notifications:Received notification from DBMS server: {severity: WARNING} {code: Neo.ClientNotification.Statement.FeatureDeprecationWarning} {category: DEPRECATION} {title: This feature is deprecated and will be removed in future versions.} {description: The query used a deprecated function. ('id' has been replaced by 'elementId or consider using an application-generated id')} {position: line: 1, column: 23, offset: 22} for query: 'MATCH (m:Movie) WHERE ID(m) = $id SET m.plotEmbedding = $embedding'\n",
            "WARNING:neo4j.notifications:Received notification from DBMS server: {severity: WARNING} {code: Neo.ClientNotification.Statement.FeatureDeprecationWarning} {category: DEPRECATION} {title: This feature is deprecated and will be removed in future versions.} {description: The query used a deprecated function. ('id' has been replaced by 'elementId or consider using an application-generated id')} {position: line: 1, column: 23, offset: 22} for query: 'MATCH (m:Movie) WHERE ID(m) = $id SET m.plotEmbedding = $embedding'\n"
          ]
        },
        {
          "output_type": "stream",
          "name": "stdout",
          "text": [
            "Updated movie 'Assassins' with embedding.\n",
            "24\n",
            "A young bald albino boy with unique powers shakes up the rural community he lives in.\n",
            "=================\n",
            "Updated movie 'Powder' with embedding.\n",
            "25\n",
            "Ben Sanderson, an alcoholic Hollywood screenwriter who lost everything because of his drinking, arrives in Las Vegas to drink himself to death. There, he meets and forms an uneasy friendship and non-interference pact with prostitute Sera.\n",
            "=================\n"
          ]
        },
        {
          "output_type": "stream",
          "name": "stderr",
          "text": [
            "WARNING:neo4j.notifications:Received notification from DBMS server: {severity: WARNING} {code: Neo.ClientNotification.Statement.FeatureDeprecationWarning} {category: DEPRECATION} {title: This feature is deprecated and will be removed in future versions.} {description: The query used a deprecated function. ('id' has been replaced by 'elementId or consider using an application-generated id')} {position: line: 1, column: 23, offset: 22} for query: 'MATCH (m:Movie) WHERE ID(m) = $id SET m.plotEmbedding = $embedding'\n",
            "WARNING:neo4j.notifications:Received notification from DBMS server: {severity: WARNING} {code: Neo.ClientNotification.Statement.FeatureDeprecationWarning} {category: DEPRECATION} {title: This feature is deprecated and will be removed in future versions.} {description: The query used a deprecated function. ('id' has been replaced by 'elementId or consider using an application-generated id')} {position: line: 1, column: 23, offset: 22} for query: 'MATCH (m:Movie) WHERE ID(m) = $id SET m.plotEmbedding = $embedding'\n"
          ]
        },
        {
          "output_type": "stream",
          "name": "stdout",
          "text": [
            "Updated movie 'Leaving Las Vegas' with embedding.\n",
            "26\n",
            "The evil Iago pretends to be friend of Othello in order to manipulate him to serve his own end in the film version of this Shakespeare classic.\n",
            "=================\n",
            "Updated movie 'Othello' with embedding.\n",
            "27\n",
            "Four 12-year-old girls grow up together during an eventful small-town summer in 1970.\n",
            "=================\n"
          ]
        },
        {
          "output_type": "stream",
          "name": "stderr",
          "text": [
            "WARNING:neo4j.notifications:Received notification from DBMS server: {severity: WARNING} {code: Neo.ClientNotification.Statement.FeatureDeprecationWarning} {category: DEPRECATION} {title: This feature is deprecated and will be removed in future versions.} {description: The query used a deprecated function. ('id' has been replaced by 'elementId or consider using an application-generated id')} {position: line: 1, column: 23, offset: 22} for query: 'MATCH (m:Movie) WHERE ID(m) = $id SET m.plotEmbedding = $embedding'\n",
            "WARNING:neo4j.notifications:Received notification from DBMS server: {severity: WARNING} {code: Neo.ClientNotification.Statement.FeatureDeprecationWarning} {category: DEPRECATION} {title: This feature is deprecated and will be removed in future versions.} {description: The query used a deprecated function. ('id' has been replaced by 'elementId or consider using an application-generated id')} {position: line: 1, column: 23, offset: 22} for query: 'MATCH (m:Movie) WHERE ID(m) = $id SET m.plotEmbedding = $embedding'\n"
          ]
        },
        {
          "output_type": "stream",
          "name": "stdout",
          "text": [
            "Updated movie 'Now and Then' with embedding.\n",
            "28\n",
            "Eight years earlier, Anne Elliot, the daughter of a financially troubled aristocratic family, was persuaded to break off her engagement to Frederick Wentworth, a young seaman, who, though ...\n",
            "=================\n",
            "Updated movie 'Persuasion' with embedding.\n",
            "29\n",
            "A scientist in a surrealist society kidnaps children to steal their dreams, hoping that they slow his aging process.\n",
            "=================\n"
          ]
        },
        {
          "output_type": "stream",
          "name": "stderr",
          "text": [
            "WARNING:neo4j.notifications:Received notification from DBMS server: {severity: WARNING} {code: Neo.ClientNotification.Statement.FeatureDeprecationWarning} {category: DEPRECATION} {title: This feature is deprecated and will be removed in future versions.} {description: The query used a deprecated function. ('id' has been replaced by 'elementId or consider using an application-generated id')} {position: line: 1, column: 23, offset: 22} for query: 'MATCH (m:Movie) WHERE ID(m) = $id SET m.plotEmbedding = $embedding'\n"
          ]
        },
        {
          "output_type": "stream",
          "name": "stdout",
          "text": [
            "Updated movie 'City of Lost Children, The (Cité des enfants perdus, La)' with embedding.\n",
            "30\n",
            "A provincial boy related to a Shanghai crime family is recruited by his uncle into cosmopolitan Shanghai in the 1930s to be a servant to a ganglord's mistress.\n",
            "=================\n"
          ]
        },
        {
          "output_type": "stream",
          "name": "stderr",
          "text": [
            "WARNING:neo4j.notifications:Received notification from DBMS server: {severity: WARNING} {code: Neo.ClientNotification.Statement.FeatureDeprecationWarning} {category: DEPRECATION} {title: This feature is deprecated and will be removed in future versions.} {description: The query used a deprecated function. ('id' has been replaced by 'elementId or consider using an application-generated id')} {position: line: 1, column: 23, offset: 22} for query: 'MATCH (m:Movie) WHERE ID(m) = $id SET m.plotEmbedding = $embedding'\n",
            "WARNING:neo4j.notifications:Received notification from DBMS server: {severity: WARNING} {code: Neo.ClientNotification.Statement.FeatureDeprecationWarning} {category: DEPRECATION} {title: This feature is deprecated and will be removed in future versions.} {description: The query used a deprecated function. ('id' has been replaced by 'elementId or consider using an application-generated id')} {position: line: 1, column: 23, offset: 22} for query: 'MATCH (m:Movie) WHERE ID(m) = $id SET m.plotEmbedding = $embedding'\n"
          ]
        },
        {
          "output_type": "stream",
          "name": "stdout",
          "text": [
            "Updated movie 'Shanghai Triad (Yao a yao yao dao waipo qiao)' with embedding.\n",
            "31\n",
            "An ex-Marine turned teacher struggles to connect with her students in an inner city school.\n",
            "=================\n",
            "Updated movie 'Dangerous Minds' with embedding.\n",
            "32\n",
            "In a future world devastated by disease, a convict is sent back in time to gather information about the man-made virus that wiped out most of the human population on the planet.\n",
            "=================\n"
          ]
        },
        {
          "output_type": "stream",
          "name": "stderr",
          "text": [
            "WARNING:neo4j.notifications:Received notification from DBMS server: {severity: WARNING} {code: Neo.ClientNotification.Statement.FeatureDeprecationWarning} {category: DEPRECATION} {title: This feature is deprecated and will be removed in future versions.} {description: The query used a deprecated function. ('id' has been replaced by 'elementId or consider using an application-generated id')} {position: line: 1, column: 23, offset: 22} for query: 'MATCH (m:Movie) WHERE ID(m) = $id SET m.plotEmbedding = $embedding'\n",
            "WARNING:neo4j.notifications:Received notification from DBMS server: {severity: WARNING} {code: Neo.ClientNotification.Statement.FeatureDeprecationWarning} {category: DEPRECATION} {title: This feature is deprecated and will be removed in future versions.} {description: The query used a deprecated function. ('id' has been replaced by 'elementId or consider using an application-generated id')} {position: line: 1, column: 23, offset: 22} for query: 'MATCH (m:Movie) WHERE ID(m) = $id SET m.plotEmbedding = $embedding'\n"
          ]
        },
        {
          "output_type": "stream",
          "name": "stdout",
          "text": [
            "Updated movie 'Twelve Monkeys (a.k.a. 12 Monkeys)' with embedding.\n",
            "33\n",
            "Babe, a pig raised by sheepdogs, learns to herd sheep with a little help from Farmer Hoggett.\n",
            "=================\n",
            "Updated movie 'Babe' with embedding.\n",
            "34\n",
            "The platonic relationship between artist Dora Carrington and writer Lytton Strachey in the early 20th century.\n",
            "=================\n"
          ]
        },
        {
          "output_type": "stream",
          "name": "stderr",
          "text": [
            "WARNING:neo4j.notifications:Received notification from DBMS server: {severity: WARNING} {code: Neo.ClientNotification.Statement.FeatureDeprecationWarning} {category: DEPRECATION} {title: This feature is deprecated and will be removed in future versions.} {description: The query used a deprecated function. ('id' has been replaced by 'elementId or consider using an application-generated id')} {position: line: 1, column: 23, offset: 22} for query: 'MATCH (m:Movie) WHERE ID(m) = $id SET m.plotEmbedding = $embedding'\n",
            "WARNING:neo4j.notifications:Received notification from DBMS server: {severity: WARNING} {code: Neo.ClientNotification.Statement.FeatureDeprecationWarning} {category: DEPRECATION} {title: This feature is deprecated and will be removed in future versions.} {description: The query used a deprecated function. ('id' has been replaced by 'elementId or consider using an application-generated id')} {position: line: 1, column: 23, offset: 22} for query: 'MATCH (m:Movie) WHERE ID(m) = $id SET m.plotEmbedding = $embedding'\n"
          ]
        },
        {
          "output_type": "stream",
          "name": "stdout",
          "text": [
            "Updated movie 'Carrington' with embedding.\n",
            "35\n",
            "A nun, while comforting a convicted killer on death row, empathizes with both the killer and his victim's families.\n",
            "=================\n",
            "Updated movie 'Dead Man Walking' with embedding.\n",
            "36\n",
            "A young Russian boy, Thomas Minton, travels to New York as a passenger on a Russian freighter. Close to Ellis Island he gets off and thus starts his journey to America the same way as all ...\n",
            "=================\n"
          ]
        },
        {
          "output_type": "stream",
          "name": "stderr",
          "text": [
            "WARNING:neo4j.notifications:Received notification from DBMS server: {severity: WARNING} {code: Neo.ClientNotification.Statement.FeatureDeprecationWarning} {category: DEPRECATION} {title: This feature is deprecated and will be removed in future versions.} {description: The query used a deprecated function. ('id' has been replaced by 'elementId or consider using an application-generated id')} {position: line: 1, column: 23, offset: 22} for query: 'MATCH (m:Movie) WHERE ID(m) = $id SET m.plotEmbedding = $embedding'\n",
            "WARNING:neo4j.notifications:Received notification from DBMS server: {severity: WARNING} {code: Neo.ClientNotification.Statement.FeatureDeprecationWarning} {category: DEPRECATION} {title: This feature is deprecated and will be removed in future versions.} {description: The query used a deprecated function. ('id' has been replaced by 'elementId or consider using an application-generated id')} {position: line: 1, column: 23, offset: 22} for query: 'MATCH (m:Movie) WHERE ID(m) = $id SET m.plotEmbedding = $embedding'\n"
          ]
        },
        {
          "output_type": "stream",
          "name": "stdout",
          "text": [
            "Updated movie 'Across the Sea of Time' with embedding.\n",
            "37\n",
            "Alyssa (a rich girl) and Amanda (an orphan) are two little girls who are identical, but complete strangers, that accidentally meet one day. In an attempt to stop Alyssa's father from ...\n",
            "=================\n",
            "Updated movie 'It Takes Two' with embedding.\n",
            "38\n",
            "A rich high school student tries to boost a new pupil's popularity, but reckons without affairs of the heart getting in the way.\n",
            "=================\n"
          ]
        },
        {
          "output_type": "stream",
          "name": "stderr",
          "text": [
            "WARNING:neo4j.notifications:Received notification from DBMS server: {severity: WARNING} {code: Neo.ClientNotification.Statement.FeatureDeprecationWarning} {category: DEPRECATION} {title: This feature is deprecated and will be removed in future versions.} {description: The query used a deprecated function. ('id' has been replaced by 'elementId or consider using an application-generated id')} {position: line: 1, column: 23, offset: 22} for query: 'MATCH (m:Movie) WHERE ID(m) = $id SET m.plotEmbedding = $embedding'\n",
            "WARNING:neo4j.notifications:Received notification from DBMS server: {severity: WARNING} {code: Neo.ClientNotification.Statement.FeatureDeprecationWarning} {category: DEPRECATION} {title: This feature is deprecated and will be removed in future versions.} {description: The query used a deprecated function. ('id' has been replaced by 'elementId or consider using an application-generated id')} {position: line: 1, column: 23, offset: 22} for query: 'MATCH (m:Movie) WHERE ID(m) = $id SET m.plotEmbedding = $embedding'\n"
          ]
        },
        {
          "output_type": "stream",
          "name": "stdout",
          "text": [
            "Updated movie 'Clueless' with embedding.\n",
            "39\n",
            "A South-African preacher goes to search for his wayward son who has committed a crime in the big city.\n",
            "=================\n"
          ]
        },
        {
          "output_type": "stream",
          "name": "stderr",
          "text": [
            "WARNING:neo4j.notifications:Received notification from DBMS server: {severity: WARNING} {code: Neo.ClientNotification.Statement.FeatureDeprecationWarning} {category: DEPRECATION} {title: This feature is deprecated and will be removed in future versions.} {description: The query used a deprecated function. ('id' has been replaced by 'elementId or consider using an application-generated id')} {position: line: 1, column: 23, offset: 22} for query: 'MATCH (m:Movie) WHERE ID(m) = $id SET m.plotEmbedding = $embedding'\n"
          ]
        },
        {
          "output_type": "stream",
          "name": "stdout",
          "text": [
            "Updated movie 'Cry, the Beloved Country' with embedding.\n",
            "40\n",
            "The classic Shakespearean play about a murderously scheming king staged in an alternative fascist England setting.\n",
            "=================\n",
            "Updated movie 'Richard III' with embedding.\n",
            "41\n",
            "A Vietnam vet adjusts to life after the war while trying to support his family, but the chance of a better life may involve crime and bloodshed.\n",
            "=================\n"
          ]
        },
        {
          "output_type": "stream",
          "name": "stderr",
          "text": [
            "WARNING:neo4j.notifications:Received notification from DBMS server: {severity: WARNING} {code: Neo.ClientNotification.Statement.FeatureDeprecationWarning} {category: DEPRECATION} {title: This feature is deprecated and will be removed in future versions.} {description: The query used a deprecated function. ('id' has been replaced by 'elementId or consider using an application-generated id')} {position: line: 1, column: 23, offset: 22} for query: 'MATCH (m:Movie) WHERE ID(m) = $id SET m.plotEmbedding = $embedding'\n",
            "WARNING:neo4j.notifications:Received notification from DBMS server: {severity: WARNING} {code: Neo.ClientNotification.Statement.FeatureDeprecationWarning} {category: DEPRECATION} {title: This feature is deprecated and will be removed in future versions.} {description: The query used a deprecated function. ('id' has been replaced by 'elementId or consider using an application-generated id')} {position: line: 1, column: 23, offset: 22} for query: 'MATCH (m:Movie) WHERE ID(m) = $id SET m.plotEmbedding = $embedding'\n"
          ]
        },
        {
          "output_type": "stream",
          "name": "stdout",
          "text": [
            "Updated movie 'Dead Presidents' with embedding.\n",
            "42\n",
            "The exiled royal physician to King Charles II devotes himself to helping Londoners suffering from the plague, and in the process falls in love with an equally poor woman.\n",
            "=================\n",
            "Updated movie 'Restoration' with embedding.\n",
            "43\n",
            "Three unknowing martial artists are summoned to a mysterious island to compete in a tournament whose outcome will decide the fate of the world.\n",
            "=================\n"
          ]
        },
        {
          "output_type": "stream",
          "name": "stderr",
          "text": [
            "WARNING:neo4j.notifications:Received notification from DBMS server: {severity: WARNING} {code: Neo.ClientNotification.Statement.FeatureDeprecationWarning} {category: DEPRECATION} {title: This feature is deprecated and will be removed in future versions.} {description: The query used a deprecated function. ('id' has been replaced by 'elementId or consider using an application-generated id')} {position: line: 1, column: 23, offset: 22} for query: 'MATCH (m:Movie) WHERE ID(m) = $id SET m.plotEmbedding = $embedding'\n",
            "WARNING:neo4j.notifications:Received notification from DBMS server: {severity: WARNING} {code: Neo.ClientNotification.Statement.FeatureDeprecationWarning} {category: DEPRECATION} {title: This feature is deprecated and will be removed in future versions.} {description: The query used a deprecated function. ('id' has been replaced by 'elementId or consider using an application-generated id')} {position: line: 1, column: 23, offset: 22} for query: 'MATCH (m:Movie) WHERE ID(m) = $id SET m.plotEmbedding = $embedding'\n"
          ]
        },
        {
          "output_type": "stream",
          "name": "stdout",
          "text": [
            "Updated movie 'Mortal Kombat' with embedding.\n",
            "44\n",
            "Suzanne Stone is an aspiring TV personality who will do anything to be in the spotlight, including enlisting three teenagers to kill her husband.\n",
            "=================\n",
            "Updated movie 'To Die For' with embedding.\n",
            "45\n",
            "Bride-to-be Finn Dodd hears tales of romance and sorrow from her elders as they construct a quilt.\n",
            "=================\n"
          ]
        },
        {
          "output_type": "stream",
          "name": "stderr",
          "text": [
            "WARNING:neo4j.notifications:Received notification from DBMS server: {severity: WARNING} {code: Neo.ClientNotification.Statement.FeatureDeprecationWarning} {category: DEPRECATION} {title: This feature is deprecated and will be removed in future versions.} {description: The query used a deprecated function. ('id' has been replaced by 'elementId or consider using an application-generated id')} {position: line: 1, column: 23, offset: 22} for query: 'MATCH (m:Movie) WHERE ID(m) = $id SET m.plotEmbedding = $embedding'\n",
            "WARNING:neo4j.notifications:Received notification from DBMS server: {severity: WARNING} {code: Neo.ClientNotification.Statement.FeatureDeprecationWarning} {category: DEPRECATION} {title: This feature is deprecated and will be removed in future versions.} {description: The query used a deprecated function. ('id' has been replaced by 'elementId or consider using an application-generated id')} {position: line: 1, column: 23, offset: 22} for query: 'MATCH (m:Movie) WHERE ID(m) = $id SET m.plotEmbedding = $embedding'\n"
          ]
        },
        {
          "output_type": "stream",
          "name": "stdout",
          "text": [
            "Updated movie 'How to Make an American Quilt' with embedding.\n",
            "46\n",
            "Two detectives, a rookie and a veteran, hunt a serial killer who uses the seven deadly sins as his modus operandi.\n",
            "=================\n",
            "Updated movie 'Seven (a.k.a. Se7en)' with embedding.\n",
            "47\n",
            "An English soldier and the daughter of an Algonquin chief share a romance when English colonists invade seventeenth-century Virginia.\n",
            "=================\n"
          ]
        },
        {
          "output_type": "stream",
          "name": "stderr",
          "text": [
            "WARNING:neo4j.notifications:Received notification from DBMS server: {severity: WARNING} {code: Neo.ClientNotification.Statement.FeatureDeprecationWarning} {category: DEPRECATION} {title: This feature is deprecated and will be removed in future versions.} {description: The query used a deprecated function. ('id' has been replaced by 'elementId or consider using an application-generated id')} {position: line: 1, column: 23, offset: 22} for query: 'MATCH (m:Movie) WHERE ID(m) = $id SET m.plotEmbedding = $embedding'\n",
            "WARNING:neo4j.notifications:Received notification from DBMS server: {severity: WARNING} {code: Neo.ClientNotification.Statement.FeatureDeprecationWarning} {category: DEPRECATION} {title: This feature is deprecated and will be removed in future versions.} {description: The query used a deprecated function. ('id' has been replaced by 'elementId or consider using an application-generated id')} {position: line: 1, column: 23, offset: 22} for query: 'MATCH (m:Movie) WHERE ID(m) = $id SET m.plotEmbedding = $embedding'\n"
          ]
        },
        {
          "output_type": "stream",
          "name": "stdout",
          "text": [
            "Updated movie 'Pocahontas' with embedding.\n",
            "48\n",
            "An uptight and conservative woman, working on tenure as a literacy professor at a large urban university, finds herself strangely attracted to a free-spirited, liberal woman who works at a local carnival that comes to town.\n",
            "=================\n",
            "Updated movie 'When Night Is Falling' with embedding.\n",
            "49\n",
            "A sole survivor tells of the twisty events leading up to a horrific gun battle on a boat, which begin when five criminals meet at a seemingly random police lineup.\n",
            "=================\n"
          ]
        },
        {
          "output_type": "stream",
          "name": "stderr",
          "text": [
            "WARNING:neo4j.notifications:Received notification from DBMS server: {severity: WARNING} {code: Neo.ClientNotification.Statement.FeatureDeprecationWarning} {category: DEPRECATION} {title: This feature is deprecated and will be removed in future versions.} {description: The query used a deprecated function. ('id' has been replaced by 'elementId or consider using an application-generated id')} {position: line: 1, column: 23, offset: 22} for query: 'MATCH (m:Movie) WHERE ID(m) = $id SET m.plotEmbedding = $embedding'\n",
            "WARNING:neo4j.notifications:Received notification from DBMS server: {severity: WARNING} {code: Neo.ClientNotification.Statement.FeatureDeprecationWarning} {category: DEPRECATION} {title: This feature is deprecated and will be removed in future versions.} {description: The query used a deprecated function. ('id' has been replaced by 'elementId or consider using an application-generated id')} {position: line: 1, column: 23, offset: 22} for query: 'MATCH (m:Movie) WHERE ID(m) = $id SET m.plotEmbedding = $embedding'\n"
          ]
        },
        {
          "output_type": "stream",
          "name": "stdout",
          "text": [
            "Updated movie 'Usual Suspects, The' with embedding.\n",
            "50\n",
            "When he discovers his adopted son is a genius, a New York sportswriter seeks out the boy's birth mother: a prostitute.\n",
            "=================\n",
            "Updated movie 'Mighty Aphrodite' with embedding.\n",
            "51\n",
            "Two Italian racketeers come to Albania just after the fall of the communists to set up a fictive firm and pocket the grants. They need a stooge. They choose an old one in a jail : Spiro. ...\n",
            "=================\n"
          ]
        },
        {
          "output_type": "stream",
          "name": "stderr",
          "text": [
            "WARNING:neo4j.notifications:Received notification from DBMS server: {severity: WARNING} {code: Neo.ClientNotification.Statement.FeatureDeprecationWarning} {category: DEPRECATION} {title: This feature is deprecated and will be removed in future versions.} {description: The query used a deprecated function. ('id' has been replaced by 'elementId or consider using an application-generated id')} {position: line: 1, column: 23, offset: 22} for query: 'MATCH (m:Movie) WHERE ID(m) = $id SET m.plotEmbedding = $embedding'\n",
            "WARNING:neo4j.notifications:Received notification from DBMS server: {severity: WARNING} {code: Neo.ClientNotification.Statement.FeatureDeprecationWarning} {category: DEPRECATION} {title: This feature is deprecated and will be removed in future versions.} {description: The query used a deprecated function. ('id' has been replaced by 'elementId or consider using an application-generated id')} {position: line: 1, column: 23, offset: 22} for query: 'MATCH (m:Movie) WHERE ID(m) = $id SET m.plotEmbedding = $embedding'\n"
          ]
        },
        {
          "output_type": "stream",
          "name": "stdout",
          "text": [
            "Updated movie 'Lamerica' with embedding.\n",
            "52\n",
            "Another Disney underdog sports team of misfit kids (soccer this time) learns to play a new sport and become champions, while building self-esteem, making friends and solving a variety of ...\n",
            "=================\n",
            "Updated movie 'Big Green, The' with embedding.\n",
            "53\n",
            "Sadie is desperately looking up to her older sister Georgia who is a famous C&W artist. Sadie wants to be a famous artist like her sister, but is always doing everything wrong. Her ...\n",
            "=================\n"
          ]
        },
        {
          "output_type": "stream",
          "name": "stderr",
          "text": [
            "WARNING:neo4j.notifications:Received notification from DBMS server: {severity: WARNING} {code: Neo.ClientNotification.Statement.FeatureDeprecationWarning} {category: DEPRECATION} {title: This feature is deprecated and will be removed in future versions.} {description: The query used a deprecated function. ('id' has been replaced by 'elementId or consider using an application-generated id')} {position: line: 1, column: 23, offset: 22} for query: 'MATCH (m:Movie) WHERE ID(m) = $id SET m.plotEmbedding = $embedding'\n",
            "WARNING:neo4j.notifications:Received notification from DBMS server: {severity: WARNING} {code: Neo.ClientNotification.Statement.FeatureDeprecationWarning} {category: DEPRECATION} {title: This feature is deprecated and will be removed in future versions.} {description: The query used a deprecated function. ('id' has been replaced by 'elementId or consider using an application-generated id')} {position: line: 1, column: 23, offset: 22} for query: 'MATCH (m:Movie) WHERE ID(m) = $id SET m.plotEmbedding = $embedding'\n"
          ]
        },
        {
          "output_type": "stream",
          "name": "stdout",
          "text": [
            "Updated movie 'Georgia' with embedding.\n",
            "54\n",
            "After losing her job, making out with her soon-to-be former boss and finding out that her daughter plans to spend Thanksgiving with her boyfriend, Claudia Larson faces spending the holiday with her family.\n",
            "=================\n",
            "Updated movie 'Home for the Holidays' with embedding.\n",
            "55\n",
            "Simple Italian postman learns to love poetry while delivering mail to a famous poet; he uses this to woo local beauty Beatrice.\n",
            "=================\n"
          ]
        },
        {
          "output_type": "stream",
          "name": "stderr",
          "text": [
            "WARNING:neo4j.notifications:Received notification from DBMS server: {severity: WARNING} {code: Neo.ClientNotification.Statement.FeatureDeprecationWarning} {category: DEPRECATION} {title: This feature is deprecated and will be removed in future versions.} {description: The query used a deprecated function. ('id' has been replaced by 'elementId or consider using an application-generated id')} {position: line: 1, column: 23, offset: 22} for query: 'MATCH (m:Movie) WHERE ID(m) = $id SET m.plotEmbedding = $embedding'\n",
            "WARNING:neo4j.notifications:Received notification from DBMS server: {severity: WARNING} {code: Neo.ClientNotification.Statement.FeatureDeprecationWarning} {category: DEPRECATION} {title: This feature is deprecated and will be removed in future versions.} {description: The query used a deprecated function. ('id' has been replaced by 'elementId or consider using an application-generated id')} {position: line: 1, column: 23, offset: 22} for query: 'MATCH (m:Movie) WHERE ID(m) = $id SET m.plotEmbedding = $embedding'\n"
          ]
        },
        {
          "output_type": "stream",
          "name": "stdout",
          "text": [
            "Updated movie 'Postman, The (Postino, Il)' with embedding.\n",
            "56\n",
            "The year is 1952, in Quebec City. Rachel, 16, unmarried, and pregnant, works in the church. Filled with shame, she unburdens her guilt to a young priest, under the confidentiality of the ...\n",
            "=================\n",
            "Updated movie 'Confessional, The (Confessionnal, Le)' with embedding.\n",
            "57\n",
            "On his ninth birthday a boy receives many presents. Two of them first seem to be less important: an old cupboard from his brother and a little Indian figure made of plastic from his best ...\n",
            "=================\n"
          ]
        },
        {
          "output_type": "stream",
          "name": "stderr",
          "text": [
            "WARNING:neo4j.notifications:Received notification from DBMS server: {severity: WARNING} {code: Neo.ClientNotification.Statement.FeatureDeprecationWarning} {category: DEPRECATION} {title: This feature is deprecated and will be removed in future versions.} {description: The query used a deprecated function. ('id' has been replaced by 'elementId or consider using an application-generated id')} {position: line: 1, column: 23, offset: 22} for query: 'MATCH (m:Movie) WHERE ID(m) = $id SET m.plotEmbedding = $embedding'\n",
            "WARNING:neo4j.notifications:Received notification from DBMS server: {severity: WARNING} {code: Neo.ClientNotification.Statement.FeatureDeprecationWarning} {category: DEPRECATION} {title: This feature is deprecated and will be removed in future versions.} {description: The query used a deprecated function. ('id' has been replaced by 'elementId or consider using an application-generated id')} {position: line: 1, column: 23, offset: 22} for query: 'MATCH (m:Movie) WHERE ID(m) = $id SET m.plotEmbedding = $embedding'\n"
          ]
        },
        {
          "output_type": "stream",
          "name": "stdout",
          "text": [
            "Updated movie 'Indian in the Cupboard, The' with embedding.\n",
            "58\n",
            "When the courts fail to keep behind bars the man who raped and murdered her daughter, a woman seeks her own form of justice.\n",
            "=================\n",
            "Updated movie 'Eye for an Eye' with embedding.\n",
            "59\n",
            "A frustrated composer finds fulfillment as a high school music teacher.\n",
            "=================\n"
          ]
        },
        {
          "output_type": "stream",
          "name": "stderr",
          "text": [
            "WARNING:neo4j.notifications:Received notification from DBMS server: {severity: WARNING} {code: Neo.ClientNotification.Statement.FeatureDeprecationWarning} {category: DEPRECATION} {title: This feature is deprecated and will be removed in future versions.} {description: The query used a deprecated function. ('id' has been replaced by 'elementId or consider using an application-generated id')} {position: line: 1, column: 23, offset: 22} for query: 'MATCH (m:Movie) WHERE ID(m) = $id SET m.plotEmbedding = $embedding'\n",
            "WARNING:neo4j.notifications:Received notification from DBMS server: {severity: WARNING} {code: Neo.ClientNotification.Statement.FeatureDeprecationWarning} {category: DEPRECATION} {title: This feature is deprecated and will be removed in future versions.} {description: The query used a deprecated function. ('id' has been replaced by 'elementId or consider using an application-generated id')} {position: line: 1, column: 23, offset: 22} for query: 'MATCH (m:Movie) WHERE ID(m) = $id SET m.plotEmbedding = $embedding'\n"
          ]
        },
        {
          "output_type": "stream",
          "name": "stdout",
          "text": [
            "Updated movie 'Mr. Holland's Opus' with embedding.\n",
            "60\n",
            "Don't Be a Menace to South Central While Drinking your Juice in the Hood is a parody of several U.S. films about being in the 'Hood', for instance Boyz n the Hood, South Central, ...\n",
            "=================\n",
            "Updated movie 'Don't Be a Menace to South Central While Drinking Your Juice in the Hood' with embedding.\n",
            "61\n",
            "Frank O'Brien, a petty thief, and his 7-year-long girlfriend Roz want to put an end to their unsteady lifestyle and just do that _last_ job, which involves stealing a valuable painting. ...\n",
            "=================\n"
          ]
        },
        {
          "output_type": "stream",
          "name": "stderr",
          "text": [
            "WARNING:neo4j.notifications:Received notification from DBMS server: {severity: WARNING} {code: Neo.ClientNotification.Statement.FeatureDeprecationWarning} {category: DEPRECATION} {title: This feature is deprecated and will be removed in future versions.} {description: The query used a deprecated function. ('id' has been replaced by 'elementId or consider using an application-generated id')} {position: line: 1, column: 23, offset: 22} for query: 'MATCH (m:Movie) WHERE ID(m) = $id SET m.plotEmbedding = $embedding'\n",
            "WARNING:neo4j.notifications:Received notification from DBMS server: {severity: WARNING} {code: Neo.ClientNotification.Statement.FeatureDeprecationWarning} {category: DEPRECATION} {title: This feature is deprecated and will be removed in future versions.} {description: The query used a deprecated function. ('id' has been replaced by 'elementId or consider using an application-generated id')} {position: line: 1, column: 23, offset: 22} for query: 'MATCH (m:Movie) WHERE ID(m) = $id SET m.plotEmbedding = $embedding'\n"
          ]
        },
        {
          "output_type": "stream",
          "name": "stdout",
          "text": [
            "Updated movie 'Two if by Sea' with embedding.\n",
            "62\n",
            "Moronic best friends get themselves locked inside the Bio-Dome, a science experiment, along with a group of environmental scientists for one year.\n",
            "=================\n",
            "Updated movie 'Bio-Dome' with embedding.\n",
            "63\n",
            "Jobe is resuscitated by Jonathan Walker. He wants Jobe to create a special computer chip that would connect all the computers in the world into one network, which Walker would control and ...\n",
            "=================\n"
          ]
        },
        {
          "output_type": "stream",
          "name": "stderr",
          "text": [
            "WARNING:neo4j.notifications:Received notification from DBMS server: {severity: WARNING} {code: Neo.ClientNotification.Statement.FeatureDeprecationWarning} {category: DEPRECATION} {title: This feature is deprecated and will be removed in future versions.} {description: The query used a deprecated function. ('id' has been replaced by 'elementId or consider using an application-generated id')} {position: line: 1, column: 23, offset: 22} for query: 'MATCH (m:Movie) WHERE ID(m) = $id SET m.plotEmbedding = $embedding'\n",
            "WARNING:neo4j.notifications:Received notification from DBMS server: {severity: WARNING} {code: Neo.ClientNotification.Statement.FeatureDeprecationWarning} {category: DEPRECATION} {title: This feature is deprecated and will be removed in future versions.} {description: The query used a deprecated function. ('id' has been replaced by 'elementId or consider using an application-generated id')} {position: line: 1, column: 23, offset: 22} for query: 'MATCH (m:Movie) WHERE ID(m) = $id SET m.plotEmbedding = $embedding'\n"
          ]
        },
        {
          "output_type": "stream",
          "name": "stdout",
          "text": [
            "Updated movie 'Lawnmower Man 2: Beyond Cyberspace' with embedding.\n",
            "64\n",
            "After learning of her husband's infidelities, a housewife invites an itinerant lesbian to move in with them. None of their lives will ever be the same again.\n",
            "=================\n",
            "Updated movie 'French Twist (Gazon maudit)' with embedding.\n",
            "65\n",
            "Two homies, Smokey and Craig, smoke a dope dealer's weed and try to figure a way to get the $200 they owe to the dealer by ten p.m. that same night. In that time, they smoke more weed, get jacked, and they get shot at in a drive-by.\n",
            "=================\n"
          ]
        },
        {
          "output_type": "stream",
          "name": "stderr",
          "text": [
            "WARNING:neo4j.notifications:Received notification from DBMS server: {severity: WARNING} {code: Neo.ClientNotification.Statement.FeatureDeprecationWarning} {category: DEPRECATION} {title: This feature is deprecated and will be removed in future versions.} {description: The query used a deprecated function. ('id' has been replaced by 'elementId or consider using an application-generated id')} {position: line: 1, column: 23, offset: 22} for query: 'MATCH (m:Movie) WHERE ID(m) = $id SET m.plotEmbedding = $embedding'\n",
            "WARNING:neo4j.notifications:Received notification from DBMS server: {severity: WARNING} {code: Neo.ClientNotification.Statement.FeatureDeprecationWarning} {category: DEPRECATION} {title: This feature is deprecated and will be removed in future versions.} {description: The query used a deprecated function. ('id' has been replaced by 'elementId or consider using an application-generated id')} {position: line: 1, column: 23, offset: 22} for query: 'MATCH (m:Movie) WHERE ID(m) = $id SET m.plotEmbedding = $embedding'\n"
          ]
        },
        {
          "output_type": "stream",
          "name": "stdout",
          "text": [
            "Updated movie 'Friday' with embedding.\n",
            "66\n",
            "Two criminals and their hostages unknowingly seek temporary refuge in an establishment populated by vampires, with chaotic results.\n",
            "=================\n"
          ]
        },
        {
          "output_type": "stream",
          "name": "stderr",
          "text": [
            "WARNING:neo4j.notifications:Received notification from DBMS server: {severity: WARNING} {code: Neo.ClientNotification.Statement.FeatureDeprecationWarning} {category: DEPRECATION} {title: This feature is deprecated and will be removed in future versions.} {description: The query used a deprecated function. ('id' has been replaced by 'elementId or consider using an application-generated id')} {position: line: 1, column: 23, offset: 22} for query: 'MATCH (m:Movie) WHERE ID(m) = $id SET m.plotEmbedding = $embedding'\n"
          ]
        },
        {
          "output_type": "stream",
          "name": "stdout",
          "text": [
            "Updated movie 'From Dusk Till Dawn' with embedding.\n",
            "67\n",
            "Max Kirkpatrick is a cop who protects Kate McQuean, a civil law attorney, from a renegade KGB team out to terminate her.\n",
            "=================\n",
            "Updated movie 'Fair Game' with embedding.\n",
            "68\n",
            "Following graduation, a handful of college students do nothing and talk about it wittily.\n",
            "=================\n"
          ]
        },
        {
          "output_type": "stream",
          "name": "stderr",
          "text": [
            "WARNING:neo4j.notifications:Received notification from DBMS server: {severity: WARNING} {code: Neo.ClientNotification.Statement.FeatureDeprecationWarning} {category: DEPRECATION} {title: This feature is deprecated and will be removed in future versions.} {description: The query used a deprecated function. ('id' has been replaced by 'elementId or consider using an application-generated id')} {position: line: 1, column: 23, offset: 22} for query: 'MATCH (m:Movie) WHERE ID(m) = $id SET m.plotEmbedding = $embedding'\n"
          ]
        },
        {
          "output_type": "stream",
          "name": "stdout",
          "text": [
            "Updated movie 'Kicking and Screaming' with embedding.\n",
            "69\n",
            "Henri Fortin is poor and iliterate former boxer. Ziman is rich Jewish lawyer from Paris. During WWII they meet when Fortin agrees to drive Ziman's family to Switzerland. Intrigued by Victor...\n",
            "=================\n"
          ]
        },
        {
          "output_type": "stream",
          "name": "stderr",
          "text": [
            "WARNING:neo4j.notifications:Received notification from DBMS server: {severity: WARNING} {code: Neo.ClientNotification.Statement.FeatureDeprecationWarning} {category: DEPRECATION} {title: This feature is deprecated and will be removed in future versions.} {description: The query used a deprecated function. ('id' has been replaced by 'elementId or consider using an application-generated id')} {position: line: 1, column: 23, offset: 22} for query: 'MATCH (m:Movie) WHERE ID(m) = $id SET m.plotEmbedding = $embedding'\n",
            "WARNING:neo4j.notifications:Received notification from DBMS server: {severity: WARNING} {code: Neo.ClientNotification.Statement.FeatureDeprecationWarning} {category: DEPRECATION} {title: This feature is deprecated and will be removed in future versions.} {description: The query used a deprecated function. ('id' has been replaced by 'elementId or consider using an application-generated id')} {position: line: 1, column: 23, offset: 22} for query: 'MATCH (m:Movie) WHERE ID(m) = $id SET m.plotEmbedding = $embedding'\n"
          ]
        },
        {
          "output_type": "stream",
          "name": "stdout",
          "text": [
            "Updated movie 'Misérables, Les' with embedding.\n",
            "70\n",
            "Romantic drama about a young career girl who is swept off her feet by a shy florist, who fell in love with her after one glimpse through a shadowy window.\n",
            "=================\n",
            "Updated movie 'Bed of Roses' with embedding.\n",
            "71\n",
            "(SIRIUS 6B, Year 2078) On a distant mining planet ravaged by a decade of war, scientists have created the perfect weapon: a blade-wielding, self-replicating race of killing devices known as...\n",
            "=================\n"
          ]
        },
        {
          "output_type": "stream",
          "name": "stderr",
          "text": [
            "WARNING:neo4j.notifications:Received notification from DBMS server: {severity: WARNING} {code: Neo.ClientNotification.Statement.FeatureDeprecationWarning} {category: DEPRECATION} {title: This feature is deprecated and will be removed in future versions.} {description: The query used a deprecated function. ('id' has been replaced by 'elementId or consider using an application-generated id')} {position: line: 1, column: 23, offset: 22} for query: 'MATCH (m:Movie) WHERE ID(m) = $id SET m.plotEmbedding = $embedding'\n",
            "WARNING:neo4j.notifications:Received notification from DBMS server: {severity: WARNING} {code: Neo.ClientNotification.Statement.FeatureDeprecationWarning} {category: DEPRECATION} {title: This feature is deprecated and will be removed in future versions.} {description: The query used a deprecated function. ('id' has been replaced by 'elementId or consider using an application-generated id')} {position: line: 1, column: 23, offset: 22} for query: 'MATCH (m:Movie) WHERE ID(m) = $id SET m.plotEmbedding = $embedding'\n"
          ]
        },
        {
          "output_type": "stream",
          "name": "stdout",
          "text": [
            "Updated movie 'Screamers' with embedding.\n",
            "72\n",
            "A look into the many lives of Christa Päffgen, otherwise known as Nico; from cutie German mädchen to the first of the supermodels, to glamorous diva of the Velvet Underground, to cult item,...\n",
            "=================\n",
            "Updated movie 'Nico Icon' with embedding.\n",
            "73\n",
            "Freddie Gale is a seedy jeweler who has sworn to kill the drunk driver who killed his little girl.\n",
            "=================\n"
          ]
        },
        {
          "output_type": "stream",
          "name": "stderr",
          "text": [
            "WARNING:neo4j.notifications:Received notification from DBMS server: {severity: WARNING} {code: Neo.ClientNotification.Statement.FeatureDeprecationWarning} {category: DEPRECATION} {title: This feature is deprecated and will be removed in future versions.} {description: The query used a deprecated function. ('id' has been replaced by 'elementId or consider using an application-generated id')} {position: line: 1, column: 23, offset: 22} for query: 'MATCH (m:Movie) WHERE ID(m) = $id SET m.plotEmbedding = $embedding'\n",
            "WARNING:neo4j.notifications:Received notification from DBMS server: {severity: WARNING} {code: Neo.ClientNotification.Statement.FeatureDeprecationWarning} {category: DEPRECATION} {title: This feature is deprecated and will be removed in future versions.} {description: The query used a deprecated function. ('id' has been replaced by 'elementId or consider using an application-generated id')} {position: line: 1, column: 23, offset: 22} for query: 'MATCH (m:Movie) WHERE ID(m) = $id SET m.plotEmbedding = $embedding'\n"
          ]
        },
        {
          "output_type": "stream",
          "name": "stdout",
          "text": [
            "Updated movie 'Crossing Guard, The' with embedding.\n",
            "74\n",
            "When Annie Laird is selected as a juror in a big Mafia trial, she is forced by someone known as The Teacher to persuade the other jurors to vote not guilty. He threatens to kill her son...\n",
            "=================\n",
            "Updated movie 'Juror, The' with embedding.\n",
            "75\n",
            "Several people try to take advantage of a little girl's innocence to hustle money her mom gave to her to buy a goldfish with.\n",
            "=================\n"
          ]
        },
        {
          "output_type": "stream",
          "name": "stderr",
          "text": [
            "WARNING:neo4j.notifications:Received notification from DBMS server: {severity: WARNING} {code: Neo.ClientNotification.Statement.FeatureDeprecationWarning} {category: DEPRECATION} {title: This feature is deprecated and will be removed in future versions.} {description: The query used a deprecated function. ('id' has been replaced by 'elementId or consider using an application-generated id')} {position: line: 1, column: 23, offset: 22} for query: 'MATCH (m:Movie) WHERE ID(m) = $id SET m.plotEmbedding = $embedding'\n",
            "WARNING:neo4j.notifications:Received notification from DBMS server: {severity: WARNING} {code: Neo.ClientNotification.Statement.FeatureDeprecationWarning} {category: DEPRECATION} {title: This feature is deprecated and will be removed in future versions.} {description: The query used a deprecated function. ('id' has been replaced by 'elementId or consider using an application-generated id')} {position: line: 1, column: 23, offset: 22} for query: 'MATCH (m:Movie) WHERE ID(m) = $id SET m.plotEmbedding = $embedding'\n"
          ]
        },
        {
          "output_type": "stream",
          "name": "stdout",
          "text": [
            "Updated movie 'White Balloon, The (Badkonake sefid)' with embedding.\n",
            "76\n",
            "Five different criminals face imminent death after botching a job quite badly.\n",
            "=================\n",
            "Updated movie 'Things to Do in Denver When You're Dead' with embedding.\n",
            "77\n",
            "A Dutch matron establishes and, for several generations, oversees a close-knit, matriarchal community where feminism and liberalism thrive.\n",
            "=================\n"
          ]
        },
        {
          "output_type": "stream",
          "name": "stderr",
          "text": [
            "WARNING:neo4j.notifications:Received notification from DBMS server: {severity: WARNING} {code: Neo.ClientNotification.Statement.FeatureDeprecationWarning} {category: DEPRECATION} {title: This feature is deprecated and will be removed in future versions.} {description: The query used a deprecated function. ('id' has been replaced by 'elementId or consider using an application-generated id')} {position: line: 1, column: 23, offset: 22} for query: 'MATCH (m:Movie) WHERE ID(m) = $id SET m.plotEmbedding = $embedding'\n",
            "WARNING:neo4j.notifications:Received notification from DBMS server: {severity: WARNING} {code: Neo.ClientNotification.Statement.FeatureDeprecationWarning} {category: DEPRECATION} {title: This feature is deprecated and will be removed in future versions.} {description: The query used a deprecated function. ('id' has been replaced by 'elementId or consider using an application-generated id')} {position: line: 1, column: 23, offset: 22} for query: 'MATCH (m:Movie) WHERE ID(m) = $id SET m.plotEmbedding = $embedding'\n"
          ]
        },
        {
          "output_type": "stream",
          "name": "stdout",
          "text": [
            "Updated movie 'Antonia's Line (Antonia)' with embedding.\n",
            "78\n",
            "A narrator tells the story of his childhood years in a tightly knit Afro-American community in the deep south under racial segregation.\n",
            "=================\n",
            "Updated movie 'Once Upon a Time... When We Were Colored' with embedding.\n",
            "79\n",
            "Filmed entirely on location in East Hampton, Long Island, Last Summer in the Hamptons concerns a large theatrical family spending the last weekend of their summer together at the ...\n",
            "=================\n"
          ]
        },
        {
          "output_type": "stream",
          "name": "stderr",
          "text": [
            "WARNING:neo4j.notifications:Received notification from DBMS server: {severity: WARNING} {code: Neo.ClientNotification.Statement.FeatureDeprecationWarning} {category: DEPRECATION} {title: This feature is deprecated and will be removed in future versions.} {description: The query used a deprecated function. ('id' has been replaced by 'elementId or consider using an application-generated id')} {position: line: 1, column: 23, offset: 22} for query: 'MATCH (m:Movie) WHERE ID(m) = $id SET m.plotEmbedding = $embedding'\n",
            "WARNING:neo4j.notifications:Received notification from DBMS server: {severity: WARNING} {code: Neo.ClientNotification.Statement.FeatureDeprecationWarning} {category: DEPRECATION} {title: This feature is deprecated and will be removed in future versions.} {description: The query used a deprecated function. ('id' has been replaced by 'elementId or consider using an application-generated id')} {position: line: 1, column: 23, offset: 22} for query: 'MATCH (m:Movie) WHERE ID(m) = $id SET m.plotEmbedding = $embedding'\n"
          ]
        },
        {
          "output_type": "stream",
          "name": "stdout",
          "text": [
            "Updated movie 'Last Summer in the Hamptons' with embedding.\n",
            "80\n",
            "In the 1800s a naturalist marries into a family of British country gentry.\n",
            "=================\n",
            "Updated movie 'Angels and Insects' with embedding.\n",
            "81\n",
            "Teenage boys discover discipline and camaraderie on an ill-fated sailing voyage.\n",
            "=================\n"
          ]
        },
        {
          "output_type": "stream",
          "name": "stderr",
          "text": [
            "WARNING:neo4j.notifications:Received notification from DBMS server: {severity: WARNING} {code: Neo.ClientNotification.Statement.FeatureDeprecationWarning} {category: DEPRECATION} {title: This feature is deprecated and will be removed in future versions.} {description: The query used a deprecated function. ('id' has been replaced by 'elementId or consider using an application-generated id')} {position: line: 1, column: 23, offset: 22} for query: 'MATCH (m:Movie) WHERE ID(m) = $id SET m.plotEmbedding = $embedding'\n",
            "WARNING:neo4j.notifications:Received notification from DBMS server: {severity: WARNING} {code: Neo.ClientNotification.Statement.FeatureDeprecationWarning} {category: DEPRECATION} {title: This feature is deprecated and will be removed in future versions.} {description: The query used a deprecated function. ('id' has been replaced by 'elementId or consider using an application-generated id')} {position: line: 1, column: 23, offset: 22} for query: 'MATCH (m:Movie) WHERE ID(m) = $id SET m.plotEmbedding = $embedding'\n"
          ]
        },
        {
          "output_type": "stream",
          "name": "stdout",
          "text": [
            "Updated movie 'White Squall' with embedding.\n",
            "82\n",
            "Young boy befriends larcenous orangutan in luxury hotel.\n",
            "=================\n",
            "Updated movie 'Dunston Checks In' with embedding.\n",
            "83\n",
            "A gubernatorial candidate hires a wormy special assistant whose only job is to make sure the candidate's well-meaning but incompetent brother doesn't ruin the election.\n",
            "=================\n"
          ]
        },
        {
          "output_type": "stream",
          "name": "stderr",
          "text": [
            "WARNING:neo4j.notifications:Received notification from DBMS server: {severity: WARNING} {code: Neo.ClientNotification.Statement.FeatureDeprecationWarning} {category: DEPRECATION} {title: This feature is deprecated and will be removed in future versions.} {description: The query used a deprecated function. ('id' has been replaced by 'elementId or consider using an application-generated id')} {position: line: 1, column: 23, offset: 22} for query: 'MATCH (m:Movie) WHERE ID(m) = $id SET m.plotEmbedding = $embedding'\n",
            "WARNING:neo4j.notifications:Received notification from DBMS server: {severity: WARNING} {code: Neo.ClientNotification.Statement.FeatureDeprecationWarning} {category: DEPRECATION} {title: This feature is deprecated and will be removed in future versions.} {description: The query used a deprecated function. ('id' has been replaced by 'elementId or consider using an application-generated id')} {position: line: 1, column: 23, offset: 22} for query: 'MATCH (m:Movie) WHERE ID(m) = $id SET m.plotEmbedding = $embedding'\n"
          ]
        },
        {
          "output_type": "stream",
          "name": "stdout",
          "text": [
            "Updated movie 'Black Sheep' with embedding.\n",
            "84\n",
            "An unimpressive, every-day man is forced into a situation where he is told to kill a politician to save his kidnapped daughter.\n",
            "=================\n",
            "Updated movie 'Nick of Time' with embedding.\n",
            "85\n",
            "A housemaid falls in love with Dr. Jekyll and his darkly mysterious counterpart, Mr. Hyde.\n",
            "=================\n"
          ]
        },
        {
          "output_type": "stream",
          "name": "stderr",
          "text": [
            "WARNING:neo4j.notifications:Received notification from DBMS server: {severity: WARNING} {code: Neo.ClientNotification.Statement.FeatureDeprecationWarning} {category: DEPRECATION} {title: This feature is deprecated and will be removed in future versions.} {description: The query used a deprecated function. ('id' has been replaced by 'elementId or consider using an application-generated id')} {position: line: 1, column: 23, offset: 22} for query: 'MATCH (m:Movie) WHERE ID(m) = $id SET m.plotEmbedding = $embedding'\n",
            "WARNING:neo4j.notifications:Received notification from DBMS server: {severity: WARNING} {code: Neo.ClientNotification.Statement.FeatureDeprecationWarning} {category: DEPRECATION} {title: This feature is deprecated and will be removed in future versions.} {description: The query used a deprecated function. ('id' has been replaced by 'elementId or consider using an application-generated id')} {position: line: 1, column: 23, offset: 22} for query: 'MATCH (m:Movie) WHERE ID(m) = $id SET m.plotEmbedding = $embedding'\n"
          ]
        },
        {
          "output_type": "stream",
          "name": "stdout",
          "text": [
            "Updated movie 'Mary Reilly' with embedding.\n",
            "86\n",
            "Maximillian is the only survivor from a race of vampires on a Caribbean Island, and as a vampire, he must find a mate to keep the line from ending. He knows that a child had been born to a ...\n",
            "=================\n"
          ]
        },
        {
          "output_type": "stream",
          "name": "stderr",
          "text": [
            "WARNING:neo4j.notifications:Received notification from DBMS server: {severity: WARNING} {code: Neo.ClientNotification.Statement.FeatureDeprecationWarning} {category: DEPRECATION} {title: This feature is deprecated and will be removed in future versions.} {description: The query used a deprecated function. ('id' has been replaced by 'elementId or consider using an application-generated id')} {position: line: 1, column: 23, offset: 22} for query: 'MATCH (m:Movie) WHERE ID(m) = $id SET m.plotEmbedding = $embedding'\n"
          ]
        },
        {
          "output_type": "stream",
          "name": "stdout",
          "text": [
            "Updated movie 'Vampire in Brooklyn' with embedding.\n",
            "87\n",
            "A piano player at a crossroads in his life returns home to his friends and their own problems with life and love.\n",
            "=================\n"
          ]
        },
        {
          "output_type": "stream",
          "name": "stderr",
          "text": [
            "WARNING:neo4j.notifications:Received notification from DBMS server: {severity: WARNING} {code: Neo.ClientNotification.Statement.FeatureDeprecationWarning} {category: DEPRECATION} {title: This feature is deprecated and will be removed in future versions.} {description: The query used a deprecated function. ('id' has been replaced by 'elementId or consider using an application-generated id')} {position: line: 1, column: 23, offset: 22} for query: 'MATCH (m:Movie) WHERE ID(m) = $id SET m.plotEmbedding = $embedding'\n"
          ]
        },
        {
          "output_type": "stream",
          "name": "stdout",
          "text": [
            "Updated movie 'Beautiful Girls' with embedding.\n",
            "88\n",
            "Terrorists steal nuclear warheads from the U.S. military but don't count on a pilot and park ranger spoiling their plans.\n",
            "=================\n"
          ]
        },
        {
          "output_type": "stream",
          "name": "stderr",
          "text": [
            "WARNING:neo4j.notifications:Received notification from DBMS server: {severity: WARNING} {code: Neo.ClientNotification.Statement.FeatureDeprecationWarning} {category: DEPRECATION} {title: This feature is deprecated and will be removed in future versions.} {description: The query used a deprecated function. ('id' has been replaced by 'elementId or consider using an application-generated id')} {position: line: 1, column: 23, offset: 22} for query: 'MATCH (m:Movie) WHERE ID(m) = $id SET m.plotEmbedding = $embedding'\n"
          ]
        },
        {
          "output_type": "stream",
          "name": "stdout",
          "text": [
            "Updated movie 'Broken Arrow' with embedding.\n",
            "89\n",
            "Out of work actor Joe volunteers to help try and save his sister's local church for the community by putting on a Christmas production of Hamlet, somewhat against the advice of his agent ...\n",
            "=================\n",
            "Updated movie 'In the Bleak Midwinter' with embedding.\n",
            "90\n",
            "24 hours in the lives of three young men in the French suburbs the day after a violent riot.\n",
            "=================\n"
          ]
        },
        {
          "output_type": "stream",
          "name": "stderr",
          "text": [
            "WARNING:neo4j.notifications:Received notification from DBMS server: {severity: WARNING} {code: Neo.ClientNotification.Statement.FeatureDeprecationWarning} {category: DEPRECATION} {title: This feature is deprecated and will be removed in future versions.} {description: The query used a deprecated function. ('id' has been replaced by 'elementId or consider using an application-generated id')} {position: line: 1, column: 23, offset: 22} for query: 'MATCH (m:Movie) WHERE ID(m) = $id SET m.plotEmbedding = $embedding'\n",
            "WARNING:neo4j.notifications:Received notification from DBMS server: {severity: WARNING} {code: Neo.ClientNotification.Statement.FeatureDeprecationWarning} {category: DEPRECATION} {title: This feature is deprecated and will be removed in future versions.} {description: The query used a deprecated function. ('id' has been replaced by 'elementId or consider using an application-generated id')} {position: line: 1, column: 23, offset: 22} for query: 'MATCH (m:Movie) WHERE ID(m) = $id SET m.plotEmbedding = $embedding'\n"
          ]
        },
        {
          "output_type": "stream",
          "name": "stdout",
          "text": [
            "Updated movie 'Hate (Haine, La)' with embedding.\n",
            "91\n",
            "You've run out of options, no school, no job. Steal a car, smash a shop with a heavy car and reap the proceeds!. This movie is about underground England. The causes, the benefits, and the result of a life of 'crash and carry'.\n",
            "=================\n",
            "Updated movie 'Shopping' with embedding.\n",
            "92\n",
            "A documentary crew from the BBC arrives in L.A. intent on interviewing Heidi Fleiss, a year after her arrest for running a brothel but before her trial. Several months elapse before the ...\n",
            "=================\n"
          ]
        },
        {
          "output_type": "stream",
          "name": "stderr",
          "text": [
            "WARNING:neo4j.notifications:Received notification from DBMS server: {severity: WARNING} {code: Neo.ClientNotification.Statement.FeatureDeprecationWarning} {category: DEPRECATION} {title: This feature is deprecated and will be removed in future versions.} {description: The query used a deprecated function. ('id' has been replaced by 'elementId or consider using an application-generated id')} {position: line: 1, column: 23, offset: 22} for query: 'MATCH (m:Movie) WHERE ID(m) = $id SET m.plotEmbedding = $embedding'\n",
            "WARNING:neo4j.notifications:Received notification from DBMS server: {severity: WARNING} {code: Neo.ClientNotification.Statement.FeatureDeprecationWarning} {category: DEPRECATION} {title: This feature is deprecated and will be removed in future versions.} {description: The query used a deprecated function. ('id' has been replaced by 'elementId or consider using an application-generated id')} {position: line: 1, column: 23, offset: 22} for query: 'MATCH (m:Movie) WHERE ID(m) = $id SET m.plotEmbedding = $embedding'\n"
          ]
        },
        {
          "output_type": "stream",
          "name": "stdout",
          "text": [
            "Updated movie 'Heidi Fleiss: Hollywood Madam' with embedding.\n",
            "93\n",
            "The accidental shooting of a boy in New York leads to an investigation by the Deputy Mayor, and unexpectedly far-reaching consequences.\n",
            "=================\n"
          ]
        },
        {
          "output_type": "stream",
          "name": "stderr",
          "text": [
            "WARNING:neo4j.notifications:Received notification from DBMS server: {severity: WARNING} {code: Neo.ClientNotification.Statement.FeatureDeprecationWarning} {category: DEPRECATION} {title: This feature is deprecated and will be removed in future versions.} {description: The query used a deprecated function. ('id' has been replaced by 'elementId or consider using an application-generated id')} {position: line: 1, column: 23, offset: 22} for query: 'MATCH (m:Movie) WHERE ID(m) = $id SET m.plotEmbedding = $embedding'\n"
          ]
        },
        {
          "output_type": "stream",
          "name": "stdout",
          "text": [
            "Updated movie 'City Hall' with embedding.\n",
            "94\n",
            "Focusing on a trio of friends and their elaborate plan to pull off a simple robbery and go on the run.\n",
            "=================\n",
            "Updated movie 'Bottle Rocket' with embedding.\n",
            "95\n",
            "A single and lonely woman finds the seemingly perfect man to date, but soon regrets it when his deranged and possessive other personality emerges and worst still, she cannot convince anyone else of his Jekyll/Hyde true nature.\n",
            "=================\n"
          ]
        },
        {
          "output_type": "stream",
          "name": "stderr",
          "text": [
            "WARNING:neo4j.notifications:Received notification from DBMS server: {severity: WARNING} {code: Neo.ClientNotification.Statement.FeatureDeprecationWarning} {category: DEPRECATION} {title: This feature is deprecated and will be removed in future versions.} {description: The query used a deprecated function. ('id' has been replaced by 'elementId or consider using an application-generated id')} {position: line: 1, column: 23, offset: 22} for query: 'MATCH (m:Movie) WHERE ID(m) = $id SET m.plotEmbedding = $embedding'\n",
            "WARNING:neo4j.notifications:Received notification from DBMS server: {severity: WARNING} {code: Neo.ClientNotification.Statement.FeatureDeprecationWarning} {category: DEPRECATION} {title: This feature is deprecated and will be removed in future versions.} {description: The query used a deprecated function. ('id' has been replaced by 'elementId or consider using an application-generated id')} {position: line: 1, column: 23, offset: 22} for query: 'MATCH (m:Movie) WHERE ID(m) = $id SET m.plotEmbedding = $embedding'\n"
          ]
        },
        {
          "output_type": "stream",
          "name": "stdout",
          "text": [
            "Updated movie 'Mr. Wrong' with embedding.\n",
            "96\n",
            "Unsuccessfully framed for his wife's murder, Dr. David Krane attempts to find the real culprit by utilizing a new drug that allows him to experience the memories of other people first-hand....\n",
            "=================\n",
            "Updated movie 'Unforgettable' with embedding.\n",
            "97\n",
            "A rejected hockey player puts his skills to the golf course to save his grandmother's house.\n",
            "=================\n"
          ]
        },
        {
          "output_type": "stream",
          "name": "stderr",
          "text": [
            "WARNING:neo4j.notifications:Received notification from DBMS server: {severity: WARNING} {code: Neo.ClientNotification.Statement.FeatureDeprecationWarning} {category: DEPRECATION} {title: This feature is deprecated and will be removed in future versions.} {description: The query used a deprecated function. ('id' has been replaced by 'elementId or consider using an application-generated id')} {position: line: 1, column: 23, offset: 22} for query: 'MATCH (m:Movie) WHERE ID(m) = $id SET m.plotEmbedding = $embedding'\n"
          ]
        },
        {
          "output_type": "stream",
          "name": "stdout",
          "text": [
            "Updated movie 'Happy Gilmore' with embedding.\n",
            "98\n",
            "Photographer Robert Kincaid wanders into the life of housewife Francesca Johnson, for four days in the 1960s.\n",
            "=================\n"
          ]
        },
        {
          "output_type": "stream",
          "name": "stderr",
          "text": [
            "WARNING:neo4j.notifications:Received notification from DBMS server: {severity: WARNING} {code: Neo.ClientNotification.Statement.FeatureDeprecationWarning} {category: DEPRECATION} {title: This feature is deprecated and will be removed in future versions.} {description: The query used a deprecated function. ('id' has been replaced by 'elementId or consider using an application-generated id')} {position: line: 1, column: 23, offset: 22} for query: 'MATCH (m:Movie) WHERE ID(m) = $id SET m.plotEmbedding = $embedding'\n",
            "WARNING:neo4j.notifications:Received notification from DBMS server: {severity: WARNING} {code: Neo.ClientNotification.Statement.FeatureDeprecationWarning} {category: DEPRECATION} {title: This feature is deprecated and will be removed in future versions.} {description: The query used a deprecated function. ('id' has been replaced by 'elementId or consider using an application-generated id')} {position: line: 1, column: 23, offset: 22} for query: 'MATCH (m:Movie) WHERE ID(m) = $id SET m.plotEmbedding = $embedding'\n"
          ]
        },
        {
          "output_type": "stream",
          "name": "stdout",
          "text": [
            "Updated movie 'Bridges of Madison County, The' with embedding.\n",
            "99\n",
            "The Muppets' twist on the classic tale.\n",
            "=================\n",
            "Updated movie 'Muppet Treasure Island' with embedding.\n",
            "100\n",
            "A camera follows model Christy Turlington through the spring fashion shows in Milan, Paris, and New York one year in the early 1990s, probably 1992. She and others dash from one designer's ...\n",
            "=================\n"
          ]
        },
        {
          "output_type": "stream",
          "name": "stderr",
          "text": [
            "WARNING:neo4j.notifications:Received notification from DBMS server: {severity: WARNING} {code: Neo.ClientNotification.Statement.FeatureDeprecationWarning} {category: DEPRECATION} {title: This feature is deprecated and will be removed in future versions.} {description: The query used a deprecated function. ('id' has been replaced by 'elementId or consider using an application-generated id')} {position: line: 1, column: 23, offset: 22} for query: 'MATCH (m:Movie) WHERE ID(m) = $id SET m.plotEmbedding = $embedding'\n",
            "WARNING:neo4j.notifications:Received notification from DBMS server: {severity: WARNING} {code: Neo.ClientNotification.Statement.FeatureDeprecationWarning} {category: DEPRECATION} {title: This feature is deprecated and will be removed in future versions.} {description: The query used a deprecated function. ('id' has been replaced by 'elementId or consider using an application-generated id')} {position: line: 1, column: 23, offset: 22} for query: 'MATCH (m:Movie) WHERE ID(m) = $id SET m.plotEmbedding = $embedding'\n"
          ]
        },
        {
          "output_type": "stream",
          "name": "stdout",
          "text": [
            "Updated movie 'Catwalk' with embedding.\n"
          ]
        }
      ]
    },
    {
      "cell_type": "markdown",
      "source": [
        "## 3. Generating a Retriever with Vector INDEX"
      ],
      "metadata": {
        "id": "yqXfhvRaQFli"
      }
    },
    {
      "cell_type": "markdown",
      "source": [
        "Embedding model : https://platform.openai.com/docs/models/embeddings\n",
        "\n",
        "VECTOR INDEX : https://neo4j.com/docs/cypher-manual/current/indexes/semantic-indexes/vector-indexes/"
      ],
      "metadata": {
        "id": "EIIzNQcO_olr"
      }
    },
    {
      "cell_type": "markdown",
      "source": [
        "Genereate VECTOR INDEX\n",
        "```cypher\n",
        "CREATE VECTOR INDEX moviePlotsEmbedding FOR (n:Movie) ON (n.plotEmbedding) OPTIONS {indexConfig: {\n",
        " `vector.dimensions`: 1536,\n",
        " `vector.similarity_function`: 'cosine'\n",
        "}}\n",
        "```"
      ],
      "metadata": {
        "id": "VNoMyw_2AUYl"
      }
    },
    {
      "cell_type": "code",
      "source": [
        "from neo4j_graphrag.retrievers import VectorRetriever\n",
        "from neo4j_graphrag.embeddings.openai import OpenAIEmbeddings\n",
        "embedder = OpenAIEmbeddings(model=\"text-embedding-ada-002\")\n",
        "retriever = VectorRetriever(\n",
        "    driver,\n",
        "    index_name=\"moviePlotsEmbedding\",\n",
        "    embedder=embedder,\n",
        "    return_properties=[\"title\", \"plot\"],\n",
        ")"
      ],
      "metadata": {
        "id": "YH5CcnCU2XJk"
      },
      "execution_count": 7,
      "outputs": []
    },
    {
      "cell_type": "code",
      "source": [
        "query_text = \"A cowboy doll is jealous when a new spaceman figure becomes the top toy.\" # Toystory Plot\n",
        "retriever_result = retriever.search(query_text=query_text, top_k=3)\n",
        "print(retriever_result)"
      ],
      "metadata": {
        "colab": {
          "base_uri": "https://localhost:8080/"
        },
        "id": "-1WyJK3eTpBA",
        "outputId": "1ccea79d-bf8a-4a8c-b786-f10c5b2280ff"
      },
      "execution_count": 8,
      "outputs": [
        {
          "output_type": "stream",
          "name": "stdout",
          "text": [
            "items=[RetrieverResultItem(content='{\\'title\\': \\'Toy Story\\', \\'plot\\': \"A cowboy doll is profoundly threatened and jealous when a new spaceman figure supplants him as top toy in a boy\\'s room.\"}', metadata={'score': 0.980804443359375, 'nodeLabels': ['Movie'], 'id': '4:69ab0fa5-25bf-4962-9594-4278a50ea22f:0'}), RetrieverResultItem(content=\"{'title': 'Indian in the Cupboard, The', 'plot': 'On his ninth birthday a boy receives many presents. Two of them first seem to be less important: an old cupboard from his brother and a little Indian figure made of plastic from his best ...'}\", metadata={'score': 0.9048004150390625, 'nodeLabels': ['Movie'], 'id': '4:69ab0fa5-25bf-4962-9594-4278a50ea22f:73'}), RetrieverResultItem(content=\"{'title': 'Powder', 'plot': 'A young bald albino boy with unique powers shakes up the rural community he lives in.'}\", metadata={'score': 0.9004364013671875, 'nodeLabels': ['Movie'], 'id': '4:69ab0fa5-25bf-4962-9594-4278a50ea22f:35'})] metadata={'query_vector': [-0.035501353442668915, -0.014417523518204689, 0.00733293779194355, -0.02529275417327881, -0.027684781700372696, -0.007058443035930395, -0.0207701213657856, -0.0091629046946764, 0.001156800426542759, -0.021580535918474197, 0.014731232076883316, 0.0005163120222277939, 0.022783085703849792, -0.008738091215491295, -0.001960678491741419, 0.033958952873945236, 0.027763208374381065, -0.005084692966192961, -0.007437507621943951, -0.000987691804766655, 0.006934266537427902, 0.008542022667825222, -0.00045749166747555137, -0.019449932500720024, 0.006659771781414747, 0.002060346305370331, 0.018992440775036812, -0.026207737624645233, 0.022338664159178734, 0.018848657608032227, 0.004516096320003271, 0.004679486155509949, 0.0064735072664916515, -0.005685967858880758, -0.0448080413043499, -0.03100486472249031, 0.0009182511130347848, -0.018116669729351997, 0.0038690725341439247, -0.007267581764608622, 0.01401231624186039, 0.027109649032354355, -0.01637820154428482, 0.006620557978749275, -0.02363271266222, 0.01674419455230236, 0.012646377086639404, -0.017345469444990158, -0.010907908901572227, -0.0005314255831763148, 0.01411688607186079, 0.013371828012168407, -0.021240685135126114, -0.024678407236933708, 0.014260669238865376, -0.02815534546971321, -0.011175868101418018, -0.014352167025208473, 0.01703176088631153, -0.0036207197699695826, 0.0004019391199108213, 0.01513643842190504, 0.008019175380468369, 0.013313007541000843, -0.008385168388485909, 0.0026730585377663374, -0.0103850606828928, -0.01470508985221386, -0.003888679202646017, -0.008809982798993587, 0.020090419799089432, 0.017201686277985573, 0.0020587125327438116, -0.002651817863807082, 0.015580859035253525, -0.0002138365089194849, -0.021175328642129898, 0.022717729210853577, 0.003764502936974168, -0.0016575903864577413, 0.031475428491830826, -0.025554178282618523, -0.024050990119576454, 0.01220195647329092, 0.013195366598665714, -0.002182888798415661, -0.013188831508159637, 0.02367192693054676, -0.028730476275086403, 0.020600195974111557, 0.0018528412329033017, 0.00442133005708456, 0.01437830924987793, 0.00666957488283515, -0.01658734120428562, 0.01828659512102604, -0.00249986513517797, 0.026260022073984146, -0.0016927191754803061, -0.035422924906015396, 0.005931052844971418, -0.010156314820051193, -0.016273632645606995, -0.0018577430164441466, 0.020090419799089432, 0.027632497251033783, 0.004653343930840492, 0.001888787024654448, 0.013803177513182163, -0.006460436154156923, 0.011737928725779057, 0.011273901909589767, 0.029540890827775, -0.028050774708390236, -0.013437183573842049, -0.015633143484592438, 0.012469915673136711, 0.002862590830773115, 0.004006320144981146, -0.01075758971273899, 0.024260129779577255, 0.02317522093653679, 0.007679324597120285, -9.158768989436794e-06, 0.0020472751930356026, 0.013711678795516491, -0.022665444761514664, -0.008123745210468769, -0.00800610426813364, 0.008770768530666828, 0.027893921360373497, 0.01934536173939705, 0.017868317663669586, -0.0007217748207040131, -0.033540673553943634, 0.008457059971988201, -0.03231198340654373, 0.015149509534239769, 0.007038836367428303, -0.017606893554329872, -0.0006294595077633858, 0.0018217972246930003, 0.004029194358736277, 0.005169655662029982, -0.005431079771369696, 0.020142704248428345, 0.012443773448467255, 0.008561629801988602, -0.012999298982322216, 0.021436752751469612, -0.00963346753269434, 0.005993140861392021, 0.012940478511154652, -0.025737173855304718, 0.014143028296530247, 0.0023364752996712923, -0.022090312093496323, 0.008162958547472954, 0.011267365887761116, -0.030769582837820053, -0.0055160424672067165, 0.0026730585377663374, 0.021175328642129898, -0.0034148485865443945, 0.009914497844874859, 0.024469269439578056, 0.006094442680478096, 0.004372313152998686, 0.008221779018640518, 0.007947283796966076, -0.005512774456292391, 0.01230652630329132, -0.034612514078617096, 0.034900080412626266, -0.009319758974015713, 0.009215189144015312, -0.014038458466529846, 0.024103274568915367, -0.02053484134376049, -0.019214650616049767, -0.038638439029455185, -0.019410718232393265, 0.002416536444798112, 0.010633413679897785, -0.012502593919634819, -0.014182241633534431, -0.009084477089345455, -0.02440391294658184, 0.00016778099234215915, 0.02309679426252842, 0.0032367536332458258, 0.024247057735919952, -0.027344930917024612, -0.018312737345695496, -0.6474944949150085, -0.03142314404249191, 0.0033821705728769302, -0.0018936886917799711, -0.0017548073083162308, 0.006414686795324087, 0.014966513030230999, 0.0037383604794740677, -0.013397970236837864, 0.010051745921373367, -0.006600951310247183, 0.02261316031217575, -0.010228206403553486, -0.01568542793393135, -0.010600735433399677, 0.0010514139430597425, 0.03063886985182762, -0.024704549461603165, 0.02109690196812153, 0.01470508985221386, -0.011581074446439743, 0.010071352124214172, 0.003944231662899256, 0.002199227921664715, 0.008666199631989002, 0.011940532363951206, 0.02917489781975746, 0.0027808959130197763, -0.00634606322273612, 0.0020391056314110756, -0.01666576787829399, 0.036965325474739075, -0.02371113933622837, 0.023397430777549744, 0.05448072403669357, -0.005352652631700039, -0.014051529578864574, 0.003921356983482838, 0.015659285709261894, 0.010411202907562256, -0.03212898597121239, -7.612947229063138e-05, 0.010371989570558071, -0.033305395394563675, -0.00867927074432373, 0.002516204258427024, 0.014103814959526062, -0.003989981021732092, -0.013750892132520676, -0.011685644276440144, 0.016038350760936737, 0.009770714677870274, 0.019502216950058937, 0.010339311324059963, 0.009594254195690155, 0.005741520319133997, 0.025305824354290962, 0.0007495511090382934, -0.010215135291218758, -0.01132618635892868, 0.0147704454138875, 0.00667937844991684, -0.013018906116485596, -0.00839170441031456, -0.02436469867825508, 0.02786777913570404, -0.004891892895102501, 0.002614238066598773, 0.0022580481600016356, -0.030246734619140625, 0.008306741714477539, 0.02167203463613987, -0.011679109185934067, 0.01637820154428482, 0.008457059971988201, 0.036442480981349945, 0.03129243105649948, -0.004901696462184191, 0.0019639465026557446, 0.014796587638556957, 0.009770714677870274, 0.0062284222804009914, -0.028442909941077232, -0.0009484782931394875, 0.041331104934215546, -0.014861944131553173, -0.01686183549463749, 0.009659609757363796, -0.0035292215179651976, -0.010437346063554287, 0.010535379871726036, 0.03887372091412544, -0.027397215366363525, -0.01718861609697342, -0.0030880686827003956, 0.0037122180219739676, -0.009038728661835194, 0.017789890989661217, -0.003944231662899256, -0.04054683446884155, -0.013973102904856205, 0.00015133987471926957, -0.013816248625516891, 0.0011951969936490059, -0.003891946980729699, 0.014208383858203888, 0.013920818455517292, 0.03377595543861389, 0.034194234758615494, -0.05531727895140648, 0.016796479001641273, 0.00735254492610693, 0.0032923060934990644, 0.005431079771369696, -0.011182403191924095, -0.02484833262860775, 0.01764610782265663, 0.0004623933637049049, 0.024090204387903214, -0.015633143484592438, 0.015672357752919197, 0.01020206417888403, 0.018430378288030624, -0.00877730455249548, -0.004865750670433044, -0.0005089594633318484, 0.0016069394769147038, 0.0017302988562732935, -0.01999892108142376, 0.02024727500975132, -0.0016461530467495322, -0.009940640069544315, 0.02199881337583065, -0.011868640780448914, 0.014182241633534431, 0.016234418377280235, 0.009868748486042023, -0.00932629406452179, 0.01788138784468174, -0.011796749196946621, -0.01907086744904518, 0.029436321929097176, -0.00158651580568403, 0.012626769952476025, 0.004503025207668543, -0.037096038460731506, -0.016914119943976402, 0.005757859442383051, -0.025514964014291763, 0.01285551581531763, -0.0012197054456919432, 0.0011249392991885543, 0.03160613775253296, -0.018142811954021454, 0.0027776279021054506, 0.012868586927652359, -0.009581183083355427, 0.003888679202646017, -0.0006964493659324944, -0.01287512294948101, 0.008032246492803097, 0.03401123732328415, -0.030743440613150597, -0.001777681871317327, -0.021031545475125313, -0.018966296687722206, 0.0002387534623267129, 0.0036501300055533648, -0.020090419799089432, -0.018182026222348213, -0.01364632323384285, -0.02386799454689026, -0.009692288003861904, -0.002109363442286849, -0.029671601951122284, 0.0017253971891477704, -0.0020342040807008743, -0.0205740537494421, 0.004728503059595823, -0.003676272463053465, -0.012646377086639404, 0.0010056647006422281, 0.018809443339705467, 0.007738145068287849, 0.03435108810663223, -0.0011143189622089267, 0.03631176799535751, 0.019214650616049767, -0.015750784426927567, 0.014208383858203888, -0.009875284507870674, 0.002321770181879401, -0.012365346774458885, -0.011868640780448914, -0.015567787922918797, -0.035501353442668915, 0.009823000058531761, 0.035658206790685654, 0.034481801092624664, 0.02663908712565899, 0.020587125793099403, -0.0032628958579152822, 0.018025171011686325, 0.009136762470006943, -0.0010922614019364119, -0.02802463248372078, -0.0032024416141211987, -0.01959371380507946, 0.014522092416882515, 0.0008063290733844042, 0.013051583431661129, -0.010293562896549702, 0.012064709328114986, -0.012561414390802383, 0.056728966534137726, 0.006130388472229242, -0.017136331647634506, 0.01124122366309166, -0.011012477800250053, 0.00653886329382658, -0.0264822319149971, -0.01694026216864586, 0.018848657608032227, -0.0013781936140730977, 0.0005816679913550615, -0.004339635372161865, 0.004339635372161865, -0.007012693677097559, 0.0077054668217897415, -0.03853387013077736, -0.008345955051481724, -0.009620396420359612, 0.0038135198410600424, 0.014417523518204689, 0.004101085942238569, 0.0069865514524281025, 0.002421437995508313, 0.0009525630157440901, 0.04052069038152695, 0.012940478511154652, 0.011273901909589767, 0.013188831508159637, 0.011280437931418419, -0.012718268670141697, -0.01568542793393135, 0.014143028296530247, 0.005284028593450785, 0.025397323071956635, -0.007698931265622377, 0.026220807805657387, -0.010685698129236698, -0.015711572021245956, -0.018312737345695496, 0.012352274730801582, 0.0035128823947161436, -0.007280653342604637, 0.018835585564374924, -0.015580859035253525, 0.014156099408864975, 0.01097980048507452, 0.011744464747607708, 0.00528729660436511, 0.020116562023758888, 0.0013969835126772523, 0.04365777596831322, 0.016626553609967232, -0.013018906116485596, -0.01390774641185999, 0.0007642561686225235, 0.020090419799089432, -0.012652912177145481, 0.030952580273151398, 0.004382116720080376, -0.026207737624645233, 0.0005432713660411537, -0.01820816844701767, -0.010685698129236698, 0.013620181009173393, 0.011888247914612293, 0.0066728428937494755, 0.013999245129525661, -0.05385330691933632, 0.0044670794159173965, 0.01955450139939785, 0.007777358405292034, 0.007783893961459398, -0.039082858711481094, 0.01690104976296425, -0.00222046859562397, 0.03254726529121399, -0.011829427443444729, -0.0020325700752437115, 0.017044832929968834, 0.006218618713319302, 0.0010064817033708096, -0.007424436043947935, 0.008555094711482525, -0.007189154624938965, 0.00481673376634717, -0.022508589550852776, 0.01543707586824894, -0.0018070921069011092, -0.021031545475125313, -0.028181487694382668, 0.01820816844701767, 0.01535864919424057, -0.005833019036799669, -0.034847795963287354, -0.010751054622232914, -0.013946960680186749, -0.010992871597409248, -0.019162366166710854, -0.02977617271244526, 0.004646808374673128, 0.0006833781953901052, -0.013169224373996258, -0.0015113564440980554, -0.015502432361245155, 0.034612514078617096, 0.005538917146623135, -0.018757158890366554, 0.020194988697767258, -0.011554932221770287, 0.00810413807630539, 0.12966620922088623, -0.007019229233264923, 0.007940748706459999, -0.012711732648313046, -0.009123691357672215, -0.01562007237225771, -0.013254187069833279, -0.020639410242438316, 0.030691156163811684, -0.019698284566402435, -0.023188292980194092, -0.021985743194818497, 0.022508589550852776, 0.016404343768954277, 0.017005618661642075, -0.013515611179172993, 0.019502216950058937, 0.0004901696229353547, 0.008019175380468369, -0.024273201823234558, -0.008149887435138226, 0.007738145068287849, -0.008640057407319546, 0.005885303486138582, -0.00028041788027621806, -0.01674419455230236, 0.0031795671675354242, 0.04635044187307358, 0.004597791470587254, -0.032939400523900986, -0.004496489651501179, -0.015711572021245956, -0.006332991644740105, 0.005578130483627319, -0.008986443281173706, 0.0051108356565237045, 0.0041304961778223515, 0.011169332079589367, 0.022600088268518448, -0.002957356860861182, 0.02399870567023754, 0.005803608801215887, 0.01869180239737034, -0.003235119627788663, -0.001689451397396624, 0.00802571140229702, -0.00963346753269434, 0.014940370805561543, -0.0018610107945278287, -0.03795873746275902, 0.029933026060461998, -0.019293077290058136, -0.003744896035641432, -0.0019492412684485316, 0.015515503473579884, 0.0016412513796240091, -0.002821743255481124, -0.012594091705977917, -0.01963292807340622, -0.0036370588932186365, -0.01869180239737034, -0.021279897540807724, 0.0012417631223797798, -0.005555255804210901, -0.009234796278178692, -0.038716867566108704, -0.004852679558098316, -0.010130172595381737, 0.0031011400278657675, -0.032207414507865906, 0.003372367238625884, -0.014391381293535233, -0.017345469444990158, -0.0008512613130733371, -0.0020309363026171923, 0.0011478139786049724, 0.010051745921373367, -0.030848009511828423, 0.003924624994397163, -0.0023658855352550745, -0.004473614972084761, -0.03194598853588104, 0.01001906767487526, -0.024586910381913185, 0.002540712710469961, -0.012371881864964962, 0.021933458745479584, 0.01437830924987793, -0.01869180239737034, 0.002926312852650881, 0.0150710828602314, 0.026874367147684097, 0.00802571140229702, 0.0012817935785278678, 0.022024955600500107, -0.019606785848736763, 0.0036239875480532646, 0.015162580646574497, 0.014613591134548187, 0.027188075706362724, -0.011293509043753147, -0.018848657608032227, -0.013920818455517292, 0.012208491563796997, 0.004695825278759003, 0.008711948990821838, 0.012888194061815739, 0.004463811405003071, -0.0211884006857872, 0.006666307337582111, -0.004728503059595823, -0.0027498516719788313, -0.007045371923595667, -0.010496165603399277, 0.016482770442962646, -0.010117101483047009, 0.005261154379695654, 0.015201794914901257, 0.004882089793682098, -0.016600411385297775, -0.015515503473579884, -0.024142488837242126, 0.02053484134376049, 0.0209792610257864, -0.001875715795904398, 0.00859430804848671, -0.0037187538109719753, -0.022587018087506294, -0.027266504243016243, 0.027606355026364326, -0.01882251538336277, -0.01209738664329052, -0.015005726367235184, -0.013842390850186348, -0.028913473710417747, -0.0027776279021054506, -0.01346332672983408, 0.0035096146166324615, 0.015084153972566128, -0.026168523356318474, -0.011489576660096645, -0.01180982030928135, -0.007529005873948336, -0.036154914647340775, 0.004447472747415304, -0.01999892108142376, -0.017162473872303963, 0.024103274568915367, -0.011515718884766102, 0.003686075797304511, -0.013763963244855404, 0.008692341856658459, -0.03348838910460472, 0.019933566451072693, 0.02567181922495365, -0.048258837312459946, -0.00798649713397026, -0.00567289674654603, 0.014574377797544003, 0.01726704277098179, 0.04080825671553612, -0.011770606972277164, 0.013515611179172993, -0.013855461962521076, -0.003017811104655266, 0.0015293293399736285, -0.006738198921084404, 0.0004235882661305368, -0.024142488837242126, 0.0151756526902318, 0.02521432749927044, 0.00924786739051342, 0.01976364105939865, 0.005525846034288406, -0.006676110439002514, 0.01763303577899933, 0.009175975807011127, -0.019201578572392464, -0.016835693269968033, 0.009724966250360012, 0.016626553609967232, -0.04216765984892845, -0.013567895628511906, -0.00252600759267807, -0.02032570168375969, -0.012064709328114986, 0.023567356169223785, 0.021083829924464226, -0.012130064889788628, -0.0037416282575577497, 0.016430485993623734, -0.016521984711289406, 0.03401123732328415, 0.0010203698184341192, 0.02134525403380394, -0.003918089438229799, -0.0022760210558772087, 0.021201470866799355, 0.01699254848062992, 0.0060683004558086395, 0.003150156931951642, 0.01722782850265503, -0.013960031792521477, 0.01181635633111, 0.0013071190332993865, 0.025854814797639847, -0.005029140505939722, -0.020116562023758888, 0.016247490420937538, -0.03526607155799866, -0.01126083079725504, -0.038481585681438446, -0.019907422363758087, -0.031109433621168137, -0.026377663016319275, -0.010796803049743176, -0.01248298678547144, 0.013685536570847034, -0.03262569010257721, -0.030769582837820053, 0.010973264463245869, -0.0005216221907176077, 0.03683461621403694, 0.00932629406452179, 0.010914443992078304, 0.024050990119576454, -0.03923971578478813, 0.0037220215890556574, 0.013450254686176777, 0.0031109433621168137, -0.01531943492591381, 0.020025063306093216, 0.017057903110980988, -0.00044237810652703047, -0.001161702093668282, 0.005617344286292791, -0.014234527014195919, -0.021763531491160393, -0.040886685252189636, 0.0008255273569375277, -0.016064492985606194, 0.00419585220515728, -0.03989327326416969, -0.01354175340384245, 0.013045048341155052, 0.004944177810102701, -0.022351736202836037, -0.01747618243098259, -0.009391650557518005, -0.03976256027817726, -0.024717621505260468, 0.00808453094214201, -0.011685644276440144, 0.0056075407192111015, 0.01629977487027645, -0.021279897540807724, 0.011149725876748562, -0.00810413807630539, 0.010162850841879845, 0.01657426916062832, -0.022011885419487953, 0.024495411664247513, 0.01419531274586916, 0.01641741581261158, 0.008718484081327915, 1.0313986422261223e-05, 0.016182133927941322, -0.00810413807630539, 0.003320082323625684, 0.025632604956626892, 0.006685914006084204, 0.013188831508159637, -0.0023479126393795013, 0.0013087529223412275, 0.007966890931129456, 0.009692288003861904, -0.017489252611994743, -0.007894999347627163, 0.020025063306093216, -0.009025657549500465, 0.012522201053798199, 0.007496327627450228, -0.01180982030928135, -0.013894675299525261, -0.01525407936424017, -0.0040389979258179665, -0.019894352182745934, 0.006600951310247183, 0.0059375884011387825, 0.0033151807729154825, 0.0012041834415867925, -0.012463380582630634, -0.005499703343957663, 0.015502432361245155, 0.00782310776412487, -0.009130226448178291, 0.017332399263978004, 0.004679486155509949, -0.016887977719306946, 0.02020806074142456, -0.00934590119868517, 0.01267251931130886, -0.014927299693226814, -0.00010783732432173565, 0.03186756372451782, -0.014051529578864574, 0.013149618171155453, -0.012084315530955791, -0.01616906188428402, -0.01845652051270008, 0.012071244418621063, -0.017816033214330673, 0.00798649713397026, -0.012064709328114986, 0.001998258288949728, 0.01967214234173298, 0.006960409227758646, -0.04948752745985985, -0.02188117243349552, 0.014221454970538616, 0.023894136771559715, 0.005862428806722164, 0.024796048179268837, 0.0017956547671929002, -0.003359295893460512, -0.02244323492050171, 0.021123044192790985, 0.005522578023374081, -0.0121169937774539, -0.0018691802397370338, -0.020639410242438316, 0.01576385647058487, -0.019449932500720024, -0.03063886985182762, -0.03691304102540016, 0.010149779729545116, -0.010515772737562656, 0.026704441756010056, 0.01065301988273859, -0.0005583849269896746, 0.008568165823817253, 0.024064062163233757, -0.012437237426638603, 0.0272926464676857, 0.0021698176860809326, -0.0031174789182841778, 0.022142596542835236, -0.02948860637843609, -0.020717836916446686, -0.013946960680186749, -0.00961386039853096, -0.006512720603495836, -0.0061434595845639706, -0.03327925130724907, -0.020665552467107773, 0.011489576660096645, -0.01869180239737034, 0.0046827541664242744, -0.010836017318069935, 0.014574377797544003, 0.02786777913570404, -0.017816033214330673, -0.0050879609771072865, 0.027475642040371895, 0.001316105481237173, 0.02484833262860775, 0.009862213395535946, -0.010803339071571827, -0.0042448691092431545, 0.0058068763464689255, -0.004382116720080376, 0.010711840353906155, -0.00011049240856664255, -0.026207737624645233, 0.015397862531244755, 0.014430594630539417, 0.010332776233553886, 0.00999946054071188, 0.013881604187190533, -0.025972455739974976, -0.03262569010257721, 0.003065194236114621, 0.016352059319615364, 0.0021812550257891417, 0.01305811945348978, -0.023854922503232956, -0.0061434595845639706, -0.006199012044817209, 0.01686183549463749, -0.012803231365978718, -0.015162580646574497, 0.0016388004878535867, -0.004473614972084761, 0.004839608445763588, 0.0019476073794066906, -0.021776603534817696, -0.009274009615182877, -0.006084639113396406, 0.010888301767408848, -0.023606570437550545, -0.007698931265622377, 0.02317522093653679, 0.020547911524772644, -0.03599805757403374, -0.013803177513182163, 0.016404343768954277, 0.01951528713107109, -0.007012693677097559, -0.007692395709455013, -0.015345578081905842, 0.0015129903331398964, 0.004934374243021011, -0.0030995060224086046, -0.02288765460252762, 0.00696694478392601, -0.004839608445763588, 0.010110566392540932, -0.04624587297439575, 0.028861189261078835, 0.011084369383752346, -0.018927084282040596, -0.004914767574518919, -0.0017695124261081219, 0.003996516577899456, -0.020338771864771843, 0.00686237495392561, 0.011208546347916126, -0.003463865490630269, -0.02823377214372158, -0.019332291558384895, -0.018025171011686325, -0.012907800264656544, 0.04106968268752098, 0.0062676360830664635, -0.010156314820051193, 0.02656065858900547, 0.2518034279346466, -0.00849627424031496, -0.012809766456484795, 0.03764503076672554, -0.001882251468487084, -0.0033070112112909555, 0.009790321812033653, -0.004110889509320259, -0.025162041187286377, -0.011084369383752346, 0.0027808959130197763, 0.006440829019993544, -0.015711572021245956, 0.006816626060754061, -0.021292969584465027, -0.006313384976238012, -0.005355920176953077, 0.0031975400634109974, -0.008770768530666828, -0.009515826590359211, 0.028416767716407776, -0.01666576787829399, 0.01658734120428562, -0.02619466558098793, 0.01488808635622263, -0.026795940473675728, -0.0029965704306960106, -0.0035063468385487795, 0.01799902878701687, 0.014443665742874146, -0.017201686277985573, -0.023240577429533005, 0.002191058360040188, -0.028782762587070465, -0.017123259603977203, -0.01653505675494671, -0.019136223942041397, 0.004137031733989716, 0.01629977487027645, 0.010666091926395893, -0.004094550386071205, -0.0033625636715441942, 0.002810305915772915, 0.00016624919953756034, 0.014469807967543602, 0.019083937630057335, -0.016678839921951294, 0.0031942722853273153, -0.0005395950865931809, 0.014430594630539417, -0.03654704988002777, -0.026495303958654404, 0.026299236342310905, 0.038272447884082794, -0.0025733907241374254, 0.015214866027235985, 0.04334406927227974, 0.0014843971002846956, -0.009973318316042423, 0.0005587933701463044, 0.00015501615416724235, 0.021502109244465828, -0.013247651979327202, 0.007104191929101944, -0.021972671151161194, 0.016809551045298576, -0.012430702336132526, 0.002939383964985609, 0.017410825937986374, -0.015241008251905441, 0.019123151898384094, -0.0005971899954602122, -0.018221240490674973, 0.0018479395657777786, -0.011025548912584782, -0.024756835773587227, 0.020482555031776428, 0.010953657329082489, -0.01132618635892868, 0.020338771864771843, -0.004137031733989716, -0.00378410960547626, -0.0005579764256253839, -0.01601220853626728, 0.0025864618364721537, -0.02948860637843609, 0.009280545637011528, -0.008502809330821037, -0.01134579349309206, -0.0029638924170285463, 0.007280653342604637, -0.016025280579924583, -6.893010890962614e-07, -0.01162682380527258, -0.0038984825368970633, 0.012247705832123756, -0.00048159167636185884, 0.020743979141116142, 0.009940640069544315, -0.01183596346527338, -0.015633143484592438, -0.018757158890366554, 0.02750178426504135, -0.0010677528334781528, -0.005378794856369495, -0.0037579673808068037, 0.009855677373707294, 0.003359295893460512, 0.007940748706459999, 0.003940964117646217, -0.005757859442383051, -0.028259914368391037, 0.002200861694291234, -0.008502809330821037, -0.007189154624938965, 0.021541321650147438, 0.025488821789622307, 0.0024475804530084133, 0.019606785848736763, -0.02041720040142536, 0.026181595399975777, -0.009032192640006542, 0.01861337572336197, 0.01955450139939785, 0.002212299033999443, -0.031475428491830826, -0.0011143189622089267, 0.012809766456484795, 0.012940478511154652, -0.020887762308120728, -0.0022482448257505894, -0.027684781700372696, 0.023475857451558113, -0.008241385221481323, -0.0016502378275617957, 0.0024835262447595596, 0.0019476073794066906, 0.0003870297805406153, 0.005705574527382851, 0.03547521308064461, 0.0036501300055533648, 0.017946744337677956, 0.0006229239515960217, -0.002628943184390664, 0.019567571580410004, -0.012685590423643589, 0.008300205692648888, -0.015058011747896671, -0.0023724210914224386, -0.008744626305997372, -0.023188292980194092, 0.002514570252969861, -0.00013163097901269794, 0.004529167432337999, 0.014535163529217243, -0.009287080727517605, -0.020966188982129097, -0.02998531050980091, -0.003895214758813381, 0.003349492559209466, -0.028181487694382668, 0.002825011033564806, 0.013672465458512306, 0.010953657329082489, -0.002419804222881794, -0.0007544527761638165, -0.16605640947818756, 0.01285551581531763, 0.025606462731957436, -0.037331320345401764, 0.008646592497825623, -0.009757643565535545, 0.009809928946197033, 0.013580966740846634, -0.01364632323384285, -0.002934482181444764, 0.02875661849975586, 0.010914443992078304, -0.015397862531244755, -0.006022551096975803, 0.011888247914612293, -3.987734453403391e-05, -0.023201363161206245, -0.015018798410892487, 0.005081425420939922, 0.016770336776971817, 0.022547803819179535, 0.005205601453781128, -0.002944285748526454, 0.01768532022833824, -0.012554878368973732, 0.02203802764415741, 0.013750892132520676, 0.02917489781975746, -0.006019283086061478, -0.002936116186901927, -0.015672357752919197, -0.036599334329366684, 0.011554932221770287, 0.025070544332265854, 0.019985850900411606, -0.0018806175794452429, -0.012724803760647774, -0.00709765637293458, -0.010032138787209988, 0.03027287684381008, -0.01535864919424057, 0.017123259603977203, 0.020757051184773445, 0.014966513030230999, -0.0016608581645414233, 0.020391058176755905, 0.007803500629961491, 0.02330593205988407, 0.015031869523227215, -0.016195205971598625, 0.008215242996811867, -0.03144928440451622, -0.011842498555779457, 0.0023283057380467653, 0.02513589896261692, 0.01894015446305275, 0.024416983127593994, 0.043317925184965134, -0.0075224703177809715, -0.005970266181975603, 0.0022613159380853176, -0.03131857141852379, -0.002527641598135233, -0.014103814959526062, -0.04786669835448265, -0.018312737345695496, 0.01124122366309166, 0.016639625653624535, -0.04648115485906601, 0.005770930554717779, -0.023397430777549744, 0.02171124704182148, 0.001999892061576247, -0.006316652987152338, -0.007940748706459999, 0.036965325474739075, -0.01132618635892868, 0.008280599489808083, 0.011953603476285934, -0.0036174519918859005, 0.002762923017144203, 0.025488821789622307, 0.00771853793412447, -0.023201363161206245, -0.01865258812904358, 0.017097117379307747, -0.0031959060579538345, -0.005411473102867603, -0.024011777713894844, -0.022822298109531403, -0.002950821304693818, -0.047840557992458344, -0.029828457161784172, -0.015267150476574898, -0.020351843908429146, 0.02656065858900547, -0.0025439804885536432, -0.00828713458031416, 0.021619750186800957, -0.0011657867580652237, 0.0009819732513278723, -0.0031174789182841778, -0.008653128519654274, 0.00735254492610693, 0.0003843746962957084, 0.008202171884477139, -0.025554178282618523, 0.008339419960975647, 0.02134525403380394, -0.020665552467107773, -0.015201794914901257, 0.010228206403553486, -0.0009787053568288684, 0.03526607155799866, -0.0006833781953901052, 0.01878330111503601, 0.01094058621674776, 0.005826483014971018, 0.01799902878701687, 0.0006106696673668921, 0.04509560763835907, -0.012156207114458084, -0.006849303841590881, 0.012927407398819923, -0.011777142994105816, 6.494109356935951e-07, -0.10090959072113037, -0.016182133927941322, 0.02594631351530552, 0.018482662737369537, -0.012633305974304676, 0.024299344047904015, -0.0023756888695061207, 0.010090959258377552, -0.004620665684342384, 0.041043538600206375, 0.04070368781685829, -0.030194450169801712, 0.009260938502848148, -0.022547803819179535, 0.023684997111558914, -0.03108329139649868, 0.004084747284650803, -0.00877730455249548, 0.0014982852153480053, 0.00935243722051382, 0.007816571742296219, 0.01047002337872982, -0.021371396258473396, -0.002416536444798112, 0.013234580866992474, -0.01682262308895588, -0.02721421793103218, 0.006074836011976004, 0.013489468954503536, -0.011692180298268795, -0.005378794856369495, -0.02273080125451088, 0.023554285988211632, -0.0014468174194917083, -0.04062525928020477, 0.018600303679704666, -0.050977643579244614, 0.0022335397079586983, 0.023319004103541374, -0.042141519486904144, -0.005800340790301561, 0.0029018044006079435, -0.02182888798415661, -0.008143351413309574, -0.016469700261950493, -0.0046664150431752205, -0.0006707154680043459, 0.01805131509900093, 0.004460543859750032, -0.023933349177241325, -0.029070327058434486, -0.004094550386071205, 0.0036272553261369467, 0.008424382656812668, 0.03861229866743088, 0.012391488999128342, 0.017384683713316917, 0.01285551581531763, -0.007659717462956905, 0.010587664321064949, -0.001515441108494997, 0.0033249841071665287, -0.02073090896010399, -0.00414356729015708, -0.002725343219935894, 0.011169332079589367, 0.012391488999128342, 4.403867933433503e-06, 0.003918089438229799, -0.031214002519845963, -0.03955342248082161, 0.023894136771559715, -0.03296554088592529, 0.0019034921424463391, -0.022874584421515465, -0.00506181875243783, -0.0005718645988963544, -0.01759382337331772, 0.02184196002781391, -0.025371180847287178, 0.006065032444894314, -0.018887870013713837, 0.019280005246400833, -0.0011175867402926087, 0.047317709773778915, 0.01513643842190504, -0.009372043423354626, 0.0047742524184286594, 0.014090743847191334, -0.0041304961778223515, -0.02554110623896122, 0.0009827901376411319, -0.009914497844874859, -0.006940802093595266, -0.024573838338255882, 0.022064169868826866, -0.017750676721334457, -0.004940910264849663, 0.025593390688300133, -0.024639194831252098, -0.013894675299525261, -0.025240469723939896, -0.0484679751098156, 0.02151517942547798, 0.016469700261950493, 0.009241331368684769, 9.946359205059707e-05, -0.01593378186225891, 0.029201040044426918, -0.02053484134376049, -0.0013863631756976247, -0.015776926651597023, -0.006770876701921225, 0.012757482007145882, -0.020181918516755104, -0.015476290136575699, -0.03304396942257881, -0.02480912022292614, 0.025227397680282593, 0.015162580646574497, -0.0006666307453997433, -0.011391542851924896, -3.178443876095116e-05, 0.007123799063265324, 0.015397862531244755, 0.018025171011686325, -0.012411095201969147, 0.031632281839847565, 0.01266598328948021, 0.0037579673808068037, -0.013554824516177177, -0.028861189261078835, 0.013920818455517292, -0.04203695058822632, -0.010718376375734806, 0.006009479984641075, -0.0012360444525256753, -0.010064817033708096, -0.010999406687915325, 0.01513643842190504, 0.015058011747896671, 0.004725235514342785, -0.013790106400847435, -0.02346278727054596, 0.005123906768858433, -0.024586910381913185, 0.00019565939146559685, 0.0006764341378584504, -0.003244922962039709, 0.007130334619432688, 0.02367192693054676, 0.01686183549463749, 0.008195636793971062, 0.022508589550852776, 0.0009615494636818767, -0.008267528377473354, -0.023593498393893242, -0.022992223501205444, 0.0067251273430883884, -0.014260669238865376, 0.008221779018640518, -0.0041697099804878235, 0.004748110193759203, 0.0011666037607938051, 0.026978937909007072, -0.022953011095523834, 0.017528466880321503, 0.006205547600984573, -0.023201363161206245, 0.015737714245915413, 0.024207845330238342, -0.00510430010035634, -0.0035063468385487795, -0.020469484850764275, 0.009104084223508835, -0.03714832291007042, 0.003552095964550972, 0.0003396467072889209, -0.013554824516177177, 0.004617398139089346, -0.028442909941077232, 0.0028887330554425716, 0.008646592497825623, -0.003666468895971775, -0.03445565700531006, 0.007038836367428303, 0.005587934050709009, 0.02815534546971321, -0.016809551045298576, 0.0053853304125368595, 0.010162850841879845, 0.008509345352649689, -0.006908124312758446, -0.0023871262092143297, -0.01584228314459324, -9.874875831883401e-05, 0.021201470866799355, 0.045200176537036896, -0.03495236486196518, -0.000630684953648597, 0.04925224557518959, 0.018848657608032227, 0.01440445240586996, -0.012999298982322216, -0.000760171446017921, 0.0023675193078815937, -0.00818910077214241, 0.01743696816265583, -0.02065248042345047, -0.001900224364362657, -0.008600843138992786, 0.007496327627450228, 0.00971843022853136, -0.00709765637293458, 0.0036141842138022184, 0.00896030105650425, -0.0018381362315267324, 0.010241277515888214, -0.02831219881772995, -0.009077941998839378, -0.022874584421515465, 0.010901372879743576, 0.008921087719500065, 0.0030635602306574583, -0.006025818642228842, -0.01629977487027645, 0.03262569010257721, 0.008666199631989002, 0.011430756188929081, -0.025697961449623108, -0.014182241633534431, -0.003127282252535224, 0.026612944900989532, -0.008855731226503849, -0.003153424710035324, 0.012273848056793213, 0.003253092523664236, 0.013201902620494366, -0.019541429355740547, 0.039736419916152954, -0.018482662737369537, 0.021279897540807724, -0.0077446806244552135, -0.011404613964259624, 0.013332614675164223, -0.00979685690253973, 0.015162580646574497, 0.023946421220898628, 0.013371828012168407, -0.022756943479180336, -0.006398347672075033, 0.004166441969573498, 0.00857470091432333, 0.014312953688204288, 0.007685860153287649, 0.00604869332164526, 0.004597791470587254, -0.01020206417888403, 0.010215135291218758, -0.014718160964548588, -0.006297045852988958, 0.011613752692937851, -0.022913796827197075, 0.027423357591032982, -0.008417846634984016, -0.008077995851635933, 0.0029867670964449644, 0.015816140919923782, 0.026429947465658188, -0.005029140505939722, -0.03212898597121239, 0.007346008904278278, 0.012352274730801582, 0.004280814900994301, -0.008803446777164936, 0.003656665561720729, -0.01010403037071228, -0.018469592556357384, 0.00030533483368344605, -0.0009558307938277721, -0.006810090504586697, -0.012920872308313847, 0.03842930123209953, -0.010607271455228329, -0.013371828012168407, 0.029514748603105545, 0.019541429355740547, 0.017659178003668785, -0.008999514393508434, -0.02692665345966816], '__retriever': 'VectorRetriever'}\n"
          ]
        }
      ]
    },
    {
      "cell_type": "code",
      "source": [
        "query_text = \"A movie about a shooting incident.\"\n",
        "retriever_result = retriever.search(query_text=query_text, top_k=3)\n",
        "print(retriever_result)"
      ],
      "metadata": {
        "colab": {
          "base_uri": "https://localhost:8080/"
        },
        "id": "zZ8yMjQL2b4L",
        "outputId": "3c70af00-22b8-41ca-efc8-57220a8dbfbd"
      },
      "execution_count": 9,
      "outputs": [
        {
          "output_type": "stream",
          "name": "stdout",
          "text": [
            "items=[RetrieverResultItem(content=\"{'title': 'City Hall', 'plot': 'The accidental shooting of a boy in New York leads to an investigation by the Deputy Mayor, and unexpectedly far-reaching consequences.'}\", metadata={'score': 0.930511474609375, 'nodeLabels': ['Movie'], 'id': '4:69ab0fa5-25bf-4962-9594-4278a50ea22f:109'}), RetrieverResultItem(content=\"{'title': 'Usual Suspects, The', 'plot': 'A sole survivor tells of the twisty events leading up to a horrific gun battle on a boat, which begin when five criminals meet at a seemingly random police lineup.'}\", metadata={'score': 0.930145263671875, 'nodeLabels': ['Movie'], 'id': '4:69ab0fa5-25bf-4962-9594-4278a50ea22f:65'}), RetrieverResultItem(content=\"{'title': 'Nick of Time', 'plot': 'An unimpressive, every-day man is forced into a situation where he is told to kill a politician to save his kidnapped daughter.'}\", metadata={'score': 0.91253662109375, 'nodeLabels': ['Movie'], 'id': '4:69ab0fa5-25bf-4962-9594-4278a50ea22f:100'})] metadata={'query_vector': [-0.015812773257493973, -0.005783975124359131, -0.007491624914109707, -0.027529777958989143, -0.02104913257062435, 0.009630237706005573, -0.004387396387755871, -0.013751927763223648, -0.009131228551268578, -0.022474875673651695, 0.025663351640105247, -0.005962193012237549, -0.0023751561529934406, -0.006312147714197636, 0.02794453874230385, -0.0006108007510192692, 0.03582500293850899, -0.018430953845381737, 0.013246437534689903, -0.02939620427787304, -0.0028838866855949163, 0.015981270000338554, -0.005790455732494593, 0.03496955707669258, 0.011470740661025047, -0.009416376240551472, -0.002856343984603882, -0.020634371787309647, -0.0005342481308616698, -0.008262821473181248, -0.001889107865281403, -0.012066960334777832, 0.0032176401000469923, -0.00531412847340107, -0.016434913501143456, 0.0036972076632082462, 0.009766330942511559, -0.03258468210697174, 0.00730368634685874, -0.013220515102148056, 0.018625373020768166, -0.00357083510607481, -0.01034310832619667, -0.029525816440582275, -0.010589373297989368, -0.003949952777475119, 0.02104913257062435, -0.008904405869543552, -0.03509917110204697, 0.002723490819334984, 0.015346165746450424, 0.0031803762540221214, -0.039609700441360474, -0.034580718725919724, 0.019934462383389473, 0.010453279130160809, -0.010932846926152706, -0.006765793077647686, 0.02317478507757187, -0.014879560098052025, -0.010232937522232533, -0.008470202796161175, -0.02041403017938137, 0.007757331244647503, -0.010485682636499405, -0.0019539142958819866, -0.01823653280735016, 0.010783792473375797, -0.01323347631841898, 0.0030540036968886852, 0.03141816332936287, 0.019740043208003044, 0.01704409532248974, -0.004309628624469042, 0.022086037322878838, -0.014581450261175632, -0.010569931007921696, 0.004030961077660322, 0.018534643575549126, 0.011567950248718262, 0.0233562421053648, -0.013168669305741787, -0.020647333934903145, 0.04658287391066551, 0.015177669003605843, -0.01885867491364479, -0.024419069290161133, 0.03222176432609558, 0.00519747706130147, 0.005777494516223669, 0.02278594672679901, 0.005385415628552437, 0.01103653758764267, -0.0028514836449176073, 0.0061080073937773705, 0.017627352848649025, 0.009876501746475697, 0.01638306863605976, -0.00714167021214962, -0.03699151799082756, -0.009720967151224613, -0.0037134091835469007, -0.014659217558801174, -0.003178756218403578, -0.00865166075527668, -0.0033926174510270357, 0.014166688546538353, 0.0030588642694056034, 0.020115921273827553, -0.004345272202044725, -0.021113939583301544, -0.016616372391581535, 0.021036172285676003, -0.04194273054599762, -0.002997298026457429, -0.005061383359134197, 0.012851118110120296, -0.025572624057531357, -0.0024561642203480005, -0.03652491420507431, 0.019169745966792107, 0.014555527828633785, -0.002002519089728594, -0.01692744344472885, 0.024704216048121452, -0.003509269095957279, -0.006804676726460457, -0.01585165597498417, 0.0338548868894577, -0.01639603078365326, 0.014464798383414745, -0.0037944172509014606, 0.012786312028765678, -0.0003092482511419803, -0.026803946122527122, 0.01497028861194849, -0.029914654791355133, 0.03691375255584717, -0.0320662297308445, -0.034839943051338196, 0.028696293011307716, 0.01914382353425026, -0.04357585310935974, -0.004481365438550711, -0.004445722326636314, 0.013687120750546455, 0.017458856105804443, 0.015903500840067863, 0.01813284307718277, 0.0067398701794445515, 0.01694040559232235, -0.009798734448850155, 0.00865166075527668, -0.014801791869103909, 0.006279744673520327, -0.0007351480890065432, -0.01576092652976513, -0.00503546092659235, -0.013389011844992638, -0.004248062614351511, 0.010764350183308125, -0.011509624309837818, 0.0028774060774594545, 0.015035095624625683, 0.03229953348636627, 0.020349223166704178, 0.007485144305974245, -0.02308405563235283, 0.0032143995631486177, -0.017290359362959862, -0.0027413126081228256, 0.044172074645757675, -0.010809714905917645, 0.018521681427955627, -0.0069796540774405, 0.008716466836631298, 0.023213667795062065, 0.023226629942655563, -0.014088921248912811, -0.00730368634685874, -0.01795138604938984, 0.016084959730505943, 0.030355338007211685, 0.021399088203907013, -0.03222176432609558, 0.014918443746864796, -0.0007051751017570496, -0.031107094138860703, -0.008223937824368477, -0.0015561647014692426, -0.005631680134683847, -0.01094580814242363, 0.011548508889973164, -0.03012203611433506, -0.6735722422599792, -0.015035095624625683, -0.0002547703334130347, 0.01602015271782875, -0.008599814958870411, 0.027814926579594612, 0.013479740358889103, 0.019740043208003044, -0.011969750747084618, 0.010006114840507507, -0.010427356697618961, 0.018184687942266464, 0.019740043208003044, -0.011801254004240036, -0.019804850220680237, -0.027037248015403748, -0.012637256644666195, 0.011146708391606808, -0.019921502098441124, -1.822681224439293e-05, -0.0008274972788058221, 0.030899712815880775, -0.012125286273658276, -0.007731408812105656, 0.023822849616408348, 0.01766623742878437, 0.013129785656929016, -0.0338808111846447, -0.012844637036323547, 0.007724928203970194, -0.01564427651464939, 0.018806830048561096, 0.009766330942511559, 0.017718082293868065, 0.04111320897936821, -0.0091636311262846, 0.00015654806338716298, 0.029888732358813286, 0.015683159232139587, 0.027970461174845695, -0.00638667494058609, 0.0283852219581604, 0.02627253346145153, -0.012358589097857475, -0.0025193504989147186, -0.00911826640367508, 0.02572815865278244, -0.010731947608292103, 0.03618791699409485, -0.0043225898407399654, 0.013544547371566296, 0.03377711772918701, -0.004841041285544634, 0.008061922155320644, -0.009442298673093319, 0.005106748081743717, 0.023926539346575737, 0.018897559493780136, 0.0012612954014912248, -0.00647740438580513, -0.02975912019610405, 0.018158765509724617, -0.012475240975618362, 0.003256523748859763, -0.011535546742379665, 0.02983688749372959, 0.0013406833168119192, 0.013894502073526382, 0.001194058801047504, -0.029966499656438828, 0.013492701575160027, 0.016538605093955994, -0.0053206090815365314, -0.023213667795062065, 0.008360031060874462, 0.023032210767269135, 0.025106016546487808, 0.0014848776627331972, 0.002950313501060009, -0.0028174601029604673, -0.0067398701794445515, -0.010680101811885834, -0.00742033775895834, 0.0128187146037817, 0.004124930128455162, 0.015735004097223282, -0.023045171052217484, 0.002499908674508333, 0.02171015925705433, -0.008035998791456223, -0.010096844285726547, -0.006104767322540283, -0.018910519778728485, -0.009740408509969711, -0.013583431020379066, 0.012922405265271664, 0.005434020422399044, 0.011418895795941353, 0.01968819834291935, -0.02334328182041645, -0.011386492289602757, -0.0128187146037817, -0.00702501880005002, 0.013246437534689903, -0.0024043191224336624, 0.0030345618724823, -0.005236360710114241, -0.006940770428627729, 0.044457219541072845, -0.006999095901846886, 0.016136804595589638, -0.003045902820304036, -0.007511066738516092, -0.018249494954943657, 0.0008975692908279598, -0.026959480717778206, 0.02856668084859848, 0.025792965665459633, 0.020128881558775902, -0.0057645332999527454, 0.005673804320394993, -0.01359639223664999, 0.0080035962164402, 0.0016736264806240797, -0.004173534922301769, 0.010006114840507507, 0.0005844731349498034, -0.00901457667350769, -0.021308358758687973, -0.015151746571063995, 0.003297027898952365, -0.008029518648982048, 0.022371184080839157, -0.005576594732701778, 0.009682082571089268, -0.011198553256690502, 0.00783509947359562, 0.00028737608226947486, 0.013609353452920914, -0.024120958521962166, -0.02132132090628147, -0.004675785079598427, 0.01318811159580946, -0.001171376439742744, -0.007990635000169277, -0.02196938544511795, -0.01034958939999342, 0.005621958989650011, -0.01657748781144619, 0.019817810505628586, -0.0040342011488974094, -0.010446798987686634, 0.013661198318004608, 0.012332666665315628, -0.0045332107692956924, 0.0038948673754930496, -0.021308358758687973, -0.022111959755420685, -0.011548508889973164, -0.00920251477509737, 0.0201418437063694, 0.007861021906137466, -0.017834734171628952, 0.0037749754264950752, 0.011937347240746021, -0.03250691294670105, 0.022837791591882706, 0.0008611156372353435, -0.012520604766905308, -0.015540585853159428, 0.016875598579645157, -0.02527451328933239, -0.010919885709881783, 0.030718255788087845, 0.0015383430290967226, 0.028229687362909317, -0.008321147412061691, 0.016059037297964096, 0.004037441685795784, 0.007925827987492085, -0.006033480167388916, 0.0065843346528708935, -0.013214034028351307, 0.010401434265077114, -0.00371016887947917, 0.030018344521522522, 0.008535008877515793, 0.021036172285676003, -0.03077010065317154, 0.022228609770536423, -0.00036352366441860795, 0.015035095624625683, -0.028774062171578407, 0.00012039822468068451, -0.011211515404284, 0.013907463289797306, 0.004215659108012915, 0.021593507379293442, 0.012008634395897388, 0.01666821725666523, 0.02298036590218544, -0.011289282701909542, 0.015164707787334919, 0.004555893130600452, -0.003138252068310976, -0.02601330727338791, -0.003995317500084639, -0.03963562101125717, 0.03398450091481209, -0.005119709298014641, 0.009824656881392002, -0.016149766743183136, 0.00034853717079386115, -0.0009558950550854206, -0.006483884993940592, 0.009928347542881966, -0.0036712849978357553, 0.010654179379343987, -0.009409896098077297, -0.02169719710946083, 0.0030410424806177616, -0.010407915338873863, 0.0020381626673042774, -0.005498826969414949, -0.013518624007701874, -0.004248062614351511, 0.023019248619675636, 0.017549585551023483, 0.022319339215755463, -0.013032576069235802, -0.008360031060874462, 0.021632391959428787, -0.020271455869078636, 0.01185309886932373, 0.0071287089958786964, -0.019390087574720383, 0.0010020696790888906, 0.00933860894292593, 0.023019248619675636, 0.0002734021982178092, -0.008910886012017727, 0.030459029600024223, 0.025028249248862267, -0.03359566256403923, 0.01451664324849844, -0.021502777934074402, 0.02931843511760235, 0.003800898091867566, -0.012838156893849373, 0.003985596355050802, -0.025144901126623154, 0.00207056594081223, 0.0026214206591248512, 0.01620161160826683, -0.009157150983810425, -0.01241043396294117, 0.004529970698058605, -0.006389915477484465, 0.02693355828523636, 0.02169719710946083, 0.0011203413596376777, 0.005758052691817284, 0.027996383607387543, 0.004225380253046751, -0.004964173771440983, -0.005333570297807455, 0.008586853742599487, -0.0006545450887642801, 0.006445000879466534, -0.015449856407940388, -0.002498288406059146, -0.009675602428615093, 0.001104949857108295, 0.012617815285921097, -0.00011493018246255815, 0.014296301640570164, 0.016370108351111412, 0.015877578407526016, 0.01415372733026743, -0.010459760203957558, -0.019467856734991074, -0.022682255133986473, 0.01200215332210064, 0.012922405265271664, -0.0187549851834774, -0.011140228249132633, -0.01392042450606823, -0.014762908220291138, -0.02269521728157997, 0.027270551770925522, -0.01576092652976513, 0.03735443577170372, -0.012488202191889286, 0.020271455869078636, -0.011211515404284, -0.02024553343653679, 0.021100979298353195, -0.0019198909867554903, 0.0013706563040614128, -0.005184515379369259, -0.0014630055520683527, -0.013803772628307343, 0.00883959885686636, -0.023213667795062065, -0.0006278124637901783, 0.018573526293039322, 0.03058864176273346, -0.00819801539182663, 0.006636179983615875, -0.005178034771233797, 0.014348146505653858, -0.01181421522051096, -0.010161650367081165, 0.0030329416040331125, 0.0029260111041367054, -0.0005974344094283879, -0.010466241277754307, -0.011976230889558792, 0.011237437836825848, -0.003966154530644417, 0.0033035085070878267, -0.01822357252240181, -0.005709447897970676, -0.016525642946362495, 0.11219291388988495, 0.01994742453098297, 0.019830772653222084, 0.01299369242042303, -0.023382164537906647, -0.021386126056313515, -0.013259398750960827, -0.0096107954159379, 0.011820695362985134, -0.007485144305974245, 0.006655621808022261, -0.0001057155168382451, 0.017912501469254494, 0.002846623072400689, 0.018003230914473534, -0.0041443719528615475, 0.012157688848674297, 0.000839243468362838, 0.00782861839979887, -0.04878628998994827, -0.015449856407940388, -0.0023378925397992134, 0.033362358808517456, -0.01241043396294117, -0.024937519803643227, -0.046116266399621964, 0.01602015271782875, 0.02160646952688694, -0.0015845175366848707, -0.0034865867346525192, -0.03953193128108978, 0.00985057931393385, -0.007647160440683365, -0.015527624636888504, -0.005900627002120018, -0.01721259206533432, 0.014724024571478367, -0.006305667106062174, 0.03787288814783096, -0.013777850195765495, 0.015073979273438454, -0.009176592342555523, 0.01722555235028267, -0.01497028861194849, -0.0006355082150548697, -0.008340589702129364, 0.0071611120365560055, 0.020012229681015015, 0.00016849675739649683, 0.003920789808034897, 0.03426964953541756, 0.016771908849477768, -0.015242476016283035, 0.0022649853490293026, 0.0034801061265170574, -0.0031058487948030233, 0.010641218163073063, -0.01047920249402523, -0.016162727028131485, 0.032999441027641296, -0.009643198922276497, -0.02848891355097294, -0.013440856710076332, -0.015229514800012112, -0.0011948688188567758, -0.034580718725919724, -0.0032921673264354467, -0.017005210742354393, 0.0017173708183690906, -0.01303905714303255, 0.006590815261006355, -0.01603311486542225, -0.03178108111023903, -0.02113986201584339, 0.010615295730531216, -0.009416376240551472, 0.011055979877710342, -0.006095046177506447, -0.016525642946362495, 0.025883693248033524, -0.01747181825339794, -0.00036453624488785863, 0.0029875771142542362, -0.009034018032252789, 0.0006002697045914829, 0.01149018295109272, -0.016421953216195107, -0.01039495412260294, -0.008347069844603539, 0.01103653758764267, 0.006308907642960548, 0.001107380143366754, 0.024574603885412216, -0.013259398750960827, 0.016240494325757027, 0.006992615293711424, 0.008262821473181248, 0.03468440845608711, 0.01464625634253025, 0.013972269371151924, 0.020919520407915115, -0.03211807459592819, -0.016460837796330452, -0.00391754973679781, -0.006412597838789225, -0.03598053753376007, -0.013363088481128216, 0.022578565403819084, 0.000605940236710012, 0.0021823570132255554, -0.004640141502022743, -0.020621411502361298, 0.014944366179406643, -0.030873790383338928, 0.015112862922251225, 0.01976596564054489, 0.01731628179550171, 0.023395126685500145, -0.0006278124637901783, 0.0059297895058989525, -0.012890001758933067, -0.024341300129890442, 0.007621238008141518, 0.028151920065283775, 0.009908905252814293, -0.013816733844578266, 0.009818176738917828, -0.031107094138860703, -0.001635552616789937, 0.007368492893874645, -0.011386492289602757, 0.017290359362959862, 0.00208190712146461, 0.010939327999949455, -0.022358223795890808, -0.035384319722652435, -0.005988115444779396, 0.005926549434661865, -0.001251574489288032, -0.03403634577989578, -0.02802230603992939, -0.013985230587422848, -0.00041638140100985765, -0.0009915386326611042, -0.0031058487948030233, -0.016642294824123383, -0.014996211044490337, 0.004147612489759922, -0.009578392840921879, -0.0040892865508794785, -0.0008781273500062525, -0.004183256067335606, -0.031366318464279175, -0.0007869932451285422, -0.019843732938170433, -0.05166369676589966, -0.024574603885412216, -0.0052979267202317715, 0.014464798383414745, 0.021917540580034256, 0.050860099494457245, -0.002846623072400689, 0.030433107167482376, 0.0011252019321545959, -0.0036129592917859554, 0.03471033275127411, -0.004669304471462965, -0.009228438138961792, -0.02802230603992939, 0.034295570105314255, 0.03038126230239868, -0.008314667269587517, 0.03069233149290085, -0.000496174325235188, 0.005077585112303495, 0.01180773414671421, 0.017718082293868065, 0.016071997582912445, 0.010453279130160809, -0.006299186497926712, -0.020530682057142258, -0.013868579640984535, -0.005738610867410898, -0.0067398701794445515, -0.011600353755056858, -0.011185592040419579, 0.0077832541428506374, -0.015242476016283035, 0.0045332107692956924, -0.0042221397161483765, 0.0178606566041708, -0.0067398701794445515, -0.0187679473310709, -0.013790811412036419, 0.0020235811825841665, -0.008133208379149437, -0.009092343971133232, -0.00207056594081223, 0.03102932497859001, 0.008748870342969894, 0.018651295453310013, 0.012941846624016762, -0.009908905252814293, 0.0164737980812788, -0.012980731204152107, 0.05194884538650513, -0.0011891982285305858, -0.0007720067515037954, 0.012948327697813511, -0.009196034632623196, -0.024211687967181206, -0.032377298921346664, -0.022423030808568, -0.021852733567357063, 0.028359299525618553, -0.011717005632817745, 0.0015504942275583744, 0.011995673179626465, -0.011192073114216328, -0.014335185289382935, -0.005239601247012615, -0.008165611885488033, 0.02682986855506897, 0.01574796624481678, 0.03193661570549011, 0.014024114236235619, -0.015890540555119514, -0.015475778840482235, 0.047930847853422165, 0.00015988964878488332, 0.016771908849477768, 0.01950673945248127, 0.004517009016126394, 0.008217456750571728, 0.015073979273438454, -0.020802868530154228, 0.008612776175141335, -0.034839943051338196, -0.02461348846554756, 0.008677583187818527, 0.031081171706318855, 0.00035177747486159205, -0.03541024029254913, -0.006726908963173628, -0.0034477028530091047, 0.00714167021214962, 0.0014306022785604, 0.031470008194446564, 0.0011000894010066986, -0.039039403200149536, -0.016603412106633186, 0.014075960032641888, -0.02719278447329998, 0.011457779444754124, -0.0137260053306818, -0.020945442840456963, 0.00993482768535614, -0.00856741238385439, -0.0051099881529808044, -0.011367049999535084, -0.008962730877101421, 0.02820376493036747, -0.0178606566041708, -0.011794772930443287, 0.013933385722339153, 0.009098825044929981, -0.006169573403894901, -0.016901521012187004, 0.014438875950872898, 0.026700254529714584, 0.003574075410142541, 0.012416915036737919, 0.004345272202044725, 0.003959673922508955, 0.00010774071415653452, 0.030199803411960602, -0.015696121379733086, -0.043731387704610825, -0.004199457820504904, 0.014024114236235619, 0.006211697589606047, 0.013985230587422848, 0.012157688848674297, -0.012831675820052624, -0.01692744344472885, -0.008910886012017727, -0.024432029575109482, -0.010906924493610859, 0.005997836589813232, -0.01002555713057518, -0.023667313158512115, -0.01058289222419262, -0.01405003760010004, 0.00887848250567913, 0.013324204832315445, 0.009072902612388134, 0.0237969271838665, 0.04798269271850586, -0.04507936164736748, -0.004529970698058605, -0.01185309886932373, 0.020673256367444992, -0.020543642342090607, -0.003493067342787981, 0.0017270917305722833, -0.005223399493843317, 0.03499548137187958, -0.010472721420228481, -0.017445895820856094, -0.022267494350671768, -0.00783509947359562, -0.002004139358177781, 0.015773888677358627, -0.00771196698769927, 0.024937519803643227, 0.017782889306545258, -0.02177496626973152, -0.01034310832619667, -0.0036680446937680244, 0.02647991292178631, -0.021852733567357063, -0.007569392677396536, 0.03069233149290085, -0.0022714659571647644, 0.003723130328580737, -0.01694040559232235, 0.016538605093955994, -0.005022499710321426, -0.015346165746450424, 0.002853103680536151, 0.017355166375637054, 0.013764888979494572, -0.006150131579488516, -0.005171554163098335, -0.02343401126563549, -0.005852022208273411, -0.02343401126563549, 0.014438875950872898, -0.005119709298014641, 0.001142213586717844, 0.02508009411394596, 0.025339320302009583, -0.007984153926372528, 0.01722555235028267, 0.007400895934551954, -0.005988115444779396, 0.009286763146519661, -0.032921675592660904, -0.026803946122527122, -0.025326358154416084, -0.016888558864593506, 0.008489644154906273, 0.01043383777141571, -0.012799273245036602, -0.025339320302009583, 0.00542105920612812, -0.05225991830229759, 0.012896482832729816, -0.028955519199371338, 0.0036064786836504936, 0.023771004751324654, 0.011412414722144604, -0.014037076383829117, 0.010608814656734467, 0.0004771374515257776, -0.003625920508056879, -0.010129247792065144, -0.008502605371177197, 0.02501528710126877, -0.006561652757227421, 0.025404127314686775, 0.01703113317489624, 0.006785234902054071, 0.005485865753144026, -0.01204751804471016, 0.012287301942706108, 0.003293787594884634, 0.0011648958316072822, -0.024859752506017685, 0.00230224896222353, 0.003353733569383621, -0.010777311399579048, 0.003596757771447301, 0.008697024546563625, -0.007601796183735132, -0.03058864176273346, -0.01094580814242363, 0.019636353477835655, 0.018080998212099075, -0.027685312554240227, -0.0009340228862129152, 0.024393144994974136, -0.009714486077427864, -0.012715024873614311, -0.03743220120668411, -0.007815657183527946, 0.006908366922289133, -0.02830745466053486, 0.015255437232553959, 0.006986134685575962, -0.005667323712259531, -0.0008894684724509716, -0.0034574237652122974, -0.010420876555144787, -0.007517547812312841, -0.0002786677214317024, -0.008347069844603539, -0.003363454481586814, -0.01968819834291935, -0.0013317724224179983, 0.02225453406572342, -0.007407376542687416, 0.022137882187962532, -0.009947788901627064, -0.0033731753937900066, -0.008716466836631298, -0.004099007695913315, -0.03128855302929878, 0.016175689175724983, -0.008301706053316593, -0.03618791699409485, 0.003412059275433421, -0.0035027882549911737, -0.02041403017938137, -0.0017935183132067323, -0.011548508889973164, 0.01730332151055336, -0.029370279982686043, -0.014983249828219414, -0.025313397869467735, -0.00279153767041862, -0.0402836874127388, 0.010919885709881783, -0.003998557571321726, -0.02546893246471882, 0.0421501100063324, 0.20903967320919037, 0.0054761446081101894, -0.017977308481931686, 0.02994057722389698, -0.027581622824072838, 0.030251648277044296, 0.011004134081304073, -0.008709985762834549, -0.0014986490132287145, 0.009545989334583282, 0.003648602869361639, -6.673038296867162e-05, 0.018158765509724617, 0.004879925400018692, -0.016875598579645157, 0.0024383424315601587, -0.004529970698058605, -0.019001249223947525, -0.036395300179719925, -0.024833830073475838, 0.007245360407978296, 0.008982173167169094, 0.0015650755958631635, -0.01821061037480831, 0.012287301942706108, 0.009682082571089268, 0.015605391934514046, 0.009144189767539501, 0.018456876277923584, 0.014542566612362862, -0.010213496163487434, -0.03782103955745697, 0.029992422088980675, -0.026039229705929756, -0.02042699232697487, 0.0014346527168527246, -0.01730332151055336, -0.011684602126479149, 0.01451664324849844, 0.006344550754874945, -0.003596757771447301, 0.0012880280846729875, 0.013803772628307343, -0.012248418293893337, 0.0036032383795827627, 0.0121382474899292, -0.009487663395702839, 0.004617459140717983, 0.003441222244873643, 0.005171554163098335, -0.017964346334338188, -0.00069504912244156, 0.005809897556900978, 0.01976596564054489, -0.006004317197948694, -0.010369030758738518, 0.003057244000956416, -0.005790455732494593, -0.0014800172066316009, -0.03561762347817421, -9.574139403412119e-05, 0.02415984310209751, -0.028359299525618553, 0.018806830048561096, -0.013622314669191837, 0.022202687337994576, -0.007433299440890551, 0.00905994139611721, -0.011334647424519062, -0.027892693877220154, -0.0041670543141663074, 0.0037166497204452753, -0.022034190595149994, -0.00631538825109601, 0.0068630026653409, -0.01638306863605976, -0.011522585526108742, -0.0038268205244094133, 0.013000172562897205, 0.005262283142656088, -0.0046109785325825214, -0.0015010792994871736, 0.0025485134683549404, 0.00430314801633358, -0.027814926579594612, -0.016784869134426117, 0.01640899106860161, -0.019441934302449226, -0.00734905106946826, -0.011911424808204174, 0.003596757771447301, -0.0070833442732691765, -0.0022406827192753553, -3.5592915082816035e-05, 0.009455259889364243, -0.004935010802000761, 0.02672617696225643, 0.030329415574669838, -0.019636353477835655, -0.01208640169352293, -0.0421501100063324, 0.006535729859024286, 0.011237437836825848, -0.030873790383338928, -0.0103042246773839, -0.006205216981470585, -0.00856741238385439, 0.02425057254731655, 0.025131938979029655, -0.005816378630697727, -0.017821772024035454, -0.010420876555144787, 0.009928347542881966, -9.842478903010488e-05, -0.020206648856401443, -0.006850041449069977, 0.03134039789438248, -0.02299332618713379, 0.00574509147554636, -0.024561641737818718, -0.009286763146519661, 0.0014387030387297273, -0.010012595914304256, 0.0017092699417844415, 0.028151920065283775, -0.011334647424519062, -0.0024107997305691242, 0.011665159836411476, 0.009928347542881966, -0.020478837192058563, 0.016084959730505943, -0.0009469841606914997, 0.02316182292997837, -0.016914481297135353, -0.004147612489759922, 0.005502067040652037, 0.029344357550144196, -0.004886406008154154, -0.015229514800012112, 0.01140593457967043, 0.01295480877161026, -0.0060075572691857815, 0.0014581449795514345, -0.0046660639345645905, 0.008496125228703022, -0.006921328138560057, 0.025326358154416084, 0.00600107666105032, -0.032455068081617355, -0.005427539814263582, -0.019908539950847626, -0.021580545231699944, -0.005783975124359131, -0.008820157498121262, 0.026142919436097145, -0.04287594556808472, -0.023732120171189308, -0.03883202001452446, -0.018080998212099075, 0.02509305626153946, -0.010116285644471645, 0.021204669028520584, 0.02023257128894329, -0.005200717132538557, -0.008761831559240818, -0.00852204766124487, -0.16528235375881195, 0.006875963881611824, 0.009234918281435966, 0.0071287089958786964, 0.007679563947021961, -0.001715750666335225, 0.006273264065384865, 0.021100979298353195, -0.0007278574048541486, -0.009928347542881966, 0.010544008575379848, -0.009053460322320461, -0.0060691237449646, -0.001306659891270101, 0.004014759324491024, -0.00367452553473413, 0.004316109232604504, 0.005728889722377062, 0.03344012424349785, -0.004737351089715958, 0.014425914734601974, 0.0002910214534495026, 0.01630530133843422, -0.00224392325617373, -0.0006537350127473474, -0.005774254444986582, -0.012760388664901257, 0.026959480717778206, -0.015968307852745056, 0.00432583037763834, -0.020284418016672134, -0.008599814958870411, 0.0038203399162739515, 0.030251648277044296, -0.007219437975436449, 0.015683159232139587, 0.009144189767539501, -0.0004495947214309126, -0.014464798383414745, 0.01896236650645733, 0.011930866166949272, 0.007154631428420544, 0.004740591626614332, -0.023498816415667534, -0.003211159259080887, 0.030977480113506317, 0.030329415574669838, 0.009098825044929981, 0.024211687967181206, -0.003574075410142541, 0.007135189604014158, -0.05340050905942917, -0.0043549928814172745, 0.0028174601029604673, 0.029733197763562202, 0.031107094138860703, -0.011580911464989185, 0.007407376542687416, -0.008547970093786716, -5.908525054110214e-05, -0.03178108111023903, -0.011872541159391403, -0.0039013479836285114, -0.00938397366553545, -0.029966499656438828, -0.020725101232528687, 0.006772273685783148, -0.014594411477446556, -0.02471717819571495, -4.154194539296441e-05, -0.015216553583741188, -0.009597834199666977, -0.004504047799855471, -0.019377127289772034, 0.0030426625162363052, 0.014257417991757393, -0.0019069296540692449, 0.025222668424248695, -0.009455259889364243, 0.008185054175555706, -0.00989594403654337, 0.03919493779540062, -0.007634199224412441, -0.016603412106633186, 0.013790811412036419, 0.019714120775461197, -0.017601430416107178, -0.01757550798356533, -0.013427895493805408, -0.02810007520020008, 0.0070055765099823475, -0.011477221734821796, -0.013998191803693771, 0.0013803773326799273, 0.011645718477666378, 0.022098997607827187, -0.00018652105063665658, 0.004539691377431154, 0.026959480717778206, -0.012112324126064777, -0.004426280036568642, -0.0009299725061282516, -0.01245579868555069, 0.008535008877515793, -0.007148150820285082, 0.025598546490073204, 0.021412048488855362, 0.008502605371177197, 0.009021056815981865, -0.026596564799547195, 0.006480644457042217, 0.0037134091835469007, 0.02344697155058384, 0.007037980016320944, 0.000340436352416873, 0.014996211044490337, 0.006966692861169577, 0.005877944640815258, 0.0040892865508794785, 0.0011705664219334722, 0.06599888205528259, -0.0007938789785839617, 0.0006715568015351892, -0.015255437232553959, 0.00047754248953424394, -0.029266590252518654, -0.09643199294805527, -0.02050475962460041, 0.00946822203695774, 0.005842301063239574, -0.013401973061263561, 0.03509917110204697, 0.0019117901101708412, 0.0366545245051384, -0.015268398448824883, 0.02784084901213646, -0.0017756966408342123, -0.02874813973903656, -0.01350566279143095, 0.011509624309837818, 0.0329475961625576, 0.013648237101733685, -0.006406117230653763, -0.00974688958376646, -0.01542393397539854, 0.008820157498121262, -0.018145805224776268, -0.005991355981677771, 0.0032581440173089504, -0.018819792196154594, 0.003992076963186264, 0.01176236942410469, -0.030640486627817154, 0.005155352875590324, 0.006380194332450628, 0.03826172649860382, -0.0001550291635794565, -0.01208640169352293, -0.0011762370122596622, -0.007556431461125612, 0.00856741238385439, -0.015086940489709377, -0.037043362855911255, -0.018612410873174667, 0.018456876277923584, -0.03525470569729805, -0.008139689452946186, 0.010129247792065144, 0.002501528710126877, -0.02553373947739601, -0.0019458135357126594, 0.0010660659754648805, -0.00677875429391861, 0.020271455869078636, 0.027581622824072838, -0.009053460322320461, -0.018055075779557228, 0.001073356717824936, -0.010641218163073063, -0.00965616013854742, 0.020997287705540657, 0.022448953241109848, 0.018353184685111046, -0.02015480399131775, -0.01493140496313572, 0.00015209263074211776, -0.008664621971547604, -0.007063902448862791, 0.00024626447702758014, 0.0029260111041367054, 0.003467144910246134, -0.010505124926567078, -0.014205573126673698, 0.013687120750546455, 0.014296301640570164, 0.006882444489747286, -0.017692159861326218, -0.005045181605964899, -0.02574112080037594, 0.00013497968029696494, -0.016266416758298874, -0.0034055786672979593, -0.04751608520746231, -0.005401617381721735, 0.02500232681632042, -0.040076304227113724, -0.009545989334583282, -0.024794945493340492, 0.0283852219581604, -0.015709081664681435, -0.0012758768862113357, 0.025715196505188942, 0.010446798987686634, 0.016447875648736954, -0.004727629944682121, -0.002867685165256262, -0.01217713113874197, -0.0055863154120743275, -0.0030378021765500307, -0.01263077650219202, -0.022448953241109848, 0.019843732938170433, -0.003285686718299985, -0.00647740438580513, -0.00485076243057847, 0.00998019240796566, 0.0018810071051120758, 0.01043383777141571, -0.06563596427440643, 0.004335551057010889, 0.0029600344132632017, 0.00212889164686203, -0.01730332151055336, 0.0006897835992276669, 0.023291436955332756, -0.0045332107692956924, 0.021943463012576103, 0.007854540832340717, 0.009727447293698788, 0.032636526972055435, 0.01002555713057518, -0.006901886314153671, -0.01831430196762085, -0.0046433815732598305, -0.013622314669191837, 0.001785417553037405, 0.006856522057205439, -0.007569392677396536, -0.017549585551023483, -0.021282436326146126, -0.019830772653222084, 0.005200717132538557, -0.005761292763054371, -0.00037952273851260543, -0.004131410736590624, 0.015449856407940388, -0.025598546490073204, -0.003019980387762189, 0.003596757771447301, -0.014996211044490337, 0.016681179404258728, -0.004824839998036623, 0.002391357906162739, -0.031003402546048164, 0.0007440589834004641, 0.005968673620373011, 0.028514835983514786, 0.022656332701444626, -0.004115209449082613, -0.017057055607438087, 0.00795823149383068, -0.004005038179457188, -0.010252379812300205, 0.015372089110314846, -0.015527624636888504, -0.0034833464305847883, 0.031366318464279175, 0.002702428726479411, 0.011302243918180466, 0.015877578407526016, -0.015592430718243122, -0.0035837963223457336, -0.00819153431802988, 0.012028075754642487, 0.026778023689985275, -0.006376954261213541, 0.007750850636512041, -0.00965616013854742, 0.020388107746839523, -0.0034282610286027193, 0.010926366783678532, 0.005294686648994684, 0.027866771444678307, 0.01355750858783722, -0.016888558864593506, 0.012792792171239853, 0.0153332045301795, -0.03605830669403076, 0.005690006073564291, -0.01749774068593979, 0.025404127314686775, 0.007012057118117809, -0.0058973864652216434, 0.003164174733683467, 0.014438875950872898, -0.004231860861182213, -0.00011574025847949088, 0.005945991259068251, 0.01542393397539854, 0.009766330942511559, -0.02171015925705433, 0.01620161160826683, 0.030977480113506317, 0.02828153222799301, -0.019558584317564964, 0.023758042603731155, 0.0030183601193130016, 0.010420876555144787, -0.012637256644666195, 0.01565723679959774, 0.004024480003863573, 0.017627352848649025, 0.0018097199499607086, 0.022656332701444626, -0.005229880101978779, -0.0089303283020854, 0.020543642342090607, 0.015592430718243122, 0.020452914759516716, 0.0018502239836379886, -0.013816733844578266, -0.01204751804471016, -0.017562545835971832, 0.027322396636009216, -0.00702501880005002, -0.02637622319161892, -0.015799811109900475, -0.0010207014856860042, 0.022021230310201645, 0.002997298026457429, -0.019558584317564964, 0.024509796872735023, -0.009494144469499588, 0.014490720815956593, 0.005540951155126095, -0.004406838212162256, -0.015877578407526016, 0.021541662514209747, -0.006279744673520327, 0.005715928506106138, 0.010096844285726547, -0.005330330226570368, 0.04881221428513527, -0.0028612045571208, 0.013337166048586369, -0.024976404383778572, -0.01940304972231388, -0.0024966683704406023, 0.027711234986782074, -0.006169573403894901, -0.03800249844789505, 0.013175150379538536, 0.000781727721914649, 0.01217713113874197, -0.015086940489709377, 0.03551393002271652, -0.02830745466053486, 0.03341420367360115, -0.006493605673313141, 0.023667313158512115, -0.009144189767539501, -0.019649313762784004, 0.002835281891748309, 0.0018129602540284395, 0.02169719710946083, -0.025339320302009583, -0.020854713395237923, 0.014775869436562061, 0.010271821171045303, 0.01850872114300728, -0.02638918347656727, -0.004964173771440983, -0.0025890173856168985, -0.016629334539175034, 0.013985230587422848, -0.00038377565215341747, -0.0068630026653409, 0.019830772653222084, 0.009260840713977814, 0.03004426695406437, 0.01712186262011528, 0.0012183611979708076, 0.007724928203970194, -0.006875963881611824, 0.005304407328367233, -0.011308724991977215, -0.017977308481931686, -0.0017125103622674942, -0.012112324126064777, -0.005135910585522652, -0.02773715928196907, 0.03367342799901962, -0.020128881558775902, -0.004367954563349485, 0.002214760286733508, -0.0038235802203416824, 0.008742389269173145, -0.0080035962164402, 0.036498989909887314, -0.021373165771365166, -0.01914382353425026, 0.016175689175724983, -0.0037944172509014606, -0.02253968082368374, -0.01767919771373272, -0.02132132090628147], '__retriever': 'VectorRetriever'}\n"
          ]
        }
      ]
    },
    {
      "cell_type": "code",
      "source": [
        "print(retriever_result)"
      ],
      "metadata": {
        "colab": {
          "base_uri": "https://localhost:8080/"
        },
        "id": "xhsko6bHQF5a",
        "outputId": "4b7dd77c-4dfc-4ec4-a514-14ad175178fc"
      },
      "execution_count": 10,
      "outputs": [
        {
          "output_type": "stream",
          "name": "stdout",
          "text": [
            "items=[RetrieverResultItem(content=\"{'title': 'City Hall', 'plot': 'The accidental shooting of a boy in New York leads to an investigation by the Deputy Mayor, and unexpectedly far-reaching consequences.'}\", metadata={'score': 0.930511474609375, 'nodeLabels': ['Movie'], 'id': '4:69ab0fa5-25bf-4962-9594-4278a50ea22f:109'}), RetrieverResultItem(content=\"{'title': 'Usual Suspects, The', 'plot': 'A sole survivor tells of the twisty events leading up to a horrific gun battle on a boat, which begin when five criminals meet at a seemingly random police lineup.'}\", metadata={'score': 0.930145263671875, 'nodeLabels': ['Movie'], 'id': '4:69ab0fa5-25bf-4962-9594-4278a50ea22f:65'}), RetrieverResultItem(content=\"{'title': 'Nick of Time', 'plot': 'An unimpressive, every-day man is forced into a situation where he is told to kill a politician to save his kidnapped daughter.'}\", metadata={'score': 0.91253662109375, 'nodeLabels': ['Movie'], 'id': '4:69ab0fa5-25bf-4962-9594-4278a50ea22f:100'})] metadata={'query_vector': [-0.015812773257493973, -0.005783975124359131, -0.007491624914109707, -0.027529777958989143, -0.02104913257062435, 0.009630237706005573, -0.004387396387755871, -0.013751927763223648, -0.009131228551268578, -0.022474875673651695, 0.025663351640105247, -0.005962193012237549, -0.0023751561529934406, -0.006312147714197636, 0.02794453874230385, -0.0006108007510192692, 0.03582500293850899, -0.018430953845381737, 0.013246437534689903, -0.02939620427787304, -0.0028838866855949163, 0.015981270000338554, -0.005790455732494593, 0.03496955707669258, 0.011470740661025047, -0.009416376240551472, -0.002856343984603882, -0.020634371787309647, -0.0005342481308616698, -0.008262821473181248, -0.001889107865281403, -0.012066960334777832, 0.0032176401000469923, -0.00531412847340107, -0.016434913501143456, 0.0036972076632082462, 0.009766330942511559, -0.03258468210697174, 0.00730368634685874, -0.013220515102148056, 0.018625373020768166, -0.00357083510607481, -0.01034310832619667, -0.029525816440582275, -0.010589373297989368, -0.003949952777475119, 0.02104913257062435, -0.008904405869543552, -0.03509917110204697, 0.002723490819334984, 0.015346165746450424, 0.0031803762540221214, -0.039609700441360474, -0.034580718725919724, 0.019934462383389473, 0.010453279130160809, -0.010932846926152706, -0.006765793077647686, 0.02317478507757187, -0.014879560098052025, -0.010232937522232533, -0.008470202796161175, -0.02041403017938137, 0.007757331244647503, -0.010485682636499405, -0.0019539142958819866, -0.01823653280735016, 0.010783792473375797, -0.01323347631841898, 0.0030540036968886852, 0.03141816332936287, 0.019740043208003044, 0.01704409532248974, -0.004309628624469042, 0.022086037322878838, -0.014581450261175632, -0.010569931007921696, 0.004030961077660322, 0.018534643575549126, 0.011567950248718262, 0.0233562421053648, -0.013168669305741787, -0.020647333934903145, 0.04658287391066551, 0.015177669003605843, -0.01885867491364479, -0.024419069290161133, 0.03222176432609558, 0.00519747706130147, 0.005777494516223669, 0.02278594672679901, 0.005385415628552437, 0.01103653758764267, -0.0028514836449176073, 0.0061080073937773705, 0.017627352848649025, 0.009876501746475697, 0.01638306863605976, -0.00714167021214962, -0.03699151799082756, -0.009720967151224613, -0.0037134091835469007, -0.014659217558801174, -0.003178756218403578, -0.00865166075527668, -0.0033926174510270357, 0.014166688546538353, 0.0030588642694056034, 0.020115921273827553, -0.004345272202044725, -0.021113939583301544, -0.016616372391581535, 0.021036172285676003, -0.04194273054599762, -0.002997298026457429, -0.005061383359134197, 0.012851118110120296, -0.025572624057531357, -0.0024561642203480005, -0.03652491420507431, 0.019169745966792107, 0.014555527828633785, -0.002002519089728594, -0.01692744344472885, 0.024704216048121452, -0.003509269095957279, -0.006804676726460457, -0.01585165597498417, 0.0338548868894577, -0.01639603078365326, 0.014464798383414745, -0.0037944172509014606, 0.012786312028765678, -0.0003092482511419803, -0.026803946122527122, 0.01497028861194849, -0.029914654791355133, 0.03691375255584717, -0.0320662297308445, -0.034839943051338196, 0.028696293011307716, 0.01914382353425026, -0.04357585310935974, -0.004481365438550711, -0.004445722326636314, 0.013687120750546455, 0.017458856105804443, 0.015903500840067863, 0.01813284307718277, 0.0067398701794445515, 0.01694040559232235, -0.009798734448850155, 0.00865166075527668, -0.014801791869103909, 0.006279744673520327, -0.0007351480890065432, -0.01576092652976513, -0.00503546092659235, -0.013389011844992638, -0.004248062614351511, 0.010764350183308125, -0.011509624309837818, 0.0028774060774594545, 0.015035095624625683, 0.03229953348636627, 0.020349223166704178, 0.007485144305974245, -0.02308405563235283, 0.0032143995631486177, -0.017290359362959862, -0.0027413126081228256, 0.044172074645757675, -0.010809714905917645, 0.018521681427955627, -0.0069796540774405, 0.008716466836631298, 0.023213667795062065, 0.023226629942655563, -0.014088921248912811, -0.00730368634685874, -0.01795138604938984, 0.016084959730505943, 0.030355338007211685, 0.021399088203907013, -0.03222176432609558, 0.014918443746864796, -0.0007051751017570496, -0.031107094138860703, -0.008223937824368477, -0.0015561647014692426, -0.005631680134683847, -0.01094580814242363, 0.011548508889973164, -0.03012203611433506, -0.6735722422599792, -0.015035095624625683, -0.0002547703334130347, 0.01602015271782875, -0.008599814958870411, 0.027814926579594612, 0.013479740358889103, 0.019740043208003044, -0.011969750747084618, 0.010006114840507507, -0.010427356697618961, 0.018184687942266464, 0.019740043208003044, -0.011801254004240036, -0.019804850220680237, -0.027037248015403748, -0.012637256644666195, 0.011146708391606808, -0.019921502098441124, -1.822681224439293e-05, -0.0008274972788058221, 0.030899712815880775, -0.012125286273658276, -0.007731408812105656, 0.023822849616408348, 0.01766623742878437, 0.013129785656929016, -0.0338808111846447, -0.012844637036323547, 0.007724928203970194, -0.01564427651464939, 0.018806830048561096, 0.009766330942511559, 0.017718082293868065, 0.04111320897936821, -0.0091636311262846, 0.00015654806338716298, 0.029888732358813286, 0.015683159232139587, 0.027970461174845695, -0.00638667494058609, 0.0283852219581604, 0.02627253346145153, -0.012358589097857475, -0.0025193504989147186, -0.00911826640367508, 0.02572815865278244, -0.010731947608292103, 0.03618791699409485, -0.0043225898407399654, 0.013544547371566296, 0.03377711772918701, -0.004841041285544634, 0.008061922155320644, -0.009442298673093319, 0.005106748081743717, 0.023926539346575737, 0.018897559493780136, 0.0012612954014912248, -0.00647740438580513, -0.02975912019610405, 0.018158765509724617, -0.012475240975618362, 0.003256523748859763, -0.011535546742379665, 0.02983688749372959, 0.0013406833168119192, 0.013894502073526382, 0.001194058801047504, -0.029966499656438828, 0.013492701575160027, 0.016538605093955994, -0.0053206090815365314, -0.023213667795062065, 0.008360031060874462, 0.023032210767269135, 0.025106016546487808, 0.0014848776627331972, 0.002950313501060009, -0.0028174601029604673, -0.0067398701794445515, -0.010680101811885834, -0.00742033775895834, 0.0128187146037817, 0.004124930128455162, 0.015735004097223282, -0.023045171052217484, 0.002499908674508333, 0.02171015925705433, -0.008035998791456223, -0.010096844285726547, -0.006104767322540283, -0.018910519778728485, -0.009740408509969711, -0.013583431020379066, 0.012922405265271664, 0.005434020422399044, 0.011418895795941353, 0.01968819834291935, -0.02334328182041645, -0.011386492289602757, -0.0128187146037817, -0.00702501880005002, 0.013246437534689903, -0.0024043191224336624, 0.0030345618724823, -0.005236360710114241, -0.006940770428627729, 0.044457219541072845, -0.006999095901846886, 0.016136804595589638, -0.003045902820304036, -0.007511066738516092, -0.018249494954943657, 0.0008975692908279598, -0.026959480717778206, 0.02856668084859848, 0.025792965665459633, 0.020128881558775902, -0.0057645332999527454, 0.005673804320394993, -0.01359639223664999, 0.0080035962164402, 0.0016736264806240797, -0.004173534922301769, 0.010006114840507507, 0.0005844731349498034, -0.00901457667350769, -0.021308358758687973, -0.015151746571063995, 0.003297027898952365, -0.008029518648982048, 0.022371184080839157, -0.005576594732701778, 0.009682082571089268, -0.011198553256690502, 0.00783509947359562, 0.00028737608226947486, 0.013609353452920914, -0.024120958521962166, -0.02132132090628147, -0.004675785079598427, 0.01318811159580946, -0.001171376439742744, -0.007990635000169277, -0.02196938544511795, -0.01034958939999342, 0.005621958989650011, -0.01657748781144619, 0.019817810505628586, -0.0040342011488974094, -0.010446798987686634, 0.013661198318004608, 0.012332666665315628, -0.0045332107692956924, 0.0038948673754930496, -0.021308358758687973, -0.022111959755420685, -0.011548508889973164, -0.00920251477509737, 0.0201418437063694, 0.007861021906137466, -0.017834734171628952, 0.0037749754264950752, 0.011937347240746021, -0.03250691294670105, 0.022837791591882706, 0.0008611156372353435, -0.012520604766905308, -0.015540585853159428, 0.016875598579645157, -0.02527451328933239, -0.010919885709881783, 0.030718255788087845, 0.0015383430290967226, 0.028229687362909317, -0.008321147412061691, 0.016059037297964096, 0.004037441685795784, 0.007925827987492085, -0.006033480167388916, 0.0065843346528708935, -0.013214034028351307, 0.010401434265077114, -0.00371016887947917, 0.030018344521522522, 0.008535008877515793, 0.021036172285676003, -0.03077010065317154, 0.022228609770536423, -0.00036352366441860795, 0.015035095624625683, -0.028774062171578407, 0.00012039822468068451, -0.011211515404284, 0.013907463289797306, 0.004215659108012915, 0.021593507379293442, 0.012008634395897388, 0.01666821725666523, 0.02298036590218544, -0.011289282701909542, 0.015164707787334919, 0.004555893130600452, -0.003138252068310976, -0.02601330727338791, -0.003995317500084639, -0.03963562101125717, 0.03398450091481209, -0.005119709298014641, 0.009824656881392002, -0.016149766743183136, 0.00034853717079386115, -0.0009558950550854206, -0.006483884993940592, 0.009928347542881966, -0.0036712849978357553, 0.010654179379343987, -0.009409896098077297, -0.02169719710946083, 0.0030410424806177616, -0.010407915338873863, 0.0020381626673042774, -0.005498826969414949, -0.013518624007701874, -0.004248062614351511, 0.023019248619675636, 0.017549585551023483, 0.022319339215755463, -0.013032576069235802, -0.008360031060874462, 0.021632391959428787, -0.020271455869078636, 0.01185309886932373, 0.0071287089958786964, -0.019390087574720383, 0.0010020696790888906, 0.00933860894292593, 0.023019248619675636, 0.0002734021982178092, -0.008910886012017727, 0.030459029600024223, 0.025028249248862267, -0.03359566256403923, 0.01451664324849844, -0.021502777934074402, 0.02931843511760235, 0.003800898091867566, -0.012838156893849373, 0.003985596355050802, -0.025144901126623154, 0.00207056594081223, 0.0026214206591248512, 0.01620161160826683, -0.009157150983810425, -0.01241043396294117, 0.004529970698058605, -0.006389915477484465, 0.02693355828523636, 0.02169719710946083, 0.0011203413596376777, 0.005758052691817284, 0.027996383607387543, 0.004225380253046751, -0.004964173771440983, -0.005333570297807455, 0.008586853742599487, -0.0006545450887642801, 0.006445000879466534, -0.015449856407940388, -0.002498288406059146, -0.009675602428615093, 0.001104949857108295, 0.012617815285921097, -0.00011493018246255815, 0.014296301640570164, 0.016370108351111412, 0.015877578407526016, 0.01415372733026743, -0.010459760203957558, -0.019467856734991074, -0.022682255133986473, 0.01200215332210064, 0.012922405265271664, -0.0187549851834774, -0.011140228249132633, -0.01392042450606823, -0.014762908220291138, -0.02269521728157997, 0.027270551770925522, -0.01576092652976513, 0.03735443577170372, -0.012488202191889286, 0.020271455869078636, -0.011211515404284, -0.02024553343653679, 0.021100979298353195, -0.0019198909867554903, 0.0013706563040614128, -0.005184515379369259, -0.0014630055520683527, -0.013803772628307343, 0.00883959885686636, -0.023213667795062065, -0.0006278124637901783, 0.018573526293039322, 0.03058864176273346, -0.00819801539182663, 0.006636179983615875, -0.005178034771233797, 0.014348146505653858, -0.01181421522051096, -0.010161650367081165, 0.0030329416040331125, 0.0029260111041367054, -0.0005974344094283879, -0.010466241277754307, -0.011976230889558792, 0.011237437836825848, -0.003966154530644417, 0.0033035085070878267, -0.01822357252240181, -0.005709447897970676, -0.016525642946362495, 0.11219291388988495, 0.01994742453098297, 0.019830772653222084, 0.01299369242042303, -0.023382164537906647, -0.021386126056313515, -0.013259398750960827, -0.0096107954159379, 0.011820695362985134, -0.007485144305974245, 0.006655621808022261, -0.0001057155168382451, 0.017912501469254494, 0.002846623072400689, 0.018003230914473534, -0.0041443719528615475, 0.012157688848674297, 0.000839243468362838, 0.00782861839979887, -0.04878628998994827, -0.015449856407940388, -0.0023378925397992134, 0.033362358808517456, -0.01241043396294117, -0.024937519803643227, -0.046116266399621964, 0.01602015271782875, 0.02160646952688694, -0.0015845175366848707, -0.0034865867346525192, -0.03953193128108978, 0.00985057931393385, -0.007647160440683365, -0.015527624636888504, -0.005900627002120018, -0.01721259206533432, 0.014724024571478367, -0.006305667106062174, 0.03787288814783096, -0.013777850195765495, 0.015073979273438454, -0.009176592342555523, 0.01722555235028267, -0.01497028861194849, -0.0006355082150548697, -0.008340589702129364, 0.0071611120365560055, 0.020012229681015015, 0.00016849675739649683, 0.003920789808034897, 0.03426964953541756, 0.016771908849477768, -0.015242476016283035, 0.0022649853490293026, 0.0034801061265170574, -0.0031058487948030233, 0.010641218163073063, -0.01047920249402523, -0.016162727028131485, 0.032999441027641296, -0.009643198922276497, -0.02848891355097294, -0.013440856710076332, -0.015229514800012112, -0.0011948688188567758, -0.034580718725919724, -0.0032921673264354467, -0.017005210742354393, 0.0017173708183690906, -0.01303905714303255, 0.006590815261006355, -0.01603311486542225, -0.03178108111023903, -0.02113986201584339, 0.010615295730531216, -0.009416376240551472, 0.011055979877710342, -0.006095046177506447, -0.016525642946362495, 0.025883693248033524, -0.01747181825339794, -0.00036453624488785863, 0.0029875771142542362, -0.009034018032252789, 0.0006002697045914829, 0.01149018295109272, -0.016421953216195107, -0.01039495412260294, -0.008347069844603539, 0.01103653758764267, 0.006308907642960548, 0.001107380143366754, 0.024574603885412216, -0.013259398750960827, 0.016240494325757027, 0.006992615293711424, 0.008262821473181248, 0.03468440845608711, 0.01464625634253025, 0.013972269371151924, 0.020919520407915115, -0.03211807459592819, -0.016460837796330452, -0.00391754973679781, -0.006412597838789225, -0.03598053753376007, -0.013363088481128216, 0.022578565403819084, 0.000605940236710012, 0.0021823570132255554, -0.004640141502022743, -0.020621411502361298, 0.014944366179406643, -0.030873790383338928, 0.015112862922251225, 0.01976596564054489, 0.01731628179550171, 0.023395126685500145, -0.0006278124637901783, 0.0059297895058989525, -0.012890001758933067, -0.024341300129890442, 0.007621238008141518, 0.028151920065283775, 0.009908905252814293, -0.013816733844578266, 0.009818176738917828, -0.031107094138860703, -0.001635552616789937, 0.007368492893874645, -0.011386492289602757, 0.017290359362959862, 0.00208190712146461, 0.010939327999949455, -0.022358223795890808, -0.035384319722652435, -0.005988115444779396, 0.005926549434661865, -0.001251574489288032, -0.03403634577989578, -0.02802230603992939, -0.013985230587422848, -0.00041638140100985765, -0.0009915386326611042, -0.0031058487948030233, -0.016642294824123383, -0.014996211044490337, 0.004147612489759922, -0.009578392840921879, -0.0040892865508794785, -0.0008781273500062525, -0.004183256067335606, -0.031366318464279175, -0.0007869932451285422, -0.019843732938170433, -0.05166369676589966, -0.024574603885412216, -0.0052979267202317715, 0.014464798383414745, 0.021917540580034256, 0.050860099494457245, -0.002846623072400689, 0.030433107167482376, 0.0011252019321545959, -0.0036129592917859554, 0.03471033275127411, -0.004669304471462965, -0.009228438138961792, -0.02802230603992939, 0.034295570105314255, 0.03038126230239868, -0.008314667269587517, 0.03069233149290085, -0.000496174325235188, 0.005077585112303495, 0.01180773414671421, 0.017718082293868065, 0.016071997582912445, 0.010453279130160809, -0.006299186497926712, -0.020530682057142258, -0.013868579640984535, -0.005738610867410898, -0.0067398701794445515, -0.011600353755056858, -0.011185592040419579, 0.0077832541428506374, -0.015242476016283035, 0.0045332107692956924, -0.0042221397161483765, 0.0178606566041708, -0.0067398701794445515, -0.0187679473310709, -0.013790811412036419, 0.0020235811825841665, -0.008133208379149437, -0.009092343971133232, -0.00207056594081223, 0.03102932497859001, 0.008748870342969894, 0.018651295453310013, 0.012941846624016762, -0.009908905252814293, 0.0164737980812788, -0.012980731204152107, 0.05194884538650513, -0.0011891982285305858, -0.0007720067515037954, 0.012948327697813511, -0.009196034632623196, -0.024211687967181206, -0.032377298921346664, -0.022423030808568, -0.021852733567357063, 0.028359299525618553, -0.011717005632817745, 0.0015504942275583744, 0.011995673179626465, -0.011192073114216328, -0.014335185289382935, -0.005239601247012615, -0.008165611885488033, 0.02682986855506897, 0.01574796624481678, 0.03193661570549011, 0.014024114236235619, -0.015890540555119514, -0.015475778840482235, 0.047930847853422165, 0.00015988964878488332, 0.016771908849477768, 0.01950673945248127, 0.004517009016126394, 0.008217456750571728, 0.015073979273438454, -0.020802868530154228, 0.008612776175141335, -0.034839943051338196, -0.02461348846554756, 0.008677583187818527, 0.031081171706318855, 0.00035177747486159205, -0.03541024029254913, -0.006726908963173628, -0.0034477028530091047, 0.00714167021214962, 0.0014306022785604, 0.031470008194446564, 0.0011000894010066986, -0.039039403200149536, -0.016603412106633186, 0.014075960032641888, -0.02719278447329998, 0.011457779444754124, -0.0137260053306818, -0.020945442840456963, 0.00993482768535614, -0.00856741238385439, -0.0051099881529808044, -0.011367049999535084, -0.008962730877101421, 0.02820376493036747, -0.0178606566041708, -0.011794772930443287, 0.013933385722339153, 0.009098825044929981, -0.006169573403894901, -0.016901521012187004, 0.014438875950872898, 0.026700254529714584, 0.003574075410142541, 0.012416915036737919, 0.004345272202044725, 0.003959673922508955, 0.00010774071415653452, 0.030199803411960602, -0.015696121379733086, -0.043731387704610825, -0.004199457820504904, 0.014024114236235619, 0.006211697589606047, 0.013985230587422848, 0.012157688848674297, -0.012831675820052624, -0.01692744344472885, -0.008910886012017727, -0.024432029575109482, -0.010906924493610859, 0.005997836589813232, -0.01002555713057518, -0.023667313158512115, -0.01058289222419262, -0.01405003760010004, 0.00887848250567913, 0.013324204832315445, 0.009072902612388134, 0.0237969271838665, 0.04798269271850586, -0.04507936164736748, -0.004529970698058605, -0.01185309886932373, 0.020673256367444992, -0.020543642342090607, -0.003493067342787981, 0.0017270917305722833, -0.005223399493843317, 0.03499548137187958, -0.010472721420228481, -0.017445895820856094, -0.022267494350671768, -0.00783509947359562, -0.002004139358177781, 0.015773888677358627, -0.00771196698769927, 0.024937519803643227, 0.017782889306545258, -0.02177496626973152, -0.01034310832619667, -0.0036680446937680244, 0.02647991292178631, -0.021852733567357063, -0.007569392677396536, 0.03069233149290085, -0.0022714659571647644, 0.003723130328580737, -0.01694040559232235, 0.016538605093955994, -0.005022499710321426, -0.015346165746450424, 0.002853103680536151, 0.017355166375637054, 0.013764888979494572, -0.006150131579488516, -0.005171554163098335, -0.02343401126563549, -0.005852022208273411, -0.02343401126563549, 0.014438875950872898, -0.005119709298014641, 0.001142213586717844, 0.02508009411394596, 0.025339320302009583, -0.007984153926372528, 0.01722555235028267, 0.007400895934551954, -0.005988115444779396, 0.009286763146519661, -0.032921675592660904, -0.026803946122527122, -0.025326358154416084, -0.016888558864593506, 0.008489644154906273, 0.01043383777141571, -0.012799273245036602, -0.025339320302009583, 0.00542105920612812, -0.05225991830229759, 0.012896482832729816, -0.028955519199371338, 0.0036064786836504936, 0.023771004751324654, 0.011412414722144604, -0.014037076383829117, 0.010608814656734467, 0.0004771374515257776, -0.003625920508056879, -0.010129247792065144, -0.008502605371177197, 0.02501528710126877, -0.006561652757227421, 0.025404127314686775, 0.01703113317489624, 0.006785234902054071, 0.005485865753144026, -0.01204751804471016, 0.012287301942706108, 0.003293787594884634, 0.0011648958316072822, -0.024859752506017685, 0.00230224896222353, 0.003353733569383621, -0.010777311399579048, 0.003596757771447301, 0.008697024546563625, -0.007601796183735132, -0.03058864176273346, -0.01094580814242363, 0.019636353477835655, 0.018080998212099075, -0.027685312554240227, -0.0009340228862129152, 0.024393144994974136, -0.009714486077427864, -0.012715024873614311, -0.03743220120668411, -0.007815657183527946, 0.006908366922289133, -0.02830745466053486, 0.015255437232553959, 0.006986134685575962, -0.005667323712259531, -0.0008894684724509716, -0.0034574237652122974, -0.010420876555144787, -0.007517547812312841, -0.0002786677214317024, -0.008347069844603539, -0.003363454481586814, -0.01968819834291935, -0.0013317724224179983, 0.02225453406572342, -0.007407376542687416, 0.022137882187962532, -0.009947788901627064, -0.0033731753937900066, -0.008716466836631298, -0.004099007695913315, -0.03128855302929878, 0.016175689175724983, -0.008301706053316593, -0.03618791699409485, 0.003412059275433421, -0.0035027882549911737, -0.02041403017938137, -0.0017935183132067323, -0.011548508889973164, 0.01730332151055336, -0.029370279982686043, -0.014983249828219414, -0.025313397869467735, -0.00279153767041862, -0.0402836874127388, 0.010919885709881783, -0.003998557571321726, -0.02546893246471882, 0.0421501100063324, 0.20903967320919037, 0.0054761446081101894, -0.017977308481931686, 0.02994057722389698, -0.027581622824072838, 0.030251648277044296, 0.011004134081304073, -0.008709985762834549, -0.0014986490132287145, 0.009545989334583282, 0.003648602869361639, -6.673038296867162e-05, 0.018158765509724617, 0.004879925400018692, -0.016875598579645157, 0.0024383424315601587, -0.004529970698058605, -0.019001249223947525, -0.036395300179719925, -0.024833830073475838, 0.007245360407978296, 0.008982173167169094, 0.0015650755958631635, -0.01821061037480831, 0.012287301942706108, 0.009682082571089268, 0.015605391934514046, 0.009144189767539501, 0.018456876277923584, 0.014542566612362862, -0.010213496163487434, -0.03782103955745697, 0.029992422088980675, -0.026039229705929756, -0.02042699232697487, 0.0014346527168527246, -0.01730332151055336, -0.011684602126479149, 0.01451664324849844, 0.006344550754874945, -0.003596757771447301, 0.0012880280846729875, 0.013803772628307343, -0.012248418293893337, 0.0036032383795827627, 0.0121382474899292, -0.009487663395702839, 0.004617459140717983, 0.003441222244873643, 0.005171554163098335, -0.017964346334338188, -0.00069504912244156, 0.005809897556900978, 0.01976596564054489, -0.006004317197948694, -0.010369030758738518, 0.003057244000956416, -0.005790455732494593, -0.0014800172066316009, -0.03561762347817421, -9.574139403412119e-05, 0.02415984310209751, -0.028359299525618553, 0.018806830048561096, -0.013622314669191837, 0.022202687337994576, -0.007433299440890551, 0.00905994139611721, -0.011334647424519062, -0.027892693877220154, -0.0041670543141663074, 0.0037166497204452753, -0.022034190595149994, -0.00631538825109601, 0.0068630026653409, -0.01638306863605976, -0.011522585526108742, -0.0038268205244094133, 0.013000172562897205, 0.005262283142656088, -0.0046109785325825214, -0.0015010792994871736, 0.0025485134683549404, 0.00430314801633358, -0.027814926579594612, -0.016784869134426117, 0.01640899106860161, -0.019441934302449226, -0.00734905106946826, -0.011911424808204174, 0.003596757771447301, -0.0070833442732691765, -0.0022406827192753553, -3.5592915082816035e-05, 0.009455259889364243, -0.004935010802000761, 0.02672617696225643, 0.030329415574669838, -0.019636353477835655, -0.01208640169352293, -0.0421501100063324, 0.006535729859024286, 0.011237437836825848, -0.030873790383338928, -0.0103042246773839, -0.006205216981470585, -0.00856741238385439, 0.02425057254731655, 0.025131938979029655, -0.005816378630697727, -0.017821772024035454, -0.010420876555144787, 0.009928347542881966, -9.842478903010488e-05, -0.020206648856401443, -0.006850041449069977, 0.03134039789438248, -0.02299332618713379, 0.00574509147554636, -0.024561641737818718, -0.009286763146519661, 0.0014387030387297273, -0.010012595914304256, 0.0017092699417844415, 0.028151920065283775, -0.011334647424519062, -0.0024107997305691242, 0.011665159836411476, 0.009928347542881966, -0.020478837192058563, 0.016084959730505943, -0.0009469841606914997, 0.02316182292997837, -0.016914481297135353, -0.004147612489759922, 0.005502067040652037, 0.029344357550144196, -0.004886406008154154, -0.015229514800012112, 0.01140593457967043, 0.01295480877161026, -0.0060075572691857815, 0.0014581449795514345, -0.0046660639345645905, 0.008496125228703022, -0.006921328138560057, 0.025326358154416084, 0.00600107666105032, -0.032455068081617355, -0.005427539814263582, -0.019908539950847626, -0.021580545231699944, -0.005783975124359131, -0.008820157498121262, 0.026142919436097145, -0.04287594556808472, -0.023732120171189308, -0.03883202001452446, -0.018080998212099075, 0.02509305626153946, -0.010116285644471645, 0.021204669028520584, 0.02023257128894329, -0.005200717132538557, -0.008761831559240818, -0.00852204766124487, -0.16528235375881195, 0.006875963881611824, 0.009234918281435966, 0.0071287089958786964, 0.007679563947021961, -0.001715750666335225, 0.006273264065384865, 0.021100979298353195, -0.0007278574048541486, -0.009928347542881966, 0.010544008575379848, -0.009053460322320461, -0.0060691237449646, -0.001306659891270101, 0.004014759324491024, -0.00367452553473413, 0.004316109232604504, 0.005728889722377062, 0.03344012424349785, -0.004737351089715958, 0.014425914734601974, 0.0002910214534495026, 0.01630530133843422, -0.00224392325617373, -0.0006537350127473474, -0.005774254444986582, -0.012760388664901257, 0.026959480717778206, -0.015968307852745056, 0.00432583037763834, -0.020284418016672134, -0.008599814958870411, 0.0038203399162739515, 0.030251648277044296, -0.007219437975436449, 0.015683159232139587, 0.009144189767539501, -0.0004495947214309126, -0.014464798383414745, 0.01896236650645733, 0.011930866166949272, 0.007154631428420544, 0.004740591626614332, -0.023498816415667534, -0.003211159259080887, 0.030977480113506317, 0.030329415574669838, 0.009098825044929981, 0.024211687967181206, -0.003574075410142541, 0.007135189604014158, -0.05340050905942917, -0.0043549928814172745, 0.0028174601029604673, 0.029733197763562202, 0.031107094138860703, -0.011580911464989185, 0.007407376542687416, -0.008547970093786716, -5.908525054110214e-05, -0.03178108111023903, -0.011872541159391403, -0.0039013479836285114, -0.00938397366553545, -0.029966499656438828, -0.020725101232528687, 0.006772273685783148, -0.014594411477446556, -0.02471717819571495, -4.154194539296441e-05, -0.015216553583741188, -0.009597834199666977, -0.004504047799855471, -0.019377127289772034, 0.0030426625162363052, 0.014257417991757393, -0.0019069296540692449, 0.025222668424248695, -0.009455259889364243, 0.008185054175555706, -0.00989594403654337, 0.03919493779540062, -0.007634199224412441, -0.016603412106633186, 0.013790811412036419, 0.019714120775461197, -0.017601430416107178, -0.01757550798356533, -0.013427895493805408, -0.02810007520020008, 0.0070055765099823475, -0.011477221734821796, -0.013998191803693771, 0.0013803773326799273, 0.011645718477666378, 0.022098997607827187, -0.00018652105063665658, 0.004539691377431154, 0.026959480717778206, -0.012112324126064777, -0.004426280036568642, -0.0009299725061282516, -0.01245579868555069, 0.008535008877515793, -0.007148150820285082, 0.025598546490073204, 0.021412048488855362, 0.008502605371177197, 0.009021056815981865, -0.026596564799547195, 0.006480644457042217, 0.0037134091835469007, 0.02344697155058384, 0.007037980016320944, 0.000340436352416873, 0.014996211044490337, 0.006966692861169577, 0.005877944640815258, 0.0040892865508794785, 0.0011705664219334722, 0.06599888205528259, -0.0007938789785839617, 0.0006715568015351892, -0.015255437232553959, 0.00047754248953424394, -0.029266590252518654, -0.09643199294805527, -0.02050475962460041, 0.00946822203695774, 0.005842301063239574, -0.013401973061263561, 0.03509917110204697, 0.0019117901101708412, 0.0366545245051384, -0.015268398448824883, 0.02784084901213646, -0.0017756966408342123, -0.02874813973903656, -0.01350566279143095, 0.011509624309837818, 0.0329475961625576, 0.013648237101733685, -0.006406117230653763, -0.00974688958376646, -0.01542393397539854, 0.008820157498121262, -0.018145805224776268, -0.005991355981677771, 0.0032581440173089504, -0.018819792196154594, 0.003992076963186264, 0.01176236942410469, -0.030640486627817154, 0.005155352875590324, 0.006380194332450628, 0.03826172649860382, -0.0001550291635794565, -0.01208640169352293, -0.0011762370122596622, -0.007556431461125612, 0.00856741238385439, -0.015086940489709377, -0.037043362855911255, -0.018612410873174667, 0.018456876277923584, -0.03525470569729805, -0.008139689452946186, 0.010129247792065144, 0.002501528710126877, -0.02553373947739601, -0.0019458135357126594, 0.0010660659754648805, -0.00677875429391861, 0.020271455869078636, 0.027581622824072838, -0.009053460322320461, -0.018055075779557228, 0.001073356717824936, -0.010641218163073063, -0.00965616013854742, 0.020997287705540657, 0.022448953241109848, 0.018353184685111046, -0.02015480399131775, -0.01493140496313572, 0.00015209263074211776, -0.008664621971547604, -0.007063902448862791, 0.00024626447702758014, 0.0029260111041367054, 0.003467144910246134, -0.010505124926567078, -0.014205573126673698, 0.013687120750546455, 0.014296301640570164, 0.006882444489747286, -0.017692159861326218, -0.005045181605964899, -0.02574112080037594, 0.00013497968029696494, -0.016266416758298874, -0.0034055786672979593, -0.04751608520746231, -0.005401617381721735, 0.02500232681632042, -0.040076304227113724, -0.009545989334583282, -0.024794945493340492, 0.0283852219581604, -0.015709081664681435, -0.0012758768862113357, 0.025715196505188942, 0.010446798987686634, 0.016447875648736954, -0.004727629944682121, -0.002867685165256262, -0.01217713113874197, -0.0055863154120743275, -0.0030378021765500307, -0.01263077650219202, -0.022448953241109848, 0.019843732938170433, -0.003285686718299985, -0.00647740438580513, -0.00485076243057847, 0.00998019240796566, 0.0018810071051120758, 0.01043383777141571, -0.06563596427440643, 0.004335551057010889, 0.0029600344132632017, 0.00212889164686203, -0.01730332151055336, 0.0006897835992276669, 0.023291436955332756, -0.0045332107692956924, 0.021943463012576103, 0.007854540832340717, 0.009727447293698788, 0.032636526972055435, 0.01002555713057518, -0.006901886314153671, -0.01831430196762085, -0.0046433815732598305, -0.013622314669191837, 0.001785417553037405, 0.006856522057205439, -0.007569392677396536, -0.017549585551023483, -0.021282436326146126, -0.019830772653222084, 0.005200717132538557, -0.005761292763054371, -0.00037952273851260543, -0.004131410736590624, 0.015449856407940388, -0.025598546490073204, -0.003019980387762189, 0.003596757771447301, -0.014996211044490337, 0.016681179404258728, -0.004824839998036623, 0.002391357906162739, -0.031003402546048164, 0.0007440589834004641, 0.005968673620373011, 0.028514835983514786, 0.022656332701444626, -0.004115209449082613, -0.017057055607438087, 0.00795823149383068, -0.004005038179457188, -0.010252379812300205, 0.015372089110314846, -0.015527624636888504, -0.0034833464305847883, 0.031366318464279175, 0.002702428726479411, 0.011302243918180466, 0.015877578407526016, -0.015592430718243122, -0.0035837963223457336, -0.00819153431802988, 0.012028075754642487, 0.026778023689985275, -0.006376954261213541, 0.007750850636512041, -0.00965616013854742, 0.020388107746839523, -0.0034282610286027193, 0.010926366783678532, 0.005294686648994684, 0.027866771444678307, 0.01355750858783722, -0.016888558864593506, 0.012792792171239853, 0.0153332045301795, -0.03605830669403076, 0.005690006073564291, -0.01749774068593979, 0.025404127314686775, 0.007012057118117809, -0.0058973864652216434, 0.003164174733683467, 0.014438875950872898, -0.004231860861182213, -0.00011574025847949088, 0.005945991259068251, 0.01542393397539854, 0.009766330942511559, -0.02171015925705433, 0.01620161160826683, 0.030977480113506317, 0.02828153222799301, -0.019558584317564964, 0.023758042603731155, 0.0030183601193130016, 0.010420876555144787, -0.012637256644666195, 0.01565723679959774, 0.004024480003863573, 0.017627352848649025, 0.0018097199499607086, 0.022656332701444626, -0.005229880101978779, -0.0089303283020854, 0.020543642342090607, 0.015592430718243122, 0.020452914759516716, 0.0018502239836379886, -0.013816733844578266, -0.01204751804471016, -0.017562545835971832, 0.027322396636009216, -0.00702501880005002, -0.02637622319161892, -0.015799811109900475, -0.0010207014856860042, 0.022021230310201645, 0.002997298026457429, -0.019558584317564964, 0.024509796872735023, -0.009494144469499588, 0.014490720815956593, 0.005540951155126095, -0.004406838212162256, -0.015877578407526016, 0.021541662514209747, -0.006279744673520327, 0.005715928506106138, 0.010096844285726547, -0.005330330226570368, 0.04881221428513527, -0.0028612045571208, 0.013337166048586369, -0.024976404383778572, -0.01940304972231388, -0.0024966683704406023, 0.027711234986782074, -0.006169573403894901, -0.03800249844789505, 0.013175150379538536, 0.000781727721914649, 0.01217713113874197, -0.015086940489709377, 0.03551393002271652, -0.02830745466053486, 0.03341420367360115, -0.006493605673313141, 0.023667313158512115, -0.009144189767539501, -0.019649313762784004, 0.002835281891748309, 0.0018129602540284395, 0.02169719710946083, -0.025339320302009583, -0.020854713395237923, 0.014775869436562061, 0.010271821171045303, 0.01850872114300728, -0.02638918347656727, -0.004964173771440983, -0.0025890173856168985, -0.016629334539175034, 0.013985230587422848, -0.00038377565215341747, -0.0068630026653409, 0.019830772653222084, 0.009260840713977814, 0.03004426695406437, 0.01712186262011528, 0.0012183611979708076, 0.007724928203970194, -0.006875963881611824, 0.005304407328367233, -0.011308724991977215, -0.017977308481931686, -0.0017125103622674942, -0.012112324126064777, -0.005135910585522652, -0.02773715928196907, 0.03367342799901962, -0.020128881558775902, -0.004367954563349485, 0.002214760286733508, -0.0038235802203416824, 0.008742389269173145, -0.0080035962164402, 0.036498989909887314, -0.021373165771365166, -0.01914382353425026, 0.016175689175724983, -0.0037944172509014606, -0.02253968082368374, -0.01767919771373272, -0.02132132090628147], '__retriever': 'VectorRetriever'}\n"
          ]
        }
      ]
    },
    {
      "cell_type": "code",
      "source": [
        "for k, item in enumerate(retriever_result.items):\n",
        "    print(f\"TOP {k+1}\")\n",
        "    print(item.content)\n",
        "    print(\"score : \", item.metadata[\"score\"])"
      ],
      "metadata": {
        "colab": {
          "base_uri": "https://localhost:8080/"
        },
        "id": "pcWKxU_d2W-G",
        "outputId": "e7517296-9a6b-4abf-9349-05bd5508249f"
      },
      "execution_count": 11,
      "outputs": [
        {
          "output_type": "stream",
          "name": "stdout",
          "text": [
            "TOP 1\n",
            "{'title': 'City Hall', 'plot': 'The accidental shooting of a boy in New York leads to an investigation by the Deputy Mayor, and unexpectedly far-reaching consequences.'}\n",
            "score :  0.930511474609375\n",
            "TOP 2\n",
            "{'title': 'Usual Suspects, The', 'plot': 'A sole survivor tells of the twisty events leading up to a horrific gun battle on a boat, which begin when five criminals meet at a seemingly random police lineup.'}\n",
            "score :  0.930145263671875\n",
            "TOP 3\n",
            "{'title': 'Nick of Time', 'plot': 'An unimpressive, every-day man is forced into a situation where he is told to kill a politician to save his kidnapped daughter.'}\n",
            "score :  0.91253662109375\n"
          ]
        }
      ]
    },
    {
      "cell_type": "markdown",
      "source": [
        "## 4. Implementing GRAPH RAG"
      ],
      "metadata": {
        "id": "VyJZDdoOkSOB"
      }
    },
    {
      "cell_type": "markdown",
      "source": [
        "### 4-1. Text similarity based RAG method using Vector Retriever"
      ],
      "metadata": {
        "id": "iItiCyETN-jp"
      }
    },
    {
      "cell_type": "code",
      "source": [
        "from neo4j_graphrag.llm import OpenAILLM\n",
        "from neo4j_graphrag.generation import GraphRAG\n",
        "\n",
        "# LLM to use when generating answers after retrieval\n",
        "llm = OpenAILLM(model_name=\"gpt-4o\", model_params={\"temperature\": 0})"
      ],
      "metadata": {
        "id": "1a_asoJ0ZnyB"
      },
      "execution_count": 12,
      "outputs": []
    },
    {
      "cell_type": "code",
      "source": [
        "# Initialize RAG pipeline\n",
        "rag = GraphRAG(retriever=retriever, llm=llm)"
      ],
      "metadata": {
        "id": "MivPLC9zZo73"
      },
      "execution_count": 13,
      "outputs": []
    },
    {
      "cell_type": "code",
      "source": [
        "retriever.search(query_text = \"What movies are sad romances?\", top_k = 5).items"
      ],
      "metadata": {
        "colab": {
          "base_uri": "https://localhost:8080/"
        },
        "id": "qZiy13VfvB1G",
        "outputId": "c496b94a-ebe6-4092-a56b-9fe4bf74dbd3"
      },
      "execution_count": 17,
      "outputs": [
        {
          "output_type": "execute_result",
          "data": {
            "text/plain": [
              "[RetrieverResultItem(content=\"{'title': 'Bed of Roses', 'plot': 'Romantic drama about a young career girl who is swept off her feet by a shy florist, who fell in love with her after one glimpse through a shadowy window.'}\", metadata={'score': 0.9131317138671875, 'nodeLabels': ['Movie'], 'id': '4:69ab0fa5-25bf-4962-9594-4278a50ea22f:86'}),\n",
              " RetrieverResultItem(content=\"{'title': 'Postman, The (Postino, Il)', 'plot': 'Simple Italian postman learns to love poetry while delivering mail to a famous poet; he uses this to woo local beauty Beatrice.'}\", metadata={'score': 0.891571044921875, 'nodeLabels': ['Movie'], 'id': '4:69ab0fa5-25bf-4962-9594-4278a50ea22f:71'}),\n",
              " RetrieverResultItem(content=\"{'title': 'Beautiful Girls', 'plot': 'A piano player at a crossroads in his life returns home to his friends and their own problems with life and love.'}\", metadata={'score': 0.89068603515625, 'nodeLabels': ['Movie'], 'id': '4:69ab0fa5-25bf-4962-9594-4278a50ea22f:103'}),\n",
              " RetrieverResultItem(content=\"{'title': 'How to Make an American Quilt', 'plot': 'Bride-to-be Finn Dodd hears tales of romance and sorrow from her elders as they construct a quilt.'}\", metadata={'score': 0.888580322265625, 'nodeLabels': ['Movie'], 'id': '4:69ab0fa5-25bf-4962-9594-4278a50ea22f:60'}),\n",
              " RetrieverResultItem(content=\"{'title': 'Mr. Wrong', 'plot': 'A single and lonely woman finds the seemingly perfect man to date, but soon regrets it when his deranged and possessive other personality emerges and worst still, she cannot convince anyone else of his Jekyll/Hyde true nature.'}\", metadata={'score': 0.8877105712890625, 'nodeLabels': ['Movie'], 'id': '4:69ab0fa5-25bf-4962-9594-4278a50ea22f:111'})]"
            ]
          },
          "metadata": {},
          "execution_count": 17
        }
      ]
    },
    {
      "cell_type": "code",
      "source": [
        "# Questioning\n",
        "query_text = \"What movies are sad romances?\"\n",
        "response = rag.search(query_text=query_text, retriever_config={\"top_k\": 5})\n",
        "print(response.answer)"
      ],
      "metadata": {
        "id": "t1kgHFZxRhW4",
        "colab": {
          "base_uri": "https://localhost:8080/"
        },
        "outputId": "981039fe-8abe-48d5-bf3b-36819feafc14"
      },
      "execution_count": 18,
      "outputs": [
        {
          "output_type": "stream",
          "name": "stdout",
          "text": [
            "\"Bed of Roses\" and \"How to Make an American Quilt\" are sad romances. \"Bed of Roses\" involves a romantic drama with emotional elements, while \"How to Make an American Quilt\" includes tales of romance and sorrow.\n"
          ]
        }
      ]
    },
    {
      "cell_type": "markdown",
      "source": [
        "### 4-2. RAG method based on graph query results created with Text2Cypher Retriever"
      ],
      "metadata": {
        "id": "rum-Lhg1iDCC"
      }
    },
    {
      "cell_type": "code",
      "source": [
        "from neo4j_graphrag.retrievers import Text2CypherRetriever\n",
        "\n",
        "# Generate Cypher query based on query text and use LLM to generate response after retrieval\n",
        "llm = OpenAILLM(model_name=\"gpt-4o\", model_params={\"temperature\": 0})"
      ],
      "metadata": {
        "id": "pQhJOnzmaHl4"
      },
      "execution_count": 19,
      "outputs": []
    },
    {
      "cell_type": "markdown",
      "source": [
        "### 1) Text2Cypher Retriever"
      ],
      "metadata": {
        "id": "3atYFUn5aiSN"
      }
    },
    {
      "cell_type": "markdown",
      "source": [
        "Provide information required for automatic Cypher generation\n",
        "- Neo4j DB Schema\n",
        "- Input / Output(Query) example"
      ],
      "metadata": {
        "id": "Lo9sTGD8aW8k"
      }
    },
    {
      "cell_type": "markdown",
      "source": [
        "Neo4j DB Schema example\n",
        "\n",
        "```\n",
        "Node properties:\n",
        "Person {name: STRING, born: INTEGER}\n",
        "Movie {tagline: STRING, title: STRING, released: INTEGER}\n",
        "Relationship properties:\n",
        "ACTED_IN {roles: LIST}\n",
        "REVIEWED {summary: STRING, rating: INTEGER}\n",
        "The relationships:\n",
        "(:Person)-[:ACTED_IN]->(:Movie)\n",
        "(:Person)-[:DIRECTED]->(:Movie)\n",
        "(:Person)-[:PRODUCED]->(:Movie)\n",
        "(:Person)-[:WROTE]->(:Movie)\n",
        "(:Person)-[:FOLLOWS]->(:Person)\n",
        "(:Person)-[:REVIEWED]->(:Movie)\n",
        "```"
      ],
      "metadata": {
        "id": "EG8yJzIFbQf3"
      }
    },
    {
      "cell_type": "code",
      "source": [
        "from neo4j import GraphDatabase\n",
        "from neo4j.time import Date\n",
        "\n",
        "def get_node_datatype(value):\n",
        "    \"\"\"\n",
        "        A function that returns the data type of the input node Value.\n",
        "    \"\"\"\n",
        "    if isinstance(value, str):\n",
        "        return \"STRING\"\n",
        "    elif isinstance(value, int):\n",
        "        return \"INTEGER\"\n",
        "    elif isinstance(value, float):\n",
        "        return \"FLOAT\"\n",
        "    elif isinstance(value, bool):\n",
        "        return \"BOOLEAN\"\n",
        "    elif isinstance(value, list):\n",
        "        return f\"LIST[{get_node_datatype(value[0])}]\" if value else \"LIST\"\n",
        "    elif isinstance(value, Date):\n",
        "        return \"DATE\"\n",
        "    else:\n",
        "        return \"UNKNOWN\"\n",
        "\n",
        "def get_schema(uri, user, password):\n",
        "    \"\"\"\n",
        "        A function that receives information from Graph DB, extracts properties of nodes and relationships, and returns a schema dictionary.\n",
        "    \"\"\"\n",
        "    driver = GraphDatabase.driver(\n",
        "        uri,\n",
        "        auth=basic_auth(user, password))\n",
        "\n",
        "    with driver.session() as session:\n",
        "        # Extract node properties and types\n",
        "        node_query = \"\"\"\n",
        "        MATCH (n)\n",
        "        WITH DISTINCT labels(n) AS node_labels, keys(n) AS property_keys, n\n",
        "        UNWIND node_labels AS label\n",
        "        UNWIND property_keys AS key\n",
        "        RETURN label, key, n[key] AS sample_value\n",
        "        \"\"\"\n",
        "        nodes = session.run(node_query)\n",
        "\n",
        "        # Extract relationship properties and types\n",
        "        rel_query = \"\"\"\n",
        "        MATCH ()-[r]->()\n",
        "        WITH DISTINCT type(r) AS rel_type, keys(r) AS property_keys, r\n",
        "        UNWIND property_keys AS key\n",
        "        RETURN rel_type, key, r[key] AS sample_value\n",
        "        \"\"\"\n",
        "        relationships = session.run(rel_query)\n",
        "\n",
        "        # Extract relationship type and direction\n",
        "        rel_direction_query = \"\"\"\n",
        "        MATCH (a)-[r]->(b)\n",
        "        RETURN DISTINCT labels(a) AS start_label, type(r) AS rel_type, labels(b) AS end_label\n",
        "        ORDER BY start_label, rel_type, end_label\n",
        "        \"\"\"\n",
        "        rel_directions = session.run(rel_direction_query)\n",
        "\n",
        "        # Creating a schema dictionary\n",
        "        schema = {\"nodes\": {}, \"relationships\": {}, \"relations\": []}\n",
        "\n",
        "        for record in nodes:\n",
        "            label = record[\"label\"]\n",
        "            key = record[\"key\"]\n",
        "            sample_value = record[\"sample_value\"] # Sample data for inferring data types\n",
        "            inferred_type = get_node_datatype(sample_value)\n",
        "            if label not in schema[\"nodes\"]:\n",
        "                schema[\"nodes\"][label] = {}\n",
        "            schema[\"nodes\"][label][key] = inferred_type\n",
        "\n",
        "        for record in relationships:\n",
        "            rel_type = record[\"rel_type\"]\n",
        "            key = record[\"key\"]\n",
        "            sample_value = record[\"sample_value\"] # Sample data for inferring data types\n",
        "            inferred_type = get_node_datatype(sample_value)\n",
        "            if rel_type not in schema[\"relationships\"]:\n",
        "                schema[\"relationships\"][rel_type] = {}\n",
        "            schema[\"relationships\"][rel_type][key] = inferred_type\n",
        "\n",
        "        for record in rel_directions:\n",
        "            start_label = record[\"start_label\"][0]\n",
        "            rel_type = record[\"rel_type\"]\n",
        "            end_label = record[\"end_label\"][0]\n",
        "            schema[\"relations\"].append(f\"(:{start_label})-[:{rel_type}]->(:{end_label})\")\n",
        "\n",
        "        return schema\n",
        "\n",
        "def format_schema(schema):\n",
        "    \"\"\"\n",
        "       A function to format the schema dictionary into the desired format for providing it to LLM.\n",
        "    \"\"\"\n",
        "    result = []\n",
        "\n",
        "    # Output node properties\n",
        "    result.append(\"Node properties:\")\n",
        "    for label, properties in schema[\"nodes\"].items():\n",
        "        props = \", \".join(f\"{k}: {v}\" for k, v in properties.items())\n",
        "        result.append(f\"{label} {{{props}}}\")\n",
        "\n",
        "    # Output relationship properties\n",
        "    result.append(\"Relationship properties:\")\n",
        "    for rel_type, properties in schema[\"relationships\"].items():\n",
        "        props = \", \".join(f\"{k}: {v}\" for k, v in properties.items())\n",
        "        result.append(f\"{rel_type} {{{props}}}\")\n",
        "\n",
        "    # Output relationship properties\n",
        "    result.append(\"The relationships:\")\n",
        "    for relation in schema[\"relations\"]:\n",
        "        result.append(relation)\n",
        "\n",
        "    return \"\\n\".join(result)"
      ],
      "metadata": {
        "id": "7K4dX-ZjglEJ"
      },
      "execution_count": 20,
      "outputs": []
    },
    {
      "cell_type": "code",
      "source": [
        "# Neo4j DB Schema\n",
        "schema = get_schema(\"neo4j://18.212.176.170:7687\", \"neo4j\", \"menus-classifications-smell\")\n",
        "neo4j_schema = format_schema(schema)\n",
        "print(neo4j_schema)"
      ],
      "metadata": {
        "colab": {
          "base_uri": "https://localhost:8080/"
        },
        "id": "bR0vMbi5m_KE",
        "outputId": "d942c355-02be-491e-c74b-d3002634ff94"
      },
      "execution_count": 22,
      "outputs": [
        {
          "output_type": "stream",
          "name": "stdout",
          "text": [
            "Node properties:\n",
            "Movie {url: STRING, runtime: INTEGER, revenue: INTEGER, budget: INTEGER, plotEmbedding: LIST[FLOAT], imdbRating: FLOAT, released: STRING, countries: LIST[STRING], languages: LIST[STRING], plot: STRING, imdbVotes: INTEGER, imdbId: STRING, year: INTEGER, poster: STRING, movieId: STRING, tmdbId: STRING, title: STRING}\n",
            "Genre {name: STRING}\n",
            "User {userId: STRING, name: STRING}\n",
            "Actor {bornIn: STRING, born: DATE, died: DATE, tmdbId: STRING, imdbId: STRING, name: STRING, url: STRING, bio: STRING, poster: STRING}\n",
            "Person {bornIn: STRING, born: DATE, died: DATE, tmdbId: STRING, imdbId: STRING, name: STRING, url: STRING, bio: STRING, poster: STRING}\n",
            "Director {url: STRING, bornIn: STRING, bio: STRING, died: DATE, born: DATE, imdbId: STRING, name: STRING, poster: STRING, tmdbId: STRING}\n",
            "Relationship properties:\n",
            "RATED {rating: FLOAT, timestamp: INTEGER}\n",
            "ACTED_IN {role: STRING}\n",
            "DIRECTED {role: STRING}\n",
            "The relationships:\n",
            "(:Actor)-[:ACTED_IN]->(:Movie)\n",
            "(:Actor)-[:DIRECTED]->(:Movie)\n",
            "(:Actor)-[:ACTED_IN]->(:Movie)\n",
            "(:Director)-[:DIRECTED]->(:Movie)\n",
            "(:Movie)-[:IN_GENRE]->(:Genre)\n",
            "(:User)-[:RATED]->(:Movie)\n"
          ]
        }
      ]
    },
    {
      "cell_type": "markdown",
      "source": [
        "- User Input : Which actors starred in the Toy Story?\n",
        "- Auto-generated Cypher example : `MATCH (a:Actor)-[:ACTED_IN]->(m:Movie) WHERE m.title = 'Toy Story' RETURN a.name`"
      ],
      "metadata": {
        "id": "06C3lVZrthfd"
      }
    },
    {
      "cell_type": "code",
      "source": [
        "# LLM INPUT / QUERY Example\n",
        "examples = [\n",
        "    \"USER INPUT: 'Which actors starred in the Toy Story?' QUERY: MATCH (a:Actor)-[:ACTED_IN]->(m:Movie) WHERE m.title = 'Toy Story' RETURN a.name\",\n",
        "    \"USER INPUT: 'What is the average user rating for Toy Story?' QUERY: MATCH (u:User)-[r:RATED]->(m:Movie) WHERE m.title = 'Toy Story' RETURN AVG(r.rating)\"\n",
        "]"
      ],
      "metadata": {
        "id": "e_iS83oBLi-z"
      },
      "execution_count": 23,
      "outputs": []
    },
    {
      "cell_type": "code",
      "source": [
        "# Text2CypherRetriever\n",
        "retriever = Text2CypherRetriever(\n",
        "    driver=driver,\n",
        "    llm=llm,  # type: ignore\n",
        "    neo4j_schema=neo4j_schema,\n",
        "    examples=examples,\n",
        ")\n",
        "\n",
        "# Generate Cypher query via LLM, send it to Neo4j DB, and return the result => This result is utilized in RAG.\n",
        "query_text = \"Which movies did Tom Hanks star in?\"\n",
        "search_result = retriever.search(query_text=query_text)"
      ],
      "metadata": {
        "id": "kfYUemK4ag8i"
      },
      "execution_count": 24,
      "outputs": []
    },
    {
      "cell_type": "code",
      "source": [
        "search_result.items"
      ],
      "metadata": {
        "colab": {
          "base_uri": "https://localhost:8080/"
        },
        "id": "WqDmIWU7xKKY",
        "outputId": "920b171d-8112-4d11-8f66-572ad8171c51"
      },
      "execution_count": 25,
      "outputs": [
        {
          "output_type": "execute_result",
          "data": {
            "text/plain": [
              "[RetrieverResultItem(content=\"<Record m.title='Punchline'>\", metadata=None),\n",
              " RetrieverResultItem(content=\"<Record m.title='Catch Me If You Can'>\", metadata=None),\n",
              " RetrieverResultItem(content=\"<Record m.title='Dragnet'>\", metadata=None),\n",
              " RetrieverResultItem(content=\"<Record m.title='Saving Mr. Banks'>\", metadata=None),\n",
              " RetrieverResultItem(content=\"<Record m.title='Bachelor Party'>\", metadata=None),\n",
              " RetrieverResultItem(content=\"<Record m.title='Volunteers'>\", metadata=None),\n",
              " RetrieverResultItem(content=\"<Record m.title='Man with One Red Shoe, The'>\", metadata=None),\n",
              " RetrieverResultItem(content=\"<Record m.title='Splash'>\", metadata=None),\n",
              " RetrieverResultItem(content=\"<Record m.title='Big'>\", metadata=None),\n",
              " RetrieverResultItem(content=\"<Record m.title='Nothing in Common'>\", metadata=None),\n",
              " RetrieverResultItem(content=\"<Record m.title='Money Pit, The'>\", metadata=None),\n",
              " RetrieverResultItem(content=\"<Record m.title='Toy Story of Terror'>\", metadata=None),\n",
              " RetrieverResultItem(content=\"<Record m.title='Captain Phillips'>\", metadata=None),\n",
              " RetrieverResultItem(content=\"<Record m.title='Larry Crowne'>\", metadata=None),\n",
              " RetrieverResultItem(content=\"<Record m.title='Cloud Atlas'>\", metadata=None),\n",
              " RetrieverResultItem(content=\"<Record m.title='Angels & Demons'>\", metadata=None),\n",
              " RetrieverResultItem(content=\"<Record m.title='Extremely Loud and Incredibly Close'>\", metadata=None),\n",
              " RetrieverResultItem(content='<Record m.title=\"Charlie Wilson\\'s War\">', metadata=None),\n",
              " RetrieverResultItem(content=\"<Record m.title='Toy Story 3'>\", metadata=None),\n",
              " RetrieverResultItem(content=\"<Record m.title='From the Earth to the Moon'>\", metadata=None),\n",
              " RetrieverResultItem(content=\"<Record m.title='Green Mile, The'>\", metadata=None),\n",
              " RetrieverResultItem(content=\"<Record m.title='Saving Private Ryan'>\", metadata=None),\n",
              " RetrieverResultItem(content=\"<Record m.title='Toy Story 2'>\", metadata=None),\n",
              " RetrieverResultItem(content=\"<Record m.title='Apollo 13'>\", metadata=None),\n",
              " RetrieverResultItem(content=\"<Record m.title='Toy Story'>\", metadata=None),\n",
              " RetrieverResultItem(content=\"<Record m.title='League of Their Own, A'>\", metadata=None),\n",
              " RetrieverResultItem(content=\"<Record m.title='Forrest Gump'>\", metadata=None),\n",
              " RetrieverResultItem(content=\"<Record m.title='Philadelphia'>\", metadata=None),\n",
              " RetrieverResultItem(content=\"<Record m.title='Sleepless in Seattle'>\", metadata=None),\n",
              " RetrieverResultItem(content=\"<Record m.title='Turner & Hooch'>\", metadata=None),\n",
              " RetrieverResultItem(content='<Record m.title=\"\\'burbs, The\">', metadata=None),\n",
              " RetrieverResultItem(content=\"<Record m.title='Joe Versus the Volcano'>\", metadata=None),\n",
              " RetrieverResultItem(content=\"<Record m.title='Bonfire of the Vanities'>\", metadata=None),\n",
              " RetrieverResultItem(content=\"<Record m.title='Terminal, The'>\", metadata=None),\n",
              " RetrieverResultItem(content=\"<Record m.title='Da Vinci Code, The'>\", metadata=None),\n",
              " RetrieverResultItem(content=\"<Record m.title='Polar Express, The'>\", metadata=None),\n",
              " RetrieverResultItem(content=\"<Record m.title='Ladykillers, The'>\", metadata=None),\n",
              " RetrieverResultItem(content='<Record m.title=\"You\\'ve Got Mail\">', metadata=None)]"
            ]
          },
          "metadata": {},
          "execution_count": 25
        }
      ]
    },
    {
      "cell_type": "code",
      "source": [
        "search_result.metadata['cypher']"
      ],
      "metadata": {
        "colab": {
          "base_uri": "https://localhost:8080/",
          "height": 42
        },
        "id": "Bnl3Pbxqw5lH",
        "outputId": "adfedc30-50ad-4947-a7a3-c37a6f27e2ea"
      },
      "execution_count": 26,
      "outputs": [
        {
          "output_type": "execute_result",
          "data": {
            "text/plain": [
              "\"MATCH (a:Actor)-[:ACTED_IN]->(m:Movie) WHERE a.name = 'Tom Hanks' RETURN m.title\""
            ],
            "application/vnd.google.colaboratory.intrinsic+json": {
              "type": "string"
            }
          },
          "metadata": {},
          "execution_count": 26
        }
      ]
    },
    {
      "cell_type": "markdown",
      "source": [
        "### 2) Retriever-based RAG generation"
      ],
      "metadata": {
        "id": "R-7ysjaRanj2"
      }
    },
    {
      "cell_type": "code",
      "source": [
        "# Initialize RAG pipeline\n",
        "rag = GraphRAG(retriever=retriever, llm=llm)"
      ],
      "metadata": {
        "id": "bTNvnFnXbKLS"
      },
      "execution_count": 27,
      "outputs": []
    },
    {
      "cell_type": "code",
      "source": [
        "# Question\n",
        "query_text = \"Which movies did Tom Hanks star in?\"\n",
        "\n",
        "search_result = retriever.search(query_text=query_text)\n",
        "print(\"==== [Cypher automatically generated via Text2Cypher] ====\")\n",
        "print(search_result.metadata['cypher'])\n",
        "\n",
        "response = rag.search(query_text=query_text)\n",
        "print(\"\\n==== [Generate final answer based on generated Cypher] ====\")\n",
        "print(response.answer)"
      ],
      "metadata": {
        "id": "lG4yrSYoLqt6",
        "colab": {
          "base_uri": "https://localhost:8080/"
        },
        "outputId": "ff9207c8-2023-4109-dede-4e365934c50f"
      },
      "execution_count": 28,
      "outputs": [
        {
          "output_type": "stream",
          "name": "stdout",
          "text": [
            "==== [Cypher automatically generated via Text2Cypher] ====\n",
            "MATCH (a:Actor)-[:ACTED_IN]->(m:Movie) WHERE a.name = 'Tom Hanks' RETURN m.title\n",
            "\n",
            "==== [Generate final answer based on generated Cypher] ====\n",
            "Tom Hanks starred in the following movies:\n",
            "\n",
            "- Punchline\n",
            "- Catch Me If You Can\n",
            "- Dragnet\n",
            "- Saving Mr. Banks\n",
            "- Bachelor Party\n",
            "- Volunteers\n",
            "- The Man with One Red Shoe\n",
            "- Splash\n",
            "- Big\n",
            "- Nothing in Common\n",
            "- The Money Pit\n",
            "- Toy Story of Terror\n",
            "- Captain Phillips\n",
            "- Larry Crowne\n",
            "- Cloud Atlas\n",
            "- Angels & Demons\n",
            "- Extremely Loud and Incredibly Close\n",
            "- Charlie Wilson's War\n",
            "- Toy Story 3\n",
            "- From the Earth to the Moon\n",
            "- The Green Mile\n",
            "- Saving Private Ryan\n",
            "- Toy Story 2\n",
            "- Apollo 13\n",
            "- Toy Story\n",
            "- A League of Their Own\n",
            "- Forrest Gump\n",
            "- Philadelphia\n",
            "- Sleepless in Seattle\n",
            "- Turner & Hooch\n",
            "- The 'burbs\n",
            "- Joe Versus the Volcano\n",
            "- Bonfire of the Vanities\n",
            "- The Terminal\n",
            "- The Da Vinci Code\n",
            "- The Polar Express\n",
            "- The Ladykillers\n",
            "- You've Got Mail\n"
          ]
        }
      ]
    },
    {
      "cell_type": "code",
      "source": [
        "# Question\n",
        "query_text = \"Recommend 10 movies from the Comedy genre\"\n",
        "search_result = retriever.search(query_text=query_text)\n",
        "print(\"==== [Cypher automatically generated via Text2Cypher] ====\")\n",
        "print(search_result.metadata['cypher'])\n",
        "\n",
        "response = rag.search(query_text=query_text)\n",
        "print(\"\\n==== [Generate final answer based on generated Cypher] ====\")\n",
        "print(response.answer)"
      ],
      "metadata": {
        "colab": {
          "base_uri": "https://localhost:8080/"
        },
        "id": "WZU21VJjxWjT",
        "outputId": "33461931-7a57-4f10-8cf2-1aecb4f37482"
      },
      "execution_count": 29,
      "outputs": [
        {
          "output_type": "stream",
          "name": "stdout",
          "text": [
            "==== [Cypher automatically generated via Text2Cypher] ====\n",
            "MATCH (m:Movie)-[:IN_GENRE]->(g:Genre) \n",
            "WHERE g.name = 'Comedy' \n",
            "RETURN m.title \n",
            "LIMIT 10\n",
            "\n",
            "==== [Generate final answer based on generated Cypher] ====\n",
            "1. Two Night Stand\n",
            "2. Stretch\n",
            "3. This Is Where I Leave You\n",
            "4. St. Vincent\n",
            "5. Rewrite, The\n",
            "6. What We Do in the Shadows\n",
            "7. Let's Be Cops\n",
            "8. Boxtrolls, The\n",
            "9. Tusk\n",
            "10. Big Hero 6\n"
          ]
        }
      ]
    },
    {
      "cell_type": "code",
      "source": [
        "# Question\n",
        "query_text = \"Recommend only the top 5 movies with the most user reviews among Action genre movies\"\n",
        "search_result = retriever.search(query_text=query_text)\n",
        "print(\"==== [Cypher automatically generated via Text2Cypher] ====\")\n",
        "print(search_result.metadata['cypher'])\n",
        "\n",
        "response = rag.search(query_text=query_text)\n",
        "print(\"\\n==== [Generate final answer based on generated Cypher] ====\")\n",
        "print(response.answer)"
      ],
      "metadata": {
        "colab": {
          "base_uri": "https://localhost:8080/"
        },
        "id": "wQn9Ajbm2Vdb",
        "outputId": "2f0826e8-a218-4291-86ad-9ad1aa7686b0"
      },
      "execution_count": 33,
      "outputs": [
        {
          "output_type": "stream",
          "name": "stdout",
          "text": [
            "==== [Cypher automatically generated via Text2Cypher] ====\n",
            "cypher\n",
            "MATCH (m:Movie)-[:IN_GENRE]->(g:Genre), (u:User)-[r:RATED]->(m)\n",
            "WHERE g.name = 'Action'\n",
            "RETURN m.title, COUNT(r) AS reviewCount\n",
            "ORDER BY reviewCount DESC\n",
            "LIMIT 5\n",
            "\n",
            "\n",
            "==== [Generate final answer based on generated Cypher] ====\n",
            "1. \"Mad Max: Fury Road\"\n",
            "2. \"The Dark Knight\"\n",
            "3. \"Avengers: Endgame\"\n",
            "4. \"Inception\"\n",
            "5. \"Gladiator\"\n"
          ]
        }
      ]
    },
    {
      "cell_type": "code",
      "source": [],
      "metadata": {
        "id": "RnXkszVd23Ih"
      },
      "execution_count": null,
      "outputs": []
    }
  ]
}