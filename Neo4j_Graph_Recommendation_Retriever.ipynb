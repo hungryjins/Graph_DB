{
  "nbformat": 4,
  "nbformat_minor": 0,
  "metadata": {
    "colab": {
      "provenance": [],
      "include_colab_link": true
    },
    "kernelspec": {
      "name": "python3",
      "display_name": "Python 3"
    },
    "language_info": {
      "name": "python"
    }
  },
  "cells": [
    {
      "cell_type": "markdown",
      "metadata": {
        "id": "view-in-github",
        "colab_type": "text"
      },
      "source": [
        "<a href=\"https://colab.research.google.com/github/hungryjins/Graph_DB/blob/main/Neo4j_Graph_Recommendation_Retriever.ipynb\" target=\"_parent\"><img src=\"https://colab.research.google.com/assets/colab-badge.svg\" alt=\"Open In Colab\"/></a>"
      ]
    },
    {
      "cell_type": "markdown",
      "source": [
        "## 0. Setting"
      ],
      "metadata": {
        "id": "13RfDLhyPNkX"
      }
    },
    {
      "cell_type": "code",
      "source": [
        "!pip install neo4j-graphrag neo4j openai"
      ],
      "metadata": {
        "colab": {
          "base_uri": "https://localhost:8080/"
        },
        "collapsed": true,
        "id": "Db2sh3701xu-",
        "outputId": "e42c4d02-1313-4ce1-ac97-adaeb8519f86"
      },
      "execution_count": 1,
      "outputs": [
        {
          "output_type": "stream",
          "name": "stdout",
          "text": [
            "Collecting neo4j-graphrag\n",
            "  Downloading neo4j_graphrag-1.8.0-py3-none-any.whl.metadata (18 kB)\n",
            "Collecting neo4j\n",
            "  Downloading neo4j-5.28.1-py3-none-any.whl.metadata (5.9 kB)\n",
            "Requirement already satisfied: openai in /usr/local/lib/python3.11/dist-packages (1.96.1)\n",
            "Collecting fsspec<2025.0.0,>=2024.9.0 (from neo4j-graphrag)\n",
            "  Downloading fsspec-2024.12.0-py3-none-any.whl.metadata (11 kB)\n",
            "Collecting json-repair<0.40.0,>=0.39.1 (from neo4j-graphrag)\n",
            "  Downloading json_repair-0.39.1-py3-none-any.whl.metadata (11 kB)\n",
            "Requirement already satisfied: numpy<3.0.0,>=2.0.0 in /usr/local/lib/python3.11/dist-packages (from neo4j-graphrag) (2.0.2)\n",
            "Requirement already satisfied: pydantic<3.0.0,>=2.6.3 in /usr/local/lib/python3.11/dist-packages (from neo4j-graphrag) (2.11.7)\n",
            "Collecting pypdf<6.0.0,>=5.1.0 (from neo4j-graphrag)\n",
            "  Downloading pypdf-5.8.0-py3-none-any.whl.metadata (7.1 kB)\n",
            "Requirement already satisfied: pyyaml<7.0.0,>=6.0.2 in /usr/local/lib/python3.11/dist-packages (from neo4j-graphrag) (6.0.2)\n",
            "Requirement already satisfied: scipy<2.0.0,>=1.13.0 in /usr/local/lib/python3.11/dist-packages (from neo4j-graphrag) (1.15.3)\n",
            "Collecting types-pyyaml<7.0.0.0,>=6.0.12.20240917 (from neo4j-graphrag)\n",
            "  Downloading types_pyyaml-6.0.12.20250516-py3-none-any.whl.metadata (1.8 kB)\n",
            "Requirement already satisfied: pytz in /usr/local/lib/python3.11/dist-packages (from neo4j) (2025.2)\n",
            "Requirement already satisfied: anyio<5,>=3.5.0 in /usr/local/lib/python3.11/dist-packages (from openai) (4.9.0)\n",
            "Requirement already satisfied: distro<2,>=1.7.0 in /usr/local/lib/python3.11/dist-packages (from openai) (1.9.0)\n",
            "Requirement already satisfied: httpx<1,>=0.23.0 in /usr/local/lib/python3.11/dist-packages (from openai) (0.28.1)\n",
            "Requirement already satisfied: jiter<1,>=0.4.0 in /usr/local/lib/python3.11/dist-packages (from openai) (0.10.0)\n",
            "Requirement already satisfied: sniffio in /usr/local/lib/python3.11/dist-packages (from openai) (1.3.1)\n",
            "Requirement already satisfied: tqdm>4 in /usr/local/lib/python3.11/dist-packages (from openai) (4.67.1)\n",
            "Requirement already satisfied: typing-extensions<5,>=4.11 in /usr/local/lib/python3.11/dist-packages (from openai) (4.14.1)\n",
            "Requirement already satisfied: idna>=2.8 in /usr/local/lib/python3.11/dist-packages (from anyio<5,>=3.5.0->openai) (3.10)\n",
            "Requirement already satisfied: certifi in /usr/local/lib/python3.11/dist-packages (from httpx<1,>=0.23.0->openai) (2025.7.14)\n",
            "Requirement already satisfied: httpcore==1.* in /usr/local/lib/python3.11/dist-packages (from httpx<1,>=0.23.0->openai) (1.0.9)\n",
            "Requirement already satisfied: h11>=0.16 in /usr/local/lib/python3.11/dist-packages (from httpcore==1.*->httpx<1,>=0.23.0->openai) (0.16.0)\n",
            "Requirement already satisfied: annotated-types>=0.6.0 in /usr/local/lib/python3.11/dist-packages (from pydantic<3.0.0,>=2.6.3->neo4j-graphrag) (0.7.0)\n",
            "Requirement already satisfied: pydantic-core==2.33.2 in /usr/local/lib/python3.11/dist-packages (from pydantic<3.0.0,>=2.6.3->neo4j-graphrag) (2.33.2)\n",
            "Requirement already satisfied: typing-inspection>=0.4.0 in /usr/local/lib/python3.11/dist-packages (from pydantic<3.0.0,>=2.6.3->neo4j-graphrag) (0.4.1)\n",
            "Downloading neo4j_graphrag-1.8.0-py3-none-any.whl (189 kB)\n",
            "\u001b[2K   \u001b[90m━━━━━━━━━━━━━━━━━━━━━━━━━━━━━━━━━━━━━━━━\u001b[0m \u001b[32m189.7/189.7 kB\u001b[0m \u001b[31m5.9 MB/s\u001b[0m eta \u001b[36m0:00:00\u001b[0m\n",
            "\u001b[?25hDownloading neo4j-5.28.1-py3-none-any.whl (312 kB)\n",
            "\u001b[2K   \u001b[90m━━━━━━━━━━━━━━━━━━━━━━━━━━━━━━━━━━━━━━━━\u001b[0m \u001b[32m312.3/312.3 kB\u001b[0m \u001b[31m12.6 MB/s\u001b[0m eta \u001b[36m0:00:00\u001b[0m\n",
            "\u001b[?25hDownloading fsspec-2024.12.0-py3-none-any.whl (183 kB)\n",
            "\u001b[2K   \u001b[90m━━━━━━━━━━━━━━━━━━━━━━━━━━━━━━━━━━━━━━━━\u001b[0m \u001b[32m183.9/183.9 kB\u001b[0m \u001b[31m13.7 MB/s\u001b[0m eta \u001b[36m0:00:00\u001b[0m\n",
            "\u001b[?25hDownloading json_repair-0.39.1-py3-none-any.whl (20 kB)\n",
            "Downloading pypdf-5.8.0-py3-none-any.whl (309 kB)\n",
            "\u001b[2K   \u001b[90m━━━━━━━━━━━━━━━━━━━━━━━━━━━━━━━━━━━━━━━━\u001b[0m \u001b[32m309.7/309.7 kB\u001b[0m \u001b[31m15.7 MB/s\u001b[0m eta \u001b[36m0:00:00\u001b[0m\n",
            "\u001b[?25hDownloading types_pyyaml-6.0.12.20250516-py3-none-any.whl (20 kB)\n",
            "Installing collected packages: types-pyyaml, pypdf, neo4j, json-repair, fsspec, neo4j-graphrag\n",
            "  Attempting uninstall: fsspec\n",
            "    Found existing installation: fsspec 2025.3.2\n",
            "    Uninstalling fsspec-2025.3.2:\n",
            "      Successfully uninstalled fsspec-2025.3.2\n",
            "\u001b[31mERROR: pip's dependency resolver does not currently take into account all the packages that are installed. This behaviour is the source of the following dependency conflicts.\n",
            "torch 2.6.0+cu124 requires nvidia-cublas-cu12==12.4.5.8; platform_system == \"Linux\" and platform_machine == \"x86_64\", but you have nvidia-cublas-cu12 12.5.3.2 which is incompatible.\n",
            "torch 2.6.0+cu124 requires nvidia-cuda-cupti-cu12==12.4.127; platform_system == \"Linux\" and platform_machine == \"x86_64\", but you have nvidia-cuda-cupti-cu12 12.5.82 which is incompatible.\n",
            "torch 2.6.0+cu124 requires nvidia-cuda-nvrtc-cu12==12.4.127; platform_system == \"Linux\" and platform_machine == \"x86_64\", but you have nvidia-cuda-nvrtc-cu12 12.5.82 which is incompatible.\n",
            "torch 2.6.0+cu124 requires nvidia-cuda-runtime-cu12==12.4.127; platform_system == \"Linux\" and platform_machine == \"x86_64\", but you have nvidia-cuda-runtime-cu12 12.5.82 which is incompatible.\n",
            "torch 2.6.0+cu124 requires nvidia-cudnn-cu12==9.1.0.70; platform_system == \"Linux\" and platform_machine == \"x86_64\", but you have nvidia-cudnn-cu12 9.3.0.75 which is incompatible.\n",
            "torch 2.6.0+cu124 requires nvidia-cufft-cu12==11.2.1.3; platform_system == \"Linux\" and platform_machine == \"x86_64\", but you have nvidia-cufft-cu12 11.2.3.61 which is incompatible.\n",
            "torch 2.6.0+cu124 requires nvidia-curand-cu12==10.3.5.147; platform_system == \"Linux\" and platform_machine == \"x86_64\", but you have nvidia-curand-cu12 10.3.6.82 which is incompatible.\n",
            "torch 2.6.0+cu124 requires nvidia-cusolver-cu12==11.6.1.9; platform_system == \"Linux\" and platform_machine == \"x86_64\", but you have nvidia-cusolver-cu12 11.6.3.83 which is incompatible.\n",
            "torch 2.6.0+cu124 requires nvidia-cusparse-cu12==12.3.1.170; platform_system == \"Linux\" and platform_machine == \"x86_64\", but you have nvidia-cusparse-cu12 12.5.1.3 which is incompatible.\n",
            "torch 2.6.0+cu124 requires nvidia-nvjitlink-cu12==12.4.127; platform_system == \"Linux\" and platform_machine == \"x86_64\", but you have nvidia-nvjitlink-cu12 12.5.82 which is incompatible.\n",
            "gcsfs 2025.3.2 requires fsspec==2025.3.2, but you have fsspec 2024.12.0 which is incompatible.\u001b[0m\u001b[31m\n",
            "\u001b[0mSuccessfully installed fsspec-2024.12.0 json-repair-0.39.1 neo4j-5.28.1 neo4j-graphrag-1.8.0 pypdf-5.8.0 types-pyyaml-6.0.12.20250516\n"
          ]
        }
      ]
    },
    {
      "cell_type": "code",
      "source": [
        "import os\n",
        "os.environ[\"OPENAI_API_KEY\"] = \"OPENAI_API_KEY\""
      ],
      "metadata": {
        "id": "mxVWhyMb2A1s"
      },
      "execution_count": 2,
      "outputs": []
    },
    {
      "cell_type": "markdown",
      "source": [
        "## 1. GraphDB\n",
        "\n",
        "\n"
      ],
      "metadata": {
        "id": "9_0oQo-APS7f"
      }
    },
    {
      "cell_type": "markdown",
      "source": [
        "Neo4j Sandbox : https://sandbox.neo4j.com/"
      ],
      "metadata": {
        "id": "T2MzCTpQ2Ihk"
      }
    },
    {
      "cell_type": "markdown",
      "source": [
        "### 1-1. Neo4j Driver setting"
      ],
      "metadata": {
        "id": "le_Pfi0pPVjj"
      }
    },
    {
      "cell_type": "code",
      "source": [
        "from neo4j import GraphDatabase, basic_auth\n",
        "import openai\n",
        "\n",
        "driver = GraphDatabase.driver(\n",
        "  \"neo4j://18.212.176.170:7687\",\n",
        "  auth=basic_auth(\"neo4j\", \"menus-classifications-smell\"))"
      ],
      "metadata": {
        "id": "5CDkAq8YPY-e"
      },
      "execution_count": 3,
      "outputs": []
    },
    {
      "cell_type": "markdown",
      "source": [
        "```cypher\n",
        "MATCH (m:Movie {title:$movie})<-[:RATED]-(u:User)-[:RATED]->(rec:Movie)\n",
        "RETURN distinct rec.title AS recommendation LIMIT 20\n",
        "```\n",
        "\n",
        "- `(m:Movie {title:$movie})` : title > $movie\n",
        "- `(rec:Movie)` : Variable > rec\n",
        "- `RETURN distinct rec.title` : RETURN Title on variable rec\n",
        "\n"
      ],
      "metadata": {
        "id": "-eQDxOSx2XSh"
      }
    },
    {
      "cell_type": "code",
      "source": [
        "cypher_query = '''\n",
        "MATCH (m:Movie {title:$movie})<-[:RATED]-(u:User)-[:RATED]->(rec:Movie)\n",
        "RETURN distinct rec.title AS recommendation LIMIT 20\n",
        "'''\n",
        "\n",
        "with driver.session(database=\"neo4j\") as session:\n",
        "  results = session.read_transaction(\n",
        "    lambda tx: tx.run(cypher_query,\n",
        "                      movie=\"Crimson Tide\").data())\n",
        "  for record in results:\n",
        "    print(record['recommendation'])\n",
        "\n",
        "#driver.close()"
      ],
      "metadata": {
        "colab": {
          "base_uri": "https://localhost:8080/"
        },
        "id": "mTI3Q6qe00rw",
        "outputId": "e64aa4b5-43af-41f4-8e9b-fea7967a4d75"
      },
      "execution_count": 4,
      "outputs": [
        {
          "output_type": "stream",
          "name": "stderr",
          "text": [
            "/tmp/ipython-input-4-1491241831.py:7: DeprecationWarning: read_transaction has been renamed to execute_read\n",
            "  results = session.read_transaction(\n"
          ]
        },
        {
          "output_type": "stream",
          "name": "stdout",
          "text": [
            "Mr. Holland's Opus\n",
            "Apollo 13\n",
            "Dead Man Walking\n",
            "Seven (a.k.a. Se7en)\n",
            "Heat\n",
            "Get Shorty\n",
            "Fugitive, The\n",
            "Dave\n",
            "Addams Family Values\n",
            "True Lies\n",
            "Speed\n",
            "Lion King, The\n",
            "Four Weddings and a Funeral\n",
            "Forrest Gump\n",
            "Star Trek: Generations\n",
            "Shawshank Redemption, The\n",
            "Stargate\n",
            "Pulp Fiction\n",
            "Outbreak\n",
            "Miracle on 34th Street\n"
          ]
        }
      ]
    },
    {
      "cell_type": "markdown",
      "source": [
        "## 2. Plot Embedding\n",
        "\n",
        "- Retriever goal : Search by plot to find similar movies\n",
        "\n",
        "How? Vector retriever"
      ],
      "metadata": {
        "id": "7UHTjrkZPfFE"
      }
    },
    {
      "cell_type": "markdown",
      "source": [
        "### 2-1. Text to Embedding vector (OpenAI Embedding model)"
      ],
      "metadata": {
        "id": "8dpi-2M8P1PW"
      }
    },
    {
      "cell_type": "code",
      "source": [
        "def generate_embedding(text):\n",
        "    embedding = openai.embeddings.create(input = [text], model='text-embedding-ada-002').data[0].embedding\n",
        "    return embedding"
      ],
      "metadata": {
        "id": "sA1RYap-PdDX"
      },
      "execution_count": 5,
      "outputs": []
    },
    {
      "cell_type": "code",
      "source": [
        "def add_embedding_to_movie(tx):\n",
        "    \"\"\"Embed the plot of all Movie nodes and add the value to the embedding property.\"\"\"\n",
        "    result = tx.run(\"MATCH (m:Movie) WHERE m.plot IS NOT NULL RETURN m.title AS title, m.plot AS plot, ID(m) AS id LIMIT 100\")\n",
        "    cnt = 0\n",
        "    for record in result:\n",
        "        cnt += 1\n",
        "        print(cnt)\n",
        "        title = record[\"title\"]\n",
        "        plot = record[\"plot\"]\n",
        "        node_id = record[\"id\"]\n",
        "        print(plot)\n",
        "        print(\"=================\")\n",
        "        embedding = generate_embedding(plot)\n",
        "        # Save embedding vectors to Neo4j\n",
        "        tx.run(\"MATCH (m:Movie) WHERE ID(m) = $id SET m.plotEmbedding = $embedding\", id=node_id, embedding=embedding)\n",
        "        print(f\"Updated movie '{title}' with embedding.\")\n",
        "\n",
        "with driver.session() as session:\n",
        "    session.write_transaction(add_embedding_to_movie)"
      ],
      "metadata": {
        "colab": {
          "base_uri": "https://localhost:8080/"
        },
        "id": "j_BlQZK4HH63",
        "outputId": "47c38c63-daae-4dec-b3ec-a72cde3eba5f"
      },
      "execution_count": 7,
      "outputs": [
        {
          "output_type": "stream",
          "name": "stderr",
          "text": [
            "/tmp/ipython-input-7-1372539816.py:19: DeprecationWarning: write_transaction has been renamed to execute_write\n",
            "  session.write_transaction(add_embedding_to_movie)\n"
          ]
        },
        {
          "output_type": "stream",
          "name": "stdout",
          "text": [
            "1\n",
            "A cowboy doll is profoundly threatened and jealous when a new spaceman figure supplants him as top toy in a boy's room.\n",
            "=================\n"
          ]
        },
        {
          "output_type": "stream",
          "name": "stderr",
          "text": [
            "WARNING:neo4j.notifications:Received notification from DBMS server: {severity: WARNING} {code: Neo.ClientNotification.Statement.FeatureDeprecationWarning} {category: DEPRECATION} {title: This feature is deprecated and will be removed in future versions.} {description: The query used a deprecated function. ('id' has been replaced by 'elementId or consider using an application-generated id')} {position: line: 1, column: 83, offset: 82} for query: 'MATCH (m:Movie) WHERE m.plot IS NOT NULL RETURN m.title AS title, m.plot AS plot, ID(m) AS id LIMIT 100'\n"
          ]
        },
        {
          "output_type": "stream",
          "name": "stdout",
          "text": [
            "Updated movie 'Toy Story' with embedding.\n",
            "2\n",
            "When two kids find and play a magical board game, they release a man trapped for decades in it and a host of dangers that can only be stopped by finishing the game.\n",
            "=================\n"
          ]
        },
        {
          "output_type": "stream",
          "name": "stderr",
          "text": [
            "WARNING:neo4j.notifications:Received notification from DBMS server: {severity: WARNING} {code: Neo.ClientNotification.Statement.FeatureDeprecationWarning} {category: DEPRECATION} {title: This feature is deprecated and will be removed in future versions.} {description: The query used a deprecated function. ('id' has been replaced by 'elementId or consider using an application-generated id')} {position: line: 1, column: 23, offset: 22} for query: 'MATCH (m:Movie) WHERE ID(m) = $id SET m.plotEmbedding = $embedding'\n"
          ]
        },
        {
          "output_type": "stream",
          "name": "stdout",
          "text": [
            "Updated movie 'Jumanji' with embedding.\n",
            "3\n",
            "John and Max resolve to save their beloved bait shop from turning into an Italian restaurant, just as its new female owner catches Max's attention.\n",
            "=================\n"
          ]
        },
        {
          "output_type": "stream",
          "name": "stderr",
          "text": [
            "WARNING:neo4j.notifications:Received notification from DBMS server: {severity: WARNING} {code: Neo.ClientNotification.Statement.FeatureDeprecationWarning} {category: DEPRECATION} {title: This feature is deprecated and will be removed in future versions.} {description: The query used a deprecated function. ('id' has been replaced by 'elementId or consider using an application-generated id')} {position: line: 1, column: 23, offset: 22} for query: 'MATCH (m:Movie) WHERE ID(m) = $id SET m.plotEmbedding = $embedding'\n"
          ]
        },
        {
          "output_type": "stream",
          "name": "stdout",
          "text": [
            "Updated movie 'Grumpier Old Men' with embedding.\n",
            "4\n",
            "Based on Terry McMillan's novel, this film follows four very different African-American women and their relationships with the male gender.\n",
            "=================\n"
          ]
        },
        {
          "output_type": "stream",
          "name": "stderr",
          "text": [
            "WARNING:neo4j.notifications:Received notification from DBMS server: {severity: WARNING} {code: Neo.ClientNotification.Statement.FeatureDeprecationWarning} {category: DEPRECATION} {title: This feature is deprecated and will be removed in future versions.} {description: The query used a deprecated function. ('id' has been replaced by 'elementId or consider using an application-generated id')} {position: line: 1, column: 23, offset: 22} for query: 'MATCH (m:Movie) WHERE ID(m) = $id SET m.plotEmbedding = $embedding'\n",
            "WARNING:neo4j.notifications:Received notification from DBMS server: {severity: WARNING} {code: Neo.ClientNotification.Statement.FeatureDeprecationWarning} {category: DEPRECATION} {title: This feature is deprecated and will be removed in future versions.} {description: The query used a deprecated function. ('id' has been replaced by 'elementId or consider using an application-generated id')} {position: line: 1, column: 23, offset: 22} for query: 'MATCH (m:Movie) WHERE ID(m) = $id SET m.plotEmbedding = $embedding'\n"
          ]
        },
        {
          "output_type": "stream",
          "name": "stdout",
          "text": [
            "Updated movie 'Waiting to Exhale' with embedding.\n",
            "5\n",
            "In this sequel, George Banks deals not only with the pregnancy of his daughter, but also with the unexpected pregnancy of his wife.\n",
            "=================\n",
            "Updated movie 'Father of the Bride Part II' with embedding.\n",
            "6\n",
            "A group of professional bank robbers start to feel the heat from police when they unknowingly leave a clue at their latest heist.\n",
            "=================\n"
          ]
        },
        {
          "output_type": "stream",
          "name": "stderr",
          "text": [
            "WARNING:neo4j.notifications:Received notification from DBMS server: {severity: WARNING} {code: Neo.ClientNotification.Statement.FeatureDeprecationWarning} {category: DEPRECATION} {title: This feature is deprecated and will be removed in future versions.} {description: The query used a deprecated function. ('id' has been replaced by 'elementId or consider using an application-generated id')} {position: line: 1, column: 23, offset: 22} for query: 'MATCH (m:Movie) WHERE ID(m) = $id SET m.plotEmbedding = $embedding'\n",
            "WARNING:neo4j.notifications:Received notification from DBMS server: {severity: WARNING} {code: Neo.ClientNotification.Statement.FeatureDeprecationWarning} {category: DEPRECATION} {title: This feature is deprecated and will be removed in future versions.} {description: The query used a deprecated function. ('id' has been replaced by 'elementId or consider using an application-generated id')} {position: line: 1, column: 23, offset: 22} for query: 'MATCH (m:Movie) WHERE ID(m) = $id SET m.plotEmbedding = $embedding'\n"
          ]
        },
        {
          "output_type": "stream",
          "name": "stdout",
          "text": [
            "Updated movie 'Heat' with embedding.\n",
            "7\n",
            "An ugly duckling having undergone a remarkable change, still harbors feelings for her crush: a carefree playboy, but not before his business-focused brother has something to say about it.\n",
            "=================\n"
          ]
        },
        {
          "output_type": "stream",
          "name": "stderr",
          "text": [
            "WARNING:neo4j.notifications:Received notification from DBMS server: {severity: WARNING} {code: Neo.ClientNotification.Statement.FeatureDeprecationWarning} {category: DEPRECATION} {title: This feature is deprecated and will be removed in future versions.} {description: The query used a deprecated function. ('id' has been replaced by 'elementId or consider using an application-generated id')} {position: line: 1, column: 23, offset: 22} for query: 'MATCH (m:Movie) WHERE ID(m) = $id SET m.plotEmbedding = $embedding'\n"
          ]
        },
        {
          "output_type": "stream",
          "name": "stdout",
          "text": [
            "Updated movie 'Sabrina' with embedding.\n",
            "8\n",
            "Tom and Huck witness Injun Joe's killing of Doc Robinson one night at the graveyard. When an innocent man is accused of killing the Doc, Tom steps up as a witness, not respecting the promise made to Huck to lay low.\n",
            "=================\n",
            "Updated movie 'Tom and Huck' with embedding.\n",
            "9\n",
            "A former fireman takes on a group of terrorists holding the Vice President and others hostage during the seventh game of the NHL Stanley Cup finals.\n",
            "=================\n"
          ]
        },
        {
          "output_type": "stream",
          "name": "stderr",
          "text": [
            "WARNING:neo4j.notifications:Received notification from DBMS server: {severity: WARNING} {code: Neo.ClientNotification.Statement.FeatureDeprecationWarning} {category: DEPRECATION} {title: This feature is deprecated and will be removed in future versions.} {description: The query used a deprecated function. ('id' has been replaced by 'elementId or consider using an application-generated id')} {position: line: 1, column: 23, offset: 22} for query: 'MATCH (m:Movie) WHERE ID(m) = $id SET m.plotEmbedding = $embedding'\n"
          ]
        },
        {
          "output_type": "stream",
          "name": "stdout",
          "text": [
            "Updated movie 'Sudden Death' with embedding.\n",
            "10\n",
            "James Bond teams up with the lone survivor of a destroyed Russian research center to stop the hijacking of a nuclear space weapon by a fellow agent formerly believed to be dead.\n",
            "=================\n"
          ]
        },
        {
          "output_type": "stream",
          "name": "stderr",
          "text": [
            "WARNING:neo4j.notifications:Received notification from DBMS server: {severity: WARNING} {code: Neo.ClientNotification.Statement.FeatureDeprecationWarning} {category: DEPRECATION} {title: This feature is deprecated and will be removed in future versions.} {description: The query used a deprecated function. ('id' has been replaced by 'elementId or consider using an application-generated id')} {position: line: 1, column: 23, offset: 22} for query: 'MATCH (m:Movie) WHERE ID(m) = $id SET m.plotEmbedding = $embedding'\n"
          ]
        },
        {
          "output_type": "stream",
          "name": "stdout",
          "text": [
            "Updated movie 'GoldenEye' with embedding.\n",
            "11\n",
            "Comedy-drama about a widowed U.S. president and a lobbyist who fall in love. It's all above-board, but politics is perception and sparks fly anyway.\n",
            "=================\n"
          ]
        },
        {
          "output_type": "stream",
          "name": "stderr",
          "text": [
            "WARNING:neo4j.notifications:Received notification from DBMS server: {severity: WARNING} {code: Neo.ClientNotification.Statement.FeatureDeprecationWarning} {category: DEPRECATION} {title: This feature is deprecated and will be removed in future versions.} {description: The query used a deprecated function. ('id' has been replaced by 'elementId or consider using an application-generated id')} {position: line: 1, column: 23, offset: 22} for query: 'MATCH (m:Movie) WHERE ID(m) = $id SET m.plotEmbedding = $embedding'\n"
          ]
        },
        {
          "output_type": "stream",
          "name": "stdout",
          "text": [
            "Updated movie 'American President, The' with embedding.\n",
            "12\n",
            "Mel Brooks' parody of the classic vampire story and its famous film adaptations.\n",
            "=================\n"
          ]
        },
        {
          "output_type": "stream",
          "name": "stderr",
          "text": [
            "WARNING:neo4j.notifications:Received notification from DBMS server: {severity: WARNING} {code: Neo.ClientNotification.Statement.FeatureDeprecationWarning} {category: DEPRECATION} {title: This feature is deprecated and will be removed in future versions.} {description: The query used a deprecated function. ('id' has been replaced by 'elementId or consider using an application-generated id')} {position: line: 1, column: 23, offset: 22} for query: 'MATCH (m:Movie) WHERE ID(m) = $id SET m.plotEmbedding = $embedding'\n"
          ]
        },
        {
          "output_type": "stream",
          "name": "stdout",
          "text": [
            "Updated movie 'Dracula: Dead and Loving It' with embedding.\n",
            "13\n",
            "An outcast half-wolf risks his life to prevent a deadly epidemic from ravaging Nome, Alaska.\n",
            "=================\n"
          ]
        },
        {
          "output_type": "stream",
          "name": "stderr",
          "text": [
            "WARNING:neo4j.notifications:Received notification from DBMS server: {severity: WARNING} {code: Neo.ClientNotification.Statement.FeatureDeprecationWarning} {category: DEPRECATION} {title: This feature is deprecated and will be removed in future versions.} {description: The query used a deprecated function. ('id' has been replaced by 'elementId or consider using an application-generated id')} {position: line: 1, column: 23, offset: 22} for query: 'MATCH (m:Movie) WHERE ID(m) = $id SET m.plotEmbedding = $embedding'\n"
          ]
        },
        {
          "output_type": "stream",
          "name": "stdout",
          "text": [
            "Updated movie 'Balto' with embedding.\n",
            "14\n",
            "A biographical story of former U.S. president Richard Milhous Nixon, from his days as a young boy to his eventual presidency which ended in shame.\n",
            "=================\n"
          ]
        },
        {
          "output_type": "stream",
          "name": "stderr",
          "text": [
            "WARNING:neo4j.notifications:Received notification from DBMS server: {severity: WARNING} {code: Neo.ClientNotification.Statement.FeatureDeprecationWarning} {category: DEPRECATION} {title: This feature is deprecated and will be removed in future versions.} {description: The query used a deprecated function. ('id' has been replaced by 'elementId or consider using an application-generated id')} {position: line: 1, column: 23, offset: 22} for query: 'MATCH (m:Movie) WHERE ID(m) = $id SET m.plotEmbedding = $embedding'\n"
          ]
        },
        {
          "output_type": "stream",
          "name": "stdout",
          "text": [
            "Updated movie 'Nixon' with embedding.\n",
            "15\n",
            "A female pirate and her companion race against their rivals to find a hidden island that contains a fabulous treasure.\n",
            "=================\n"
          ]
        },
        {
          "output_type": "stream",
          "name": "stderr",
          "text": [
            "WARNING:neo4j.notifications:Received notification from DBMS server: {severity: WARNING} {code: Neo.ClientNotification.Statement.FeatureDeprecationWarning} {category: DEPRECATION} {title: This feature is deprecated and will be removed in future versions.} {description: The query used a deprecated function. ('id' has been replaced by 'elementId or consider using an application-generated id')} {position: line: 1, column: 23, offset: 22} for query: 'MATCH (m:Movie) WHERE ID(m) = $id SET m.plotEmbedding = $embedding'\n",
            "WARNING:neo4j.notifications:Received notification from DBMS server: {severity: WARNING} {code: Neo.ClientNotification.Statement.FeatureDeprecationWarning} {category: DEPRECATION} {title: This feature is deprecated and will be removed in future versions.} {description: The query used a deprecated function. ('id' has been replaced by 'elementId or consider using an application-generated id')} {position: line: 1, column: 23, offset: 22} for query: 'MATCH (m:Movie) WHERE ID(m) = $id SET m.plotEmbedding = $embedding'\n"
          ]
        },
        {
          "output_type": "stream",
          "name": "stdout",
          "text": [
            "Updated movie 'Cutthroat Island' with embedding.\n",
            "16\n",
            "Greed, deception, money, power, and murder occur between two mobster best friends and a trophy wife over a gambling empire.\n",
            "=================\n",
            "Updated movie 'Casino' with embedding.\n",
            "17\n",
            "Rich Mr. Dashwood dies, leaving his second wife and her three daughters poor by the rules of inheritance. The two eldest daughters are the titular opposites.\n",
            "=================\n"
          ]
        },
        {
          "output_type": "stream",
          "name": "stderr",
          "text": [
            "WARNING:neo4j.notifications:Received notification from DBMS server: {severity: WARNING} {code: Neo.ClientNotification.Statement.FeatureDeprecationWarning} {category: DEPRECATION} {title: This feature is deprecated and will be removed in future versions.} {description: The query used a deprecated function. ('id' has been replaced by 'elementId or consider using an application-generated id')} {position: line: 1, column: 23, offset: 22} for query: 'MATCH (m:Movie) WHERE ID(m) = $id SET m.plotEmbedding = $embedding'\n",
            "WARNING:neo4j.notifications:Received notification from DBMS server: {severity: WARNING} {code: Neo.ClientNotification.Statement.FeatureDeprecationWarning} {category: DEPRECATION} {title: This feature is deprecated and will be removed in future versions.} {description: The query used a deprecated function. ('id' has been replaced by 'elementId or consider using an application-generated id')} {position: line: 1, column: 23, offset: 22} for query: 'MATCH (m:Movie) WHERE ID(m) = $id SET m.plotEmbedding = $embedding'\n"
          ]
        },
        {
          "output_type": "stream",
          "name": "stdout",
          "text": [
            "Updated movie 'Sense and Sensibility' with embedding.\n",
            "18\n",
            "Four interlocking tales that take place in a fading hotel on New Year's Eve.\n",
            "=================\n",
            "Updated movie 'Four Rooms' with embedding.\n",
            "19\n",
            "Ace Ventura, Pet Detective, returns from a spiritual quest to investigate the disappearance of a rare white bat, the sacred animal of a tribe in Africa.\n",
            "=================\n"
          ]
        },
        {
          "output_type": "stream",
          "name": "stderr",
          "text": [
            "WARNING:neo4j.notifications:Received notification from DBMS server: {severity: WARNING} {code: Neo.ClientNotification.Statement.FeatureDeprecationWarning} {category: DEPRECATION} {title: This feature is deprecated and will be removed in future versions.} {description: The query used a deprecated function. ('id' has been replaced by 'elementId or consider using an application-generated id')} {position: line: 1, column: 23, offset: 22} for query: 'MATCH (m:Movie) WHERE ID(m) = $id SET m.plotEmbedding = $embedding'\n"
          ]
        },
        {
          "output_type": "stream",
          "name": "stdout",
          "text": [
            "Updated movie 'Ace Ventura: When Nature Calls' with embedding.\n",
            "20\n",
            "A vengeful New York transit cop decides to steal a trainload of subway fares; his foster brother, a fellow cop, tries to protect him.\n",
            "=================\n"
          ]
        },
        {
          "output_type": "stream",
          "name": "stderr",
          "text": [
            "WARNING:neo4j.notifications:Received notification from DBMS server: {severity: WARNING} {code: Neo.ClientNotification.Statement.FeatureDeprecationWarning} {category: DEPRECATION} {title: This feature is deprecated and will be removed in future versions.} {description: The query used a deprecated function. ('id' has been replaced by 'elementId or consider using an application-generated id')} {position: line: 1, column: 23, offset: 22} for query: 'MATCH (m:Movie) WHERE ID(m) = $id SET m.plotEmbedding = $embedding'\n"
          ]
        },
        {
          "output_type": "stream",
          "name": "stdout",
          "text": [
            "Updated movie 'Money Train' with embedding.\n",
            "21\n",
            "A mobster travels to Hollywood to collect a debt and discovers that the movie business is much the same as his current job.\n",
            "=================\n"
          ]
        },
        {
          "output_type": "stream",
          "name": "stderr",
          "text": [
            "WARNING:neo4j.notifications:Received notification from DBMS server: {severity: WARNING} {code: Neo.ClientNotification.Statement.FeatureDeprecationWarning} {category: DEPRECATION} {title: This feature is deprecated and will be removed in future versions.} {description: The query used a deprecated function. ('id' has been replaced by 'elementId or consider using an application-generated id')} {position: line: 1, column: 23, offset: 22} for query: 'MATCH (m:Movie) WHERE ID(m) = $id SET m.plotEmbedding = $embedding'\n",
            "WARNING:neo4j.notifications:Received notification from DBMS server: {severity: WARNING} {code: Neo.ClientNotification.Statement.FeatureDeprecationWarning} {category: DEPRECATION} {title: This feature is deprecated and will be removed in future versions.} {description: The query used a deprecated function. ('id' has been replaced by 'elementId or consider using an application-generated id')} {position: line: 1, column: 23, offset: 22} for query: 'MATCH (m:Movie) WHERE ID(m) = $id SET m.plotEmbedding = $embedding'\n"
          ]
        },
        {
          "output_type": "stream",
          "name": "stdout",
          "text": [
            "Updated movie 'Get Shorty' with embedding.\n",
            "22\n",
            "An agoraphobic psychologist and a female detective must work together to take down a serial killer who copies serial killers from the past.\n",
            "=================\n",
            "Updated movie 'Copycat' with embedding.\n",
            "23\n",
            "Professional hit-man Robert Rath wants to fulfill a few more contracts before retiring but unscrupulous ambitious newcomer hit-man Miguel Bain keeps killing Rath's targets.\n",
            "=================\n"
          ]
        },
        {
          "output_type": "stream",
          "name": "stderr",
          "text": [
            "WARNING:neo4j.notifications:Received notification from DBMS server: {severity: WARNING} {code: Neo.ClientNotification.Statement.FeatureDeprecationWarning} {category: DEPRECATION} {title: This feature is deprecated and will be removed in future versions.} {description: The query used a deprecated function. ('id' has been replaced by 'elementId or consider using an application-generated id')} {position: line: 1, column: 23, offset: 22} for query: 'MATCH (m:Movie) WHERE ID(m) = $id SET m.plotEmbedding = $embedding'\n"
          ]
        },
        {
          "output_type": "stream",
          "name": "stdout",
          "text": [
            "Updated movie 'Assassins' with embedding.\n",
            "24\n",
            "A young bald albino boy with unique powers shakes up the rural community he lives in.\n",
            "=================\n"
          ]
        },
        {
          "output_type": "stream",
          "name": "stderr",
          "text": [
            "WARNING:neo4j.notifications:Received notification from DBMS server: {severity: WARNING} {code: Neo.ClientNotification.Statement.FeatureDeprecationWarning} {category: DEPRECATION} {title: This feature is deprecated and will be removed in future versions.} {description: The query used a deprecated function. ('id' has been replaced by 'elementId or consider using an application-generated id')} {position: line: 1, column: 23, offset: 22} for query: 'MATCH (m:Movie) WHERE ID(m) = $id SET m.plotEmbedding = $embedding'\n",
            "WARNING:neo4j.notifications:Received notification from DBMS server: {severity: WARNING} {code: Neo.ClientNotification.Statement.FeatureDeprecationWarning} {category: DEPRECATION} {title: This feature is deprecated and will be removed in future versions.} {description: The query used a deprecated function. ('id' has been replaced by 'elementId or consider using an application-generated id')} {position: line: 1, column: 23, offset: 22} for query: 'MATCH (m:Movie) WHERE ID(m) = $id SET m.plotEmbedding = $embedding'\n"
          ]
        },
        {
          "output_type": "stream",
          "name": "stdout",
          "text": [
            "Updated movie 'Powder' with embedding.\n",
            "25\n",
            "Ben Sanderson, an alcoholic Hollywood screenwriter who lost everything because of his drinking, arrives in Las Vegas to drink himself to death. There, he meets and forms an uneasy friendship and non-interference pact with prostitute Sera.\n",
            "=================\n",
            "Updated movie 'Leaving Las Vegas' with embedding.\n",
            "26\n",
            "The evil Iago pretends to be friend of Othello in order to manipulate him to serve his own end in the film version of this Shakespeare classic.\n",
            "=================\n"
          ]
        },
        {
          "output_type": "stream",
          "name": "stderr",
          "text": [
            "WARNING:neo4j.notifications:Received notification from DBMS server: {severity: WARNING} {code: Neo.ClientNotification.Statement.FeatureDeprecationWarning} {category: DEPRECATION} {title: This feature is deprecated and will be removed in future versions.} {description: The query used a deprecated function. ('id' has been replaced by 'elementId or consider using an application-generated id')} {position: line: 1, column: 23, offset: 22} for query: 'MATCH (m:Movie) WHERE ID(m) = $id SET m.plotEmbedding = $embedding'\n",
            "WARNING:neo4j.notifications:Received notification from DBMS server: {severity: WARNING} {code: Neo.ClientNotification.Statement.FeatureDeprecationWarning} {category: DEPRECATION} {title: This feature is deprecated and will be removed in future versions.} {description: The query used a deprecated function. ('id' has been replaced by 'elementId or consider using an application-generated id')} {position: line: 1, column: 23, offset: 22} for query: 'MATCH (m:Movie) WHERE ID(m) = $id SET m.plotEmbedding = $embedding'\n"
          ]
        },
        {
          "output_type": "stream",
          "name": "stdout",
          "text": [
            "Updated movie 'Othello' with embedding.\n",
            "27\n",
            "Four 12-year-old girls grow up together during an eventful small-town summer in 1970.\n",
            "=================\n",
            "Updated movie 'Now and Then' with embedding.\n",
            "28\n",
            "Eight years earlier, Anne Elliot, the daughter of a financially troubled aristocratic family, was persuaded to break off her engagement to Frederick Wentworth, a young seaman, who, though ...\n",
            "=================\n"
          ]
        },
        {
          "output_type": "stream",
          "name": "stderr",
          "text": [
            "WARNING:neo4j.notifications:Received notification from DBMS server: {severity: WARNING} {code: Neo.ClientNotification.Statement.FeatureDeprecationWarning} {category: DEPRECATION} {title: This feature is deprecated and will be removed in future versions.} {description: The query used a deprecated function. ('id' has been replaced by 'elementId or consider using an application-generated id')} {position: line: 1, column: 23, offset: 22} for query: 'MATCH (m:Movie) WHERE ID(m) = $id SET m.plotEmbedding = $embedding'\n",
            "WARNING:neo4j.notifications:Received notification from DBMS server: {severity: WARNING} {code: Neo.ClientNotification.Statement.FeatureDeprecationWarning} {category: DEPRECATION} {title: This feature is deprecated and will be removed in future versions.} {description: The query used a deprecated function. ('id' has been replaced by 'elementId or consider using an application-generated id')} {position: line: 1, column: 23, offset: 22} for query: 'MATCH (m:Movie) WHERE ID(m) = $id SET m.plotEmbedding = $embedding'\n"
          ]
        },
        {
          "output_type": "stream",
          "name": "stdout",
          "text": [
            "Updated movie 'Persuasion' with embedding.\n",
            "29\n",
            "A scientist in a surrealist society kidnaps children to steal their dreams, hoping that they slow his aging process.\n",
            "=================\n",
            "Updated movie 'City of Lost Children, The (Cité des enfants perdus, La)' with embedding.\n",
            "30\n",
            "A provincial boy related to a Shanghai crime family is recruited by his uncle into cosmopolitan Shanghai in the 1930s to be a servant to a ganglord's mistress.\n",
            "=================\n"
          ]
        },
        {
          "output_type": "stream",
          "name": "stderr",
          "text": [
            "WARNING:neo4j.notifications:Received notification from DBMS server: {severity: WARNING} {code: Neo.ClientNotification.Statement.FeatureDeprecationWarning} {category: DEPRECATION} {title: This feature is deprecated and will be removed in future versions.} {description: The query used a deprecated function. ('id' has been replaced by 'elementId or consider using an application-generated id')} {position: line: 1, column: 23, offset: 22} for query: 'MATCH (m:Movie) WHERE ID(m) = $id SET m.plotEmbedding = $embedding'\n",
            "WARNING:neo4j.notifications:Received notification from DBMS server: {severity: WARNING} {code: Neo.ClientNotification.Statement.FeatureDeprecationWarning} {category: DEPRECATION} {title: This feature is deprecated and will be removed in future versions.} {description: The query used a deprecated function. ('id' has been replaced by 'elementId or consider using an application-generated id')} {position: line: 1, column: 23, offset: 22} for query: 'MATCH (m:Movie) WHERE ID(m) = $id SET m.plotEmbedding = $embedding'\n"
          ]
        },
        {
          "output_type": "stream",
          "name": "stdout",
          "text": [
            "Updated movie 'Shanghai Triad (Yao a yao yao dao waipo qiao)' with embedding.\n",
            "31\n",
            "An ex-Marine turned teacher struggles to connect with her students in an inner city school.\n",
            "=================\n",
            "Updated movie 'Dangerous Minds' with embedding.\n",
            "32\n",
            "In a future world devastated by disease, a convict is sent back in time to gather information about the man-made virus that wiped out most of the human population on the planet.\n",
            "=================\n"
          ]
        },
        {
          "output_type": "stream",
          "name": "stderr",
          "text": [
            "WARNING:neo4j.notifications:Received notification from DBMS server: {severity: WARNING} {code: Neo.ClientNotification.Statement.FeatureDeprecationWarning} {category: DEPRECATION} {title: This feature is deprecated and will be removed in future versions.} {description: The query used a deprecated function. ('id' has been replaced by 'elementId or consider using an application-generated id')} {position: line: 1, column: 23, offset: 22} for query: 'MATCH (m:Movie) WHERE ID(m) = $id SET m.plotEmbedding = $embedding'\n",
            "WARNING:neo4j.notifications:Received notification from DBMS server: {severity: WARNING} {code: Neo.ClientNotification.Statement.FeatureDeprecationWarning} {category: DEPRECATION} {title: This feature is deprecated and will be removed in future versions.} {description: The query used a deprecated function. ('id' has been replaced by 'elementId or consider using an application-generated id')} {position: line: 1, column: 23, offset: 22} for query: 'MATCH (m:Movie) WHERE ID(m) = $id SET m.plotEmbedding = $embedding'\n"
          ]
        },
        {
          "output_type": "stream",
          "name": "stdout",
          "text": [
            "Updated movie 'Twelve Monkeys (a.k.a. 12 Monkeys)' with embedding.\n",
            "33\n",
            "Babe, a pig raised by sheepdogs, learns to herd sheep with a little help from Farmer Hoggett.\n",
            "=================\n",
            "Updated movie 'Babe' with embedding.\n",
            "34\n",
            "The platonic relationship between artist Dora Carrington and writer Lytton Strachey in the early 20th century.\n",
            "=================\n"
          ]
        },
        {
          "output_type": "stream",
          "name": "stderr",
          "text": [
            "WARNING:neo4j.notifications:Received notification from DBMS server: {severity: WARNING} {code: Neo.ClientNotification.Statement.FeatureDeprecationWarning} {category: DEPRECATION} {title: This feature is deprecated and will be removed in future versions.} {description: The query used a deprecated function. ('id' has been replaced by 'elementId or consider using an application-generated id')} {position: line: 1, column: 23, offset: 22} for query: 'MATCH (m:Movie) WHERE ID(m) = $id SET m.plotEmbedding = $embedding'\n"
          ]
        },
        {
          "output_type": "stream",
          "name": "stdout",
          "text": [
            "Updated movie 'Carrington' with embedding.\n",
            "35\n",
            "A nun, while comforting a convicted killer on death row, empathizes with both the killer and his victim's families.\n",
            "=================\n"
          ]
        },
        {
          "output_type": "stream",
          "name": "stderr",
          "text": [
            "WARNING:neo4j.notifications:Received notification from DBMS server: {severity: WARNING} {code: Neo.ClientNotification.Statement.FeatureDeprecationWarning} {category: DEPRECATION} {title: This feature is deprecated and will be removed in future versions.} {description: The query used a deprecated function. ('id' has been replaced by 'elementId or consider using an application-generated id')} {position: line: 1, column: 23, offset: 22} for query: 'MATCH (m:Movie) WHERE ID(m) = $id SET m.plotEmbedding = $embedding'\n",
            "WARNING:neo4j.notifications:Received notification from DBMS server: {severity: WARNING} {code: Neo.ClientNotification.Statement.FeatureDeprecationWarning} {category: DEPRECATION} {title: This feature is deprecated and will be removed in future versions.} {description: The query used a deprecated function. ('id' has been replaced by 'elementId or consider using an application-generated id')} {position: line: 1, column: 23, offset: 22} for query: 'MATCH (m:Movie) WHERE ID(m) = $id SET m.plotEmbedding = $embedding'\n"
          ]
        },
        {
          "output_type": "stream",
          "name": "stdout",
          "text": [
            "Updated movie 'Dead Man Walking' with embedding.\n",
            "36\n",
            "A young Russian boy, Thomas Minton, travels to New York as a passenger on a Russian freighter. Close to Ellis Island he gets off and thus starts his journey to America the same way as all ...\n",
            "=================\n",
            "Updated movie 'Across the Sea of Time' with embedding.\n",
            "37\n",
            "Alyssa (a rich girl) and Amanda (an orphan) are two little girls who are identical, but complete strangers, that accidentally meet one day. In an attempt to stop Alyssa's father from ...\n",
            "=================\n"
          ]
        },
        {
          "output_type": "stream",
          "name": "stderr",
          "text": [
            "WARNING:neo4j.notifications:Received notification from DBMS server: {severity: WARNING} {code: Neo.ClientNotification.Statement.FeatureDeprecationWarning} {category: DEPRECATION} {title: This feature is deprecated and will be removed in future versions.} {description: The query used a deprecated function. ('id' has been replaced by 'elementId or consider using an application-generated id')} {position: line: 1, column: 23, offset: 22} for query: 'MATCH (m:Movie) WHERE ID(m) = $id SET m.plotEmbedding = $embedding'\n",
            "WARNING:neo4j.notifications:Received notification from DBMS server: {severity: WARNING} {code: Neo.ClientNotification.Statement.FeatureDeprecationWarning} {category: DEPRECATION} {title: This feature is deprecated and will be removed in future versions.} {description: The query used a deprecated function. ('id' has been replaced by 'elementId or consider using an application-generated id')} {position: line: 1, column: 23, offset: 22} for query: 'MATCH (m:Movie) WHERE ID(m) = $id SET m.plotEmbedding = $embedding'\n"
          ]
        },
        {
          "output_type": "stream",
          "name": "stdout",
          "text": [
            "Updated movie 'It Takes Two' with embedding.\n",
            "38\n",
            "A rich high school student tries to boost a new pupil's popularity, but reckons without affairs of the heart getting in the way.\n",
            "=================\n"
          ]
        },
        {
          "output_type": "stream",
          "name": "stderr",
          "text": [
            "WARNING:neo4j.notifications:Received notification from DBMS server: {severity: WARNING} {code: Neo.ClientNotification.Statement.FeatureDeprecationWarning} {category: DEPRECATION} {title: This feature is deprecated and will be removed in future versions.} {description: The query used a deprecated function. ('id' has been replaced by 'elementId or consider using an application-generated id')} {position: line: 1, column: 23, offset: 22} for query: 'MATCH (m:Movie) WHERE ID(m) = $id SET m.plotEmbedding = $embedding'\n"
          ]
        },
        {
          "output_type": "stream",
          "name": "stdout",
          "text": [
            "Updated movie 'Clueless' with embedding.\n",
            "39\n",
            "A South-African preacher goes to search for his wayward son who has committed a crime in the big city.\n",
            "=================\n",
            "Updated movie 'Cry, the Beloved Country' with embedding.\n",
            "40\n",
            "The classic Shakespearean play about a murderously scheming king staged in an alternative fascist England setting.\n",
            "=================\n"
          ]
        },
        {
          "output_type": "stream",
          "name": "stderr",
          "text": [
            "WARNING:neo4j.notifications:Received notification from DBMS server: {severity: WARNING} {code: Neo.ClientNotification.Statement.FeatureDeprecationWarning} {category: DEPRECATION} {title: This feature is deprecated and will be removed in future versions.} {description: The query used a deprecated function. ('id' has been replaced by 'elementId or consider using an application-generated id')} {position: line: 1, column: 23, offset: 22} for query: 'MATCH (m:Movie) WHERE ID(m) = $id SET m.plotEmbedding = $embedding'\n",
            "WARNING:neo4j.notifications:Received notification from DBMS server: {severity: WARNING} {code: Neo.ClientNotification.Statement.FeatureDeprecationWarning} {category: DEPRECATION} {title: This feature is deprecated and will be removed in future versions.} {description: The query used a deprecated function. ('id' has been replaced by 'elementId or consider using an application-generated id')} {position: line: 1, column: 23, offset: 22} for query: 'MATCH (m:Movie) WHERE ID(m) = $id SET m.plotEmbedding = $embedding'\n"
          ]
        },
        {
          "output_type": "stream",
          "name": "stdout",
          "text": [
            "Updated movie 'Richard III' with embedding.\n",
            "41\n",
            "A Vietnam vet adjusts to life after the war while trying to support his family, but the chance of a better life may involve crime and bloodshed.\n",
            "=================\n",
            "Updated movie 'Dead Presidents' with embedding.\n",
            "42\n",
            "The exiled royal physician to King Charles II devotes himself to helping Londoners suffering from the plague, and in the process falls in love with an equally poor woman.\n",
            "=================\n"
          ]
        },
        {
          "output_type": "stream",
          "name": "stderr",
          "text": [
            "WARNING:neo4j.notifications:Received notification from DBMS server: {severity: WARNING} {code: Neo.ClientNotification.Statement.FeatureDeprecationWarning} {category: DEPRECATION} {title: This feature is deprecated and will be removed in future versions.} {description: The query used a deprecated function. ('id' has been replaced by 'elementId or consider using an application-generated id')} {position: line: 1, column: 23, offset: 22} for query: 'MATCH (m:Movie) WHERE ID(m) = $id SET m.plotEmbedding = $embedding'\n"
          ]
        },
        {
          "output_type": "stream",
          "name": "stdout",
          "text": [
            "Updated movie 'Restoration' with embedding.\n",
            "43\n",
            "Three unknowing martial artists are summoned to a mysterious island to compete in a tournament whose outcome will decide the fate of the world.\n",
            "=================\n"
          ]
        },
        {
          "output_type": "stream",
          "name": "stderr",
          "text": [
            "WARNING:neo4j.notifications:Received notification from DBMS server: {severity: WARNING} {code: Neo.ClientNotification.Statement.FeatureDeprecationWarning} {category: DEPRECATION} {title: This feature is deprecated and will be removed in future versions.} {description: The query used a deprecated function. ('id' has been replaced by 'elementId or consider using an application-generated id')} {position: line: 1, column: 23, offset: 22} for query: 'MATCH (m:Movie) WHERE ID(m) = $id SET m.plotEmbedding = $embedding'\n",
            "WARNING:neo4j.notifications:Received notification from DBMS server: {severity: WARNING} {code: Neo.ClientNotification.Statement.FeatureDeprecationWarning} {category: DEPRECATION} {title: This feature is deprecated and will be removed in future versions.} {description: The query used a deprecated function. ('id' has been replaced by 'elementId or consider using an application-generated id')} {position: line: 1, column: 23, offset: 22} for query: 'MATCH (m:Movie) WHERE ID(m) = $id SET m.plotEmbedding = $embedding'\n"
          ]
        },
        {
          "output_type": "stream",
          "name": "stdout",
          "text": [
            "Updated movie 'Mortal Kombat' with embedding.\n",
            "44\n",
            "Suzanne Stone is an aspiring TV personality who will do anything to be in the spotlight, including enlisting three teenagers to kill her husband.\n",
            "=================\n",
            "Updated movie 'To Die For' with embedding.\n",
            "45\n",
            "Bride-to-be Finn Dodd hears tales of romance and sorrow from her elders as they construct a quilt.\n",
            "=================\n"
          ]
        },
        {
          "output_type": "stream",
          "name": "stderr",
          "text": [
            "WARNING:neo4j.notifications:Received notification from DBMS server: {severity: WARNING} {code: Neo.ClientNotification.Statement.FeatureDeprecationWarning} {category: DEPRECATION} {title: This feature is deprecated and will be removed in future versions.} {description: The query used a deprecated function. ('id' has been replaced by 'elementId or consider using an application-generated id')} {position: line: 1, column: 23, offset: 22} for query: 'MATCH (m:Movie) WHERE ID(m) = $id SET m.plotEmbedding = $embedding'\n",
            "WARNING:neo4j.notifications:Received notification from DBMS server: {severity: WARNING} {code: Neo.ClientNotification.Statement.FeatureDeprecationWarning} {category: DEPRECATION} {title: This feature is deprecated and will be removed in future versions.} {description: The query used a deprecated function. ('id' has been replaced by 'elementId or consider using an application-generated id')} {position: line: 1, column: 23, offset: 22} for query: 'MATCH (m:Movie) WHERE ID(m) = $id SET m.plotEmbedding = $embedding'\n"
          ]
        },
        {
          "output_type": "stream",
          "name": "stdout",
          "text": [
            "Updated movie 'How to Make an American Quilt' with embedding.\n",
            "46\n",
            "Two detectives, a rookie and a veteran, hunt a serial killer who uses the seven deadly sins as his modus operandi.\n",
            "=================\n",
            "Updated movie 'Seven (a.k.a. Se7en)' with embedding.\n",
            "47\n",
            "An English soldier and the daughter of an Algonquin chief share a romance when English colonists invade seventeenth-century Virginia.\n",
            "=================\n"
          ]
        },
        {
          "output_type": "stream",
          "name": "stderr",
          "text": [
            "WARNING:neo4j.notifications:Received notification from DBMS server: {severity: WARNING} {code: Neo.ClientNotification.Statement.FeatureDeprecationWarning} {category: DEPRECATION} {title: This feature is deprecated and will be removed in future versions.} {description: The query used a deprecated function. ('id' has been replaced by 'elementId or consider using an application-generated id')} {position: line: 1, column: 23, offset: 22} for query: 'MATCH (m:Movie) WHERE ID(m) = $id SET m.plotEmbedding = $embedding'\n",
            "WARNING:neo4j.notifications:Received notification from DBMS server: {severity: WARNING} {code: Neo.ClientNotification.Statement.FeatureDeprecationWarning} {category: DEPRECATION} {title: This feature is deprecated and will be removed in future versions.} {description: The query used a deprecated function. ('id' has been replaced by 'elementId or consider using an application-generated id')} {position: line: 1, column: 23, offset: 22} for query: 'MATCH (m:Movie) WHERE ID(m) = $id SET m.plotEmbedding = $embedding'\n"
          ]
        },
        {
          "output_type": "stream",
          "name": "stdout",
          "text": [
            "Updated movie 'Pocahontas' with embedding.\n",
            "48\n",
            "An uptight and conservative woman, working on tenure as a literacy professor at a large urban university, finds herself strangely attracted to a free-spirited, liberal woman who works at a local carnival that comes to town.\n",
            "=================\n",
            "Updated movie 'When Night Is Falling' with embedding.\n",
            "49\n",
            "A sole survivor tells of the twisty events leading up to a horrific gun battle on a boat, which begin when five criminals meet at a seemingly random police lineup.\n",
            "=================\n"
          ]
        },
        {
          "output_type": "stream",
          "name": "stderr",
          "text": [
            "WARNING:neo4j.notifications:Received notification from DBMS server: {severity: WARNING} {code: Neo.ClientNotification.Statement.FeatureDeprecationWarning} {category: DEPRECATION} {title: This feature is deprecated and will be removed in future versions.} {description: The query used a deprecated function. ('id' has been replaced by 'elementId or consider using an application-generated id')} {position: line: 1, column: 23, offset: 22} for query: 'MATCH (m:Movie) WHERE ID(m) = $id SET m.plotEmbedding = $embedding'\n",
            "WARNING:neo4j.notifications:Received notification from DBMS server: {severity: WARNING} {code: Neo.ClientNotification.Statement.FeatureDeprecationWarning} {category: DEPRECATION} {title: This feature is deprecated and will be removed in future versions.} {description: The query used a deprecated function. ('id' has been replaced by 'elementId or consider using an application-generated id')} {position: line: 1, column: 23, offset: 22} for query: 'MATCH (m:Movie) WHERE ID(m) = $id SET m.plotEmbedding = $embedding'\n"
          ]
        },
        {
          "output_type": "stream",
          "name": "stdout",
          "text": [
            "Updated movie 'Usual Suspects, The' with embedding.\n",
            "50\n",
            "When he discovers his adopted son is a genius, a New York sportswriter seeks out the boy's birth mother: a prostitute.\n",
            "=================\n"
          ]
        },
        {
          "output_type": "stream",
          "name": "stderr",
          "text": [
            "WARNING:neo4j.notifications:Received notification from DBMS server: {severity: WARNING} {code: Neo.ClientNotification.Statement.FeatureDeprecationWarning} {category: DEPRECATION} {title: This feature is deprecated and will be removed in future versions.} {description: The query used a deprecated function. ('id' has been replaced by 'elementId or consider using an application-generated id')} {position: line: 1, column: 23, offset: 22} for query: 'MATCH (m:Movie) WHERE ID(m) = $id SET m.plotEmbedding = $embedding'\n"
          ]
        },
        {
          "output_type": "stream",
          "name": "stdout",
          "text": [
            "Updated movie 'Mighty Aphrodite' with embedding.\n",
            "51\n",
            "Two Italian racketeers come to Albania just after the fall of the communists to set up a fictive firm and pocket the grants. They need a stooge. They choose an old one in a jail : Spiro. ...\n",
            "=================\n",
            "Updated movie 'Lamerica' with embedding.\n",
            "52\n",
            "Another Disney underdog sports team of misfit kids (soccer this time) learns to play a new sport and become champions, while building self-esteem, making friends and solving a variety of ...\n",
            "=================\n"
          ]
        },
        {
          "output_type": "stream",
          "name": "stderr",
          "text": [
            "WARNING:neo4j.notifications:Received notification from DBMS server: {severity: WARNING} {code: Neo.ClientNotification.Statement.FeatureDeprecationWarning} {category: DEPRECATION} {title: This feature is deprecated and will be removed in future versions.} {description: The query used a deprecated function. ('id' has been replaced by 'elementId or consider using an application-generated id')} {position: line: 1, column: 23, offset: 22} for query: 'MATCH (m:Movie) WHERE ID(m) = $id SET m.plotEmbedding = $embedding'\n"
          ]
        },
        {
          "output_type": "stream",
          "name": "stdout",
          "text": [
            "Updated movie 'Big Green, The' with embedding.\n",
            "53\n",
            "Sadie is desperately looking up to her older sister Georgia who is a famous C&W artist. Sadie wants to be a famous artist like her sister, but is always doing everything wrong. Her ...\n",
            "=================\n"
          ]
        },
        {
          "output_type": "stream",
          "name": "stderr",
          "text": [
            "WARNING:neo4j.notifications:Received notification from DBMS server: {severity: WARNING} {code: Neo.ClientNotification.Statement.FeatureDeprecationWarning} {category: DEPRECATION} {title: This feature is deprecated and will be removed in future versions.} {description: The query used a deprecated function. ('id' has been replaced by 'elementId or consider using an application-generated id')} {position: line: 1, column: 23, offset: 22} for query: 'MATCH (m:Movie) WHERE ID(m) = $id SET m.plotEmbedding = $embedding'\n",
            "WARNING:neo4j.notifications:Received notification from DBMS server: {severity: WARNING} {code: Neo.ClientNotification.Statement.FeatureDeprecationWarning} {category: DEPRECATION} {title: This feature is deprecated and will be removed in future versions.} {description: The query used a deprecated function. ('id' has been replaced by 'elementId or consider using an application-generated id')} {position: line: 1, column: 23, offset: 22} for query: 'MATCH (m:Movie) WHERE ID(m) = $id SET m.plotEmbedding = $embedding'\n"
          ]
        },
        {
          "output_type": "stream",
          "name": "stdout",
          "text": [
            "Updated movie 'Georgia' with embedding.\n",
            "54\n",
            "After losing her job, making out with her soon-to-be former boss and finding out that her daughter plans to spend Thanksgiving with her boyfriend, Claudia Larson faces spending the holiday with her family.\n",
            "=================\n",
            "Updated movie 'Home for the Holidays' with embedding.\n",
            "55\n",
            "Simple Italian postman learns to love poetry while delivering mail to a famous poet; he uses this to woo local beauty Beatrice.\n",
            "=================\n"
          ]
        },
        {
          "output_type": "stream",
          "name": "stderr",
          "text": [
            "WARNING:neo4j.notifications:Received notification from DBMS server: {severity: WARNING} {code: Neo.ClientNotification.Statement.FeatureDeprecationWarning} {category: DEPRECATION} {title: This feature is deprecated and will be removed in future versions.} {description: The query used a deprecated function. ('id' has been replaced by 'elementId or consider using an application-generated id')} {position: line: 1, column: 23, offset: 22} for query: 'MATCH (m:Movie) WHERE ID(m) = $id SET m.plotEmbedding = $embedding'\n",
            "WARNING:neo4j.notifications:Received notification from DBMS server: {severity: WARNING} {code: Neo.ClientNotification.Statement.FeatureDeprecationWarning} {category: DEPRECATION} {title: This feature is deprecated and will be removed in future versions.} {description: The query used a deprecated function. ('id' has been replaced by 'elementId or consider using an application-generated id')} {position: line: 1, column: 23, offset: 22} for query: 'MATCH (m:Movie) WHERE ID(m) = $id SET m.plotEmbedding = $embedding'\n"
          ]
        },
        {
          "output_type": "stream",
          "name": "stdout",
          "text": [
            "Updated movie 'Postman, The (Postino, Il)' with embedding.\n",
            "56\n",
            "The year is 1952, in Quebec City. Rachel, 16, unmarried, and pregnant, works in the church. Filled with shame, she unburdens her guilt to a young priest, under the confidentiality of the ...\n",
            "=================\n"
          ]
        },
        {
          "output_type": "stream",
          "name": "stderr",
          "text": [
            "WARNING:neo4j.notifications:Received notification from DBMS server: {severity: WARNING} {code: Neo.ClientNotification.Statement.FeatureDeprecationWarning} {category: DEPRECATION} {title: This feature is deprecated and will be removed in future versions.} {description: The query used a deprecated function. ('id' has been replaced by 'elementId or consider using an application-generated id')} {position: line: 1, column: 23, offset: 22} for query: 'MATCH (m:Movie) WHERE ID(m) = $id SET m.plotEmbedding = $embedding'\n"
          ]
        },
        {
          "output_type": "stream",
          "name": "stdout",
          "text": [
            "Updated movie 'Confessional, The (Confessionnal, Le)' with embedding.\n",
            "57\n",
            "On his ninth birthday a boy receives many presents. Two of them first seem to be less important: an old cupboard from his brother and a little Indian figure made of plastic from his best ...\n",
            "=================\n",
            "Updated movie 'Indian in the Cupboard, The' with embedding.\n",
            "58\n",
            "When the courts fail to keep behind bars the man who raped and murdered her daughter, a woman seeks her own form of justice.\n",
            "=================\n"
          ]
        },
        {
          "output_type": "stream",
          "name": "stderr",
          "text": [
            "WARNING:neo4j.notifications:Received notification from DBMS server: {severity: WARNING} {code: Neo.ClientNotification.Statement.FeatureDeprecationWarning} {category: DEPRECATION} {title: This feature is deprecated and will be removed in future versions.} {description: The query used a deprecated function. ('id' has been replaced by 'elementId or consider using an application-generated id')} {position: line: 1, column: 23, offset: 22} for query: 'MATCH (m:Movie) WHERE ID(m) = $id SET m.plotEmbedding = $embedding'\n",
            "WARNING:neo4j.notifications:Received notification from DBMS server: {severity: WARNING} {code: Neo.ClientNotification.Statement.FeatureDeprecationWarning} {category: DEPRECATION} {title: This feature is deprecated and will be removed in future versions.} {description: The query used a deprecated function. ('id' has been replaced by 'elementId or consider using an application-generated id')} {position: line: 1, column: 23, offset: 22} for query: 'MATCH (m:Movie) WHERE ID(m) = $id SET m.plotEmbedding = $embedding'\n"
          ]
        },
        {
          "output_type": "stream",
          "name": "stdout",
          "text": [
            "Updated movie 'Eye for an Eye' with embedding.\n",
            "59\n",
            "A frustrated composer finds fulfillment as a high school music teacher.\n",
            "=================\n"
          ]
        },
        {
          "output_type": "stream",
          "name": "stderr",
          "text": [
            "WARNING:neo4j.notifications:Received notification from DBMS server: {severity: WARNING} {code: Neo.ClientNotification.Statement.FeatureDeprecationWarning} {category: DEPRECATION} {title: This feature is deprecated and will be removed in future versions.} {description: The query used a deprecated function. ('id' has been replaced by 'elementId or consider using an application-generated id')} {position: line: 1, column: 23, offset: 22} for query: 'MATCH (m:Movie) WHERE ID(m) = $id SET m.plotEmbedding = $embedding'\n"
          ]
        },
        {
          "output_type": "stream",
          "name": "stdout",
          "text": [
            "Updated movie 'Mr. Holland's Opus' with embedding.\n",
            "60\n",
            "Don't Be a Menace to South Central While Drinking your Juice in the Hood is a parody of several U.S. films about being in the 'Hood', for instance Boyz n the Hood, South Central, ...\n",
            "=================\n",
            "Updated movie 'Don't Be a Menace to South Central While Drinking Your Juice in the Hood' with embedding.\n",
            "61\n",
            "Frank O'Brien, a petty thief, and his 7-year-long girlfriend Roz want to put an end to their unsteady lifestyle and just do that _last_ job, which involves stealing a valuable painting. ...\n",
            "=================\n"
          ]
        },
        {
          "output_type": "stream",
          "name": "stderr",
          "text": [
            "WARNING:neo4j.notifications:Received notification from DBMS server: {severity: WARNING} {code: Neo.ClientNotification.Statement.FeatureDeprecationWarning} {category: DEPRECATION} {title: This feature is deprecated and will be removed in future versions.} {description: The query used a deprecated function. ('id' has been replaced by 'elementId or consider using an application-generated id')} {position: line: 1, column: 23, offset: 22} for query: 'MATCH (m:Movie) WHERE ID(m) = $id SET m.plotEmbedding = $embedding'\n",
            "WARNING:neo4j.notifications:Received notification from DBMS server: {severity: WARNING} {code: Neo.ClientNotification.Statement.FeatureDeprecationWarning} {category: DEPRECATION} {title: This feature is deprecated and will be removed in future versions.} {description: The query used a deprecated function. ('id' has been replaced by 'elementId or consider using an application-generated id')} {position: line: 1, column: 23, offset: 22} for query: 'MATCH (m:Movie) WHERE ID(m) = $id SET m.plotEmbedding = $embedding'\n"
          ]
        },
        {
          "output_type": "stream",
          "name": "stdout",
          "text": [
            "Updated movie 'Two if by Sea' with embedding.\n",
            "62\n",
            "Moronic best friends get themselves locked inside the Bio-Dome, a science experiment, along with a group of environmental scientists for one year.\n",
            "=================\n",
            "Updated movie 'Bio-Dome' with embedding.\n",
            "63\n",
            "Jobe is resuscitated by Jonathan Walker. He wants Jobe to create a special computer chip that would connect all the computers in the world into one network, which Walker would control and ...\n",
            "=================\n"
          ]
        },
        {
          "output_type": "stream",
          "name": "stderr",
          "text": [
            "WARNING:neo4j.notifications:Received notification from DBMS server: {severity: WARNING} {code: Neo.ClientNotification.Statement.FeatureDeprecationWarning} {category: DEPRECATION} {title: This feature is deprecated and will be removed in future versions.} {description: The query used a deprecated function. ('id' has been replaced by 'elementId or consider using an application-generated id')} {position: line: 1, column: 23, offset: 22} for query: 'MATCH (m:Movie) WHERE ID(m) = $id SET m.plotEmbedding = $embedding'\n",
            "WARNING:neo4j.notifications:Received notification from DBMS server: {severity: WARNING} {code: Neo.ClientNotification.Statement.FeatureDeprecationWarning} {category: DEPRECATION} {title: This feature is deprecated and will be removed in future versions.} {description: The query used a deprecated function. ('id' has been replaced by 'elementId or consider using an application-generated id')} {position: line: 1, column: 23, offset: 22} for query: 'MATCH (m:Movie) WHERE ID(m) = $id SET m.plotEmbedding = $embedding'\n"
          ]
        },
        {
          "output_type": "stream",
          "name": "stdout",
          "text": [
            "Updated movie 'Lawnmower Man 2: Beyond Cyberspace' with embedding.\n",
            "64\n",
            "After learning of her husband's infidelities, a housewife invites an itinerant lesbian to move in with them. None of their lives will ever be the same again.\n",
            "=================\n",
            "Updated movie 'French Twist (Gazon maudit)' with embedding.\n",
            "65\n",
            "Two homies, Smokey and Craig, smoke a dope dealer's weed and try to figure a way to get the $200 they owe to the dealer by ten p.m. that same night. In that time, they smoke more weed, get jacked, and they get shot at in a drive-by.\n",
            "=================\n"
          ]
        },
        {
          "output_type": "stream",
          "name": "stderr",
          "text": [
            "WARNING:neo4j.notifications:Received notification from DBMS server: {severity: WARNING} {code: Neo.ClientNotification.Statement.FeatureDeprecationWarning} {category: DEPRECATION} {title: This feature is deprecated and will be removed in future versions.} {description: The query used a deprecated function. ('id' has been replaced by 'elementId or consider using an application-generated id')} {position: line: 1, column: 23, offset: 22} for query: 'MATCH (m:Movie) WHERE ID(m) = $id SET m.plotEmbedding = $embedding'\n",
            "WARNING:neo4j.notifications:Received notification from DBMS server: {severity: WARNING} {code: Neo.ClientNotification.Statement.FeatureDeprecationWarning} {category: DEPRECATION} {title: This feature is deprecated and will be removed in future versions.} {description: The query used a deprecated function. ('id' has been replaced by 'elementId or consider using an application-generated id')} {position: line: 1, column: 23, offset: 22} for query: 'MATCH (m:Movie) WHERE ID(m) = $id SET m.plotEmbedding = $embedding'\n"
          ]
        },
        {
          "output_type": "stream",
          "name": "stdout",
          "text": [
            "Updated movie 'Friday' with embedding.\n",
            "66\n",
            "Two criminals and their hostages unknowingly seek temporary refuge in an establishment populated by vampires, with chaotic results.\n",
            "=================\n"
          ]
        },
        {
          "output_type": "stream",
          "name": "stderr",
          "text": [
            "WARNING:neo4j.notifications:Received notification from DBMS server: {severity: WARNING} {code: Neo.ClientNotification.Statement.FeatureDeprecationWarning} {category: DEPRECATION} {title: This feature is deprecated and will be removed in future versions.} {description: The query used a deprecated function. ('id' has been replaced by 'elementId or consider using an application-generated id')} {position: line: 1, column: 23, offset: 22} for query: 'MATCH (m:Movie) WHERE ID(m) = $id SET m.plotEmbedding = $embedding'\n"
          ]
        },
        {
          "output_type": "stream",
          "name": "stdout",
          "text": [
            "Updated movie 'From Dusk Till Dawn' with embedding.\n",
            "67\n",
            "Max Kirkpatrick is a cop who protects Kate McQuean, a civil law attorney, from a renegade KGB team out to terminate her.\n",
            "=================\n",
            "Updated movie 'Fair Game' with embedding.\n",
            "68\n",
            "Following graduation, a handful of college students do nothing and talk about it wittily.\n",
            "=================\n"
          ]
        },
        {
          "output_type": "stream",
          "name": "stderr",
          "text": [
            "WARNING:neo4j.notifications:Received notification from DBMS server: {severity: WARNING} {code: Neo.ClientNotification.Statement.FeatureDeprecationWarning} {category: DEPRECATION} {title: This feature is deprecated and will be removed in future versions.} {description: The query used a deprecated function. ('id' has been replaced by 'elementId or consider using an application-generated id')} {position: line: 1, column: 23, offset: 22} for query: 'MATCH (m:Movie) WHERE ID(m) = $id SET m.plotEmbedding = $embedding'\n",
            "WARNING:neo4j.notifications:Received notification from DBMS server: {severity: WARNING} {code: Neo.ClientNotification.Statement.FeatureDeprecationWarning} {category: DEPRECATION} {title: This feature is deprecated and will be removed in future versions.} {description: The query used a deprecated function. ('id' has been replaced by 'elementId or consider using an application-generated id')} {position: line: 1, column: 23, offset: 22} for query: 'MATCH (m:Movie) WHERE ID(m) = $id SET m.plotEmbedding = $embedding'\n"
          ]
        },
        {
          "output_type": "stream",
          "name": "stdout",
          "text": [
            "Updated movie 'Kicking and Screaming' with embedding.\n",
            "69\n",
            "Henri Fortin is poor and iliterate former boxer. Ziman is rich Jewish lawyer from Paris. During WWII they meet when Fortin agrees to drive Ziman's family to Switzerland. Intrigued by Victor...\n",
            "=================\n"
          ]
        },
        {
          "output_type": "stream",
          "name": "stderr",
          "text": [
            "WARNING:neo4j.notifications:Received notification from DBMS server: {severity: WARNING} {code: Neo.ClientNotification.Statement.FeatureDeprecationWarning} {category: DEPRECATION} {title: This feature is deprecated and will be removed in future versions.} {description: The query used a deprecated function. ('id' has been replaced by 'elementId or consider using an application-generated id')} {position: line: 1, column: 23, offset: 22} for query: 'MATCH (m:Movie) WHERE ID(m) = $id SET m.plotEmbedding = $embedding'\n"
          ]
        },
        {
          "output_type": "stream",
          "name": "stdout",
          "text": [
            "Updated movie 'Misérables, Les' with embedding.\n",
            "70\n",
            "Romantic drama about a young career girl who is swept off her feet by a shy florist, who fell in love with her after one glimpse through a shadowy window.\n",
            "=================\n",
            "Updated movie 'Bed of Roses' with embedding.\n",
            "71\n",
            "(SIRIUS 6B, Year 2078) On a distant mining planet ravaged by a decade of war, scientists have created the perfect weapon: a blade-wielding, self-replicating race of killing devices known as...\n",
            "=================\n"
          ]
        },
        {
          "output_type": "stream",
          "name": "stderr",
          "text": [
            "WARNING:neo4j.notifications:Received notification from DBMS server: {severity: WARNING} {code: Neo.ClientNotification.Statement.FeatureDeprecationWarning} {category: DEPRECATION} {title: This feature is deprecated and will be removed in future versions.} {description: The query used a deprecated function. ('id' has been replaced by 'elementId or consider using an application-generated id')} {position: line: 1, column: 23, offset: 22} for query: 'MATCH (m:Movie) WHERE ID(m) = $id SET m.plotEmbedding = $embedding'\n",
            "WARNING:neo4j.notifications:Received notification from DBMS server: {severity: WARNING} {code: Neo.ClientNotification.Statement.FeatureDeprecationWarning} {category: DEPRECATION} {title: This feature is deprecated and will be removed in future versions.} {description: The query used a deprecated function. ('id' has been replaced by 'elementId or consider using an application-generated id')} {position: line: 1, column: 23, offset: 22} for query: 'MATCH (m:Movie) WHERE ID(m) = $id SET m.plotEmbedding = $embedding'\n"
          ]
        },
        {
          "output_type": "stream",
          "name": "stdout",
          "text": [
            "Updated movie 'Screamers' with embedding.\n",
            "72\n",
            "A look into the many lives of Christa Päffgen, otherwise known as Nico; from cutie German mädchen to the first of the supermodels, to glamorous diva of the Velvet Underground, to cult item,...\n",
            "=================\n"
          ]
        },
        {
          "output_type": "stream",
          "name": "stderr",
          "text": [
            "WARNING:neo4j.notifications:Received notification from DBMS server: {severity: WARNING} {code: Neo.ClientNotification.Statement.FeatureDeprecationWarning} {category: DEPRECATION} {title: This feature is deprecated and will be removed in future versions.} {description: The query used a deprecated function. ('id' has been replaced by 'elementId or consider using an application-generated id')} {position: line: 1, column: 23, offset: 22} for query: 'MATCH (m:Movie) WHERE ID(m) = $id SET m.plotEmbedding = $embedding'\n"
          ]
        },
        {
          "output_type": "stream",
          "name": "stdout",
          "text": [
            "Updated movie 'Nico Icon' with embedding.\n",
            "73\n",
            "Freddie Gale is a seedy jeweler who has sworn to kill the drunk driver who killed his little girl.\n",
            "=================\n",
            "Updated movie 'Crossing Guard, The' with embedding.\n",
            "74\n",
            "When Annie Laird is selected as a juror in a big Mafia trial, she is forced by someone known as The Teacher to persuade the other jurors to vote not guilty. He threatens to kill her son...\n",
            "=================\n"
          ]
        },
        {
          "output_type": "stream",
          "name": "stderr",
          "text": [
            "WARNING:neo4j.notifications:Received notification from DBMS server: {severity: WARNING} {code: Neo.ClientNotification.Statement.FeatureDeprecationWarning} {category: DEPRECATION} {title: This feature is deprecated and will be removed in future versions.} {description: The query used a deprecated function. ('id' has been replaced by 'elementId or consider using an application-generated id')} {position: line: 1, column: 23, offset: 22} for query: 'MATCH (m:Movie) WHERE ID(m) = $id SET m.plotEmbedding = $embedding'\n"
          ]
        },
        {
          "output_type": "stream",
          "name": "stdout",
          "text": [
            "Updated movie 'Juror, The' with embedding.\n",
            "75\n",
            "Several people try to take advantage of a little girl's innocence to hustle money her mom gave to her to buy a goldfish with.\n",
            "=================\n"
          ]
        },
        {
          "output_type": "stream",
          "name": "stderr",
          "text": [
            "WARNING:neo4j.notifications:Received notification from DBMS server: {severity: WARNING} {code: Neo.ClientNotification.Statement.FeatureDeprecationWarning} {category: DEPRECATION} {title: This feature is deprecated and will be removed in future versions.} {description: The query used a deprecated function. ('id' has been replaced by 'elementId or consider using an application-generated id')} {position: line: 1, column: 23, offset: 22} for query: 'MATCH (m:Movie) WHERE ID(m) = $id SET m.plotEmbedding = $embedding'\n",
            "WARNING:neo4j.notifications:Received notification from DBMS server: {severity: WARNING} {code: Neo.ClientNotification.Statement.FeatureDeprecationWarning} {category: DEPRECATION} {title: This feature is deprecated and will be removed in future versions.} {description: The query used a deprecated function. ('id' has been replaced by 'elementId or consider using an application-generated id')} {position: line: 1, column: 23, offset: 22} for query: 'MATCH (m:Movie) WHERE ID(m) = $id SET m.plotEmbedding = $embedding'\n"
          ]
        },
        {
          "output_type": "stream",
          "name": "stdout",
          "text": [
            "Updated movie 'White Balloon, The (Badkonake sefid)' with embedding.\n",
            "76\n",
            "Five different criminals face imminent death after botching a job quite badly.\n",
            "=================\n",
            "Updated movie 'Things to Do in Denver When You're Dead' with embedding.\n",
            "77\n",
            "A Dutch matron establishes and, for several generations, oversees a close-knit, matriarchal community where feminism and liberalism thrive.\n",
            "=================\n"
          ]
        },
        {
          "output_type": "stream",
          "name": "stderr",
          "text": [
            "WARNING:neo4j.notifications:Received notification from DBMS server: {severity: WARNING} {code: Neo.ClientNotification.Statement.FeatureDeprecationWarning} {category: DEPRECATION} {title: This feature is deprecated and will be removed in future versions.} {description: The query used a deprecated function. ('id' has been replaced by 'elementId or consider using an application-generated id')} {position: line: 1, column: 23, offset: 22} for query: 'MATCH (m:Movie) WHERE ID(m) = $id SET m.plotEmbedding = $embedding'\n",
            "WARNING:neo4j.notifications:Received notification from DBMS server: {severity: WARNING} {code: Neo.ClientNotification.Statement.FeatureDeprecationWarning} {category: DEPRECATION} {title: This feature is deprecated and will be removed in future versions.} {description: The query used a deprecated function. ('id' has been replaced by 'elementId or consider using an application-generated id')} {position: line: 1, column: 23, offset: 22} for query: 'MATCH (m:Movie) WHERE ID(m) = $id SET m.plotEmbedding = $embedding'\n"
          ]
        },
        {
          "output_type": "stream",
          "name": "stdout",
          "text": [
            "Updated movie 'Antonia's Line (Antonia)' with embedding.\n",
            "78\n",
            "A narrator tells the story of his childhood years in a tightly knit Afro-American community in the deep south under racial segregation.\n",
            "=================\n",
            "Updated movie 'Once Upon a Time... When We Were Colored' with embedding.\n",
            "79\n",
            "Filmed entirely on location in East Hampton, Long Island, Last Summer in the Hamptons concerns a large theatrical family spending the last weekend of their summer together at the ...\n",
            "=================\n"
          ]
        },
        {
          "output_type": "stream",
          "name": "stderr",
          "text": [
            "WARNING:neo4j.notifications:Received notification from DBMS server: {severity: WARNING} {code: Neo.ClientNotification.Statement.FeatureDeprecationWarning} {category: DEPRECATION} {title: This feature is deprecated and will be removed in future versions.} {description: The query used a deprecated function. ('id' has been replaced by 'elementId or consider using an application-generated id')} {position: line: 1, column: 23, offset: 22} for query: 'MATCH (m:Movie) WHERE ID(m) = $id SET m.plotEmbedding = $embedding'\n",
            "WARNING:neo4j.notifications:Received notification from DBMS server: {severity: WARNING} {code: Neo.ClientNotification.Statement.FeatureDeprecationWarning} {category: DEPRECATION} {title: This feature is deprecated and will be removed in future versions.} {description: The query used a deprecated function. ('id' has been replaced by 'elementId or consider using an application-generated id')} {position: line: 1, column: 23, offset: 22} for query: 'MATCH (m:Movie) WHERE ID(m) = $id SET m.plotEmbedding = $embedding'\n"
          ]
        },
        {
          "output_type": "stream",
          "name": "stdout",
          "text": [
            "Updated movie 'Last Summer in the Hamptons' with embedding.\n",
            "80\n",
            "In the 1800s a naturalist marries into a family of British country gentry.\n",
            "=================\n"
          ]
        },
        {
          "output_type": "stream",
          "name": "stderr",
          "text": [
            "WARNING:neo4j.notifications:Received notification from DBMS server: {severity: WARNING} {code: Neo.ClientNotification.Statement.FeatureDeprecationWarning} {category: DEPRECATION} {title: This feature is deprecated and will be removed in future versions.} {description: The query used a deprecated function. ('id' has been replaced by 'elementId or consider using an application-generated id')} {position: line: 1, column: 23, offset: 22} for query: 'MATCH (m:Movie) WHERE ID(m) = $id SET m.plotEmbedding = $embedding'\n"
          ]
        },
        {
          "output_type": "stream",
          "name": "stdout",
          "text": [
            "Updated movie 'Angels and Insects' with embedding.\n",
            "81\n",
            "Teenage boys discover discipline and camaraderie on an ill-fated sailing voyage.\n",
            "=================\n"
          ]
        },
        {
          "output_type": "stream",
          "name": "stderr",
          "text": [
            "WARNING:neo4j.notifications:Received notification from DBMS server: {severity: WARNING} {code: Neo.ClientNotification.Statement.FeatureDeprecationWarning} {category: DEPRECATION} {title: This feature is deprecated and will be removed in future versions.} {description: The query used a deprecated function. ('id' has been replaced by 'elementId or consider using an application-generated id')} {position: line: 1, column: 23, offset: 22} for query: 'MATCH (m:Movie) WHERE ID(m) = $id SET m.plotEmbedding = $embedding'\n"
          ]
        },
        {
          "output_type": "stream",
          "name": "stdout",
          "text": [
            "Updated movie 'White Squall' with embedding.\n",
            "82\n",
            "Young boy befriends larcenous orangutan in luxury hotel.\n",
            "=================\n",
            "Updated movie 'Dunston Checks In' with embedding.\n",
            "83\n",
            "A gubernatorial candidate hires a wormy special assistant whose only job is to make sure the candidate's well-meaning but incompetent brother doesn't ruin the election.\n",
            "=================\n"
          ]
        },
        {
          "output_type": "stream",
          "name": "stderr",
          "text": [
            "WARNING:neo4j.notifications:Received notification from DBMS server: {severity: WARNING} {code: Neo.ClientNotification.Statement.FeatureDeprecationWarning} {category: DEPRECATION} {title: This feature is deprecated and will be removed in future versions.} {description: The query used a deprecated function. ('id' has been replaced by 'elementId or consider using an application-generated id')} {position: line: 1, column: 23, offset: 22} for query: 'MATCH (m:Movie) WHERE ID(m) = $id SET m.plotEmbedding = $embedding'\n"
          ]
        },
        {
          "output_type": "stream",
          "name": "stdout",
          "text": [
            "Updated movie 'Black Sheep' with embedding.\n",
            "84\n",
            "An unimpressive, every-day man is forced into a situation where he is told to kill a politician to save his kidnapped daughter.\n",
            "=================\n"
          ]
        },
        {
          "output_type": "stream",
          "name": "stderr",
          "text": [
            "WARNING:neo4j.notifications:Received notification from DBMS server: {severity: WARNING} {code: Neo.ClientNotification.Statement.FeatureDeprecationWarning} {category: DEPRECATION} {title: This feature is deprecated and will be removed in future versions.} {description: The query used a deprecated function. ('id' has been replaced by 'elementId or consider using an application-generated id')} {position: line: 1, column: 23, offset: 22} for query: 'MATCH (m:Movie) WHERE ID(m) = $id SET m.plotEmbedding = $embedding'\n",
            "WARNING:neo4j.notifications:Received notification from DBMS server: {severity: WARNING} {code: Neo.ClientNotification.Statement.FeatureDeprecationWarning} {category: DEPRECATION} {title: This feature is deprecated and will be removed in future versions.} {description: The query used a deprecated function. ('id' has been replaced by 'elementId or consider using an application-generated id')} {position: line: 1, column: 23, offset: 22} for query: 'MATCH (m:Movie) WHERE ID(m) = $id SET m.plotEmbedding = $embedding'\n"
          ]
        },
        {
          "output_type": "stream",
          "name": "stdout",
          "text": [
            "Updated movie 'Nick of Time' with embedding.\n",
            "85\n",
            "A housemaid falls in love with Dr. Jekyll and his darkly mysterious counterpart, Mr. Hyde.\n",
            "=================\n",
            "Updated movie 'Mary Reilly' with embedding.\n",
            "86\n",
            "Maximillian is the only survivor from a race of vampires on a Caribbean Island, and as a vampire, he must find a mate to keep the line from ending. He knows that a child had been born to a ...\n",
            "=================\n"
          ]
        },
        {
          "output_type": "stream",
          "name": "stderr",
          "text": [
            "WARNING:neo4j.notifications:Received notification from DBMS server: {severity: WARNING} {code: Neo.ClientNotification.Statement.FeatureDeprecationWarning} {category: DEPRECATION} {title: This feature is deprecated and will be removed in future versions.} {description: The query used a deprecated function. ('id' has been replaced by 'elementId or consider using an application-generated id')} {position: line: 1, column: 23, offset: 22} for query: 'MATCH (m:Movie) WHERE ID(m) = $id SET m.plotEmbedding = $embedding'\n"
          ]
        },
        {
          "output_type": "stream",
          "name": "stdout",
          "text": [
            "Updated movie 'Vampire in Brooklyn' with embedding.\n",
            "87\n",
            "A piano player at a crossroads in his life returns home to his friends and their own problems with life and love.\n",
            "=================\n"
          ]
        },
        {
          "output_type": "stream",
          "name": "stderr",
          "text": [
            "WARNING:neo4j.notifications:Received notification from DBMS server: {severity: WARNING} {code: Neo.ClientNotification.Statement.FeatureDeprecationWarning} {category: DEPRECATION} {title: This feature is deprecated and will be removed in future versions.} {description: The query used a deprecated function. ('id' has been replaced by 'elementId or consider using an application-generated id')} {position: line: 1, column: 23, offset: 22} for query: 'MATCH (m:Movie) WHERE ID(m) = $id SET m.plotEmbedding = $embedding'\n",
            "WARNING:neo4j.notifications:Received notification from DBMS server: {severity: WARNING} {code: Neo.ClientNotification.Statement.FeatureDeprecationWarning} {category: DEPRECATION} {title: This feature is deprecated and will be removed in future versions.} {description: The query used a deprecated function. ('id' has been replaced by 'elementId or consider using an application-generated id')} {position: line: 1, column: 23, offset: 22} for query: 'MATCH (m:Movie) WHERE ID(m) = $id SET m.plotEmbedding = $embedding'\n"
          ]
        },
        {
          "output_type": "stream",
          "name": "stdout",
          "text": [
            "Updated movie 'Beautiful Girls' with embedding.\n",
            "88\n",
            "Terrorists steal nuclear warheads from the U.S. military but don't count on a pilot and park ranger spoiling their plans.\n",
            "=================\n",
            "Updated movie 'Broken Arrow' with embedding.\n",
            "89\n",
            "Out of work actor Joe volunteers to help try and save his sister's local church for the community by putting on a Christmas production of Hamlet, somewhat against the advice of his agent ...\n",
            "=================\n"
          ]
        },
        {
          "output_type": "stream",
          "name": "stderr",
          "text": [
            "WARNING:neo4j.notifications:Received notification from DBMS server: {severity: WARNING} {code: Neo.ClientNotification.Statement.FeatureDeprecationWarning} {category: DEPRECATION} {title: This feature is deprecated and will be removed in future versions.} {description: The query used a deprecated function. ('id' has been replaced by 'elementId or consider using an application-generated id')} {position: line: 1, column: 23, offset: 22} for query: 'MATCH (m:Movie) WHERE ID(m) = $id SET m.plotEmbedding = $embedding'\n",
            "WARNING:neo4j.notifications:Received notification from DBMS server: {severity: WARNING} {code: Neo.ClientNotification.Statement.FeatureDeprecationWarning} {category: DEPRECATION} {title: This feature is deprecated and will be removed in future versions.} {description: The query used a deprecated function. ('id' has been replaced by 'elementId or consider using an application-generated id')} {position: line: 1, column: 23, offset: 22} for query: 'MATCH (m:Movie) WHERE ID(m) = $id SET m.plotEmbedding = $embedding'\n"
          ]
        },
        {
          "output_type": "stream",
          "name": "stdout",
          "text": [
            "Updated movie 'In the Bleak Midwinter' with embedding.\n",
            "90\n",
            "24 hours in the lives of three young men in the French suburbs the day after a violent riot.\n",
            "=================\n",
            "Updated movie 'Hate (Haine, La)' with embedding.\n",
            "91\n",
            "You've run out of options, no school, no job. Steal a car, smash a shop with a heavy car and reap the proceeds!. This movie is about underground England. The causes, the benefits, and the result of a life of 'crash and carry'.\n",
            "=================\n"
          ]
        },
        {
          "output_type": "stream",
          "name": "stderr",
          "text": [
            "WARNING:neo4j.notifications:Received notification from DBMS server: {severity: WARNING} {code: Neo.ClientNotification.Statement.FeatureDeprecationWarning} {category: DEPRECATION} {title: This feature is deprecated and will be removed in future versions.} {description: The query used a deprecated function. ('id' has been replaced by 'elementId or consider using an application-generated id')} {position: line: 1, column: 23, offset: 22} for query: 'MATCH (m:Movie) WHERE ID(m) = $id SET m.plotEmbedding = $embedding'\n",
            "WARNING:neo4j.notifications:Received notification from DBMS server: {severity: WARNING} {code: Neo.ClientNotification.Statement.FeatureDeprecationWarning} {category: DEPRECATION} {title: This feature is deprecated and will be removed in future versions.} {description: The query used a deprecated function. ('id' has been replaced by 'elementId or consider using an application-generated id')} {position: line: 1, column: 23, offset: 22} for query: 'MATCH (m:Movie) WHERE ID(m) = $id SET m.plotEmbedding = $embedding'\n"
          ]
        },
        {
          "output_type": "stream",
          "name": "stdout",
          "text": [
            "Updated movie 'Shopping' with embedding.\n",
            "92\n",
            "A documentary crew from the BBC arrives in L.A. intent on interviewing Heidi Fleiss, a year after her arrest for running a brothel but before her trial. Several months elapse before the ...\n",
            "=================\n",
            "Updated movie 'Heidi Fleiss: Hollywood Madam' with embedding.\n",
            "93\n",
            "The accidental shooting of a boy in New York leads to an investigation by the Deputy Mayor, and unexpectedly far-reaching consequences.\n",
            "=================\n"
          ]
        },
        {
          "output_type": "stream",
          "name": "stderr",
          "text": [
            "WARNING:neo4j.notifications:Received notification from DBMS server: {severity: WARNING} {code: Neo.ClientNotification.Statement.FeatureDeprecationWarning} {category: DEPRECATION} {title: This feature is deprecated and will be removed in future versions.} {description: The query used a deprecated function. ('id' has been replaced by 'elementId or consider using an application-generated id')} {position: line: 1, column: 23, offset: 22} for query: 'MATCH (m:Movie) WHERE ID(m) = $id SET m.plotEmbedding = $embedding'\n",
            "WARNING:neo4j.notifications:Received notification from DBMS server: {severity: WARNING} {code: Neo.ClientNotification.Statement.FeatureDeprecationWarning} {category: DEPRECATION} {title: This feature is deprecated and will be removed in future versions.} {description: The query used a deprecated function. ('id' has been replaced by 'elementId or consider using an application-generated id')} {position: line: 1, column: 23, offset: 22} for query: 'MATCH (m:Movie) WHERE ID(m) = $id SET m.plotEmbedding = $embedding'\n"
          ]
        },
        {
          "output_type": "stream",
          "name": "stdout",
          "text": [
            "Updated movie 'City Hall' with embedding.\n",
            "94\n",
            "Focusing on a trio of friends and their elaborate plan to pull off a simple robbery and go on the run.\n",
            "=================\n",
            "Updated movie 'Bottle Rocket' with embedding.\n",
            "95\n",
            "A single and lonely woman finds the seemingly perfect man to date, but soon regrets it when his deranged and possessive other personality emerges and worst still, she cannot convince anyone else of his Jekyll/Hyde true nature.\n",
            "=================\n"
          ]
        },
        {
          "output_type": "stream",
          "name": "stderr",
          "text": [
            "WARNING:neo4j.notifications:Received notification from DBMS server: {severity: WARNING} {code: Neo.ClientNotification.Statement.FeatureDeprecationWarning} {category: DEPRECATION} {title: This feature is deprecated and will be removed in future versions.} {description: The query used a deprecated function. ('id' has been replaced by 'elementId or consider using an application-generated id')} {position: line: 1, column: 23, offset: 22} for query: 'MATCH (m:Movie) WHERE ID(m) = $id SET m.plotEmbedding = $embedding'\n",
            "WARNING:neo4j.notifications:Received notification from DBMS server: {severity: WARNING} {code: Neo.ClientNotification.Statement.FeatureDeprecationWarning} {category: DEPRECATION} {title: This feature is deprecated and will be removed in future versions.} {description: The query used a deprecated function. ('id' has been replaced by 'elementId or consider using an application-generated id')} {position: line: 1, column: 23, offset: 22} for query: 'MATCH (m:Movie) WHERE ID(m) = $id SET m.plotEmbedding = $embedding'\n"
          ]
        },
        {
          "output_type": "stream",
          "name": "stdout",
          "text": [
            "Updated movie 'Mr. Wrong' with embedding.\n",
            "96\n",
            "Unsuccessfully framed for his wife's murder, Dr. David Krane attempts to find the real culprit by utilizing a new drug that allows him to experience the memories of other people first-hand....\n",
            "=================\n",
            "Updated movie 'Unforgettable' with embedding.\n",
            "97\n",
            "A rejected hockey player puts his skills to the golf course to save his grandmother's house.\n",
            "=================\n"
          ]
        },
        {
          "output_type": "stream",
          "name": "stderr",
          "text": [
            "WARNING:neo4j.notifications:Received notification from DBMS server: {severity: WARNING} {code: Neo.ClientNotification.Statement.FeatureDeprecationWarning} {category: DEPRECATION} {title: This feature is deprecated and will be removed in future versions.} {description: The query used a deprecated function. ('id' has been replaced by 'elementId or consider using an application-generated id')} {position: line: 1, column: 23, offset: 22} for query: 'MATCH (m:Movie) WHERE ID(m) = $id SET m.plotEmbedding = $embedding'\n",
            "WARNING:neo4j.notifications:Received notification from DBMS server: {severity: WARNING} {code: Neo.ClientNotification.Statement.FeatureDeprecationWarning} {category: DEPRECATION} {title: This feature is deprecated and will be removed in future versions.} {description: The query used a deprecated function. ('id' has been replaced by 'elementId or consider using an application-generated id')} {position: line: 1, column: 23, offset: 22} for query: 'MATCH (m:Movie) WHERE ID(m) = $id SET m.plotEmbedding = $embedding'\n"
          ]
        },
        {
          "output_type": "stream",
          "name": "stdout",
          "text": [
            "Updated movie 'Happy Gilmore' with embedding.\n",
            "98\n",
            "Photographer Robert Kincaid wanders into the life of housewife Francesca Johnson, for four days in the 1960s.\n",
            "=================\n",
            "Updated movie 'Bridges of Madison County, The' with embedding.\n",
            "99\n",
            "The Muppets' twist on the classic tale.\n",
            "=================\n"
          ]
        },
        {
          "output_type": "stream",
          "name": "stderr",
          "text": [
            "WARNING:neo4j.notifications:Received notification from DBMS server: {severity: WARNING} {code: Neo.ClientNotification.Statement.FeatureDeprecationWarning} {category: DEPRECATION} {title: This feature is deprecated and will be removed in future versions.} {description: The query used a deprecated function. ('id' has been replaced by 'elementId or consider using an application-generated id')} {position: line: 1, column: 23, offset: 22} for query: 'MATCH (m:Movie) WHERE ID(m) = $id SET m.plotEmbedding = $embedding'\n"
          ]
        },
        {
          "output_type": "stream",
          "name": "stdout",
          "text": [
            "Updated movie 'Muppet Treasure Island' with embedding.\n",
            "100\n",
            "A camera follows model Christy Turlington through the spring fashion shows in Milan, Paris, and New York one year in the early 1990s, probably 1992. She and others dash from one designer's ...\n",
            "=================\n"
          ]
        },
        {
          "output_type": "stream",
          "name": "stderr",
          "text": [
            "WARNING:neo4j.notifications:Received notification from DBMS server: {severity: WARNING} {code: Neo.ClientNotification.Statement.FeatureDeprecationWarning} {category: DEPRECATION} {title: This feature is deprecated and will be removed in future versions.} {description: The query used a deprecated function. ('id' has been replaced by 'elementId or consider using an application-generated id')} {position: line: 1, column: 23, offset: 22} for query: 'MATCH (m:Movie) WHERE ID(m) = $id SET m.plotEmbedding = $embedding'\n",
            "WARNING:neo4j.notifications:Received notification from DBMS server: {severity: WARNING} {code: Neo.ClientNotification.Statement.FeatureDeprecationWarning} {category: DEPRECATION} {title: This feature is deprecated and will be removed in future versions.} {description: The query used a deprecated function. ('id' has been replaced by 'elementId or consider using an application-generated id')} {position: line: 1, column: 23, offset: 22} for query: 'MATCH (m:Movie) WHERE ID(m) = $id SET m.plotEmbedding = $embedding'\n"
          ]
        },
        {
          "output_type": "stream",
          "name": "stdout",
          "text": [
            "Updated movie 'Catwalk' with embedding.\n"
          ]
        }
      ]
    },
    {
      "cell_type": "markdown",
      "source": [
        "## 3. Generating a Retriever with Vector INDEX"
      ],
      "metadata": {
        "id": "yqXfhvRaQFli"
      }
    },
    {
      "cell_type": "markdown",
      "source": [
        "Embedding model : https://platform.openai.com/docs/models/embeddings\n",
        "\n",
        "VECTOR INDEX : https://neo4j.com/docs/cypher-manual/current/indexes/semantic-indexes/vector-indexes/"
      ],
      "metadata": {
        "id": "EIIzNQcO_olr"
      }
    },
    {
      "cell_type": "markdown",
      "source": [
        "Genereate VECTOR INDEX\n",
        "```cypher\n",
        "CREATE VECTOR INDEX moviePlotsEmbedding FOR (n:Movie) ON (n.plotEmbedding) OPTIONS {indexConfig: {\n",
        " `vector.dimensions`: 1536,\n",
        " `vector.similarity_function`: 'cosine'\n",
        "}}\n",
        "```"
      ],
      "metadata": {
        "id": "VNoMyw_2AUYl"
      }
    },
    {
      "cell_type": "code",
      "source": [
        "from neo4j_graphrag.retrievers import VectorRetriever\n",
        "from neo4j_graphrag.embeddings.openai import OpenAIEmbeddings\n",
        "embedder = OpenAIEmbeddings(model=\"text-embedding-ada-002\")\n",
        "retriever = VectorRetriever(\n",
        "    driver,\n",
        "    index_name=\"moviePlotsEmbedding\",\n",
        "    embedder=embedder,\n",
        "    return_properties=[\"title\", \"plot\"],\n",
        ")"
      ],
      "metadata": {
        "id": "YH5CcnCU2XJk"
      },
      "execution_count": 9,
      "outputs": []
    },
    {
      "cell_type": "code",
      "source": [
        "query_text = \"A cowboy doll is jealous when a new spaceman figure becomes the top toy.\" # TOy Story Plot\n",
        "retriever_result = retriever.search(query_text=query_text, top_k=3)\n",
        "print(retriever_result)"
      ],
      "metadata": {
        "colab": {
          "base_uri": "https://localhost:8080/"
        },
        "id": "-1WyJK3eTpBA",
        "outputId": "5e6060eb-cd26-4c16-df30-bd652db2eca0"
      },
      "execution_count": 10,
      "outputs": [
        {
          "output_type": "stream",
          "name": "stdout",
          "text": [
            "items=[RetrieverResultItem(content='{\\'title\\': \\'Toy Story\\', \\'plot\\': \"A cowboy doll is profoundly threatened and jealous when a new spaceman figure supplants him as top toy in a boy\\'s room.\"}', metadata={'score': 0.98028564453125, 'nodeLabels': ['Movie'], 'id': '4:69ab0fa5-25bf-4962-9594-4278a50ea22f:0'}), RetrieverResultItem(content=\"{'title': 'Indian in the Cupboard, The', 'plot': 'On his ninth birthday a boy receives many presents. Two of them first seem to be less important: an old cupboard from his brother and a little Indian figure made of plastic from his best ...'}\", metadata={'score': 0.904388427734375, 'nodeLabels': ['Movie'], 'id': '4:69ab0fa5-25bf-4962-9594-4278a50ea22f:73'}), RetrieverResultItem(content=\"{'title': 'Powder', 'plot': 'A young bald albino boy with unique powers shakes up the rural community he lives in.'}\", metadata={'score': 0.899505615234375, 'nodeLabels': ['Movie'], 'id': '4:69ab0fa5-25bf-4962-9594-4278a50ea22f:35'})] metadata={'query_vector': [-0.035435985773801804, -0.014396687038242817, 0.0073225656524300575, -0.025249775499105453, -0.027721140533685684, -0.007034893147647381, -0.020751627162098885, -0.009127054363489151, 0.0012275103945285082, -0.021510036662220955, 0.014697435311973095, 0.0005226317443884909, 0.02284378930926323, -0.008767464198172092, -0.0019417874282225966, 0.033945322036743164, 0.027747292071580887, -0.005106181837618351, -0.007427173666656017, -0.001049349782988429, 0.00691720936447382, 0.008551710285246372, -0.0004789088561665267, -0.01941787451505661, 0.006678571924567223, 0.002056202618405223, 0.019012518227100372, -0.02626970410346985, 0.02239920385181904, 0.01886868290603161, 0.004485071171075106, 0.004677942488342524, 0.006453010719269514, -0.005688064265996218, -0.04474610462784767, -0.031068598851561546, 0.0009896905394271016, -0.01811027340590954, 0.003935879096388817, -0.007257185410708189, 0.013978254050016403, 0.027171948924660683, -0.016384240239858627, 0.006658957805484533, -0.023628350347280502, 0.016789596527814865, 0.012690267525613308, -0.017325712367892265, -0.010859626345336437, -0.0004956625052727759, 0.014122090302407742, 0.013389834202826023, -0.02124851569533348, -0.024595974013209343, 0.014226698316633701, -0.028061116114258766, -0.011160374619066715, -0.014344383031129837, 0.01705111749470234, -0.00359263364225626, 0.00045520858839154243, 0.015128943137824535, 0.008041745983064175, 0.013317915610969067, -0.008381722494959831, 0.0026789475232362747, -0.010388889349997044, -0.014684358611702919, -0.003828001907095313, -0.008878611028194427, 0.020084751769900322, 0.017194952815771103, 0.0021150445099920034, -0.00266750599257648, 0.015573527663946152, -0.0002457881346344948, -0.02123543992638588, 0.02262149751186371, 0.003772428724914789, -0.0016075319144874811, 0.03151318430900574, -0.025602826848626137, -0.02403370663523674, 0.012252220883965492, 0.013213307596743107, -0.002206576755270362, -0.013232922181487083, 0.023641426116228104, -0.028610309585928917, 0.02059471607208252, 0.0018600623589009047, 0.004501416347920895, 0.014305154792964458, 0.006665496155619621, -0.016567304730415344, 0.01833256520330906, -0.002559628803282976, 0.026204323396086693, -0.0016949777491390705, -0.035462137311697006, 0.005903818178921938, -0.010088141076266766, -0.016253480687737465, -0.0018682348309084773, 0.020110903307795525, 0.027642684057354927, 0.004710632376372814, 0.0018731383606791496, 0.01383441872894764, -0.006521659903228283, 0.011631110683083534, 0.011349976062774658, 0.029551781713962555, -0.028087269514799118, -0.013455213978886604, -0.015704287216067314, 0.01254643127322197, 0.002912681084126234, 0.004004527814686298, -0.010768094100058079, 0.02424292266368866, 0.023196840658783913, 0.007662541698664427, -3.961111360695213e-05, 0.0020218780264258385, 0.013703658245503902, -0.02264764904975891, -0.008139816112816334, -0.008048283867537975, 0.008728236891329288, 0.027930356562137604, 0.019352493807673454, 0.017848752439022064, -0.0007195891812443733, -0.03357919305562973, 0.008571323938667774, -0.032350048422813416, 0.015246626920998096, 0.007061045151203871, -0.017574157565832138, -0.0006730058812536299, 0.0017717992886900902, 0.0039424169808626175, 0.00520752090960741, -0.005452696233987808, 0.02017628215253353, 0.012533355504274368, 0.00863016676157713, -0.012906021438539028, 0.021379275247454643, -0.009571638889610767, 0.006050923373550177, 0.012925636023283005, -0.025681283324956894, 0.01410901453346014, 0.0023193571250885725, -0.022072304040193558, 0.008224810473620892, 0.011291134171187878, -0.03078092634677887, -0.005501731298863888, 0.0026658715214580297, 0.021078526973724365, -0.0033801484387367964, 0.009944305755198002, 0.02446521446108818, 0.006060730665922165, 0.004351042211055756, 0.00827057659626007, 0.007956751622259617, -0.005485386122018099, 0.012324139475822449, -0.034599121659994125, 0.034912947565317154, -0.009368960745632648, 0.009205510839819908, -0.014017482288181782, 0.0241383146494627, -0.020647019147872925, -0.019260961562395096, -0.03854807838797569, -0.01943095028400421, 0.002325895242393017, 0.0107288658618927, -0.012520279735326767, -0.014174394309520721, -0.009048598818480968, -0.024425985291600227, 0.00021514121908694506, 0.023209916427731514, 0.0032346779480576515, 0.02424292266368866, -0.027407316491007805, -0.018358716741204262, -0.6473147869110107, -0.031382422894239426, 0.0033016924280673265, -0.0019189044833183289, -0.001811027294024825, 0.006466086953878403, 0.014985106885433197, 0.0036972416564822197, -0.013429062440991402, 0.009976995177567005, -0.006603384856134653, 0.022556116804480553, -0.0101927500218153, -0.015717362985014915, -0.010585029609501362, 0.0009782490087673068, 0.03070247173309326, -0.02477903850376606, 0.02111775614321232, 0.014775890856981277, -0.011618034914135933, 0.010140445083379745, 0.0038901129737496376, 0.002152638044208288, 0.008656318299472332, 0.011892630718648434, 0.029237957671284676, 0.00279990048147738, -0.006283022463321686, 0.002123217098414898, -0.016711140051484108, 0.03697895631194115, -0.02370680496096611, 0.023419134318828583, 0.05450080707669258, -0.005292514804750681, -0.01400440651923418, 0.003981644753366709, 0.015625830739736557, 0.01034966204315424, -0.03208852931857109, -8.305309165734798e-05, 0.010323509573936462, -0.0332653671503067, -0.00868247076869011, 0.002479538321495056, 0.014069786295294762, -0.004060101229697466, -0.013755962252616882, -0.011637648567557335, 0.016031187027692795, 0.009839697740972042, 0.019496330991387367, 0.010330047458410263, 0.009656633250415325, 0.005707678385078907, 0.02531515434384346, 0.0007118252688087523, -0.010225439444184303, -0.011376128531992435, 0.014736662618815899, 0.006662226747721434, -0.012991015799343586, -0.008355570025742054, -0.024399833753705025, 0.027930356562137604, -0.004906772635877132, 0.0026201053988188505, 0.0022539771161973476, -0.030231734737753868, 0.008316341787576675, 0.02166694775223732, -0.011676876805722713, 0.016488848254084587, 0.008512482047080994, 0.036508217453956604, 0.031251661479473114, -0.004919848870486021, 0.0019973604939877987, 0.014710511080920696, 0.009813545271754265, 0.006207835394889116, -0.02853185310959816, -0.0009136861772276461, 0.04139864817261696, -0.014906651340425014, -0.016815748065710068, 0.009597791358828545, -0.003579557640478015, -0.010434655472636223, 0.01050657406449318, 0.03886190056800842, -0.02745961956679821, -0.017234180122613907, -0.003118628403171897, 0.0036841656547039747, -0.009028985165059566, 0.017744144424796104, -0.0039685689844191074, -0.04050947725772858, -0.013991330750286579, 0.00013872829731553793, -0.013860570266842842, 0.001198089448735118, -0.003909727092832327, 0.0142136225476861, 0.013873646035790443, 0.03378840908408165, 0.034259144216775894, -0.05533767491579056, 0.016763444989919662, 0.007302951533347368, 0.0032330434769392014, 0.005449426826089621, -0.011278058402240276, -0.024857494980096817, 0.017665689811110497, 0.0005169110372662544, 0.02412523701786995, -0.01561275590211153, 0.01575659215450287, 0.010186211206018925, 0.018397945910692215, -0.00873477477580309, -0.004857737571001053, -0.0005124161252751946, 0.0016140699153766036, 0.0017113228095695376, -0.020019371062517166, 0.02028089016675949, -0.0016263286815956235, -0.009852773509919643, 0.0219938475638628, -0.011886092834174633, 0.014187471009790897, 0.016253480687737465, 0.009924691170454025, -0.009362422861158848, 0.017861830070614815, -0.011788022704422474, -0.01910405047237873, 0.029368717223405838, -0.001537248375825584, 0.012585659511387348, 0.004442574456334114, -0.037162020802497864, -0.016894204542040825, 0.005704409442842007, -0.02551129460334778, 0.01281448919326067, -0.0012013583909720182, 0.0011090090265497565, 0.031591638922691345, -0.018201805651187897, 0.0026985614094883204, 0.012938711792230606, -0.009538949467241764, 0.003906457684934139, -0.0006113034323789179, -0.01282102707773447, 0.008002517744898796, 0.033945322036743164, -0.030754774808883667, -0.0017979512922465801, -0.02102622389793396, -0.018934061750769615, 0.0002498743706382811, 0.0037070487160235643, -0.020032446831464767, -0.018201805651187897, -0.013651354238390923, -0.023837566375732422, -0.009682784788310528, -0.0020741820335388184, -0.029682541266083717, 0.001730936812236905, -0.002013705438002944, -0.020516259595751762, 0.004674673546105623, -0.0037266628351062536, -0.012631425634026527, 0.0010297357803210616, 0.01879022642970085, 0.007727921940386295, 0.034389905631542206, -0.0011139125563204288, 0.036299001425504684, 0.019182506948709488, -0.015717362985014915, 0.014252850785851479, -0.009878925047814846, 0.0023455091286450624, -0.012311062775552273, -0.011846864596009254, -0.015534299425780773, -0.03548828884959221, 0.009820083156228065, 0.03559289872646332, 0.03454681858420372, 0.026688136160373688, 0.02058163844048977, -0.0032493884209543467, 0.018097197636961937, 0.009074750356376171, -0.0011139125563204288, -0.027930356562137604, -0.0032461194787174463, -0.01964016631245613, 0.014592827297747135, 0.0008491234038956463, 0.013069471344351768, -0.01035619992762804, 0.01211492344737053, -0.012572583742439747, 0.05674988403916359, 0.006135917734354734, -0.017090344801545143, 0.011219216510653496, -0.010977310128509998, 0.006498776841908693, -0.026557376608252525, -0.016972661018371582, 0.018907910212874413, -0.0013925950042903423, 0.0005467406590469182, -0.004334697034209967, 0.004383732099086046, -0.00708065927028656, 0.007708307821303606, -0.03852192312479019, -0.008342494256794453, -0.009571638889610767, 0.003811656730249524, 0.014435914345085621, 0.004158170893788338, 0.0069695133715868, 0.002399447839707136, 0.0010550705483183265, 0.04050947725772858, 0.012925636023283005, 0.011251905933022499, 0.013213307596743107, 0.011284596286714077, -0.01275564730167389, -0.015717362985014915, 0.014095938764512539, 0.005263093858957291, 0.02540668658912182, -0.007767149712890387, 0.026152020320296288, -0.010709252208471298, -0.015625830739736557, -0.01834564097225666, 0.012481051497161388, 0.0034782185684889555, -0.007231033407151699, 0.018855605274438858, -0.015586603432893753, 0.014239775016903877, 0.010931544005870819, 0.011729180812835693, 0.00533828092738986, 0.020110903307795525, 0.0015045583713799715, 0.043595414608716965, 0.016671912744641304, -0.013017167337238789, -0.013965178281068802, 0.0007604517159052193, 0.020137054845690727, -0.012618348933756351, 0.030963990837335587, 0.004383732099086046, -0.02629585564136505, 0.0005279438919387758, -0.0182279571890831, -0.0107223279774189, 0.013572897762060165, 0.011905706487596035, 0.006655688863247633, 0.013991330750286579, -0.053925465792417526, 0.004449112340807915, 0.01950940676033497, 0.007825992070138454, 0.007819454185664654, -0.03917572647333145, 0.01685497723519802, -0.0022523426450788975, 0.032559264451265335, -0.011801098473370075, -0.0019957260228693485, 0.017077269032597542, 0.006230718456208706, 0.0010632430203258991, -0.007381407544016838, 0.008505944162607193, -0.007224495522677898, 0.004828316625207663, -0.022477660328149796, 0.01545584388077259, -0.0018698694184422493, -0.021065451204776764, -0.028165724128484726, 0.01813642494380474, 0.015364311635494232, -0.0058188242837786674, -0.03486064076423645, -0.010715790092945099, -0.0139521025121212, -0.010977310128509998, -0.019117126241326332, -0.029760997742414474, 0.004583141300827265, 0.0006207018159329891, -0.013128314167261124, -0.0015552279073745012, -0.015547375194728374, 0.03462527319788933, 0.005514807067811489, -0.01865946501493454, 0.02017628215253353, -0.011559193022549152, 0.008054821752011776, 0.1297140121459961, -0.0070414310321211815, 0.007963289506733418, -0.01276218518614769, -0.009100902825593948, -0.015586603432893753, -0.013317915610969067, -0.02069932408630848, 0.030650166794657707, -0.019653242081403732, -0.02317068912088871, -0.02200692519545555, 0.022569192573428154, 0.016436543315649033, 0.016985736787319183, -0.013429062440991402, 0.01953555829823017, 0.0005618598079308867, 0.008022132329642773, -0.024269074201583862, -0.008185582235455513, 0.007701769936829805, -0.008604014292359352, 0.005920163355767727, -0.00029850078863091767, -0.016802672296762466, 0.003295154543593526, 0.04626292362809181, 0.004599486477673054, -0.03292539343237877, -0.004468726459890604, -0.015717362985014915, -0.006325519643723965, 0.005603070370852947, -0.008970142342150211, 0.005106181837618351, 0.004181053955107927, 0.011225754395127296, 0.022673800587654114, -0.0029796957969665527, 0.02404678240418434, 0.005825362168252468, 0.018698694184422493, -0.0033278444316238165, -0.0015993594424799085, 0.008002517744898796, -0.009584715589880943, 0.014945878647267818, -0.0019107318948954344, -0.038025036454200745, 0.02994406223297119, -0.019287114962935448, -0.0037103176582604647, -0.0019646703731268644, 0.01556045189499855, 0.0016582014504820108, -0.002793362597003579, -0.012572583742439747, -0.01962709054350853, -0.00361878564581275, -0.01865946501493454, -0.021313896402716637, 0.001306783757172525, -0.005563842132687569, -0.00927089061588049, -0.03873113915324211, -0.004916579462587833, -0.010140445083379745, 0.0030597862787544727, -0.032219287008047104, 0.0033572656102478504, -0.014396687038242817, -0.017351865768432617, -0.0008205196354538202, -0.0019973604939877987, 0.0011392473243176937, 0.010107755661010742, -0.03088553436100483, 0.003929340746253729, -0.002275225706398487, -0.004485071171075106, -0.03195776790380478, 0.009983533062040806, -0.024530593305826187, 0.002549821976572275, -0.01239605713635683, 0.02188923954963684, 0.014357458800077438, -0.018724845722317696, 0.002927391789853573, 0.015128943137824535, 0.02680581994354725, 0.007989441975951195, 0.0012618349865078926, 0.021967696025967598, -0.01961401477456093, 0.0036285927053540945, 0.015207399614155293, 0.014605903066694736, 0.02714579552412033, -0.011278058402240276, -0.018803302198648453, -0.01389979850500822, 0.012212992645800114, 0.004723708610981703, 0.00873477477580309, 0.012840641662478447, 0.004517761524766684, -0.021183134987950325, 0.006655688863247633, -0.004733515437692404, -0.0028260524850338697, -0.007034893147647381, -0.0104673458263278, 0.016488848254084587, -0.010061989538371563, 0.005230403970927, 0.015155095607042313, 0.0048446618020534515, -0.01661960780620575, -0.015534299425780773, -0.024177541956305504, 0.02050318382680416, 0.020986994728446007, -0.0018551588291302323, 0.008597476407885551, -0.003677627770230174, -0.02263457328081131, -0.027302708476781845, 0.027538076043128967, -0.018829453736543655, -0.01206915732473135, -0.015050487592816353, -0.013808266259729862, -0.028819525614380836, -0.00274923094548285, -0.013455213978886604, 0.0035305225756019354, 0.015102791599929333, -0.026138942688703537, -0.011519964784383774, -0.011794560588896275, -0.007479477673768997, -0.036115940660238266, 0.004390270449221134, -0.019980143755674362, -0.0171557255089283, 0.02404678240418434, -0.011572268791496754, 0.0037397388368844986, -0.013755962252616882, 0.00874131266027689, -0.03344843164086342, 0.019875533878803253, 0.025694359093904495, -0.0483027808368206, -0.007943675853312016, -0.005681526381522417, 0.014566674828529358, 0.017299560829997063, 0.04087560623884201, -0.011781484819948673, 0.013546746224164963, -0.01384749449789524, -0.0030581518076360226, 0.0015650349669158459, -0.006707992870360613, 0.00043763770372606814, -0.024190617725253105, 0.015142018906772137, 0.0251974705606699, 0.009238201193511486, 0.01974477432668209, 0.0054984618909657, -0.006658957805484533, 0.017613384872674942, 0.009185897186398506, -0.019234810024499893, -0.016802672296762466, 0.009748165495693684, 0.016593456268310547, -0.04213090240955353, -0.013625201769173145, -0.0024566552601754665, -0.02026781439781189, -0.012088770978152752, 0.023615272715687752, 0.021091604605317116, -0.012095308862626553, -0.0037658908404409885, 0.01641039177775383, -0.016567304730415344, 0.03399762511253357, 0.0010804053163155913, 0.021300820633769035, -0.003912996035069227, -0.0023357023019343615, 0.02114390768110752, 0.01703803986310959, 0.006011695601046085, 0.0032232364173978567, 0.017234180122613907, -0.013965178281068802, 0.011794560588896275, 0.0012847179314121604, 0.02586434781551361, -0.005057146772742271, -0.02015013061463833, 0.016240404918789864, -0.035226769745349884, -0.011284596286714077, -0.038443468511104584, -0.019993219524621964, -0.031147055327892303, -0.02640046365559101, -0.010807322338223457, -0.01244836114346981, 0.013651354238390923, -0.03261156752705574, -0.030833231285214424, 0.010931544005870819, -0.0005504182772710919, 0.03687434643507004, 0.009362422861158848, 0.010898853652179241, 0.0241383146494627, -0.039201878011226654, 0.0036874348297715187, 0.013442138209939003, 0.0031529527623206377, -0.015285855159163475, 0.020019371062517166, 0.01705111749470234, -0.000462972471723333, -0.001130257616750896, 0.005540959071367979, -0.0142136225476861, -0.021863088011741638, -0.04087560623884201, 0.0008752754074521363, -0.01609656773507595, 0.004151633009314537, -0.03993413224816322, -0.013442138209939003, 0.01302370522171259, 0.004932924639433622, -0.02242535725235939, -0.017548004165291786, -0.009414726868271828, -0.039751067757606506, -0.0246875062584877, 0.008113663643598557, -0.011696490459144115, 0.005589994136244059, 0.01629270799458027, -0.021183134987950325, 0.011225754395127296, -0.008080974221229553, 0.010160059668123722, 0.01652807556092739, -0.02200692519545555, 0.024543670937418938, 0.014187471009790897, 0.016331935301423073, 0.008675932884216309, -4.4897704356117174e-05, 0.016122719272971153, -0.008107125759124756, 0.0033736105542629957, 0.02564205415546894, 0.0067472211085259914, 0.013174079358577728, -0.002396178897470236, 0.0013729810016229749, 0.008022132329642773, 0.009715475142002106, -0.017548004165291786, -0.007956751622259617, 0.019980143755674362, -0.009048598818480968, 0.012487589381635189, 0.007557933684438467, -0.011820713058114052, -0.013925950042903423, -0.015272779390215874, -0.003948954865336418, -0.01994091458618641, 0.006642613094300032, 0.005975736305117607, 0.0033539964351803064, 0.0011760236229747534, -0.012422209605574608, -0.005537690129131079, 0.015468919649720192, 0.007806377951055765, -0.009074750356376171, 0.01739109307527542, 0.004674673546105623, -0.016881128773093224, 0.02017628215253353, -0.009342809207737446, 0.01270334329456091, -0.014906651340425014, -0.00019236035586800426, 0.03187931329011917, -0.014069786295294762, 0.013174079358577728, -0.012154150754213333, -0.01620117574930191, -0.01846332661807537, 0.012056080624461174, -0.017757222056388855, 0.008028670214116573, -0.012043004855513573, 0.001985918963328004, 0.019692471250891685, 0.006904133129864931, -0.04953192546963692, -0.02188923954963684, 0.014226698316633701, 0.023889869451522827, 0.005894011352211237, 0.024818265810608864, 0.001714591751806438, -0.003293519839644432, -0.02243843302130699, 0.02111775614321232, 0.005449426826089621, -0.01211492344737053, -0.0018191998824477196, -0.02058163844048977, 0.015808895230293274, -0.01943095028400421, -0.03070247173309326, -0.03700510784983635, 0.010088141076266766, -0.010545802302658558, 0.02672736346721649, 0.010650410316884518, -0.0005876031937077641, 0.008499406278133392, 0.024086009711027145, -0.01239605713635683, 0.02725040353834629, 0.0021967696957290173, -0.0032428503036499023, 0.022150760516524315, -0.029525630176067352, -0.02069932408630848, -0.01389979850500822, -0.009663171134889126, -0.0064203208312392235, -0.006181683391332626, -0.0332915224134922, -0.02059471607208252, 0.011519964784383774, -0.01867254264652729, 0.004691018257290125, -0.01088577788323164, 0.014632054604589939, 0.0279042050242424, -0.017783373594284058, -0.005083298776298761, 0.027511924505233765, 0.0013165907002985477, 0.024818265810608864, 0.009813545271754265, -0.010748480446636677, -0.004230089019984007, 0.005848245229572058, -0.004344504326581955, 0.010755018331110477, -7.774096593493596e-05, -0.026152020320296288, 0.015390463173389435, 0.014435914345085621, 0.010290819220244884, 0.009924691170454025, 0.01388672273606062, -0.025890499353408813, -0.03261156752705574, 0.0030712278094142675, 0.016384240239858627, 0.002136293100193143, 0.013030244037508965, -0.02382449060678482, -0.006132648326456547, -0.006132648326456547, 0.01684189960360527, -0.012827565893530846, -0.015128943137824535, 0.0015781109686940908, -0.004416422452777624, 0.004825047682970762, 0.002016974613070488, -0.021732328459620476, -0.00927089061588049, -0.006184952799230814, 0.01089231576770544, -0.023641426116228104, -0.007760611828416586, 0.023131461814045906, 0.020542411133646965, -0.035985179245471954, -0.013808266259729862, 0.016462696716189384, 0.01950940676033497, -0.0070152790285646915, -0.0076690795831382275, -0.01535123586654663, 0.0014963858993723989, 0.004959076642990112, -0.0030973798129707575, -0.022909168154001236, 0.007034893147647381, -0.004883889574557543, 0.010094679892063141, -0.04634137824177742, 0.02884567715227604, 0.011081918142735958, -0.018920985981822014, -0.004910041578114033, -0.001729302341118455, 0.003984914161264896, -0.02037242241203785, 0.006779910996556282, 0.011173450388014317, -0.0034847566857934, -0.02821802906692028, -0.019287114962935448, -0.017953360453248024, -0.01297140121459961, 0.041032519191503525, 0.006273215636610985, -0.010186211206018925, 0.026518147438764572, 0.2518962621688843, -0.008512482047080994, -0.012781799770891666, 0.03763275593519211, -0.0018845798913389444, -0.003308230545371771, 0.009780854918062687, -0.004177785012871027, -0.025079786777496338, -0.01109499391168356, 0.002791728125885129, 0.006508583668619394, -0.01565198414027691, 0.006806063000112772, -0.021313896402716637, -0.006292829755693674, -0.00533828092738986, 0.0031774702947586775, -0.00880015455186367, -0.009552025236189365, 0.028348788619041443, -0.016671912744641304, 0.016567304730415344, -0.026243550702929497, 0.014841270633041859, -0.026858124881982803, -0.0029094121418893337, -0.003481487510725856, 0.01800566539168358, 0.01442283857613802, -0.01727340929210186, -0.023314524441957474, 0.002221287228167057, -0.028767220675945282, -0.01705111749470234, -0.01654115319252014, -0.019182506948709488, 0.004089522175490856, 0.016331935301423073, 0.010630795732140541, -0.004073176998645067, -0.0033866865560412407, 0.002871818607673049, 0.00015088489453773946, 0.01442283857613802, 0.019130202010273933, -0.01663268357515335, 0.0031938154716044664, -0.000619067344814539, 0.014409762807190418, -0.03656052425503731, -0.026518147438764572, 0.026308931410312653, 0.03831270709633827, -0.0025236699730157852, 0.015181247144937515, 0.04336004704236984, 0.001471051131375134, -0.009963919408619404, 0.0005716668092645705, 0.00011043098493246362, 0.021483883261680603, -0.013291764073073864, 0.00713296327739954, -0.0219807717949152, 0.016789596527814865, -0.01243528537452221, 0.002873453078791499, 0.017404168844223022, -0.015285855159163475, 0.01909097470343113, -0.0005659460439346731, -0.018280262127518654, 0.001838813885115087, -0.011003462597727776, -0.02477903850376606, 0.02049010805785656, 0.0109903858974576, -0.011349976062774658, 0.020333195105195045, -0.004125481005758047, -0.0038345397915691137, -0.0005933239590376616, -0.016018111258745193, 0.002610298339277506, -0.02949947863817215, 0.009349347092211246, -0.00859093852341175, -0.011369590647518635, -0.002994406269863248, 0.007257185410708189, -0.016018111258745193, -5.4245010687736794e-05, -0.011631110683083534, -0.003893381915986538, 0.01227837335318327, -0.0004133245092816651, 0.020751627162098885, 0.009885462932288647, -0.011859940364956856, -0.01566505990922451, -0.01888175867497921, 0.02745961956679821, -0.0010853088460862637, -0.00538731599226594, -0.0037332007195800543, 0.009885462932288647, 0.0033703416120260954, 0.007884833961725235, 0.003981644753366709, -0.005795941222459078, -0.028244180604815483, 0.002231094054877758, -0.008486330509185791, -0.0071918051689863205, 0.021523112431168556, 0.025458991527557373, 0.0024991524405777454, 0.019548634067177773, -0.020333195105195045, 0.02619124762713909, -0.00906821247190237, 0.01868561841547489, 0.01950940676033497, 0.002208211226388812, -0.031487032771110535, -0.001103288377635181, 0.012840641662478447, 0.01291909720748663, -0.020869310945272446, -0.0023455091286450624, -0.027721140533685684, 0.02349758893251419, -0.008224810473620892, -0.001618973445147276, 0.0024713657330721617, 0.0020382229704409838, 0.0003371158672962338, 0.005737099330872297, 0.035435985773801804, 0.0036547447089105844, 0.017966438084840775, 0.0005933239590376616, -0.002654429990798235, 0.019587863236665726, -0.01265757717192173, 0.008434026502072811, -0.015050487592816353, -0.0023520472459495068, -0.008754388429224491, -0.02326222136616707, 0.002451751846820116, -0.00013668516476172954, 0.0045700655318796635, 0.0144882183521986, -0.00921858660876751, -0.02102622389793396, -0.03002251870930195, -0.003906457684934139, 0.0033474585507065058, -0.028270332142710686, 0.0027819210663437843, 0.013677505776286125, 0.0109903858974576, -0.002409254899248481, -0.0008045832510106266, -0.1662222295999527, 0.012834103778004646, 0.025589751079678535, -0.037266626954078674, 0.00863016676157713, -0.009761241264641285, 0.009793931618332863, 0.013585974462330341, -0.013572897762060165, -0.0029322952032089233, 0.028767220675945282, 0.010813860222697258, -0.015429691411554813, -0.005988812539726496, 0.011899168603122234, -5.056738154962659e-05, -0.02326222136616707, -0.015011259354650974, 0.0050309947691857815, 0.016776520758867264, 0.022569192573428154, 0.00525982491672039, -0.002930660732090473, 0.017744144424796104, -0.012572583742439747, 0.022033076733350754, 0.013769038021564484, 0.02918565459549427, -0.006050923373550177, -0.0029780613258481026, -0.015717362985014915, -0.03666513040661812, 0.011565730907022953, 0.025027481839060783, 0.019993219524621964, -0.0019630359020084143, -0.012736033648252487, -0.007074121385812759, -0.010048913769423962, 0.030231734737753868, -0.015364311635494232, 0.01714264787733555, 0.02080393210053444, 0.015024335123598576, -0.0017064192797988653, 0.020437803119421005, 0.007799839600920677, 0.023236069828271866, 0.015089714899659157, -0.01618809998035431, 0.008218271657824516, -0.031487032771110535, -0.011879554949700832, 0.0022768601775169373, 0.025132089853286743, 0.019038669764995575, 0.024373682215809822, 0.043281592428684235, -0.007629851810634136, -0.005965929478406906, 0.002245804760605097, -0.03133011981844902, -0.002531842328608036, -0.01410901453346014, -0.04783204197883606, -0.0182410329580307, 0.011271520517766476, 0.016606532037258148, -0.046498291194438934, 0.0057763271033763885, -0.023366829380393028, 0.021627720445394516, 0.002070913091301918, -0.006358209531754255, -0.007924062199890614, 0.036952804774045944, -0.011336900293827057, 0.008205195888876915, 0.011984162963926792, -0.0036612828262150288, 0.0027884591836482286, 0.02544591575860977, 0.007682155817747116, -0.023196840658783913, -0.01865946501493454, 0.017024964094161987, -0.003211794886738062, -0.00544615788385272, -0.023994477465748787, -0.022765332832932472, -0.0030189238023012877, -0.047910500317811966, -0.02981330268085003, -0.015325083397328854, -0.020450878888368607, 0.026544298976659775, -0.0025236699730157852, -0.008224810473620892, 0.021640796214342117, -0.0011940031545236707, 0.0010289185447618365, -0.0031120902858674526, -0.00863670464605093, 0.007374869659543037, 0.00039677516906522214, 0.008277114480733871, -0.025589751079678535, 0.008290190249681473, 0.021366199478507042, -0.020660094916820526, -0.015194322913885117, 0.010284281335771084, -0.0009153207065537572, 0.03533137962222099, -0.0006525745848193765, 0.01877715066075325, 0.010983848012983799, 0.005825362168252468, 0.018071046099066734, 0.0006055827252566814, 0.0450860820710659, -0.012095308862626553, -0.006884519010782242, 0.012899483554065228, -0.011742256581783295, -1.469774178985972e-05, -0.10094679147005081, -0.016175024211406708, 0.02585127204656601, 0.018476402387022972, -0.012683729641139507, 0.02424292266368866, -0.0024452137295156717, 0.010035837069153786, -0.0045439135283231735, 0.04108482226729393, 0.040718693286180496, -0.03015327826142311, 0.009238201193511486, -0.022477660328149796, 0.023667577654123306, -0.031068598851561546, 0.004096060059964657, -0.008806692436337471, 0.0014873960753902793, 0.009401651099324226, 0.007891371846199036, 0.010480421595275402, -0.021300820633769035, -0.002405985724180937, 0.013193693943321705, -0.01685497723519802, -0.027276556938886642, 0.006008426658809185, 0.013494442217051983, -0.011689952574670315, -0.00541346799582243, -0.022778408601880074, 0.02348451316356659, -0.0014040365349501371, -0.04064023867249489, 0.01865946501493454, -0.05102258920669556, 0.0021297549828886986, 0.023366829380393028, -0.04215705394744873, -0.005848245229572058, 0.002845666604116559, -0.021850012242794037, -0.008126740343868732, -0.01650192402303219, -0.0046877493150532246, -0.0006546177319251001, 0.01801874116063118, 0.004465457517653704, -0.02392909862101078, -0.029133349657058716, -0.004079714883118868, 0.0036285927053540945, 0.008401336148381233, 0.0386526845395565, 0.012402595020830631, 0.01736494153738022, 0.012781799770891666, -0.007656003814190626, 0.010604644194245338, -0.0015290759038180113, 0.003389955498278141, -0.020777778699994087, -0.004099329002201557, -0.0027704795356839895, 0.01109499391168356, 0.012376443482935429, 3.761906555155292e-05, 0.0038999198004603386, -0.031251661479473114, -0.039515700191259384, 0.023955250158905983, -0.032873086631298065, 0.0019303458975628018, -0.022896092385053635, -0.0050309947691857815, -0.0005700322799384594, -0.017561081796884537, 0.021836936473846436, -0.025289002805948257, 0.006011695601046085, -0.018920985981822014, 0.019260961562395096, -0.0010599740780889988, 0.04730900377035141, 0.015142018906772137, -0.009388575330376625, 0.004700825549662113, 0.01405671052634716, -0.004112405236810446, -0.02553744614124298, 0.0009602694772183895, -0.009872387163341045, -0.0069956653751432896, -0.024543670937418938, 0.022072304040193558, -0.01782260090112686, -0.004910041578114033, 0.025576675310730934, -0.0246875062584877, -0.0139521025121212, -0.0251974705606699, -0.04848584532737732, 0.02157541550695896, 0.01650192402303219, 0.009205510839819908, 7.79963520471938e-05, -0.015939656645059586, 0.02918565459549427, -0.020529335364699364, -0.0013141389936208725, -0.015795819461345673, -0.0067210691049695015, 0.012794875539839268, -0.02017628215253353, -0.015495071187615395, -0.03300384804606438, -0.024752886965870857, 0.025184394791722298, 0.015155095607042313, -0.0006881250301375985, -0.011454584077000618, -2.857184654203593e-06, 0.007074121385812759, 0.015364311635494232, 0.018044892698526382, -0.01244836114346981, 0.03153933584690094, 0.012690267525613308, 0.0038051188457757235, -0.013559821993112564, -0.028819525614380836, 0.013965178281068802, -0.04202629625797272, -0.010741941630840302, 0.005998619366437197, -0.0012275103945285082, -0.009996609762310982, -0.01104268990457058, 0.015194322913885117, 0.015102791599929333, 0.004769474733620882, -0.01389979850500822, -0.023471437394618988, 0.00514867901802063, -0.02458289824426174, 0.000259068445302546, 0.0006664678803645074, -0.0032624644227325916, 0.00713296327739954, 0.023641426116228104, 0.01695958524942398, 0.008159429766237736, 0.022556116804480553, 0.0008646511705592275, -0.008264037780463696, -0.02360219694674015, -0.023039929568767548, 0.006714531220495701, -0.01431823056191206, 0.008224810473620892, -0.004203937016427517, 0.004782550502568483, 0.0011506888549774885, 0.026988884434103966, -0.023026853799819946, 0.01748262532055378, 0.006217642687261105, -0.023196840658783913, 0.01576966792345047, 0.0241513904184103, -0.005057146772742271, -0.0035239846911281347, -0.020437803119421005, 0.009127054363489151, -0.03713586926460266, 0.0035730197560042143, 0.00037389216595329344, -0.013612126000225544, 0.004671404603868723, -0.0284272450953722, 0.002915950259193778, 0.00868247076869011, -0.0036841656547039747, -0.034494511783123016, 0.007074121385812759, 0.005622684024274349, 0.028139572590589523, -0.016815748065710068, 0.005370970815420151, 0.010153521783649921, 0.008519019931554794, -0.0068910568952560425, -0.0023700266610831022, -0.015848124399781227, -0.00012422208965290338, 0.021183134987950325, 0.04526914656162262, -0.034912947565317154, -0.0006243794923648238, 0.04924425110220909, 0.01889483444392681, 0.0144882183521986, -0.012977940030395985, -0.0007551395683549345, 0.002301377709954977, -0.008231348358094692, 0.01749570108950138, -0.020673170685768127, -0.0019417874282225966, -0.00852555874735117, 0.007551395799964666, 0.009708937257528305, -0.007093735504895449, 0.0036024407017976046, 0.008976680226624012, -0.0017489163437858224, 0.010310433804988861, -0.028270332142710686, -0.00906821247190237, -0.022896092385053635, 0.01094461977481842, 0.008878611028194427, 0.0030957453418523073, -0.006011695601046085, -0.016266556456685066, 0.03258541598916054, 0.00868247076869011, 0.011441508308053017, -0.025668207556009293, -0.0142136225476861, -0.003079400397837162, 0.026661984622478485, -0.008858996443450451, -0.0031921807676553726, 0.012324139475822449, 0.003282078541815281, 0.013174079358577728, -0.019600939005613327, 0.039751067757606506, -0.018528705462813377, 0.021287743002176285, -0.007727921940386295, -0.011349976062774658, 0.013337530195713043, -0.009872387163341045, 0.015207399614155293, 0.023981401696801186, 0.013357143849134445, -0.02273918129503727, -0.006387630943208933, 0.004171247128397226, 0.00859093852341175, 0.014331306330859661, 0.007688693702220917, 0.006067268550395966, 0.004534106235951185, -0.010160059668123722, 0.01024505402892828, -0.014658207073807716, -0.006289560813456774, 0.011604958213865757, -0.02284378930926323, 0.02745961956679821, -0.008401336148381233, -0.008067898452281952, 0.002951909089460969, 0.015743516385555267, 0.026465844362974167, -0.005027725826948881, -0.03211468085646629, 0.007329103536903858, 0.012324139475822449, 0.004305276088416576, -0.008754388429224491, 0.0036416687071323395, -0.010140445083379745, -0.018502553924918175, 0.0002844032132998109, -0.0010150253074243665, -0.006851829122751951, -0.012938711792230606, 0.038443468511104584, -0.010637333616614342, -0.013357143849134445, 0.02949947863817215, 0.019496330991387367, 0.017717992886900902, -0.00900937058031559, -0.02691042795777321], '__retriever': 'VectorRetriever'}\n"
          ]
        }
      ]
    },
    {
      "cell_type": "code",
      "source": [
        "retriever_result"
      ],
      "metadata": {
        "colab": {
          "base_uri": "https://localhost:8080/"
        },
        "id": "Ug-1xKul0xcG",
        "outputId": "5e2746fd-e1b7-4c07-bc36-f65586f74519"
      },
      "execution_count": 11,
      "outputs": [
        {
          "output_type": "execute_result",
          "data": {
            "text/plain": [
              "RetrieverResult(items=[RetrieverResultItem(content='{\\'title\\': \\'Toy Story\\', \\'plot\\': \"A cowboy doll is profoundly threatened and jealous when a new spaceman figure supplants him as top toy in a boy\\'s room.\"}', metadata={'score': 0.98028564453125, 'nodeLabels': ['Movie'], 'id': '4:69ab0fa5-25bf-4962-9594-4278a50ea22f:0'}), RetrieverResultItem(content=\"{'title': 'Indian in the Cupboard, The', 'plot': 'On his ninth birthday a boy receives many presents. Two of them first seem to be less important: an old cupboard from his brother and a little Indian figure made of plastic from his best ...'}\", metadata={'score': 0.904388427734375, 'nodeLabels': ['Movie'], 'id': '4:69ab0fa5-25bf-4962-9594-4278a50ea22f:73'}), RetrieverResultItem(content=\"{'title': 'Powder', 'plot': 'A young bald albino boy with unique powers shakes up the rural community he lives in.'}\", metadata={'score': 0.899505615234375, 'nodeLabels': ['Movie'], 'id': '4:69ab0fa5-25bf-4962-9594-4278a50ea22f:35'})], metadata={'query_vector': [-0.035435985773801804, -0.014396687038242817, 0.0073225656524300575, -0.025249775499105453, -0.027721140533685684, -0.007034893147647381, -0.020751627162098885, -0.009127054363489151, 0.0012275103945285082, -0.021510036662220955, 0.014697435311973095, 0.0005226317443884909, 0.02284378930926323, -0.008767464198172092, -0.0019417874282225966, 0.033945322036743164, 0.027747292071580887, -0.005106181837618351, -0.007427173666656017, -0.001049349782988429, 0.00691720936447382, 0.008551710285246372, -0.0004789088561665267, -0.01941787451505661, 0.006678571924567223, 0.002056202618405223, 0.019012518227100372, -0.02626970410346985, 0.02239920385181904, 0.01886868290603161, 0.004485071171075106, 0.004677942488342524, 0.006453010719269514, -0.005688064265996218, -0.04474610462784767, -0.031068598851561546, 0.0009896905394271016, -0.01811027340590954, 0.003935879096388817, -0.007257185410708189, 0.013978254050016403, 0.027171948924660683, -0.016384240239858627, 0.006658957805484533, -0.023628350347280502, 0.016789596527814865, 0.012690267525613308, -0.017325712367892265, -0.010859626345336437, -0.0004956625052727759, 0.014122090302407742, 0.013389834202826023, -0.02124851569533348, -0.024595974013209343, 0.014226698316633701, -0.028061116114258766, -0.011160374619066715, -0.014344383031129837, 0.01705111749470234, -0.00359263364225626, 0.00045520858839154243, 0.015128943137824535, 0.008041745983064175, 0.013317915610969067, -0.008381722494959831, 0.0026789475232362747, -0.010388889349997044, -0.014684358611702919, -0.003828001907095313, -0.008878611028194427, 0.020084751769900322, 0.017194952815771103, 0.0021150445099920034, -0.00266750599257648, 0.015573527663946152, -0.0002457881346344948, -0.02123543992638588, 0.02262149751186371, 0.003772428724914789, -0.0016075319144874811, 0.03151318430900574, -0.025602826848626137, -0.02403370663523674, 0.012252220883965492, 0.013213307596743107, -0.002206576755270362, -0.013232922181487083, 0.023641426116228104, -0.028610309585928917, 0.02059471607208252, 0.0018600623589009047, 0.004501416347920895, 0.014305154792964458, 0.006665496155619621, -0.016567304730415344, 0.01833256520330906, -0.002559628803282976, 0.026204323396086693, -0.0016949777491390705, -0.035462137311697006, 0.005903818178921938, -0.010088141076266766, -0.016253480687737465, -0.0018682348309084773, 0.020110903307795525, 0.027642684057354927, 0.004710632376372814, 0.0018731383606791496, 0.01383441872894764, -0.006521659903228283, 0.011631110683083534, 0.011349976062774658, 0.029551781713962555, -0.028087269514799118, -0.013455213978886604, -0.015704287216067314, 0.01254643127322197, 0.002912681084126234, 0.004004527814686298, -0.010768094100058079, 0.02424292266368866, 0.023196840658783913, 0.007662541698664427, -3.961111360695213e-05, 0.0020218780264258385, 0.013703658245503902, -0.02264764904975891, -0.008139816112816334, -0.008048283867537975, 0.008728236891329288, 0.027930356562137604, 0.019352493807673454, 0.017848752439022064, -0.0007195891812443733, -0.03357919305562973, 0.008571323938667774, -0.032350048422813416, 0.015246626920998096, 0.007061045151203871, -0.017574157565832138, -0.0006730058812536299, 0.0017717992886900902, 0.0039424169808626175, 0.00520752090960741, -0.005452696233987808, 0.02017628215253353, 0.012533355504274368, 0.00863016676157713, -0.012906021438539028, 0.021379275247454643, -0.009571638889610767, 0.006050923373550177, 0.012925636023283005, -0.025681283324956894, 0.01410901453346014, 0.0023193571250885725, -0.022072304040193558, 0.008224810473620892, 0.011291134171187878, -0.03078092634677887, -0.005501731298863888, 0.0026658715214580297, 0.021078526973724365, -0.0033801484387367964, 0.009944305755198002, 0.02446521446108818, 0.006060730665922165, 0.004351042211055756, 0.00827057659626007, 0.007956751622259617, -0.005485386122018099, 0.012324139475822449, -0.034599121659994125, 0.034912947565317154, -0.009368960745632648, 0.009205510839819908, -0.014017482288181782, 0.0241383146494627, -0.020647019147872925, -0.019260961562395096, -0.03854807838797569, -0.01943095028400421, 0.002325895242393017, 0.0107288658618927, -0.012520279735326767, -0.014174394309520721, -0.009048598818480968, -0.024425985291600227, 0.00021514121908694506, 0.023209916427731514, 0.0032346779480576515, 0.02424292266368866, -0.027407316491007805, -0.018358716741204262, -0.6473147869110107, -0.031382422894239426, 0.0033016924280673265, -0.0019189044833183289, -0.001811027294024825, 0.006466086953878403, 0.014985106885433197, 0.0036972416564822197, -0.013429062440991402, 0.009976995177567005, -0.006603384856134653, 0.022556116804480553, -0.0101927500218153, -0.015717362985014915, -0.010585029609501362, 0.0009782490087673068, 0.03070247173309326, -0.02477903850376606, 0.02111775614321232, 0.014775890856981277, -0.011618034914135933, 0.010140445083379745, 0.0038901129737496376, 0.002152638044208288, 0.008656318299472332, 0.011892630718648434, 0.029237957671284676, 0.00279990048147738, -0.006283022463321686, 0.002123217098414898, -0.016711140051484108, 0.03697895631194115, -0.02370680496096611, 0.023419134318828583, 0.05450080707669258, -0.005292514804750681, -0.01400440651923418, 0.003981644753366709, 0.015625830739736557, 0.01034966204315424, -0.03208852931857109, -8.305309165734798e-05, 0.010323509573936462, -0.0332653671503067, -0.00868247076869011, 0.002479538321495056, 0.014069786295294762, -0.004060101229697466, -0.013755962252616882, -0.011637648567557335, 0.016031187027692795, 0.009839697740972042, 0.019496330991387367, 0.010330047458410263, 0.009656633250415325, 0.005707678385078907, 0.02531515434384346, 0.0007118252688087523, -0.010225439444184303, -0.011376128531992435, 0.014736662618815899, 0.006662226747721434, -0.012991015799343586, -0.008355570025742054, -0.024399833753705025, 0.027930356562137604, -0.004906772635877132, 0.0026201053988188505, 0.0022539771161973476, -0.030231734737753868, 0.008316341787576675, 0.02166694775223732, -0.011676876805722713, 0.016488848254084587, 0.008512482047080994, 0.036508217453956604, 0.031251661479473114, -0.004919848870486021, 0.0019973604939877987, 0.014710511080920696, 0.009813545271754265, 0.006207835394889116, -0.02853185310959816, -0.0009136861772276461, 0.04139864817261696, -0.014906651340425014, -0.016815748065710068, 0.009597791358828545, -0.003579557640478015, -0.010434655472636223, 0.01050657406449318, 0.03886190056800842, -0.02745961956679821, -0.017234180122613907, -0.003118628403171897, 0.0036841656547039747, -0.009028985165059566, 0.017744144424796104, -0.0039685689844191074, -0.04050947725772858, -0.013991330750286579, 0.00013872829731553793, -0.013860570266842842, 0.001198089448735118, -0.003909727092832327, 0.0142136225476861, 0.013873646035790443, 0.03378840908408165, 0.034259144216775894, -0.05533767491579056, 0.016763444989919662, 0.007302951533347368, 0.0032330434769392014, 0.005449426826089621, -0.011278058402240276, -0.024857494980096817, 0.017665689811110497, 0.0005169110372662544, 0.02412523701786995, -0.01561275590211153, 0.01575659215450287, 0.010186211206018925, 0.018397945910692215, -0.00873477477580309, -0.004857737571001053, -0.0005124161252751946, 0.0016140699153766036, 0.0017113228095695376, -0.020019371062517166, 0.02028089016675949, -0.0016263286815956235, -0.009852773509919643, 0.0219938475638628, -0.011886092834174633, 0.014187471009790897, 0.016253480687737465, 0.009924691170454025, -0.009362422861158848, 0.017861830070614815, -0.011788022704422474, -0.01910405047237873, 0.029368717223405838, -0.001537248375825584, 0.012585659511387348, 0.004442574456334114, -0.037162020802497864, -0.016894204542040825, 0.005704409442842007, -0.02551129460334778, 0.01281448919326067, -0.0012013583909720182, 0.0011090090265497565, 0.031591638922691345, -0.018201805651187897, 0.0026985614094883204, 0.012938711792230606, -0.009538949467241764, 0.003906457684934139, -0.0006113034323789179, -0.01282102707773447, 0.008002517744898796, 0.033945322036743164, -0.030754774808883667, -0.0017979512922465801, -0.02102622389793396, -0.018934061750769615, 0.0002498743706382811, 0.0037070487160235643, -0.020032446831464767, -0.018201805651187897, -0.013651354238390923, -0.023837566375732422, -0.009682784788310528, -0.0020741820335388184, -0.029682541266083717, 0.001730936812236905, -0.002013705438002944, -0.020516259595751762, 0.004674673546105623, -0.0037266628351062536, -0.012631425634026527, 0.0010297357803210616, 0.01879022642970085, 0.007727921940386295, 0.034389905631542206, -0.0011139125563204288, 0.036299001425504684, 0.019182506948709488, -0.015717362985014915, 0.014252850785851479, -0.009878925047814846, 0.0023455091286450624, -0.012311062775552273, -0.011846864596009254, -0.015534299425780773, -0.03548828884959221, 0.009820083156228065, 0.03559289872646332, 0.03454681858420372, 0.026688136160373688, 0.02058163844048977, -0.0032493884209543467, 0.018097197636961937, 0.009074750356376171, -0.0011139125563204288, -0.027930356562137604, -0.0032461194787174463, -0.01964016631245613, 0.014592827297747135, 0.0008491234038956463, 0.013069471344351768, -0.01035619992762804, 0.01211492344737053, -0.012572583742439747, 0.05674988403916359, 0.006135917734354734, -0.017090344801545143, 0.011219216510653496, -0.010977310128509998, 0.006498776841908693, -0.026557376608252525, -0.016972661018371582, 0.018907910212874413, -0.0013925950042903423, 0.0005467406590469182, -0.004334697034209967, 0.004383732099086046, -0.00708065927028656, 0.007708307821303606, -0.03852192312479019, -0.008342494256794453, -0.009571638889610767, 0.003811656730249524, 0.014435914345085621, 0.004158170893788338, 0.0069695133715868, 0.002399447839707136, 0.0010550705483183265, 0.04050947725772858, 0.012925636023283005, 0.011251905933022499, 0.013213307596743107, 0.011284596286714077, -0.01275564730167389, -0.015717362985014915, 0.014095938764512539, 0.005263093858957291, 0.02540668658912182, -0.007767149712890387, 0.026152020320296288, -0.010709252208471298, -0.015625830739736557, -0.01834564097225666, 0.012481051497161388, 0.0034782185684889555, -0.007231033407151699, 0.018855605274438858, -0.015586603432893753, 0.014239775016903877, 0.010931544005870819, 0.011729180812835693, 0.00533828092738986, 0.020110903307795525, 0.0015045583713799715, 0.043595414608716965, 0.016671912744641304, -0.013017167337238789, -0.013965178281068802, 0.0007604517159052193, 0.020137054845690727, -0.012618348933756351, 0.030963990837335587, 0.004383732099086046, -0.02629585564136505, 0.0005279438919387758, -0.0182279571890831, -0.0107223279774189, 0.013572897762060165, 0.011905706487596035, 0.006655688863247633, 0.013991330750286579, -0.053925465792417526, 0.004449112340807915, 0.01950940676033497, 0.007825992070138454, 0.007819454185664654, -0.03917572647333145, 0.01685497723519802, -0.0022523426450788975, 0.032559264451265335, -0.011801098473370075, -0.0019957260228693485, 0.017077269032597542, 0.006230718456208706, 0.0010632430203258991, -0.007381407544016838, 0.008505944162607193, -0.007224495522677898, 0.004828316625207663, -0.022477660328149796, 0.01545584388077259, -0.0018698694184422493, -0.021065451204776764, -0.028165724128484726, 0.01813642494380474, 0.015364311635494232, -0.0058188242837786674, -0.03486064076423645, -0.010715790092945099, -0.0139521025121212, -0.010977310128509998, -0.019117126241326332, -0.029760997742414474, 0.004583141300827265, 0.0006207018159329891, -0.013128314167261124, -0.0015552279073745012, -0.015547375194728374, 0.03462527319788933, 0.005514807067811489, -0.01865946501493454, 0.02017628215253353, -0.011559193022549152, 0.008054821752011776, 0.1297140121459961, -0.0070414310321211815, 0.007963289506733418, -0.01276218518614769, -0.009100902825593948, -0.015586603432893753, -0.013317915610969067, -0.02069932408630848, 0.030650166794657707, -0.019653242081403732, -0.02317068912088871, -0.02200692519545555, 0.022569192573428154, 0.016436543315649033, 0.016985736787319183, -0.013429062440991402, 0.01953555829823017, 0.0005618598079308867, 0.008022132329642773, -0.024269074201583862, -0.008185582235455513, 0.007701769936829805, -0.008604014292359352, 0.005920163355767727, -0.00029850078863091767, -0.016802672296762466, 0.003295154543593526, 0.04626292362809181, 0.004599486477673054, -0.03292539343237877, -0.004468726459890604, -0.015717362985014915, -0.006325519643723965, 0.005603070370852947, -0.008970142342150211, 0.005106181837618351, 0.004181053955107927, 0.011225754395127296, 0.022673800587654114, -0.0029796957969665527, 0.02404678240418434, 0.005825362168252468, 0.018698694184422493, -0.0033278444316238165, -0.0015993594424799085, 0.008002517744898796, -0.009584715589880943, 0.014945878647267818, -0.0019107318948954344, -0.038025036454200745, 0.02994406223297119, -0.019287114962935448, -0.0037103176582604647, -0.0019646703731268644, 0.01556045189499855, 0.0016582014504820108, -0.002793362597003579, -0.012572583742439747, -0.01962709054350853, -0.00361878564581275, -0.01865946501493454, -0.021313896402716637, 0.001306783757172525, -0.005563842132687569, -0.00927089061588049, -0.03873113915324211, -0.004916579462587833, -0.010140445083379745, 0.0030597862787544727, -0.032219287008047104, 0.0033572656102478504, -0.014396687038242817, -0.017351865768432617, -0.0008205196354538202, -0.0019973604939877987, 0.0011392473243176937, 0.010107755661010742, -0.03088553436100483, 0.003929340746253729, -0.002275225706398487, -0.004485071171075106, -0.03195776790380478, 0.009983533062040806, -0.024530593305826187, 0.002549821976572275, -0.01239605713635683, 0.02188923954963684, 0.014357458800077438, -0.018724845722317696, 0.002927391789853573, 0.015128943137824535, 0.02680581994354725, 0.007989441975951195, 0.0012618349865078926, 0.021967696025967598, -0.01961401477456093, 0.0036285927053540945, 0.015207399614155293, 0.014605903066694736, 0.02714579552412033, -0.011278058402240276, -0.018803302198648453, -0.01389979850500822, 0.012212992645800114, 0.004723708610981703, 0.00873477477580309, 0.012840641662478447, 0.004517761524766684, -0.021183134987950325, 0.006655688863247633, -0.004733515437692404, -0.0028260524850338697, -0.007034893147647381, -0.0104673458263278, 0.016488848254084587, -0.010061989538371563, 0.005230403970927, 0.015155095607042313, 0.0048446618020534515, -0.01661960780620575, -0.015534299425780773, -0.024177541956305504, 0.02050318382680416, 0.020986994728446007, -0.0018551588291302323, 0.008597476407885551, -0.003677627770230174, -0.02263457328081131, -0.027302708476781845, 0.027538076043128967, -0.018829453736543655, -0.01206915732473135, -0.015050487592816353, -0.013808266259729862, -0.028819525614380836, -0.00274923094548285, -0.013455213978886604, 0.0035305225756019354, 0.015102791599929333, -0.026138942688703537, -0.011519964784383774, -0.011794560588896275, -0.007479477673768997, -0.036115940660238266, 0.004390270449221134, -0.019980143755674362, -0.0171557255089283, 0.02404678240418434, -0.011572268791496754, 0.0037397388368844986, -0.013755962252616882, 0.00874131266027689, -0.03344843164086342, 0.019875533878803253, 0.025694359093904495, -0.0483027808368206, -0.007943675853312016, -0.005681526381522417, 0.014566674828529358, 0.017299560829997063, 0.04087560623884201, -0.011781484819948673, 0.013546746224164963, -0.01384749449789524, -0.0030581518076360226, 0.0015650349669158459, -0.006707992870360613, 0.00043763770372606814, -0.024190617725253105, 0.015142018906772137, 0.0251974705606699, 0.009238201193511486, 0.01974477432668209, 0.0054984618909657, -0.006658957805484533, 0.017613384872674942, 0.009185897186398506, -0.019234810024499893, -0.016802672296762466, 0.009748165495693684, 0.016593456268310547, -0.04213090240955353, -0.013625201769173145, -0.0024566552601754665, -0.02026781439781189, -0.012088770978152752, 0.023615272715687752, 0.021091604605317116, -0.012095308862626553, -0.0037658908404409885, 0.01641039177775383, -0.016567304730415344, 0.03399762511253357, 0.0010804053163155913, 0.021300820633769035, -0.003912996035069227, -0.0023357023019343615, 0.02114390768110752, 0.01703803986310959, 0.006011695601046085, 0.0032232364173978567, 0.017234180122613907, -0.013965178281068802, 0.011794560588896275, 0.0012847179314121604, 0.02586434781551361, -0.005057146772742271, -0.02015013061463833, 0.016240404918789864, -0.035226769745349884, -0.011284596286714077, -0.038443468511104584, -0.019993219524621964, -0.031147055327892303, -0.02640046365559101, -0.010807322338223457, -0.01244836114346981, 0.013651354238390923, -0.03261156752705574, -0.030833231285214424, 0.010931544005870819, -0.0005504182772710919, 0.03687434643507004, 0.009362422861158848, 0.010898853652179241, 0.0241383146494627, -0.039201878011226654, 0.0036874348297715187, 0.013442138209939003, 0.0031529527623206377, -0.015285855159163475, 0.020019371062517166, 0.01705111749470234, -0.000462972471723333, -0.001130257616750896, 0.005540959071367979, -0.0142136225476861, -0.021863088011741638, -0.04087560623884201, 0.0008752754074521363, -0.01609656773507595, 0.004151633009314537, -0.03993413224816322, -0.013442138209939003, 0.01302370522171259, 0.004932924639433622, -0.02242535725235939, -0.017548004165291786, -0.009414726868271828, -0.039751067757606506, -0.0246875062584877, 0.008113663643598557, -0.011696490459144115, 0.005589994136244059, 0.01629270799458027, -0.021183134987950325, 0.011225754395127296, -0.008080974221229553, 0.010160059668123722, 0.01652807556092739, -0.02200692519545555, 0.024543670937418938, 0.014187471009790897, 0.016331935301423073, 0.008675932884216309, -4.4897704356117174e-05, 0.016122719272971153, -0.008107125759124756, 0.0033736105542629957, 0.02564205415546894, 0.0067472211085259914, 0.013174079358577728, -0.002396178897470236, 0.0013729810016229749, 0.008022132329642773, 0.009715475142002106, -0.017548004165291786, -0.007956751622259617, 0.019980143755674362, -0.009048598818480968, 0.012487589381635189, 0.007557933684438467, -0.011820713058114052, -0.013925950042903423, -0.015272779390215874, -0.003948954865336418, -0.01994091458618641, 0.006642613094300032, 0.005975736305117607, 0.0033539964351803064, 0.0011760236229747534, -0.012422209605574608, -0.005537690129131079, 0.015468919649720192, 0.007806377951055765, -0.009074750356376171, 0.01739109307527542, 0.004674673546105623, -0.016881128773093224, 0.02017628215253353, -0.009342809207737446, 0.01270334329456091, -0.014906651340425014, -0.00019236035586800426, 0.03187931329011917, -0.014069786295294762, 0.013174079358577728, -0.012154150754213333, -0.01620117574930191, -0.01846332661807537, 0.012056080624461174, -0.017757222056388855, 0.008028670214116573, -0.012043004855513573, 0.001985918963328004, 0.019692471250891685, 0.006904133129864931, -0.04953192546963692, -0.02188923954963684, 0.014226698316633701, 0.023889869451522827, 0.005894011352211237, 0.024818265810608864, 0.001714591751806438, -0.003293519839644432, -0.02243843302130699, 0.02111775614321232, 0.005449426826089621, -0.01211492344737053, -0.0018191998824477196, -0.02058163844048977, 0.015808895230293274, -0.01943095028400421, -0.03070247173309326, -0.03700510784983635, 0.010088141076266766, -0.010545802302658558, 0.02672736346721649, 0.010650410316884518, -0.0005876031937077641, 0.008499406278133392, 0.024086009711027145, -0.01239605713635683, 0.02725040353834629, 0.0021967696957290173, -0.0032428503036499023, 0.022150760516524315, -0.029525630176067352, -0.02069932408630848, -0.01389979850500822, -0.009663171134889126, -0.0064203208312392235, -0.006181683391332626, -0.0332915224134922, -0.02059471607208252, 0.011519964784383774, -0.01867254264652729, 0.004691018257290125, -0.01088577788323164, 0.014632054604589939, 0.0279042050242424, -0.017783373594284058, -0.005083298776298761, 0.027511924505233765, 0.0013165907002985477, 0.024818265810608864, 0.009813545271754265, -0.010748480446636677, -0.004230089019984007, 0.005848245229572058, -0.004344504326581955, 0.010755018331110477, -7.774096593493596e-05, -0.026152020320296288, 0.015390463173389435, 0.014435914345085621, 0.010290819220244884, 0.009924691170454025, 0.01388672273606062, -0.025890499353408813, -0.03261156752705574, 0.0030712278094142675, 0.016384240239858627, 0.002136293100193143, 0.013030244037508965, -0.02382449060678482, -0.006132648326456547, -0.006132648326456547, 0.01684189960360527, -0.012827565893530846, -0.015128943137824535, 0.0015781109686940908, -0.004416422452777624, 0.004825047682970762, 0.002016974613070488, -0.021732328459620476, -0.00927089061588049, -0.006184952799230814, 0.01089231576770544, -0.023641426116228104, -0.007760611828416586, 0.023131461814045906, 0.020542411133646965, -0.035985179245471954, -0.013808266259729862, 0.016462696716189384, 0.01950940676033497, -0.0070152790285646915, -0.0076690795831382275, -0.01535123586654663, 0.0014963858993723989, 0.004959076642990112, -0.0030973798129707575, -0.022909168154001236, 0.007034893147647381, -0.004883889574557543, 0.010094679892063141, -0.04634137824177742, 0.02884567715227604, 0.011081918142735958, -0.018920985981822014, -0.004910041578114033, -0.001729302341118455, 0.003984914161264896, -0.02037242241203785, 0.006779910996556282, 0.011173450388014317, -0.0034847566857934, -0.02821802906692028, -0.019287114962935448, -0.017953360453248024, -0.01297140121459961, 0.041032519191503525, 0.006273215636610985, -0.010186211206018925, 0.026518147438764572, 0.2518962621688843, -0.008512482047080994, -0.012781799770891666, 0.03763275593519211, -0.0018845798913389444, -0.003308230545371771, 0.009780854918062687, -0.004177785012871027, -0.025079786777496338, -0.01109499391168356, 0.002791728125885129, 0.006508583668619394, -0.01565198414027691, 0.006806063000112772, -0.021313896402716637, -0.006292829755693674, -0.00533828092738986, 0.0031774702947586775, -0.00880015455186367, -0.009552025236189365, 0.028348788619041443, -0.016671912744641304, 0.016567304730415344, -0.026243550702929497, 0.014841270633041859, -0.026858124881982803, -0.0029094121418893337, -0.003481487510725856, 0.01800566539168358, 0.01442283857613802, -0.01727340929210186, -0.023314524441957474, 0.002221287228167057, -0.028767220675945282, -0.01705111749470234, -0.01654115319252014, -0.019182506948709488, 0.004089522175490856, 0.016331935301423073, 0.010630795732140541, -0.004073176998645067, -0.0033866865560412407, 0.002871818607673049, 0.00015088489453773946, 0.01442283857613802, 0.019130202010273933, -0.01663268357515335, 0.0031938154716044664, -0.000619067344814539, 0.014409762807190418, -0.03656052425503731, -0.026518147438764572, 0.026308931410312653, 0.03831270709633827, -0.0025236699730157852, 0.015181247144937515, 0.04336004704236984, 0.001471051131375134, -0.009963919408619404, 0.0005716668092645705, 0.00011043098493246362, 0.021483883261680603, -0.013291764073073864, 0.00713296327739954, -0.0219807717949152, 0.016789596527814865, -0.01243528537452221, 0.002873453078791499, 0.017404168844223022, -0.015285855159163475, 0.01909097470343113, -0.0005659460439346731, -0.018280262127518654, 0.001838813885115087, -0.011003462597727776, -0.02477903850376606, 0.02049010805785656, 0.0109903858974576, -0.011349976062774658, 0.020333195105195045, -0.004125481005758047, -0.0038345397915691137, -0.0005933239590376616, -0.016018111258745193, 0.002610298339277506, -0.02949947863817215, 0.009349347092211246, -0.00859093852341175, -0.011369590647518635, -0.002994406269863248, 0.007257185410708189, -0.016018111258745193, -5.4245010687736794e-05, -0.011631110683083534, -0.003893381915986538, 0.01227837335318327, -0.0004133245092816651, 0.020751627162098885, 0.009885462932288647, -0.011859940364956856, -0.01566505990922451, -0.01888175867497921, 0.02745961956679821, -0.0010853088460862637, -0.00538731599226594, -0.0037332007195800543, 0.009885462932288647, 0.0033703416120260954, 0.007884833961725235, 0.003981644753366709, -0.005795941222459078, -0.028244180604815483, 0.002231094054877758, -0.008486330509185791, -0.0071918051689863205, 0.021523112431168556, 0.025458991527557373, 0.0024991524405777454, 0.019548634067177773, -0.020333195105195045, 0.02619124762713909, -0.00906821247190237, 0.01868561841547489, 0.01950940676033497, 0.002208211226388812, -0.031487032771110535, -0.001103288377635181, 0.012840641662478447, 0.01291909720748663, -0.020869310945272446, -0.0023455091286450624, -0.027721140533685684, 0.02349758893251419, -0.008224810473620892, -0.001618973445147276, 0.0024713657330721617, 0.0020382229704409838, 0.0003371158672962338, 0.005737099330872297, 0.035435985773801804, 0.0036547447089105844, 0.017966438084840775, 0.0005933239590376616, -0.002654429990798235, 0.019587863236665726, -0.01265757717192173, 0.008434026502072811, -0.015050487592816353, -0.0023520472459495068, -0.008754388429224491, -0.02326222136616707, 0.002451751846820116, -0.00013668516476172954, 0.0045700655318796635, 0.0144882183521986, -0.00921858660876751, -0.02102622389793396, -0.03002251870930195, -0.003906457684934139, 0.0033474585507065058, -0.028270332142710686, 0.0027819210663437843, 0.013677505776286125, 0.0109903858974576, -0.002409254899248481, -0.0008045832510106266, -0.1662222295999527, 0.012834103778004646, 0.025589751079678535, -0.037266626954078674, 0.00863016676157713, -0.009761241264641285, 0.009793931618332863, 0.013585974462330341, -0.013572897762060165, -0.0029322952032089233, 0.028767220675945282, 0.010813860222697258, -0.015429691411554813, -0.005988812539726496, 0.011899168603122234, -5.056738154962659e-05, -0.02326222136616707, -0.015011259354650974, 0.0050309947691857815, 0.016776520758867264, 0.022569192573428154, 0.00525982491672039, -0.002930660732090473, 0.017744144424796104, -0.012572583742439747, 0.022033076733350754, 0.013769038021564484, 0.02918565459549427, -0.006050923373550177, -0.0029780613258481026, -0.015717362985014915, -0.03666513040661812, 0.011565730907022953, 0.025027481839060783, 0.019993219524621964, -0.0019630359020084143, -0.012736033648252487, -0.007074121385812759, -0.010048913769423962, 0.030231734737753868, -0.015364311635494232, 0.01714264787733555, 0.02080393210053444, 0.015024335123598576, -0.0017064192797988653, 0.020437803119421005, 0.007799839600920677, 0.023236069828271866, 0.015089714899659157, -0.01618809998035431, 0.008218271657824516, -0.031487032771110535, -0.011879554949700832, 0.0022768601775169373, 0.025132089853286743, 0.019038669764995575, 0.024373682215809822, 0.043281592428684235, -0.007629851810634136, -0.005965929478406906, 0.002245804760605097, -0.03133011981844902, -0.002531842328608036, -0.01410901453346014, -0.04783204197883606, -0.0182410329580307, 0.011271520517766476, 0.016606532037258148, -0.046498291194438934, 0.0057763271033763885, -0.023366829380393028, 0.021627720445394516, 0.002070913091301918, -0.006358209531754255, -0.007924062199890614, 0.036952804774045944, -0.011336900293827057, 0.008205195888876915, 0.011984162963926792, -0.0036612828262150288, 0.0027884591836482286, 0.02544591575860977, 0.007682155817747116, -0.023196840658783913, -0.01865946501493454, 0.017024964094161987, -0.003211794886738062, -0.00544615788385272, -0.023994477465748787, -0.022765332832932472, -0.0030189238023012877, -0.047910500317811966, -0.02981330268085003, -0.015325083397328854, -0.020450878888368607, 0.026544298976659775, -0.0025236699730157852, -0.008224810473620892, 0.021640796214342117, -0.0011940031545236707, 0.0010289185447618365, -0.0031120902858674526, -0.00863670464605093, 0.007374869659543037, 0.00039677516906522214, 0.008277114480733871, -0.025589751079678535, 0.008290190249681473, 0.021366199478507042, -0.020660094916820526, -0.015194322913885117, 0.010284281335771084, -0.0009153207065537572, 0.03533137962222099, -0.0006525745848193765, 0.01877715066075325, 0.010983848012983799, 0.005825362168252468, 0.018071046099066734, 0.0006055827252566814, 0.0450860820710659, -0.012095308862626553, -0.006884519010782242, 0.012899483554065228, -0.011742256581783295, -1.469774178985972e-05, -0.10094679147005081, -0.016175024211406708, 0.02585127204656601, 0.018476402387022972, -0.012683729641139507, 0.02424292266368866, -0.0024452137295156717, 0.010035837069153786, -0.0045439135283231735, 0.04108482226729393, 0.040718693286180496, -0.03015327826142311, 0.009238201193511486, -0.022477660328149796, 0.023667577654123306, -0.031068598851561546, 0.004096060059964657, -0.008806692436337471, 0.0014873960753902793, 0.009401651099324226, 0.007891371846199036, 0.010480421595275402, -0.021300820633769035, -0.002405985724180937, 0.013193693943321705, -0.01685497723519802, -0.027276556938886642, 0.006008426658809185, 0.013494442217051983, -0.011689952574670315, -0.00541346799582243, -0.022778408601880074, 0.02348451316356659, -0.0014040365349501371, -0.04064023867249489, 0.01865946501493454, -0.05102258920669556, 0.0021297549828886986, 0.023366829380393028, -0.04215705394744873, -0.005848245229572058, 0.002845666604116559, -0.021850012242794037, -0.008126740343868732, -0.01650192402303219, -0.0046877493150532246, -0.0006546177319251001, 0.01801874116063118, 0.004465457517653704, -0.02392909862101078, -0.029133349657058716, -0.004079714883118868, 0.0036285927053540945, 0.008401336148381233, 0.0386526845395565, 0.012402595020830631, 0.01736494153738022, 0.012781799770891666, -0.007656003814190626, 0.010604644194245338, -0.0015290759038180113, 0.003389955498278141, -0.020777778699994087, -0.004099329002201557, -0.0027704795356839895, 0.01109499391168356, 0.012376443482935429, 3.761906555155292e-05, 0.0038999198004603386, -0.031251661479473114, -0.039515700191259384, 0.023955250158905983, -0.032873086631298065, 0.0019303458975628018, -0.022896092385053635, -0.0050309947691857815, -0.0005700322799384594, -0.017561081796884537, 0.021836936473846436, -0.025289002805948257, 0.006011695601046085, -0.018920985981822014, 0.019260961562395096, -0.0010599740780889988, 0.04730900377035141, 0.015142018906772137, -0.009388575330376625, 0.004700825549662113, 0.01405671052634716, -0.004112405236810446, -0.02553744614124298, 0.0009602694772183895, -0.009872387163341045, -0.0069956653751432896, -0.024543670937418938, 0.022072304040193558, -0.01782260090112686, -0.004910041578114033, 0.025576675310730934, -0.0246875062584877, -0.0139521025121212, -0.0251974705606699, -0.04848584532737732, 0.02157541550695896, 0.01650192402303219, 0.009205510839819908, 7.79963520471938e-05, -0.015939656645059586, 0.02918565459549427, -0.020529335364699364, -0.0013141389936208725, -0.015795819461345673, -0.0067210691049695015, 0.012794875539839268, -0.02017628215253353, -0.015495071187615395, -0.03300384804606438, -0.024752886965870857, 0.025184394791722298, 0.015155095607042313, -0.0006881250301375985, -0.011454584077000618, -2.857184654203593e-06, 0.007074121385812759, 0.015364311635494232, 0.018044892698526382, -0.01244836114346981, 0.03153933584690094, 0.012690267525613308, 0.0038051188457757235, -0.013559821993112564, -0.028819525614380836, 0.013965178281068802, -0.04202629625797272, -0.010741941630840302, 0.005998619366437197, -0.0012275103945285082, -0.009996609762310982, -0.01104268990457058, 0.015194322913885117, 0.015102791599929333, 0.004769474733620882, -0.01389979850500822, -0.023471437394618988, 0.00514867901802063, -0.02458289824426174, 0.000259068445302546, 0.0006664678803645074, -0.0032624644227325916, 0.00713296327739954, 0.023641426116228104, 0.01695958524942398, 0.008159429766237736, 0.022556116804480553, 0.0008646511705592275, -0.008264037780463696, -0.02360219694674015, -0.023039929568767548, 0.006714531220495701, -0.01431823056191206, 0.008224810473620892, -0.004203937016427517, 0.004782550502568483, 0.0011506888549774885, 0.026988884434103966, -0.023026853799819946, 0.01748262532055378, 0.006217642687261105, -0.023196840658783913, 0.01576966792345047, 0.0241513904184103, -0.005057146772742271, -0.0035239846911281347, -0.020437803119421005, 0.009127054363489151, -0.03713586926460266, 0.0035730197560042143, 0.00037389216595329344, -0.013612126000225544, 0.004671404603868723, -0.0284272450953722, 0.002915950259193778, 0.00868247076869011, -0.0036841656547039747, -0.034494511783123016, 0.007074121385812759, 0.005622684024274349, 0.028139572590589523, -0.016815748065710068, 0.005370970815420151, 0.010153521783649921, 0.008519019931554794, -0.0068910568952560425, -0.0023700266610831022, -0.015848124399781227, -0.00012422208965290338, 0.021183134987950325, 0.04526914656162262, -0.034912947565317154, -0.0006243794923648238, 0.04924425110220909, 0.01889483444392681, 0.0144882183521986, -0.012977940030395985, -0.0007551395683549345, 0.002301377709954977, -0.008231348358094692, 0.01749570108950138, -0.020673170685768127, -0.0019417874282225966, -0.00852555874735117, 0.007551395799964666, 0.009708937257528305, -0.007093735504895449, 0.0036024407017976046, 0.008976680226624012, -0.0017489163437858224, 0.010310433804988861, -0.028270332142710686, -0.00906821247190237, -0.022896092385053635, 0.01094461977481842, 0.008878611028194427, 0.0030957453418523073, -0.006011695601046085, -0.016266556456685066, 0.03258541598916054, 0.00868247076869011, 0.011441508308053017, -0.025668207556009293, -0.0142136225476861, -0.003079400397837162, 0.026661984622478485, -0.008858996443450451, -0.0031921807676553726, 0.012324139475822449, 0.003282078541815281, 0.013174079358577728, -0.019600939005613327, 0.039751067757606506, -0.018528705462813377, 0.021287743002176285, -0.007727921940386295, -0.011349976062774658, 0.013337530195713043, -0.009872387163341045, 0.015207399614155293, 0.023981401696801186, 0.013357143849134445, -0.02273918129503727, -0.006387630943208933, 0.004171247128397226, 0.00859093852341175, 0.014331306330859661, 0.007688693702220917, 0.006067268550395966, 0.004534106235951185, -0.010160059668123722, 0.01024505402892828, -0.014658207073807716, -0.006289560813456774, 0.011604958213865757, -0.02284378930926323, 0.02745961956679821, -0.008401336148381233, -0.008067898452281952, 0.002951909089460969, 0.015743516385555267, 0.026465844362974167, -0.005027725826948881, -0.03211468085646629, 0.007329103536903858, 0.012324139475822449, 0.004305276088416576, -0.008754388429224491, 0.0036416687071323395, -0.010140445083379745, -0.018502553924918175, 0.0002844032132998109, -0.0010150253074243665, -0.006851829122751951, -0.012938711792230606, 0.038443468511104584, -0.010637333616614342, -0.013357143849134445, 0.02949947863817215, 0.019496330991387367, 0.017717992886900902, -0.00900937058031559, -0.02691042795777321], '__retriever': 'VectorRetriever'})"
            ]
          },
          "metadata": {},
          "execution_count": 11
        }
      ]
    },
    {
      "cell_type": "code",
      "source": [
        "query_text = \"A movie about a shooting incident.\"\n",
        "retriever_result = retriever.search(query_text=query_text, top_k=3)\n",
        "print(retriever_result)"
      ],
      "metadata": {
        "colab": {
          "base_uri": "https://localhost:8080/"
        },
        "id": "zZ8yMjQL2b4L",
        "outputId": "05c0840b-98ab-4aa0-90b9-400d9f3f51b2"
      },
      "execution_count": 12,
      "outputs": [
        {
          "output_type": "stream",
          "name": "stdout",
          "text": [
            "items=[RetrieverResultItem(content=\"{'title': 'City Hall', 'plot': 'The accidental shooting of a boy in New York leads to an investigation by the Deputy Mayor, and unexpectedly far-reaching consequences.'}\", metadata={'score': 0.93072509765625, 'nodeLabels': ['Movie'], 'id': '4:69ab0fa5-25bf-4962-9594-4278a50ea22f:109'}), RetrieverResultItem(content=\"{'title': 'Usual Suspects, The', 'plot': 'A sole survivor tells of the twisty events leading up to a horrific gun battle on a boat, which begin when five criminals meet at a seemingly random police lineup.'}\", metadata={'score': 0.930206298828125, 'nodeLabels': ['Movie'], 'id': '4:69ab0fa5-25bf-4962-9594-4278a50ea22f:65'}), RetrieverResultItem(content=\"{'title': 'Nick of Time', 'plot': 'An unimpressive, every-day man is forced into a situation where he is told to kill a politician to save his kidnapped daughter.'}\", metadata={'score': 0.9132537841796875, 'nodeLabels': ['Movie'], 'id': '4:69ab0fa5-25bf-4962-9594-4278a50ea22f:100'})] metadata={'query_vector': [-0.015782145783305168, -0.005749857984483242, -0.0075477007776498795, -0.02754748798906803, -0.02102990262210369, 0.009633846580982208, -0.0043731313198804855, -0.013747829012572765, -0.009134985506534576, -0.02246817760169506, 0.025681618601083755, -0.005996048916131258, -0.00234529422596097, -0.006336181424558163, 0.027962125837802887, -0.0006247909041121602, 0.0358402393758297, -0.018425460904836655, 0.013223053887486458, -0.029335612431168556, -0.0029316176660358906, 0.01601537875831127, -0.0057854908518493176, 0.03495913743972778, 0.011473800987005234, -0.00940709188580513, -0.002886266680434346, -0.020628223195672035, -0.0005110084894113243, -0.008305709809064865, -0.0019144597463309765, -0.012024492025375366, 0.0032118221279233694, -0.005328741390258074, -0.016404101625084877, 0.0037187812849879265, 0.00980229303240776, -0.03252314031124115, 0.0072561586275696754, -0.013223053887486458, 0.018593907356262207, -0.003589207073673606, -0.010359462350606918, -0.02954293228685856, -0.010534387081861496, -0.003968211822211742, 0.02101694606244564, -0.008927666582167149, -0.03511462360620499, 0.0027048627380281687, 0.015302720479667187, 0.003122739726677537, -0.03964972496032715, -0.03459632769227028, 0.019889649003744125, 0.01045016385614872, -0.010910152457654476, -0.006783212535083294, 0.02316787838935852, -0.014888082630932331, -0.010229888372123241, -0.008461199700832367, -0.020407946780323982, 0.007729104720056057, -0.010514951311051846, -0.0019517123000696301, -0.018231099471449852, 0.010761142708361149, -0.013197138905525208, 0.003061191877350211, 0.031460631638765335, 0.019747117534279823, 0.017064930871129036, -0.00433749845251441, 0.022105369716882706, -0.014603019692003727, -0.010579738765954971, 0.004052435047924519, 0.018490247428417206, 0.011551545932888985, 0.023349281400442123, -0.013125873170793056, -0.020628223195672035, 0.046594906598329544, 0.015186103992164135, -0.01882714033126831, -0.024411791935563087, 0.032212160527706146, 0.005150577053427696, 0.005759575869888067, 0.022792112082242966, 0.005400007590651512, 0.011013812385499477, -0.002836056752130389, 0.00611914461478591, 0.017635056748986244, 0.009873558767139912, 0.016391145065426826, -0.007165456656366587, -0.03703232482075691, -0.00972454808652401, -0.003683148417621851, -0.014654848724603653, -0.0032102023251354694, -0.008662039414048195, -0.0033656915184110403, 0.014188381843268871, 0.0030352771282196045, 0.020122883841395378, -0.00436341343447566, -0.02108173258602619, -0.01658550649881363, 0.02097807265818119, -0.04193023219704628, -0.0029510539025068283, -0.005024242214858532, 0.012840809300541878, -0.025565002113580704, -0.0024327568244189024, -0.036488112062215805, 0.019241778180003166, 0.014577104710042477, -0.0019824861083179712, -0.016883525997400284, 0.02469685487449169, -0.003508223220705986, -0.006822085008025169, -0.01585988886654377, 0.03381888195872307, -0.016417058184742928, 0.01446048729121685, -0.003806243883445859, 0.012743628583848476, -0.0002903273270931095, -0.02677004225552082, 0.015004700049757957, -0.029931655153632164, 0.03690275177359581, -0.03200484439730644, -0.03482956066727638, 0.028765486553311348, 0.019151076674461365, -0.0435369536280632, -0.004454115405678749, -0.004470312036573887, 0.013683042488992214, 0.01745365373790264, 0.01591171883046627, 0.0181015245616436, 0.006750819273293018, 0.016922399401664734, -0.009815250523388386, 0.008668518625199795, -0.014823295176029205, 0.006271394435316324, -0.0007414077408611774, -0.01576918736100197, -0.005069592967629433, -0.013397978618741035, -0.004243556875735521, 0.0107805784791708, -0.01150619424879551, 0.002887886483222246, 0.015030614100396633, 0.03231582045555115, 0.02030428685247898, 0.007482913788408041, -0.02309013344347477, 0.0032733697444200516, -0.01725929230451584, -0.002758312039077282, 0.04415890946984291, -0.0108324084430933, 0.018503203988075256, -0.006997010204941034, 0.008746262639760971, 0.02323266491293907, 0.02324562333524227, -0.01413655187934637, -0.0073274243623018265, -0.0179589930921793, 0.016119038686156273, 0.03032037802040577, 0.021366795524954796, -0.032160330563783646, 0.01486216764897108, -0.0007446471136063337, -0.03107190877199173, -0.008234444074332714, -0.0015581304905936122, -0.00560084730386734, -0.010949024930596352, 0.011570981703698635, -0.030138973146677017, -0.6737861633300781, -0.015043571591377258, -0.00029964049463160336, 0.016067208722233772, -0.00864908192306757, 0.027780720964074135, 0.013488681055605412, 0.019747117534279823, -0.011940267868340015, 0.010009611956775188, -0.010417770594358444, 0.01817926950752735, 0.019721202552318573, -0.011836608871817589, -0.019760075956583023, -0.027029192075133324, -0.01263349037617445, 0.011149865575134754, -0.019941478967666626, -1.0686080713639967e-05, -0.0008183424361050129, 0.030890503898262978, -0.012128151021897793, -0.0076902322471141815, 0.02381574921309948, 0.017648015171289444, 0.013106436468660831, -0.03389662876725197, -0.012866724282503128, 0.0077679771929979324, -0.015613698400557041, 0.01878826878964901, 0.00972454808652401, 0.017738716676831245, 0.04104912653565407, -0.009134985506534576, 0.00020043518452439457, 0.029853910207748413, 0.015678485855460167, 0.027936210855841637, -0.006368575152009726, 0.028350848704576492, 0.026251746341586113, -0.012367863208055496, -0.0024943044409155846, -0.009096113033592701, 0.025720492005348206, -0.010761142708361149, 0.0361512191593647, -0.004288908094167709, 0.013592340052127838, 0.03371522203087807, -0.004816923290491104, 0.008033604361116886, -0.009439485147595406, 0.0050857895985245705, 0.02389349415898323, 0.01887897029519081, 0.001287644263356924, -0.00651758536696434, -0.029750250279903412, 0.0181403961032629, -0.012471523135900497, 0.0032150615006685257, -0.01151267345994711, 0.029827995225787163, 0.0013289459748193622, 0.013916275463998318, 0.001150781405158341, -0.029931655153632164, 0.013501638546586037, 0.01653367653489113, -0.005335220135748386, -0.02320674993097782, 0.00831866730004549, 0.02302534691989422, 0.025085577741265297, 0.001484435168094933, 0.002968870336189866, -0.002772889332845807, -0.006776733789592981, -0.010676919482648373, -0.007469956297427416, 0.012814894318580627, 0.004062152933329344, 0.015743272379040718, -0.02307717688381672, 0.0024959242437034845, 0.02167777344584465, -0.008027125149965286, -0.01010679267346859, -0.006086750887334347, -0.018917841836810112, -0.00975046306848526, -0.013592340052127838, 0.012899117544293404, 0.005409725476056337, 0.011389577761292458, 0.019682331010699272, -0.023297453299164772, -0.011402535252273083, -0.012840809300541878, -0.007022925186902285, 0.013223053887486458, -0.0024327568244189024, 0.0030158408917486668, -0.00522832153365016, -0.006925744470208883, 0.044418055564165115, -0.006997010204941034, 0.016106080263853073, -0.003051473991945386, -0.007541222032159567, -0.018334757536649704, 0.0009531806572340429, -0.026925532147288322, 0.028532251715660095, 0.025798235088586807, 0.020122883841395378, -0.005749857984483242, 0.005723943002521992, -0.013605297543108463, 0.008040082640945911, 0.0016366848722100258, -0.0041560945101082325, 0.010022569447755814, 0.0005644579068757594, -0.00902484729886055, -0.021353838965296745, -0.015108359046280384, 0.003255553310737014, -0.008040082640945911, 0.02237747423350811, -0.00558141153305769, 0.00969863310456276, -0.011240567080676556, 0.007832763716578484, 0.00023161398712545633, 0.013644170016050339, -0.024152642115950584, -0.021314965561032295, -0.004651715978980064, 0.013158266432583332, -0.0011912733316421509, -0.00800121109932661, -0.021936923265457153, -0.010314111597836018, 0.005617044400423765, -0.01654663309454918, 0.019863734021782875, -0.004036238417029381, -0.01045664306730032, 0.013670084998011589, 0.012361384928226471, -0.004557774867862463, 0.003861312987282872, -0.021314965561032295, -0.022105369716882706, -0.011596896685659885, -0.009199772961437702, 0.02016175538301468, 0.007884593680500984, -0.017842376604676247, 0.003754414152354002, 0.012005055323243141, -0.03247131034731865, 0.022830985486507416, 0.0008462818805128336, -0.012562224641442299, -0.01549708191305399, 0.016883525997400284, -0.0252281092107296, -0.010897195897996426, 0.030735015869140625, 0.0015516517451032996, 0.02824718877673149, -0.008331624791026115, 0.01601537875831127, 0.004026520065963268, 0.00792346615344286, -0.006028442643582821, 0.006549979094415903, -0.013197138905525208, 0.01043072808533907, -0.003738217521458864, 0.029957570135593414, 0.008551901206374168, 0.02102990262210369, -0.030786843970417976, 0.022273816168308258, -0.000388722779462114, 0.015017656609416008, -0.028765486553311348, 7.789640221744776e-05, -0.011240567080676556, 0.013903317973017693, 0.004214402753859758, 0.0215611569583416, 0.011972662061452866, 0.01666324958205223, 0.022960558533668518, -0.01126000378280878, 0.015186103992164135, 0.004538338631391525, -0.0031211201567202806, -0.02600555494427681, -0.004016802180558443, -0.03962380811572075, 0.03392254188656807, -0.0051311408169567585, 0.009821728803217411, -0.016183825209736824, 0.00036989402724429965, -0.0009596594027243555, -0.006504627875983715, 0.009867080487310886, -0.00369286653585732, 0.010651004500687122, -0.009394134394824505, -0.02167777344584465, 0.0030644312500953674, -0.010391855612397194, 0.0020375552121549845, -0.005510145332664251, -0.013540510088205338, -0.004275950603187084, 0.02298647351562977, 0.017544355243444443, 0.02232564613223076, -0.01304164994508028, -0.00834458228200674, 0.02162594348192215, -0.02026541531085968, 0.011875481344759464, 0.007133062928915024, -0.019306564703583717, 0.0010608892189338803, 0.00934878271073103, 0.022947601974010468, 0.0002585411421023309, -0.008921188302338123, 0.03044995106756687, 0.025007832795381546, -0.033559732139110565, 0.014499359764158726, -0.021496370434761047, 0.029283782467246056, 0.003806243883445859, -0.012905596755445004, 0.00398764805868268, -0.025150364264845848, 0.0020796668250113726, 0.0026886658743023872, 0.016183825209736824, -0.009154421277344227, -0.012432650662958622, 0.00455129612237215, -0.006349138915538788, 0.026925532147288322, 0.02169073186814785, 0.0011256764410063624, 0.005710985511541367, 0.027988040819764137, 0.004243556875735521, -0.004933540243655443, -0.005331980995833874, 0.008603731170296669, -0.0006624484085477889, 0.00649167038500309, -0.015471166931092739, -0.0025040225591510534, -0.00969863310456276, 0.0011378240305930376, 0.012575182132422924, -0.00012967549264431, 0.014317955821752548, 0.016417058184742928, 0.01583397574722767, 0.01413655187934637, -0.010424249805510044, -0.01947501115500927, -0.022662539035081863, 0.01198561955243349, 0.01296390499919653, -0.01873643882572651, -0.011195216327905655, -0.013955147936940193, -0.014745551161468029, -0.022675495594739914, 0.027314255014061928, -0.015756230801343918, 0.037317387759685516, -0.012490958906710148, 0.02022654190659523, -0.01122760958969593, -0.02023950032889843, 0.02104286104440689, -0.0018804464489221573, 0.001390493824146688, -0.005199167411774397, -0.001443943241611123, -0.013799658976495266, 0.008849922567605972, -0.023258579894900322, -0.0006183121586218476, 0.018542077392339706, 0.030605440959334373, -0.008182615041732788, 0.0066147660836577415, -0.005189449060708284, 0.014317955821752548, -0.011843087151646614, -0.010139185935258865, 0.003010981949046254, 0.002925138920545578, -0.0005729611730203032, -0.010495515540242195, -0.011966182850301266, 0.011266482062637806, -0.003932578954845667, 0.0033462552819401026, -0.018192226067185402, -0.005727182608097792, -0.01652071811258793, 0.11226314306259155, 0.019954435527324677, 0.019824862480163574, 0.01298334077000618, -0.023349281400442123, -0.021379753947257996, -0.013242489658296108, -0.009594974108040333, 0.011843087151646614, -0.007489392533898354, 0.006647159811109304, -0.0001446575188310817, 0.01792011968791485, 0.002832817379385233, 0.01803673803806305, -0.004133419133722782, 0.012147586792707443, 0.0008333244477398694, 0.007793891709297895, -0.048771753907203674, -0.015445251949131489, -0.0023209990467876196, 0.03335241600871086, -0.012374342419207096, -0.024917131289839745, -0.04612843692302704, 0.01602833718061447, 0.0215741153806448, -0.0016374947736039758, -0.0034790688659995794, -0.03954606503248215, 0.009854122996330261, -0.007651360239833593, -0.015561869367957115, -0.005879431962966919, -0.01722041890025139, 0.014732593670487404, -0.006336181424558163, 0.037887513637542725, -0.013721914030611515, 0.015095401555299759, -0.009160900488495827, 0.017207462340593338, -0.014965827576816082, -0.0006567795644514263, -0.008331624791026115, 0.007171935401856899, 0.020006265491247177, 0.00014334153092931956, 0.003942296840250492, 0.03423352167010307, 0.016779866069555283, -0.015237933024764061, 0.0022772676311433315, 0.0034790688659995794, -0.0031065428629517555, 0.010579738765954971, -0.010521430522203445, -0.016144953668117523, 0.03298960626125336, -0.009620889090001583, -0.028454508632421494, -0.013449808582663536, -0.015186103992164135, -0.001171837211586535, -0.03457041457295418, -0.0033090028446167707, -0.017000142484903336, 0.001702281879261136, -0.01305460650473833, 0.006582372356206179, -0.016041293740272522, -0.03177160769701004, -0.021094689145684242, 0.010618611238896847, -0.009368219412863255, 0.011072120629251003, -0.0060608359053730965, -0.01652071811258793, 0.025888938456773758, -0.017466610297560692, -0.0004243557050358504, 0.0029526734724640846, -0.009037804789841175, 0.0006377483368851244, 0.011493236757814884, -0.016468888148665428, -0.010365940630435944, -0.008357539772987366, 0.011039727367460728, 0.006294069811701775, 0.0011030009482055902, 0.02456727996468544, -0.013210096396505833, 0.016170868650078773, 0.0070099676959216595, 0.008253880776464939, 0.03462224453687668, 0.014641891233623028, 0.013955147936940193, 0.02088737115263939, -0.032082587480545044, -0.01649480313062668, -0.003900185227394104, -0.0064268833957612514, -0.0359957292675972, -0.01333319116383791, 0.022597750648856163, 0.0005838940269313753, 0.0021444540470838547, -0.004674391355365515, -0.020602308213710785, 0.014965827576816082, -0.030838673934340477, 0.015160189010202885, 0.019747117534279823, 0.01732407882809639, 0.023388154804706573, -0.0006203367956914008, 0.005895629059523344, -0.012899117544293404, -0.024308132007718086, 0.0075930519960820675, 0.02819535881280899, 0.009880037978291512, -0.013838531449437141, 0.009834686294198036, -0.03109782375395298, -0.0016204881248995662, 0.007379254326224327, -0.011370141990482807, 0.01731112226843834, 0.0021023424342274666, 0.010942546650767326, -0.02235156111419201, -0.03537377342581749, -0.0060316817834973335, 0.005973373539745808, -0.0012260964140295982, -0.03400028496980667, -0.027962125837802887, -0.014032892882823944, -0.00042395078344270587, -0.0010001513874158263, -0.003132457844913006, -0.01659846305847168, -0.014991742558777332, 0.004130179528146982, -0.009620889090001583, -0.004078350029885769, -0.0008835344924591482, -0.004146376624703407, -0.031331054866313934, -0.0007567947031930089, -0.019876692444086075, -0.051648300141096115, -0.02458023838698864, -0.005312544759362936, 0.0144864022731781, 0.021898049861192703, 0.050896771252155304, -0.0028295780066400766, 0.030475866049528122, 0.0011143386363983154, -0.0036086433101445436, 0.03469998762011528, -0.004648476839065552, -0.009225687943398952, -0.028039870783686638, 0.034285351634025574, 0.03037220798432827, -0.008305709809064865, 0.030683185905218124, -0.0005170822842046618, 0.005072832573205233, 0.011797736398875713, 0.017712801694869995, 0.016080165281891823, 0.010534387081861496, -0.0063523780554533005, -0.020537519827485085, -0.013890360482037067, -0.005759575869888067, -0.0067184255458414555, -0.011616332456469536, -0.011214652098715305, 0.007742062211036682, -0.015263848006725311, 0.004580450244247913, -0.004233838990330696, 0.017855333164334297, -0.006731383036822081, -0.01878826878964901, -0.013812616467475891, 0.0020084010902792215, -0.008130785077810287, -0.009115549735724926, -0.0020391750149428844, 0.03102007880806923, 0.008772177621722221, 0.01864573545753956, 0.012918554246425629, -0.009925388731062412, 0.016481846570968628, -0.01298981998115778, 0.05190744996070862, -0.0011807454284280539, -0.0007612488116137683, 0.012937990017235279, -0.009232166223227978, -0.024204472079873085, -0.03236765041947365, -0.02240338921546936, -0.021846219897270203, 0.028376763686537743, -0.011719992384314537, 0.001556510804221034, 0.012018012814223766, -0.011149865575134754, -0.014369785785675049, -0.005241279024630785, -0.008117827586829662, 0.026873702183365822, 0.015730315819382668, 0.03192709758877754, 0.013994020409882069, -0.01585988886654377, -0.015471166931092739, 0.04786473140120506, 0.0001774560078047216, 0.016779866069555283, 0.01952684111893177, 0.004496227018535137, 0.008215008303523064, 0.015082444064319134, -0.020822584629058838, 0.008584294468164444, -0.03488139063119888, -0.02460615336894989, 0.00864908192306757, 0.03107190877199173, 0.0003988457901868969, -0.03542560338973999, -0.006763776298612356, -0.0034272391349077225, 0.0071265846490859985, 0.0014099299442023039, 0.031486544758081436, 0.0010568400612100959, -0.03905368223786354, -0.01659846305847168, 0.01407176535576582, -0.027184680104255676, 0.011480279266834259, -0.013773743994534016, -0.02095215767621994, 0.009925388731062412, -0.008545422926545143, -0.0050857895985245705, -0.011409013532102108, -0.008947103284299374, 0.02811761572957039, -0.017829418182373047, -0.011804215610027313, 0.013929232954978943, 0.00907667726278305, -0.006193649955093861, -0.016909440979361534, 0.014434573240578175, 0.02674412727355957, 0.003602164564654231, 0.012432650662958622, 0.004327780567109585, 0.0039358180947601795, 8.032591722439975e-05, 0.030216718092560768, -0.015756230801343918, -0.043718356639146805, -0.004178769886493683, 0.013981062918901443, 0.0062066069804131985, 0.013994020409882069, 0.012173501774668694, -0.012782501056790352, -0.016870569437742233, -0.008888794109225273, -0.024385876953601837, -0.010916631668806076, 0.00597985228523612, -0.010003132745623589, -0.023660261183977127, -0.010618611238896847, -0.014032892882823944, 0.008856400847434998, 0.013281362131237984, 0.00907019805163145, 0.02378983423113823, 0.047994308173656464, -0.04504001513123512, -0.004531859885901213, -0.011804215610027313, 0.020667094737291336, -0.020485691726207733, -0.0035049838479608297, 0.0017168589401990175, -0.0052056461572647095, 0.035010967403650284, -0.01043720729649067, -0.01744069531559944, -0.022234942764043808, -0.007832763716578484, -0.002003542147576809, 0.015782145783305168, -0.007696710992604494, 0.024943046271800995, 0.017777588218450546, -0.021820304915308952, -0.010340026579797268, -0.0036475155502557755, 0.026497935876250267, -0.021872134879231453, -0.007554179523140192, 0.030683185905218124, -0.0022367758210748434, 0.00371554191224277, -0.016961270943284035, 0.016507761552929878, -0.005017763469368219, -0.015328635461628437, 0.002865210874006152, 0.01737590879201889, 0.01378670148551464, -0.006170974113047123, -0.005208885297179222, -0.023439984768629074, -0.0058859107084572315, -0.023439984768629074, 0.014434573240578175, -0.0050857895985245705, 0.0010940927313640714, 0.025124449282884598, 0.0253576822578907, -0.00796881690621376, 0.017168588936328888, 0.007405169308185577, -0.006038160528987646, 0.009283996187150478, -0.032937776297330856, -0.02677004225552082, -0.02534472569823265, -0.016948314383625984, 0.008480635471642017, 0.010463121347129345, -0.012808416038751602, -0.0253317691385746, 0.005432400852441788, -0.05224434286355972, 0.012879681773483753, -0.0289209745824337, 0.003569770837202668, 0.02377687767148018, 0.011421971023082733, -0.014032892882823944, 0.010618611238896847, 0.0004846887313760817, -0.003618361195549369, -0.010113270953297615, -0.008493592962622643, 0.025046704337000847, -0.006566175725311041, 0.02538359723985195, 0.017013100907206535, 0.006776733789592981, 0.005490709561854601, -0.012043927796185017, 0.012270682491362095, 0.0033138617873191833, 0.0011580699356272817, -0.024826427921652794, 0.0022999432403594255, 0.0033689308911561966, -0.010709312744438648, 0.0036572336684912443, 0.008746262639760971, -0.0075930519960820675, -0.030579525977373123, -0.010929589159786701, 0.01959162764251232, 0.01807560957968235, -0.027651147916913033, -0.0009499412844888866, 0.02443770505487919, -0.00973102729767561, -0.012672362849116325, -0.03742104768753052, -0.007826285436749458, 0.006919265724718571, -0.02829901874065399, 0.015263848006725311, 0.007003488950431347, -0.005727182608097792, -0.0008592393132857978, -0.0034920263569802046, -0.010385377332568169, -0.007482913788408041, -0.00029235193505883217, -0.008338104002177715, -0.003372170263901353, -0.019708245992660522, -0.0013346149353310466, 0.02229973115026951, -0.007437562569975853, 0.022157199680805206, -0.009899473749101162, -0.003381888149306178, -0.008662039414048195, -0.004068631678819656, -0.031331054866313934, 0.016131995245814323, -0.008292753249406815, -0.0361512191593647, 0.0034304785076528788, -0.003498505102470517, -0.020369073376059532, -0.0018286168342456222, -0.01160337496548891, 0.01727224886417389, -0.029335612431168556, -0.014991742558777332, -0.02529289573431015, -0.002779367845505476, -0.04027168080210686, 0.010910152457654476, -0.00398440845310688, -0.0254224706441164, 0.042215295135974884, 0.2089773714542389, 0.005484230816364288, -0.01798490807414055, 0.029931655153632164, -0.02754748798906803, 0.03024263307452202, 0.011007333174347878, -0.008687954396009445, -0.0015200680354610085, 0.009543144144117832, 0.003602164564654231, -7.703594746999443e-05, 0.01817926950752735, 0.004868752788752317, -0.016857611015439034, 0.0024408551398664713, -0.004554535262286663, -0.018917841836810112, -0.036384452134370804, -0.024891216307878494, 0.0072237653657794, 0.008966539055109024, 0.0015937634743750095, -0.018192226067185402, 0.01228363998234272, 0.009672719053924084, 0.015574825927615166, 0.0091025922447443, 0.018386587500572205, 0.014577104710042477, -0.010203973390161991, -0.03775794059038162, 0.030035313218832016, -0.02605738490819931, -0.020394988358020782, 0.0014261266915127635, -0.01728520728647709, -0.011719992384314537, 0.014499359764158726, 0.0063232239335775375, -0.003592446446418762, 0.0012844048906117678, 0.013812616467475891, -0.01225772500038147, 0.0036766696721315384, 0.012173501774668694, -0.00945244263857603, 0.004616083111613989, 0.0034110425040125847, 0.005153816193342209, -0.01792011968791485, -0.0006980813341215253, 0.0057854908518493176, 0.019760075956583023, -0.00597985228523612, -0.010327069088816643, 0.003057952504605055, -0.0057854908518493176, -0.0014196480624377728, -0.03563292324542999, -0.00010993566684192047, 0.024139685556292534, -0.028324933722615242, 0.01884009689092636, -0.013566425070166588, 0.022196071222424507, -0.007476435042917728, 0.009083155542612076, -0.011344227008521557, -0.027910295873880386, -0.004191727377474308, 0.0037317387759685516, -0.022027624770998955, -0.006345899309962988, 0.006854478269815445, -0.016365230083465576, -0.01153210923075676, -0.0038321588654071093, 0.012996298260986805, 0.005192688666284084, -0.004635519348084927, -0.0015168286627158523, 0.002585006644949317, 0.004275950603187084, -0.027806635946035385, -0.016740994527935982, 0.016404101625084877, -0.01944909617304802, -0.007314467336982489, -0.01188843883574009, 0.0036086433101445436, -0.007100669667124748, -0.0022238183300942183, -6.801383278798312e-06, 0.00945244263857603, -0.004962694365531206, 0.02674412727355957, 0.03032037802040577, -0.019617542624473572, -0.012082800269126892, -0.042189378291368484, 0.006559696979820728, 0.011240567080676556, -0.030812758952379227, -0.010314111597836018, -0.006209846585988998, -0.008571337908506393, 0.024269258603453636, 0.025163322687149048, -0.005850277841091156, -0.017842376604676247, -0.010417770594358444, 0.009951303713023663, -0.00016763669555075467, -0.02018767036497593, -0.0068350424990057945, 0.031356971710920334, -0.02305126190185547, 0.00576605461537838, -0.02461910992860794, -0.009309911169111729, 0.0014099299442023039, -0.010009611956775188, 0.001660170266404748, 0.02811761572957039, -0.011370141990482807, -0.002429517451673746, 0.011700555682182312, 0.009938346222043037, -0.020446818321943283, 0.016119038686156273, -0.0009377937531098723, 0.02314196340739727, -0.016896484419703484, -0.004113982897251844, 0.005503666587173939, 0.029309697449207306, -0.004891428630799055, -0.015186103992164135, 0.011421971023082733, 0.012931511737406254, -0.005986331030726433, 0.0015233074082061648, -0.004677630960941315, 0.008513028733432293, -0.006925744470208883, 0.0253188107162714, 0.006028442643582821, -0.03241948038339615, -0.005403246730566025, -0.019889649003744125, -0.021535241976380348, -0.00576929422095418, -0.008836965076625347, 0.026148086413741112, -0.04283725097775459, -0.023699132725596428, -0.03879453241825104, -0.01807560957968235, 0.025098534300923347, -0.010113270953297615, 0.021198349073529243, 0.02018767036497593, -0.005182970315217972, -0.008759220130741596, -0.008513028733432293, -0.16512943804264069, 0.00686743576079607, 0.009251601994037628, 0.007158977910876274, 0.007670796476304531, -0.0016860851319506764, 0.0063070273026824, 0.021068774163722992, -0.0007183272973634303, -0.009964261204004288, 0.010521430522203445, -0.009057240560650826, -0.006057596765458584, -0.0012795458314940333, 0.004007084295153618, -0.0037187812849879265, 0.0043310197070240974, 0.005756336729973555, 0.03345607593655586, -0.004729460459202528, 0.01442161574959755, 0.0002447738661430776, 0.016352271661162376, -0.0022157197818160057, -0.0006721664685755968, -0.005821123719215393, -0.012724192813038826, 0.026925532147288322, -0.01592467725276947, 0.0043018655851483345, -0.02029133029282093, -0.00862964615225792, 0.003806243883445859, 0.03026854805648327, -0.00719785038381815, 0.015704400837421417, 0.009115549735724926, -0.0004190917534288019, -0.014408658258616924, 0.018956715241074562, 0.01191435381770134, 0.007146020419895649, 0.00471326382830739, -0.023517727851867676, -0.0031697102822363377, 0.03099416382610798, 0.03032037802040577, 0.009096113033592701, 0.024178557097911835, -0.0035730102099478245, 0.00719785038381815, -0.05343642458319664, -0.004389327950775623, 0.0028036630246788263, 0.02969842031598091, 0.03112373873591423, -0.01150619424879551, 0.007424605078995228, -0.008577816188335419, -4.056788020534441e-05, -0.03174569457769394, -0.011836608871817589, -0.0038839885964989662, -0.009413570165634155, -0.029983485117554665, -0.020680053159594536, 0.006770255044102669, -0.014577104710042477, -0.024735726416110992, -2.705368933675345e-05, -0.015186103992164135, -0.009588495828211308, -0.004492987412959337, -0.01939726620912552, 0.0029964048881083727, 0.014266125857830048, -0.001909600687213242, 0.0252281092107296, -0.009478357620537281, 0.008130785077810287, -0.009912431240081787, 0.03920917212963104, -0.0076189665123820305, -0.01661141961812973, 0.013799658976495266, 0.019734160974621773, -0.017583226785063744, -0.017557311803102493, -0.013397978618741035, -0.028065785765647888, 0.006984052713960409, -0.011493236757814884, -0.014006977900862694, 0.00134757230989635, 0.011629289947450161, 0.022118326276540756, -0.00017158467380795628, 0.004567492753267288, 0.026925532147288322, -0.012134629301726818, -0.004395806696265936, -0.000902970670722425, -0.012478001415729523, 0.008519507944583893, -0.007107148412615061, 0.025629788637161255, 0.021392710506916046, 0.008467677980661392, 0.009011889807879925, -0.026536809280514717, 0.0064689950086176395, 0.003673430299386382, 0.023414069786667824, 0.007048839703202248, 0.0003506603534333408, 0.014978785067796707, 0.006971095222979784, 0.005911825690418482, 0.004117222037166357, 0.001182365114800632, 0.06603104621171951, -0.0008381835068576038, 0.0006709517328999937, -0.015237933024764061, 0.0004810444370377809, -0.029335612431168556, -0.09650690853595734, -0.020511604845523834, 0.009497793391346931, 0.0058599961921572685, -0.01338502112776041, 0.035062793642282486, 0.0019031219417229295, 0.03669543191790581, -0.015237933024764061, 0.027780720964074135, -0.0017978429095819592, -0.028713656589388847, -0.013527552597224712, 0.011473800987005234, 0.032937776297330856, 0.013644170016050339, -0.006394489668309689, -0.00972454808652401, -0.015354550443589687, 0.008772177621722221, -0.0181403961032629, -0.00595393730327487, 0.0032361173070967197, -0.01882714033126831, 0.004026520065963268, 0.011758863925933838, -0.030605440959334373, 0.005153816193342209, 0.006365335546433926, 0.03827623650431633, -0.00015184484072960913, -0.012108715251088142, -0.0011977520771324635, -0.007560658268630505, 0.008545422926545143, -0.015043571591377258, -0.03703232482075691, -0.018606863915920258, 0.018412502482533455, -0.03524420037865639, -0.008130785077810287, 0.01013270765542984, 0.002489445498213172, -0.025487257167696953, -0.0019322761800140142, 0.0010649384930729866, -0.0067896912805736065, 0.02027837187051773, 0.02754748798906803, -0.009037804789841175, -0.01803673803806305, 0.001068987650796771, -0.010605653747916222, -0.009627367369830608, 0.02096511609852314, 0.02245521917939186, 0.018347715958952904, -0.02014879696071148, -0.014939912594854832, 0.00011712298874044791, -0.008642603643238544, -0.007068275939673185, 0.0003206963010597974, 0.0029024635441601276, 0.0034499147441238165, -0.01047607883810997, -0.014227254316210747, 0.013683042488992214, 0.014266125857830048, 0.0069063082337379456, -0.017686886712908745, -0.005046917591243982, -0.025694577023386955, 0.00012582875206135213, -0.016274526715278625, -0.0033786490093916655, -0.04750192537903786, -0.005432400852441788, 0.024968961253762245, -0.040090277791023254, -0.009530186653137207, -0.024800512939691544, 0.028402678668498993, -0.015717357397079468, -0.0012601097114384174, 0.025681618601083755, 0.010411292314529419, 0.016442973166704178, -0.0047391788102686405, -0.0028700698167085648, -0.012199416756629944, -0.005549017805606127, -0.0030660510528832674, -0.0126140546053648, -0.02241634763777256, 0.019824862480163574, -0.0032523139379918575, -0.006478712894022465, -0.004855795297771692, 0.009990175254642963, 0.0018836858216673136, 0.010424249805510044, -0.0655645802617073, 0.004356934688985348, 0.002959152217954397, 0.0021201588679105043, -0.01725929230451584, 0.000726020778529346, 0.02327153831720352, -0.004541577771306038, 0.021936923265457153, 0.007884593680500984, 0.00972454808652401, 0.03262680023908615, 0.009957781992852688, -0.006912786979228258, -0.018360672518610954, -0.004641998093575239, -0.013579382561147213, 0.0017379147466272116, 0.00684799998998642, -0.007541222032159567, -0.017544355243444443, -0.021289050579071045, -0.019876692444086075, 0.005212124902755022, -0.005775772966444492, -0.00036058088880963624, -0.004107504151761532, 0.015458209440112114, -0.025603873655200005, -0.003010981949046254, 0.003592446446418762, -0.014978785067796707, 0.01668916456401348, -0.004787769168615341, 0.002447333885356784, -0.03102007880806923, 0.0007324995240196586, 0.005992809776216745, 0.028506338596343994, 0.022675495594739914, -0.004101025406271219, -0.017039015889167786, 0.00797529611736536, -0.004016802180558443, -0.010229888372123241, 0.015354550443589687, -0.015471166931092739, -0.0034304785076528788, 0.031331054866313934, 0.0026416953187435865, 0.011318312026560307, 0.01588580384850502, -0.015626655891537666, -0.003579488955438137, -0.008182615041732788, 0.011979140341281891, 0.02671821229159832, -0.006384771782904863, 0.007826285436749458, -0.009659761562943459, 0.020433861762285233, -0.0034823082387447357, 0.010942546650767326, 0.005289869382977486, 0.027858465909957886, 0.013553467579185963, -0.016922399401664734, 0.012801936827600002, 0.015341592952609062, -0.0360216461122036, 0.005736900493502617, -0.017505483701825142, 0.0253576822578907, 0.007022925186902285, -0.005866474937647581, 0.003206962952390313, 0.0144475307315588, -0.004194966517388821, -0.00013038409815635532, 0.005934501066803932, 0.015406379476189613, 0.009763420559465885, -0.0217166468501091, 0.016196783632040024, 0.03096824884414673, 0.028324933722615242, -0.01951388455927372, 0.02373800426721573, 0.003010981949046254, 0.010391855612397194, -0.01263996958732605, 0.015678485855460167, 0.004020041320472956, 0.017622100189328194, 0.001796223223209381, 0.022636624053120613, -0.005244518164545298, -0.008888794109225273, 0.020576393231749535, 0.015561869367957115, 0.020420903339982033, 0.0018318560905754566, -0.013825573958456516, -0.012082800269126892, -0.017518440261483192, 0.027340169996023178, -0.007029403932392597, -0.026381319388747215, -0.01576918736100197, -0.0010276858229190111, 0.021975794807076454, 0.0029931655153632164, -0.01951388455927372, 0.02445066347718239, -0.009478357620537281, 0.014538232237100601, 0.005539299920201302, -0.004392567556351423, -0.01585988886654377, 0.021522285416722298, -0.006290830671787262, 0.005698028020560741, 0.01010031346231699, -0.005338459741324186, 0.048823583871126175, -0.0028781683649867773, 0.01332023460417986, -0.025020789355039597, -0.01941022463142872, -0.0025299375411123037, 0.027728892862796783, -0.006170974113047123, -0.037991173565387726, 0.013138830661773682, 0.000757199595682323, 0.012141108512878418, -0.015069486573338509, 0.03552926331758499, -0.02827310375869274, 0.03330058604478836, -0.006504627875983715, 0.023673217743635178, -0.009122028015553951, -0.019656416028738022, 0.0028571125585585833, 0.0018205184023827314, 0.0217555183917284, -0.02534472569823265, -0.02088737115263939, 0.014758508652448654, 0.010249324142932892, 0.018477289006114006, -0.026394277811050415, -0.004975651856511831, -0.0026530330069363117, -0.01663733460009098, 0.014019935391843319, -0.0003081437898799777, -0.00684799998998642, 0.019824862480163574, 0.009277516975998878, 0.030035313218832016, 0.017064930871129036, 0.0012390539050102234, 0.007755019702017307, -0.006854478269815445, 0.005289869382977486, -0.011357184499502182, -0.01798490807414055, -0.0017184786265715957, -0.012128151021897793, -0.005111704580485821, -0.027728892862796783, 0.033663392066955566, -0.02013584040105343, -0.004382849205285311, 0.002199523150920868, -0.003815962001681328, 0.008772177621722221, -0.008027125149965286, 0.036462198942899704, -0.021379753947257996, -0.019138118252158165, 0.016144953668117523, -0.003806243883445859, -0.02252000756561756, -0.017635056748986244, -0.021289050579071045], '__retriever': 'VectorRetriever'}\n"
          ]
        }
      ]
    },
    {
      "cell_type": "code",
      "source": [
        "for k, item in enumerate(retriever_result.items):\n",
        "    print(f\"TOP {k+1}\")\n",
        "    print(item.content)\n",
        "    print(\"score : \", item.metadata[\"score\"])"
      ],
      "metadata": {
        "colab": {
          "base_uri": "https://localhost:8080/"
        },
        "id": "pcWKxU_d2W-G",
        "outputId": "d857ea36-1190-4543-fe3d-d5882831a9a0"
      },
      "execution_count": 14,
      "outputs": [
        {
          "output_type": "stream",
          "name": "stdout",
          "text": [
            "TOP 1\n",
            "{'title': 'City Hall', 'plot': 'The accidental shooting of a boy in New York leads to an investigation by the Deputy Mayor, and unexpectedly far-reaching consequences.'}\n",
            "score :  0.93072509765625\n",
            "TOP 2\n",
            "{'title': 'Usual Suspects, The', 'plot': 'A sole survivor tells of the twisty events leading up to a horrific gun battle on a boat, which begin when five criminals meet at a seemingly random police lineup.'}\n",
            "score :  0.930206298828125\n",
            "TOP 3\n",
            "{'title': 'Nick of Time', 'plot': 'An unimpressive, every-day man is forced into a situation where he is told to kill a politician to save his kidnapped daughter.'}\n",
            "score :  0.9132537841796875\n"
          ]
        }
      ]
    },
    {
      "cell_type": "code",
      "source": [],
      "metadata": {
        "id": "t1kgHFZxRhW4"
      },
      "execution_count": null,
      "outputs": []
    }
  ]
}